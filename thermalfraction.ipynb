{
 "cells": [
  {
   "cell_type": "code",
   "execution_count": 10,
   "id": "f6770ab1",
   "metadata": {},
   "outputs": [
    {
     "name": "stdout",
     "output_type": "stream",
     "text": [
      "[0.13493866 0.12428348 0.10901988 0.10757986]\n",
      "tfrac: 0.467 ± 0.293\n",
      "tfrac: 0.4672513457488573 ± 0.29282706054733837\n"
     ]
    }
   ],
   "source": [
    "#import statements\n",
    "import numpy as np\n",
    "from astropy.io import ascii\n",
    "from astropy.table import Table, Column\n",
    "from astropy import units as u\n",
    "import h5py\n",
    "\n",
    "#read in results from MCMC fitting\n",
    "results=ascii.read('/users/adignan/results_mcmc_filt.csv',format='csv')\n",
    "\n",
    "#path to MCMC input files\n",
    "path='/users/adignan/mcmcfiles/'\n",
    "\n",
    "#initialize empty lists\n",
    "thermalfrac=[]\n",
    "thermalfrac_unc=[]\n",
    "\n",
    "#define equation for calculating free-free emission\n",
    "def I_ff(nu, T, Aff):\n",
    "    def gff(nu, T):\n",
    "        T4 = T/(1.e4*u.K)\n",
    "        nu9 = nu/(1.*u.GHz)\n",
    "        gnu = np.log(np.exp(5.960 - (np.sqrt(3.)/np.pi)*np.log(nu9*(T4**(-3./2.)))) + np.exp(1.))\n",
    "        return gnu   \n",
    "    \n",
    "    return Aff*gff(nu,T)/gff(30.*u.GHz,T)\n",
    "\n",
    "#for loop to calculate thermal fractions and uncertainties\n",
    "for row in results:\n",
    "    if row['sourceid']=='NGC0337a':\n",
    "    \n",
    "        file=row['sourceid']\n",
    "\n",
    "        #read in MCMC file\n",
    "        (nu, fnu, sfnu) = np.genfromtxt(path+file, unpack=True)\n",
    "        \n",
    "        print(sfnu)\n",
    "\n",
    "        #calculate thermal fraction based on best-fit result\n",
    "        tfrac= I_ff(33*u.GHz,1.e4*u.K,row['A_ff median'])/fnu[2]\n",
    "        thermalfrac.append(tfrac)\n",
    "\n",
    "        #calculate uncertainty on thermal fraction\n",
    "\n",
    "        #load in samples file\n",
    "        hf = h5py.File('/users/adignan/hdf5/'+str(file)+'-samples_eric.h5', 'r')\n",
    "        n1 = hf.get('dataset')\n",
    "        n1=np.array(n1)\n",
    "\n",
    "        #calculate a few different stats for the samples\n",
    "        unc=np.std(n1[:,3])\n",
    "        \n",
    "        \n",
    "\n",
    "        #calculate \n",
    "        tfrac_unc=np.sqrt( (sfnu[2]/fnu[2])**2 + (unc/tfrac)**2 ) * fnu[2]\n",
    "        thermalfrac_unc.append(tfrac_unc)\n",
    "\n",
    "        #print statements for looking at results without saving it to a csv file\n",
    "        print(r'tfrac: '+\"%.3f\" % tfrac + ' ± ' +\"%.3f\" % tfrac_unc)\n",
    "        \n",
    "        print(r'tfrac: '+ str(tfrac) + ' ± ' + str(tfrac_unc))\n",
    "\n",
    "#make astropy table of results\n",
    "# idscol=Column(results['sourceid'],name='source ID')\n",
    "# fraccol=Column(thermalfrac,name='thermal fraction')\n",
    "# unccol=Column(thermalfrac_unc,name='uncertainty')\n",
    "\n",
    "# tbl1=Table([idscol,fraccol,unccol])\n",
    "#write results to csv file\n",
    "# tbl1.write('/users/adignan/thermalfractions_mcmc.csv',format='csv',overwrite=True)"
   ]
  },
  {
   "cell_type": "code",
   "execution_count": null,
   "id": "20af7e86",
   "metadata": {},
   "outputs": [],
   "source": []
  }
 ],
 "metadata": {
  "kernelspec": {
   "display_name": "Python 3 (ipykernel)",
   "language": "python",
   "name": "python3"
  },
  "language_info": {
   "codemirror_mode": {
    "name": "ipython",
    "version": 3
   },
   "file_extension": ".py",
   "mimetype": "text/x-python",
   "name": "python",
   "nbconvert_exporter": "python",
   "pygments_lexer": "ipython3",
   "version": "3.11.5"
  }
 },
 "nbformat": 4,
 "nbformat_minor": 5
}
