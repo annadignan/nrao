{
 "cells": [
  {
   "cell_type": "markdown",
   "id": "d060f73f",
   "metadata": {},
   "source": [
    "# Anna's code to calculate thermal fractions"
   ]
  },
  {
   "cell_type": "code",
   "execution_count": 6,
   "id": "f6770ab1",
   "metadata": {},
   "outputs": [
    {
     "name": "stdout",
     "output_type": "stream",
     "text": [
      "Working on NGC2146b\n",
      "Working on NGC2146a\n",
      "Working on NGC2146c\n"
     ]
    }
   ],
   "source": [
    "###PURPOSE: calculate thermal fractions based on results from MCMC fitting\n",
    "\n",
    "#############################################################################################\n",
    "\n",
    "#import statements\n",
    "import numpy as np\n",
    "from astropy.io import ascii\n",
    "from astropy.table import Table, Column\n",
    "from astropy import units as u\n",
    "from astropy import constants as c\n",
    "from astropy.stats import median_absolute_deviation\n",
    "import h5py\n",
    "import sys\n",
    "import pandas as pd\n",
    "\n",
    "#############################################################################################\n",
    "\n",
    "#define functions for calculating different emission components\n",
    "\n",
    "#Planck function (used in I_dust)\n",
    "def B_nu(nu, T):\n",
    "    np.seterr(over='ignore')\n",
    "    return 2.0*c.h*(nu**3)/(c.c**2*(np.expm1(c.h*nu/(c.k_B*T))))\n",
    "\n",
    "#thermal dust emission\n",
    "def I_dust(nu, Td, beta, Ad):\n",
    "    return Ad*(nu/(353.*u.GHz))**beta*B_nu(nu,Td)/B_nu(353*u.GHz,Td)\n",
    "\n",
    "#free free emission\n",
    "def I_ff(nu, T, Aff):\n",
    "    def gff(nu, T):\n",
    "        T4 = T/(1.e4*u.K)\n",
    "        nu9 = nu/(1.*u.GHz)\n",
    "        gnu = np.log(np.exp(5.960 - (np.sqrt(3.)/np.pi)*np.log(nu9*(T4**(-3./2.)))) + np.exp(1.))\n",
    "        return gnu   \n",
    "    \n",
    "    return Aff*gff(nu,T)/gff(30.*u.GHz,T)\n",
    "\n",
    "#synchrotron emission\n",
    "def I_sync(nu, alpha, As):\n",
    "    return As*(nu/(30.*u.GHz))**alpha\n",
    "\n",
    "#############################################################################################\n",
    "\n",
    "#read in results from MCMC fitting\n",
    "results=pd.read_csv('/lustre/cv/students/adignan/data/mcmcresults/results_mcmc_round2.csv')\n",
    "sources=['NGC2146a','NGC2146b','NGC2146c']\n",
    "results=results[results['Source ID'].isin(sources)]\n",
    "\n",
    "results = Table.from_pandas(results)\n",
    "\n",
    "#initialize empty lists\n",
    "medians=[] #medians of calculated thermal fractions for ALL models\n",
    "mads=[] #scaled MADs of of calculated thermal fractions for ALL models\n",
    "stds=[] #standard deviations of calculated thermal fractions for ALL models\n",
    "median_errs=[] #errors on the medians of calculated thermal fractions for ALL models\n",
    "\n",
    "vals_50=[] #value at the 50th percentile\n",
    "vals_84=[] #value at the 84th percentile\n",
    "vals_16=[] #value at the 16th pecentile\n",
    "\n",
    "#############################################################################################\n",
    "\n",
    "#for loop to calculate thermal fractions and uncertainties\n",
    "for row in results:\n",
    "\n",
    "    file=row['Source ID']\n",
    "    alpha=row['alpha median']\n",
    "    As=row['A_s median']\n",
    "    Aff=row['A_ff median']\n",
    "    Ad=row['A_d median']\n",
    "    print('Working on ' + str(file))\n",
    "\n",
    "    #read in MCMC file\n",
    "    (nu, fnu, sfnu) = np.genfromtxt('/lustre/cv/students/adignan/data/mcmcfiles/'+file, unpack=True)\n",
    "\n",
    "    #read in samples file\n",
    "    hf = h5py.File('/lustre/cv/students/adignan/data/hdf5_round2/'+str(file)+'_round2-samples.h5', 'r')\n",
    "    n1 = hf.get('dataset')\n",
    "    n1=np.array(n1)\n",
    "\n",
    "    #initialize empty list for saving thermal fractions based on ALL models\n",
    "    tfrac=[]\n",
    "\n",
    "    #calculate thermal fraction for ALL models, not just best-fit one\n",
    "    for row in n1:\n",
    "        sync=I_sync(33*u.GHz, row[0], row[1])\n",
    "        ff=I_ff(33*u.GHz, 1.e4*u.K, row[3])\n",
    "        dust=I_dust(33*u.GHz, 20.*u.K, 1.50, row[2])\n",
    "        total=sync+ff+dust\n",
    "        tfrac.append(ff/total)\n",
    "\n",
    "    hf2 = h5py.File('/lustre/cv/students/adignan/data/tfracs/'+str(file)+'-tfracs.h5', 'w')\n",
    "    hf2.create_dataset('dataset', data=tfrac)\n",
    "    hf2.close\n",
    "\n",
    "    #calculate thermal fraction based on best-fit result\n",
    "    sync_best=I_sync(33*u.GHz, alpha, As)\n",
    "    ff_best=I_ff(33*u.GHz, 1.e4*u.K, Aff)\n",
    "    dust_best=I_dust(33*u.GHz, 20.*u.K, 1.50, Ad)\n",
    "\n",
    "    total_best=sync_best+ff_best+dust_best\n",
    "\n",
    "    #calculate a few different stats for the samples\n",
    "\n",
    "    #append median of calculated thermal fractions of ALL models to final list\n",
    "    medians.append(np.median(tfrac)) \n",
    "    #append error on the median (calculated above) to final list\n",
    "    median_errs.append(np.std(tfrac)/np.sqrt(len(n1)))\n",
    "    #append scaled MAD of calculated thermal fractions of ALL models to final list\n",
    "    mads.append(median_absolute_deviation(tfrac)/0.6745)\n",
    "    #append standard deviations of calculated thermal fracs of ALL models to final list\n",
    "    stds.append(np.std(tfrac))\n",
    "    #append different percentile values of ALL calculated thermal fracs to final list\n",
    "    percentiles=np.percentile(tfrac,[16,50,84],axis=0)\n",
    "    vals_50.append(percentiles[1])\n",
    "    vals_84.append(percentiles[2]-percentiles[1])\n",
    "    vals_16.append(percentiles[1]-percentiles[0])\n",
    "\n",
    "    #close hdf5 file so it doesn't complain\n",
    "    hf.close\n",
    "\n",
    "#make astropy Columns\n",
    "idscol=Column(results['Source ID'],name='source ID')\n",
    "medianscol=Column(medians,name='median tf')\n",
    "madscol=Column(mads,name='scaled MAD')\n",
    "stdscol=Column(stds,name='STD')\n",
    "median_errscol=Column(median_errs,name='error on median tf')\n",
    "\n",
    "vals_50col=Column(vals_50,name='median tf (percentile)')\n",
    "vals_84col=Column(vals_84,name='84th – median')\n",
    "vals_16col=Column(vals_16,name='median – 16th')\n",
    "\n",
    "#make astropy Table of results\n",
    "tbl=Table([idscol,medianscol,madscol,stdscol,median_errscol,\n",
    "          vals_50col,vals_84col,vals_16col])\n",
    "\n",
    "#write results to csv file\n",
    "tbl.write('/users/adignan/thermalfractions_ngc2146.csv',format='csv',overwrite=True)"
   ]
  },
  {
   "cell_type": "markdown",
   "id": "ad19a432",
   "metadata": {},
   "source": [
    "# Eric's code"
   ]
  },
  {
   "cell_type": "code",
   "execution_count": 8,
   "id": "20af7e86",
   "metadata": {},
   "outputs": [
    {
     "name": "stdout",
     "output_type": "stream",
     "text": [
      "0.4672513457488573 0.3531428093872606\n"
     ]
    }
   ],
   "source": [
    "import h5py\n",
    "import numpy as np\n",
    "from astropy import units as u\n",
    "\n",
    "def I_ff(nu, T, Aff):\n",
    "    def gff(nu, T):\n",
    "        T4 = T/(1.e4*u.K)\n",
    "        nu9 = nu/(1.*u.GHz)\n",
    "        gnu = np.log(np.exp(5.960 - (np.sqrt(3.)/np.pi)*np.log(nu9*(T4**(-3./2.)))) + np.exp(1.))\n",
    "        return gnu   \n",
    "    \n",
    "    return Aff*gff(nu,T)/gff(30.*u.GHz,T)\n",
    "\n",
    "(nu, fnu, sfnu) = np.genfromtxt('/users/adignan/mcmcfiles/NGC0337a', unpack=True)\n",
    "\n",
    "hf = h5py.File('/users/adignan/hdf5/NGC0337a-samples_eric.h5', 'r')\n",
    "hf.keys()\n",
    "samp = hf.get('dataset')\n",
    "samp = np.array(samp)\n",
    "samp.shape\n",
    "hf.close\n",
    "\n",
    "fnu33_ff_allfits = []\n",
    "\n",
    "for i in samp[:,3]:\n",
    "    Aff_fit = i\n",
    "    tmp = I_ff(33*u.GHz, 1.e4*u.K, Aff_fit)\n",
    "    fnu33_ff_allfits.append(tmp)\n",
    "#     fnu33_ff_allfits = I_ff(33*u.GHz, 1.e4*u.K, Aff_fit)\n",
    "\n",
    "Aff_mcmc=0.2860688550537509\n",
    "\n",
    "#report: median; error on median, dispersion\n",
    "# <x>, (pi/2)*mad(x)/sqrt(N), mad(x)\n",
    "from astropy.stats import median_absolute_deviation as mad\n",
    "fnu33 = fnu[2]\n",
    "efnu33 = sfnu[2]\n",
    "#fnu33_fit = np.interp(33*u.GHz, nu_out, snu_model)*u.mJy #f33 from best fit\n",
    "fnu33_ff_fit = I_ff(33*u.GHz, 1.e4*u.K, Aff_mcmc) #f33^T from best fit\n",
    "fnu33_ff_fit2 = np.median(fnu33_ff_allfits) #median of f33^T from all fits\n",
    "efnu33_ff_fit_med = (np.pi/2)*np.std(fnu33_ff_allfits)/np.sqrt(len(fnu33_ff_allfits)) #error on median\n",
    "efnu33_ff_fit = mad(fnu33_ff_allfits)/0.6745 #Scaled MAD f33^T from all fits\n",
    "efnu33_ff_fit2 = np.std(fnu33_ff_allfits) #rms f33^T from all fits#print(fnu33_ff_fit, fnu33_ff_fit2)\n",
    "#print(efnu33_ff_fit_med)\n",
    "# print(efnu33_ff_fit, efnu33_ff_fit2)\n",
    "tf33 = fnu33_ff_fit/fnu33 #33 GHz ff fracion\n",
    "etf33 = np.sqrt((efnu33_ff_fit2/fnu33_ff_fit)**2 + (efnu33/fnu33)**2)*tf33\n",
    "print(tf33.value, etf33.value)"
   ]
  },
  {
   "cell_type": "markdown",
   "id": "c4b26c2c",
   "metadata": {},
   "source": [
    "# Making histograms of results"
   ]
  },
  {
   "cell_type": "code",
   "execution_count": 53,
   "id": "ff4d7aef",
   "metadata": {},
   "outputs": [
    {
     "name": "stdout",
     "output_type": "stream",
     "text": [
      "0.21577705564713323\n",
      "0.006479741245353672\n",
      "0.9797194004725066\n"
     ]
    },
    {
     "data": {
      "image/png": "[encoded data removed]",
      "text/plain": [
       "<Figure size 640x480 with 1 Axes>"
      ]
     },
     "metadata": {},
     "output_type": "display_data"
    },
    {
     "data": {
      "image/png": "[encoded data removed]",
      "text/plain": [
       "<Figure size 640x480 with 1 Axes>"
      ]
     },
     "metadata": {},
     "output_type": "display_data"
    }
   ],
   "source": [
    "import matplotlib.pyplot as plt\n",
    "\n",
    "plt.figure()\n",
    "plt.hist(tbl['median tf'],bins=20)\n",
    "plt.figure()\n",
    "plt.hist(tbl['error on median tf'],bins=20)\n",
    "\n",
    "print(median_absolute_deviation(tbl['median tf']))\n",
    "print(np.min(tbl['median tf']))\n",
    "print(np.max(tbl['median tf']))"
   ]
  },
  {
   "cell_type": "code",
   "execution_count": null,
   "id": "c1b221a1",
   "metadata": {},
   "outputs": [],
   "source": []
  }
 ],
 "metadata": {
  "kernelspec": {
   "display_name": "Python 3 (ipykernel)",
   "language": "python",
   "name": "python3"
  },
  "language_info": {
   "codemirror_mode": {
    "name": "ipython",
    "version": 3
   },
   "file_extension": ".py",
   "mimetype": "text/x-python",
   "name": "python",
   "nbconvert_exporter": "python",
   "pygments_lexer": "ipython3",
   "version": "3.11.7"
  }
 },
 "nbformat": 4,
 "nbformat_minor": 5
}
