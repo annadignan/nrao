{
 "cells": [
  {
   "cell_type": "markdown",
   "id": "7f6f2607",
   "metadata": {},
   "source": [
    "# Performing photometry (automated)"
   ]
  },
  {
   "cell_type": "code",
   "execution_count": 9,
   "id": "ee1b9f0b",
   "metadata": {
    "scrolled": true
   },
   "outputs": [
    {
     "name": "stdout",
     "output_type": "stream",
     "text": [
      "Working on NGC2146a\n",
      "Just finished NGC2146a! :)\n",
      "Working on NGC2146b\n",
      "Just finished NGC2146b! :)\n",
      "Working on NGC2146c\n",
      "Just finished NGC2146c! :)\n",
      "Working on NGC4254Enuc.1a\n",
      "Just finished NGC4254Enuc.1a! :)\n",
      "Working on NGC4254Enuc.1b\n",
      "Just finished NGC4254Enuc.1b! :)\n",
      "Working on NGC4254Enuc.1c\n",
      "Just finished NGC4254Enuc.1c! :)\n",
      "Working on NGC4254Enuc.2a\n",
      "Just finished NGC4254Enuc.2a! :)\n",
      "Working on NGC4254Enuc.2b\n",
      "Just finished NGC4254Enuc.2b! :)\n",
      "Working on NGC4536\n",
      "Just finished NGC4536! :)\n",
      "Working on NGC4559a\n",
      "Just finished NGC4559a! :)\n",
      "Working on NGC4559b\n",
      "Just finished NGC4559b! :)\n",
      "Working on NGC4559c\n",
      "Just finished NGC4559c! :)\n",
      "Working on NGC4625\n",
      "Just finished NGC4625! :)\n",
      "Working on NGC4631Enuc.1\n",
      "Just finished NGC4631Enuc.1! :)\n",
      "Working on NGC4631Enuc.2b\n",
      "Just finished NGC4631Enuc.2b! :)\n",
      "Working on NGC4631a\n",
      "Just finished NGC4631a! :)\n",
      "Working on NGC4631b\n",
      "Just finished NGC4631b! :)\n",
      "Working on NGC4631c\n",
      "Just finished NGC4631c! :)\n",
      "Working on NGC4631d\n",
      "Just finished NGC4631d! :)\n",
      "Working on NGC4631e\n",
      "Just finished NGC4631e! :)\n",
      "Working on NGC4725b\n",
      "Just finished NGC4725b! :)\n",
      "Working on NGC5194Enuc.10a\n",
      "Just finished NGC5194Enuc.10a! :)\n",
      "Working on NGC5194Enuc.10b\n",
      "Just finished NGC5194Enuc.10b! :)\n",
      "Working on NGC5194Enuc.11a\n",
      "Just finished NGC5194Enuc.11a! :)\n",
      "Working on NGC5194Enuc.11b\n",
      "Just finished NGC5194Enuc.11b! :)\n",
      "Working on NGC5194Enuc.11c\n",
      "Just finished NGC5194Enuc.11c! :)\n",
      "Working on NGC5194Enuc.11d\n",
      "Just finished NGC5194Enuc.11d! :)\n",
      "Working on NGC5194Enuc.11e\n",
      "Just finished NGC5194Enuc.11e! :)\n",
      "Working on NGC5194Enuc.1a\n",
      "Just finished NGC5194Enuc.1a! :)\n",
      "Working on NGC5194Enuc.1b\n",
      "Just finished NGC5194Enuc.1b! :)\n",
      "Working on NGC5194Enuc.1c\n",
      "Just finished NGC5194Enuc.1c! :)\n",
      "Working on NGC5194Enuc.2\n",
      "Just finished NGC5194Enuc.2! :)\n",
      "Working on NGC5194Enuc.3\n",
      "Just finished NGC5194Enuc.3! :)\n",
      "Working on NGC5194Enuc.4a\n",
      "Just finished NGC5194Enuc.4a! :)\n",
      "Working on NGC5194Enuc.4b\n",
      "Just finished NGC5194Enuc.4b! :)\n",
      "Working on NGC5194Enuc.4c\n",
      "Just finished NGC5194Enuc.4c! :)\n",
      "Working on NGC5194Enuc.4d\n",
      "Just finished NGC5194Enuc.4d! :)\n",
      "Working on NGC5194Enuc.5a\n",
      "Just finished NGC5194Enuc.5a! :)\n",
      "Working on NGC5194Enuc.6a\n",
      "Just finished NGC5194Enuc.6a! :)\n",
      "Working on NGC5194Enuc.7a\n",
      "Just finished NGC5194Enuc.7a! :)\n",
      "Working on NGC5194Enuc.7b\n",
      "Just finished NGC5194Enuc.7b! :)\n",
      "Working on NGC5194Enuc.7c\n",
      "Just finished NGC5194Enuc.7c! :)\n",
      "Working on NGC5194Enuc.8\n",
      "Just finished NGC5194Enuc.8! :)\n",
      "Working on NGC5194Enuc.9\n",
      "Just finished NGC5194Enuc.9! :)\n",
      "Working on NGC5194a\n",
      "Just finished NGC5194a! :)\n",
      "Working on NGC5194b\n",
      "Just finished NGC5194b! :)\n",
      "Working on NGC5194c\n",
      "Just finished NGC5194c! :)\n",
      "Working on NGC5194d\n",
      "Just finished NGC5194d! :)\n",
      "Working on NGC5194e\n",
      "Just finished NGC5194e! :)\n",
      "Working on NGC5474\n",
      "Just finished NGC5474! :)\n",
      "Working on NGC5713\n",
      "Just finished NGC5713! :)\n",
      "Working on NGC5713Enuc.1\n",
      "Just finished NGC5713Enuc.1! :)\n",
      "Working on NGC5713Enuc.2a\n",
      "Just finished NGC5713Enuc.2a! :)\n",
      "Working on NGC5713Enuc.2b\n",
      "Just finished NGC5713Enuc.2b! :)\n",
      "Working on NGC2146a\n",
      "1.0216783952333426\n",
      "0.03897609591771907\n",
      "Just finished NGC2146a! :)\n",
      "Working on NGC2146b\n",
      "1.0216783952333426\n",
      "0.03897609591771907\n",
      "Just finished NGC2146b! :)\n",
      "Working on NGC2146c\n",
      "1.0216783952333426\n",
      "0.03897609591771907\n",
      "Just finished NGC2146c! :)\n",
      "Working on NGC4254Enuc.1a\n",
      "1.8735122043433003\n",
      "0.030939524526039763\n",
      "Just finished NGC4254Enuc.1a! :)\n",
      "Working on NGC4254Enuc.1b\n",
      "1.8735122043433003\n",
      "0.030939524526039763\n",
      "Just finished NGC4254Enuc.1b! :)\n",
      "Working on NGC4254Enuc.1c\n",
      "1.8735122043433003\n",
      "0.030939524526039763\n",
      "Just finished NGC4254Enuc.1c! :)\n",
      "Working on NGC4254Enuc.2a\n",
      "1.8735122043433003\n",
      "0.030939524526039763\n",
      "Just finished NGC4254Enuc.2a! :)\n",
      "Working on NGC4254Enuc.2b\n",
      "1.8735122043433003\n",
      "0.030939524526039763\n",
      "Just finished NGC4254Enuc.2b! :)\n",
      "Working on NGC4536\n",
      "1.1309852524011306\n",
      "0.0400015044882981\n",
      "Just finished NGC4536! :)\n",
      "Working on NGC4559a\n",
      "2.2609208482388246\n",
      "0.03181381900024797\n",
      "Just finished NGC4559a! :)\n",
      "Working on NGC4559b\n",
      "2.2609208482388246\n",
      "0.03181381900024797\n",
      "Just finished NGC4559b! :)\n",
      "Working on NGC4559c\n",
      "2.2609208482388246\n",
      "0.03181381900024797\n",
      "Just finished NGC4559c! :)\n",
      "Working on NGC4625\n",
      "3.3988784993877887\n",
      "0.03845231456644454\n",
      "Just finished NGC4625! :)\n",
      "Working on NGC4631Enuc.1\n",
      "2.0487827782688997\n",
      "0.0330971939426691\n",
      "Just finished NGC4631Enuc.1! :)\n",
      "Working on NGC4631Enuc.2b\n",
      "2.0487827782688997\n",
      "0.0330971939426691\n",
      "Just finished NGC4631Enuc.2b! :)\n",
      "Working on NGC4631a\n",
      "2.0487827782688997\n",
      "0.0330971939426691\n",
      "Just finished NGC4631a! :)\n",
      "Working on NGC4631b\n",
      "2.0487827782688997\n",
      "0.0330971939426691\n",
      "Just finished NGC4631b! :)\n",
      "Working on NGC4631c\n",
      "2.0487827782688997\n",
      "0.0330971939426691\n",
      "Just finished NGC4631c! :)\n",
      "Working on NGC4631d\n",
      "2.0487827782688997\n",
      "0.0330971939426691\n",
      "Just finished NGC4631d! :)\n",
      "Working on NGC4631e\n",
      "2.0487827782688997\n",
      "0.0330971939426691\n",
      "Just finished NGC4631e! :)\n",
      "Working on NGC4725b\n",
      "2.195434459063353\n",
      "0.035585667956722154\n",
      "Just finished NGC4725b! :)\n",
      "Working on NGC5194Enuc.10a\n",
      "1.327482317915279\n",
      "0.039365104533829666\n",
      "Just finished NGC5194Enuc.10a! :)\n",
      "Working on NGC5194Enuc.10b\n",
      "1.327482317915279\n",
      "0.039365104533829666\n",
      "Just finished NGC5194Enuc.10b! :)\n",
      "Working on NGC5194Enuc.11a\n",
      "1.327482317915279\n",
      "0.039365104533829666\n",
      "Just finished NGC5194Enuc.11a! :)\n",
      "Working on NGC5194Enuc.11b\n",
      "1.327482317915279\n",
      "0.039365104533829666\n",
      "Just finished NGC5194Enuc.11b! :)\n",
      "Working on NGC5194Enuc.11c\n",
      "1.327482317915279\n",
      "0.039365104533829666\n",
      "Just finished NGC5194Enuc.11c! :)\n",
      "Working on NGC5194Enuc.11d\n",
      "1.327482317915279\n",
      "0.039365104533829666\n",
      "Just finished NGC5194Enuc.11d! :)\n",
      "Working on NGC5194Enuc.11e\n",
      "1.327482317915279\n",
      "0.039365104533829666\n",
      "Just finished NGC5194Enuc.11e! :)\n",
      "Working on NGC5194Enuc.1a\n",
      "1.327482317915279\n",
      "0.039365104533829666\n",
      "Just finished NGC5194Enuc.1a! :)\n",
      "Working on NGC5194Enuc.1b\n",
      "1.327482317915279\n",
      "0.039365104533829666\n",
      "Just finished NGC5194Enuc.1b! :)\n",
      "Working on NGC5194Enuc.1c\n",
      "1.327482317915279\n",
      "0.039365104533829666\n",
      "Just finished NGC5194Enuc.1c! :)\n",
      "Working on NGC5194Enuc.2\n",
      "1.327482317915279\n",
      "0.039365104533829666\n",
      "Just finished NGC5194Enuc.2! :)\n",
      "Working on NGC5194Enuc.3\n",
      "1.327482317915279\n",
      "0.039365104533829666\n",
      "Just finished NGC5194Enuc.3! :)\n",
      "Working on NGC5194Enuc.4a\n",
      "1.327482317915279\n",
      "0.039365104533829666\n",
      "Just finished NGC5194Enuc.4a! :)\n",
      "Working on NGC5194Enuc.4b\n",
      "1.327482317915279\n",
      "0.039365104533829666\n",
      "Just finished NGC5194Enuc.4b! :)\n",
      "Working on NGC5194Enuc.4c\n",
      "1.327482317915279\n",
      "0.039365104533829666\n",
      "Just finished NGC5194Enuc.4c! :)\n",
      "Working on NGC5194Enuc.4d\n",
      "1.327482317915279\n",
      "0.039365104533829666\n",
      "Just finished NGC5194Enuc.4d! :)\n",
      "Working on NGC5194Enuc.5a\n",
      "1.327482317915279\n",
      "0.039365104533829666\n",
      "Just finished NGC5194Enuc.5a! :)\n",
      "Working on NGC5194Enuc.6a\n",
      "1.327482317915279\n",
      "0.039365104533829666\n",
      "Just finished NGC5194Enuc.6a! :)\n",
      "Working on NGC5194Enuc.7a\n",
      "1.327482317915279\n",
      "0.039365104533829666\n",
      "Just finished NGC5194Enuc.7a! :)\n",
      "Working on NGC5194Enuc.7b\n",
      "1.327482317915279\n",
      "0.039365104533829666\n",
      "Just finished NGC5194Enuc.7b! :)\n",
      "Working on NGC5194Enuc.7c\n",
      "1.327482317915279\n",
      "0.039365104533829666\n",
      "Just finished NGC5194Enuc.7c! :)\n",
      "Working on NGC5194Enuc.8\n",
      "1.327482317915279\n",
      "0.039365104533829666\n",
      "Just finished NGC5194Enuc.8! :)\n",
      "Working on NGC5194Enuc.9\n",
      "1.327482317915279\n",
      "0.039365104533829666\n",
      "Just finished NGC5194Enuc.9! :)\n",
      "Working on NGC5194a\n",
      "1.327482317915279\n",
      "0.039365104533829666\n",
      "Just finished NGC5194a! :)\n",
      "Working on NGC5194b\n",
      "1.327482317915279\n",
      "0.039365104533829666\n",
      "Just finished NGC5194b! :)\n",
      "Working on NGC5194c\n",
      "1.327482317915279\n",
      "0.039365104533829666\n",
      "Just finished NGC5194c! :)\n",
      "Working on NGC5194d\n",
      "1.327482317915279\n",
      "0.039365104533829666\n",
      "Just finished NGC5194d! :)\n",
      "Working on NGC5194e\n",
      "1.327482317915279\n",
      "0.039365104533829666\n",
      "Just finished NGC5194e! :)\n",
      "Working on NGC5474\n",
      "3.5984693467817985\n",
      "0.03802076759250412\n",
      "Just finished NGC5474! :)\n",
      "Working on NGC5713\n",
      "1.8044372157187345\n",
      "0.033160948916278805\n",
      "Just finished NGC5713! :)\n",
      "Working on NGC5713Enuc.1\n",
      "1.8044372157187345\n",
      "0.033160948916278805\n",
      "Just finished NGC5713Enuc.1! :)\n",
      "Working on NGC5713Enuc.2a\n",
      "1.8044372157187345\n",
      "0.033160948916278805\n",
      "Just finished NGC5713Enuc.2a! :)\n",
      "Working on NGC5713Enuc.2b\n",
      "1.8044372157187345\n",
      "0.033160948916278805\n",
      "Just finished NGC5713Enuc.2b! :)\n"
     ]
    },
    {
     "data": {
      "text/html": [
       "<div><i>QTable length=216</i>\n",
       "<table id=\"table140357663672272\" class=\"table-striped table-bordered table-condensed\">\n",
       "<thead><tr><th>source ID</th><th>freq (GHz)</th><th>RA (deg)</th><th>Dec (deg)</th><th>radius (arcsec)</th><th>radius (kpc)</th><th>flux density (mJy)</th><th>non PB corrected flux density (mJy)</th><th>non PB corrected MAD (mJy/bm)</th><th>non PB corrected median -- annulus (mJy)</th><th>PBC</th><th>diffuse fraction</th><th>error (mJy)</th><th>SNR</th><th>correction factor</th><th>number of pixels</th><th>number of beams</th><th>median -- annulus (mJy)</th><th>mean -- annulus (mJy)</th><th>std -- annulus (mJy)</th><th>non PB corrected mean -- annulus (mJy)</th><th>non PB corrected std -- annulus (mJy)</th><th>median of aperture in weight map (mJy)</th><th>MAD of science img * sqrt(weight map)</th><th>pixel scale (arcsec)</th></tr></thead>\n",
       "<thead><tr><th></th><th></th><th>deg</th><th>deg</th><th>arcsec</th><th>kpc</th><th></th><th></th><th></th><th>mJy</th><th></th><th>mJy</th><th></th><th></th><th></th><th></th><th></th><th>mJy</th><th>mJy</th><th>mJy</th><th>mJy</th><th>mJy</th><th></th><th></th><th></th></tr></thead>\n",
       "<thead><tr><th>str15</th><th>int64</th><th>float64</th><th>float64</th><th>float64</th><th>float64</th><th>float64</th><th>float64</th><th>float64</th><th>float64</th><th>float64</th><th>float64</th><th>float64</th><th>float64</th><th>float64</th><th>float64</th><th>float64</th><th>float64</th><th>float64</th><th>float64</th><th>float64</th><th>float64</th><th>float64</th><th>float32</th><th>float64</th></tr></thead>\n",
       "<tr><td>NGC2146a</td><td>3</td><td>94.68094583333331</td><td>78.35225916666666</td><td>9.52</td><td>0.79</td><td>50.61806103234681</td><td>50.54921262497065</td><td>0.3290678723715246</td><td>0.6264487747102976</td><td>1.0013620075130933</td><td>0.012392849308217317</td><td>0.8189257301624192</td><td>61.810319505173716</td><td>--</td><td>--</td><td>2.772588722239781</td><td>0.6282667745836079</td><td>15.317978012744346</td><td>34.48198369135502</td><td>15.314815459686</td><td>34.47664750554222</td><td>--</td><td>--</td><td>--</td></tr>\n",
       "<tr><td>NGC2146a</td><td>15</td><td>94.68094583333331</td><td>78.35225916666666</td><td>9.52</td><td>0.79</td><td>0.46120459658771845</td><td>0.4237185985144184</td><td>0.034092532587237656</td><td>0.049245640184381045</td><td>1.088469088222061</td><td>0.1162225126700576</td><td>0.09222385833165679</td><td>5.000924976800772</td><td>--</td><td>--</td><td>2.772588722239781</td><td>0.05512181087397039</td><td>1.1587255612602751</td><td>3.0646635778146405</td><td>1.1531706124076182</td><td>3.0586053080102147</td><td>--</td><td>--</td><td>--</td></tr>\n",
       "<tr><td>NGC2146a</td><td>33</td><td>94.68094583333331</td><td>78.35225916666666</td><td>9.52</td><td>0.79</td><td>8.505245202089624</td><td>7.17878883314231</td><td>0.13734246022067964</td><td>-0.03756758997042198</td><td>1.1847743957620627</td><td>0.005233137628590454</td><td>0.40439744794051596</td><td>21.031896332196155</td><td>--</td><td>--</td><td>2.772588722239781</td><td>-0.07289716086233966</td><td>3.2037383957563588</td><td>8.474447104541529</td><td>3.1800731764760495</td><td>8.341277309025855</td><td>--</td><td>--</td><td>--</td></tr>\n",
       "<tr><td>NGC2146a</td><td>90</td><td>94.68094583333331</td><td>78.35225916666666</td><td>9.52</td><td>0.79</td><td>6.16339201844278</td><td>6.16339201844278</td><td>0.46148221008479595</td><td>0.05895331560168415</td><td>1.0</td><td>0.009565076410080286</td><td>0.12013738868409111</td><td>51.30286321313184</td><td>1.0216783952333426</td><td>71.13561933172798</td><td>--</td><td>0.05895331560168415</td><td>1.9495482208119104</td><td>5.0766524577378584</td><td>1.9495482208119104</td><td>5.0766524577378584</td><td>7649651.0</td><td>0.6772233</td><td>2.000016</td></tr>\n",
       "<tr><td>NGC2146b</td><td>3</td><td>94.65985416666665</td><td>78.35596222222222</td><td>9.52</td><td>0.79</td><td>252.64436131789893</td><td>252.60262945595957</td><td>0.3290678723715246</td><td>5.353274988010526</td><td>1.000165207551597</td><td>0.021192475310095105</td><td>0.8179469729547627</td><td>308.8762104042552</td><td>--</td><td>--</td><td>2.772588722239781</td><td>5.3574563935399055</td><td>11.753332552000908</td><td>15.1551321908448</td><td>11.744049208455639</td><td>15.146717335639801</td><td>--</td><td>--</td><td>--</td></tr>\n",
       "<tr><td>NGC2146b</td><td>15</td><td>94.65985416666665</td><td>78.35596222222222</td><td>9.52</td><td>0.79</td><td>19.252651381917236</td><td>19.21214316129557</td><td>0.034092532587237656</td><td>0.02879972271330189</td><td>1.0021084696424327</td><td>0.001499037482258683</td><td>0.0849066919192129</td><td>226.7506947536687</td><td>--</td><td>--</td><td>2.772588722239781</td><td>0.02943685649370309</td><td>0.28230157535577216</td><td>0.6489796800143178</td><td>0.27671309373038955</td><td>0.640517507899033</td><td>--</td><td>--</td><td>--</td></tr>\n",
       "<tr><td>NGC2146b</td><td>33</td><td>94.65985416666665</td><td>78.35596222222222</td><td>9.52</td><td>0.79</td><td>59.11871787625641</td><td>58.219606663967795</td><td>0.13734246022067964</td><td>0.06647704867646098</td><td>1.015443443606174</td><td>0.0011418326657573201</td><td>0.34659994222624557</td><td>170.5675929907289</td><td>--</td><td>--</td><td>2.772588722239781</td><td>0.0525930317962775</td><td>1.801825301289872</td><td>3.868863827999172</td><td>1.6751308272635488</td><td>3.604629230805813</td><td>--</td><td>--</td><td>--</td></tr>\n",
       "<tr><td>NGC2146b</td><td>90</td><td>94.65985416666665</td><td>78.35596222222222</td><td>9.52</td><td>0.79</td><td>33.39359455948792</td><td>33.39359455948792</td><td>0.46148221008479595</td><td>0.37563827936537564</td><td>1.0</td><td>0.011248812364185807</td><td>0.12076057097688174</td><td>276.5272993440943</td><td>1.0216783952333426</td><td>71.13561933172798</td><td>--</td><td>0.37563827936537564</td><td>0.9582302493576168</td><td>1.5460904609154666</td><td>0.9582302493576168</td><td>1.5460904609154666</td><td>7570903.0</td><td>0.6772233</td><td>2.000016</td></tr>\n",
       "<tr><td>NGC2146c</td><td>3</td><td>94.64072083333332</td><td>78.36006416666666</td><td>9.52</td><td>0.79</td><td>93.39324659116957</td><td>93.34031020106896</td><td>0.3290678723715246</td><td>0.9049506625160575</td><td>1.0005671332137913</td><td>0.009695175220295055</td><td>0.8182756725298554</td><td>114.13420895482145</td><td>--</td><td>--</td><td>2.772588722239781</td><td>0.9066738130059093</td><td>17.012359883858288</td><td>36.442681573313024</td><td>17.009798479327408</td><td>36.43897622908854</td><td>--</td><td>--</td><td>--</td></tr>\n",
       "<tr><td>...</td><td>...</td><td>...</td><td>...</td><td>...</td><td>...</td><td>...</td><td>...</td><td>...</td><td>...</td><td>...</td><td>...</td><td>...</td><td>...</td><td>...</td><td>...</td><td>...</td><td>...</td><td>...</td><td>...</td><td>...</td><td>...</td><td>...</td><td>...</td><td>...</td></tr>\n",
       "<tr><td>NGC5713Enuc.1</td><td>33</td><td>220.04733333333328</td><td>-0.28838888888888886</td><td>10.3</td><td>1.1</td><td>4.723944114068662</td><td>3.2256740950268648</td><td>0.029613840524689294</td><td>-0.004860275112150703</td><td>1.4644827638823565</td><td>0.0015067471074166978</td><td>0.10778216959358175</td><td>43.82862334170313</td><td>--</td><td>--</td><td>2.772588722239781</td><td>-0.016125751244544517</td><td>0.07619243467431983</td><td>0.25379027998701936</td><td>0.07498485067304393</td><td>0.16212805912604464</td><td>--</td><td>--</td><td>--</td></tr>\n",
       "<tr><td>NGC5713Enuc.1</td><td>90</td><td>220.04733333333328</td><td>-0.28838888888888886</td><td>10.3</td><td>1.1</td><td>3.9495985382252634</td><td>3.9495985382252634</td><td>0.6440666038542986</td><td>0.25306889438070357</td><td>1.0</td><td>0.06407458680456649</td><td>0.16548113586868415</td><td>23.867364201315528</td><td>1.8044372157187345</td><td>83.61005377860913</td><td>--</td><td>0.25306889438070357</td><td>0.2259898754269162</td><td>0.5584134967363487</td><td>0.2259898754269162</td><td>0.5584134967363487</td><td>6058389.5</td><td>0.9000066</td><td>2.000016</td></tr>\n",
       "<tr><td>NGC5713Enuc.2a</td><td>3</td><td>220.04499999999996</td><td>-0.2931944444444444</td><td>10.3</td><td>1.1</td><td>4.6763578092085805</td><td>4.673989469237179</td><td>0.04190005347481929</td><td>0.26203959714621305</td><td>1.000506706313095</td><td>0.05606336917763304</td><td>0.10418435436764126</td><td>44.88541333861753</td><td>--</td><td>--</td><td>2.772588722239781</td><td>0.26214367244392633</td><td>1.7767616605355712</td><td>3.1701325096242714</td><td>1.7759741309183</td><td>3.169305336532912</td><td>--</td><td>--</td><td>--</td></tr>\n",
       "<tr><td>NGC5713Enuc.2a</td><td>15</td><td>220.04499999999996</td><td>-0.2931944444444444</td><td>10.3</td><td>1.1</td><td>3.2523720386016786</td><td>3.2102969398383303</td><td>0.12861887807957828</td><td>0.3562773345038295</td><td>1.0131062950100396</td><td>0.11097955771087378</td><td>0.3238378849409356</td><td>10.043210476114846</td><td>--</td><td>--</td><td>2.772588722239781</td><td>0.36692412686534226</td><td>0.9204307530301274</td><td>1.347539768345416</td><td>0.9090431640648506</td><td>1.3379640285951466</td><td>--</td><td>--</td><td>--</td></tr>\n",
       "<tr><td>NGC5713Enuc.2a</td><td>33</td><td>220.04499999999996</td><td>-0.2931944444444444</td><td>10.3</td><td>1.1</td><td>1.3171671988492124</td><td>1.1388960491143976</td><td>0.04205222285236232</td><td>0.019692031855811365</td><td>1.1565297815138071</td><td>0.017290455850754626</td><td>0.12086865834037253</td><td>10.897508228642698</td><td>--</td><td>--</td><td>2.772588722239781</td><td>0.022576672563445754</td><td>0.4569348131273469</td><td>0.973765478549537</td><td>0.31625184069156625</td><td>0.6796212129278209</td><td>--</td><td>--</td><td>--</td></tr>\n",
       "<tr><td>NGC5713Enuc.2a</td><td>90</td><td>220.04499999999996</td><td>-0.2931944444444444</td><td>10.3</td><td>1.1</td><td>2.068491350836065</td><td>2.068491350836065</td><td>0.6440666038542986</td><td>0.28274423675611615</td><td>1.0</td><td>0.13669104134365057</td><td>0.16643353278245965</td><td>12.428332898152975</td><td>1.8044372157187345</td><td>83.61005377860913</td><td>--</td><td>0.28274423675611615</td><td>0.37197998249332126</td><td>0.7590406570223873</td><td>0.37197998249332126</td><td>0.7590406570223873</td><td>5989251.0</td><td>0.9000066</td><td>2.000016</td></tr>\n",
       "<tr><td>NGC5713Enuc.2b</td><td>3</td><td>220.04524999999998</td><td>-0.29727777777777775</td><td>10.3</td><td>1.1</td><td>1.7974022385670325</td><td>1.794318257300373</td><td>0.04190005347481929</td><td>0.07347655628109351</td><td>1.0017187481953729</td><td>0.04094956732572184</td><td>0.10431056621627242</td><td>17.2312576162264</td><td>--</td><td>--</td><td>2.772588722239781</td><td>0.07375740096904337</td><td>0.552680909246798</td><td>1.1675446912604812</td><td>0.5523931223485767</td><td>1.1672776899307915</td><td>--</td><td>--</td><td>--</td></tr>\n",
       "<tr><td>NGC5713Enuc.2b</td><td>15</td><td>220.04524999999998</td><td>-0.29727777777777775</td><td>10.3</td><td>1.1</td><td>1.2487712876416306</td><td>1.2050810010388633</td><td>0.12861887807957828</td><td>0.13873062562197447</td><td>1.0362550621618822</td><td>0.11512141134278862</td><td>0.33123735312148683</td><td>3.7700195218732557</td><td>--</td><td>--</td><td>2.772588722239781</td><td>0.16038953617680818</td><td>0.38000025858798414</td><td>0.7302298646558428</td><td>0.3800575580539129</td><td>0.718866966046082</td><td>--</td><td>--</td><td>--</td></tr>\n",
       "<tr><td>NGC5713Enuc.2b</td><td>33</td><td>220.04524999999998</td><td>-0.29727777777777775</td><td>10.3</td><td>1.1</td><td>0.18756714144219017</td><td>0.1898690147473716</td><td>0.04205222285236232</td><td>0.012620041161426343</td><td>0.9878765194613551</td><td>0.0664670914220407</td><td>0.10324274516905332</td><td>1.8167585638590014</td><td>--</td><td>--</td><td>2.772588722239781</td><td>0.016020274415495805</td><td>0.13648418298363185</td><td>0.38269882412191814</td><td>0.10926401496365375</td><td>0.2944040884257296</td><td>--</td><td>--</td><td>--</td></tr>\n",
       "<tr><td>NGC5713Enuc.2b</td><td>90</td><td>220.04524999999998</td><td>-0.29727777777777775</td><td>10.3</td><td>1.1</td><td>1.0955707149012628</td><td>1.0955707149012628</td><td>0.6440666038542986</td><td>0.204013820621185</td><td>1.0</td><td>0.18621693501507253</td><td>0.1689614250156085</td><td>6.484146986805153</td><td>1.8044372157187345</td><td>83.61005377860913</td><td>--</td><td>0.204013820621185</td><td>0.254029621632472</td><td>0.7087827788320843</td><td>0.254029621632472</td><td>0.7087827788320843</td><td>5811377.0</td><td>0.9000066</td><td>2.000016</td></tr>\n",
       "</table></div>"
      ],
      "text/plain": [
       "<QTable length=216>\n",
       "  source ID    freq (GHz) ... pixel scale (arcsec)\n",
       "                          ...                     \n",
       "    str15        int64    ...       float64       \n",
       "-------------- ---------- ... --------------------\n",
       "      NGC2146a          3 ...                   --\n",
       "      NGC2146a         15 ...                   --\n",
       "      NGC2146a         33 ...                   --\n",
       "      NGC2146a         90 ...             2.000016\n",
       "      NGC2146b          3 ...                   --\n",
       "      NGC2146b         15 ...                   --\n",
       "      NGC2146b         33 ...                   --\n",
       "      NGC2146b         90 ...             2.000016\n",
       "      NGC2146c          3 ...                   --\n",
       "           ...        ... ...                  ...\n",
       " NGC5713Enuc.1         33 ...                   --\n",
       " NGC5713Enuc.1         90 ...             2.000016\n",
       "NGC5713Enuc.2a          3 ...                   --\n",
       "NGC5713Enuc.2a         15 ...                   --\n",
       "NGC5713Enuc.2a         33 ...                   --\n",
       "NGC5713Enuc.2a         90 ...             2.000016\n",
       "NGC5713Enuc.2b          3 ...                   --\n",
       "NGC5713Enuc.2b         15 ...                   --\n",
       "NGC5713Enuc.2b         33 ...                   --\n",
       "NGC5713Enuc.2b         90 ...             2.000016"
      ]
     },
     "execution_count": 9,
     "metadata": {},
     "output_type": "execute_result"
    }
   ],
   "source": [
    "###PURPOSE: perform aperture photometry for all of our sources\n",
    "\n",
    "#import statements\n",
    "\n",
    "#import sys for using sys.exit() to debug\n",
    "import sys\n",
    "\n",
    "#import warnings and ignore WCS obsfix warning (otherwise there's too much output)\n",
    "import warnings\n",
    "from astropy.wcs import FITSFixedWarning\n",
    "warnings.filterwarnings('ignore', category=FITSFixedWarning)\n",
    "\n",
    "#general import statements\n",
    "import pandas as pd\n",
    "import numpy as np\n",
    "import matplotlib.pyplot as plt\n",
    "\n",
    "import aplpy\n",
    "from itertools import cycle\n",
    "\n",
    "#astropy-related import statements\n",
    "from astropy.io import ascii, fits\n",
    "from astropy import units as u\n",
    "\n",
    "from astropy import wcs\n",
    "from astropy.coordinates import SkyCoord\n",
    "\n",
    "from photutils.aperture import aperture_photometry, ApertureStats\n",
    "from photutils.aperture import SkyCircularAperture, SkyCircularAnnulus, CircularAperture, CircularAnnulus\n",
    "\n",
    "from astropy.stats import median_absolute_deviation\n",
    "from astropy.table import join, vstack, Column, Table\n",
    "\n",
    "##########################################################################################################\n",
    "\n",
    "#read in photometry sources Google Sheet\n",
    "data = ascii.read('/users/adignan/photsourcesnew.csv', format='csv')\n",
    "\n",
    "#read in Sean's catalog\n",
    "df = ascii.read('/users/adignan/edited_Linden2020_table5.csv', format='csv')\n",
    "\n",
    "#make table with source ID, RA and Dec, and paths to needed files\n",
    "#we'll loop through this table when we perform photometry\n",
    "minitbl=df[['Source ID','RA_J2000','Decl_J2000']]\n",
    "tbl=join(data,minitbl,'Source ID')\n",
    "\n",
    "##########################################################################################################\n",
    "\n",
    "#common path to all of our files\n",
    "path='/lustre/cv/students/adignan/data/new/'\n",
    "\n",
    "#initialize empty lists\n",
    "results1=[]\n",
    "medians=[]\n",
    "means=[]\n",
    "stds=[]\n",
    "names1=[]\n",
    "beams=[]\n",
    "kpcrad=[]\n",
    "rins=[]\n",
    "routs=[]\n",
    "mediansap=[]\n",
    "\n",
    "for row in tbl:\n",
    "    print('Working on ' + str(row['Source ID']))\n",
    "    #read in relevant data files\n",
    "    file3=fits.open(str(row['3 GHz file']))[0]\n",
    "    file15=fits.open(str(row['15 GHz file']))[0]\n",
    "    file33=fits.open(str(row['33 GHz file']))[0]\n",
    "    file90 = fits.open(str(row['90 GHz file']))[0]\n",
    "    weightmap = fits.open(str(row['90 GHz file']))[1]\n",
    "\n",
    "    #get data from files\n",
    "    data3=file3.data[0,0,:,:]\n",
    "    data15=file15.data[0,0,:,:]\n",
    "    data33=file33.data[0,0,:,:]\n",
    "    data90=file90.data[0,:,:]\n",
    "    weightdata=weightmap.data\n",
    "\n",
    "    #make list of files to loop through\n",
    "    datas=[data3,data15,data33,data90]\n",
    "\n",
    "    #get WCS info from files\n",
    "    wcs3=wcs.WCS(file3).dropaxis(3).dropaxis(2)\n",
    "    wcs15=wcs.WCS(file15).dropaxis(3).dropaxis(2)\n",
    "    wcs33=wcs.WCS(file33).dropaxis(3).dropaxis(2)\n",
    "    wcs90=wcs.WCS(file90).dropaxis(2)\n",
    "\n",
    "    #make list of WCSs to loop through\n",
    "    wcss=[wcs3,wcs15,wcs33,wcs90]\n",
    "\n",
    "    ras=[]\n",
    "    decs=[]\n",
    "\n",
    "    #pull out ra and dec info\n",
    "    r=(row['RA_J2000'])\n",
    "    r=(r[:2]+'h'+r[3:5]+'m'+r[6:]+'s')\n",
    "    ras.append(r)\n",
    "    d=(row['Decl_J2000'])\n",
    "    d=(d[:3]+'d'+d[4:6]+'m'+d[7:]+'s')\n",
    "    decs.append(d)\n",
    "\n",
    "    #make SkyCoord positions from ras and decs\n",
    "    #aperture photometry needs SkyCoord positions as input\n",
    "    positions=[]\n",
    "\n",
    "    for r, d in zip(ras,decs):\n",
    "        position=SkyCoord(ra=r,dec=d)\n",
    "        positions.append(position)\n",
    "    \n",
    "    #setting aperture radius as FWHM of beam\n",
    "    fwhm = row['Beam']*u.arcsec\n",
    "    #setting annulus inner radius\n",
    "    rin = 1.5*fwhm \n",
    "    #setting annulus outer radius\n",
    "    rout = rin + fwhm\n",
    "\n",
    "    #creating lists of the apertures and annuli (defined in sky coordinates)\n",
    "    skyapertures=[]\n",
    "    skyannuli=[]\n",
    "\n",
    "    for p in positions:\n",
    "        skyaperture = SkyCircularAperture(p, r=fwhm)\n",
    "        skyannulus = SkyCircularAnnulus(p, rin, rout)\n",
    "        skyapertures.append(skyaperture)\n",
    "        skyannuli.append(skyannulus)\n",
    "    \n",
    "    #calculate factor for converting from aperture sum to flux density\n",
    "    scale=0.00055556*u.degree #pixel scale in degrees\n",
    "    scalearcsec=scale.to('arcsec') #pixel scale in arcseconds\n",
    "    factor=((scalearcsec.value)**2)/((np.pi/(4*np.log(2))) *(fwhm.value)**2)\n",
    "\n",
    "    #omega is just an arbitrary value so definition of n isn't too long\n",
    "    omega= (np.pi / (4*np.log(2)) ) * ((fwhm.value)**2)\n",
    "    #expression for number of beams in our aperture\n",
    "    n= ((np.pi) * ((fwhm.value)**2)) / (omega)\n",
    "\n",
    "    #performing photometry using photutils\n",
    "    for ap, ann in zip(skyapertures,skyannuli):\n",
    "        for d, w in zip((datas),wcss):\n",
    "            phot=aperture_photometry(data=d,apertures=ap,wcs=w)\n",
    "            aperstats = ApertureStats(data=d, aperture=ann, wcs=w)\n",
    "            phot['pbcorr_flux_density']=(phot['aperture_sum']*factor)*1000 #flux density\n",
    "            phot['pbcorr_aperture_sum']=(phot['aperture_sum'])*1000 #aperture sum\n",
    "            results1.append(phot) #add aperture_photometry results to list\n",
    "            medians.append(aperstats.median*1000) #median calculated using annulus\n",
    "            means.append(aperstats.mean*1000) #mean calculated using annulus\n",
    "            stds.append(aperstats.std*1000) #std calculated using annulus\n",
    "            names1.append(row['Source ID']) #name of source corresponding to results\n",
    "            beams.append(row['Beam']) #aperture radius (arcseconds) \n",
    "            kpcrad.append( ( (row['Beam']*row['Distance']*(10**6))/(206265) ) / (1000)) #aperture radius (kpc)\n",
    "            rins.append((1.5*row['Beam'])) #inner radius of annulus\n",
    "            routs.append(((1.5*row['Beam'])+row['Beam'])) #outer radius of annulus\n",
    "            aperstatsv2 = ApertureStats(data=d, aperture=ap, wcs=w) \n",
    "            mediansap.append(aperstatsv2.median) #median calculated using aperture\n",
    "    \n",
    "    #make a table of our results\n",
    "    table_stacked = vstack(results1)\n",
    "    \n",
    "    #define columns to add to our results table\n",
    "    medianscol=Column(medians,name='median -- annulus (mJy)',unit='mJy')\n",
    "    meanscol=Column(means,name='mean -- annulus (mJy)',unit='mJy')\n",
    "    rmscol=Column(stds,name='std -- annulus (mJy)',unit='mJy')\n",
    "    namecol1=Column(names1,name='source ID')\n",
    "    beamcol=Column(beams,name='radius (arcsec)',unit='arcsec',format='{:0.3}')\n",
    "    kpcradcol=Column(kpcrad,name='radius (kpc)',unit='kpc',format='{:0.2}')\n",
    "    rincol=Column(rins,name='radius_in',unit='arcsec')\n",
    "    routcol=Column(routs,name='radius_out',unit='arcsec')\n",
    "    medianscolv2=Column(mediansap,name='median -- aperture (mJy)',unit='mJy')\n",
    "\n",
    "    #add columns to our results table\n",
    "    table_stacked.add_columns([beamcol,kpcradcol,medianscol,meanscol,rmscol,medianscolv2])\n",
    "\n",
    "    #add frequencies column\n",
    "    freqs = cycle([3,15,33,90])\n",
    "    freqcol=Column(data=[next(freqs) for freq in range(len(table_stacked))],name='freq (GHz)')\n",
    "    table_stacked.add_column(freqcol,index=1)\n",
    "\n",
    "    #add source ID column\n",
    "    table_stacked.add_column(namecol1,index=0)\n",
    "\n",
    "    print('Just finished ' + str(row['Source ID']) + '! :)')\n",
    "\n",
    "#make ra and dec columns based on our results \n",
    "#(this was the best way I could figure out to get our ras and decs in degrees)\n",
    "ravals=[]\n",
    "decvals=[]\n",
    "\n",
    "for row in table_stacked:\n",
    "    x1=(row['sky_center'].ra.degree)\n",
    "    y1=(row['sky_center'].dec.degree)\n",
    "    ravals.append(x1)\n",
    "    decvals.append(y1)\n",
    "    \n",
    "racol=Column(data=ravals,unit='degree',name='RA (deg)')\n",
    "deccol=Column(data=decvals,unit='degree',name='Dec (deg)')\n",
    "\n",
    "##########################################################################################################\n",
    "\n",
    "#initialize empty lists\n",
    "results=[]\n",
    "names=[]\n",
    "mad=[]\n",
    "mediansnpbc=[]\n",
    "meansnpbc=[]\n",
    "stdsnpbc=[]\n",
    "diffusefrac=[]\n",
    "kappas=[]\n",
    "npixs=[]\n",
    "gbt_noises=[]\n",
    "gbt_errs=[]\n",
    "mininames=[]\n",
    "mediansnpbcap=[]\n",
    "wghtmeds=[]\n",
    "ratio=[]\n",
    "pixscales=[]\n",
    "\n",
    "#repeat process but for non primary beam corrected images\n",
    "for row in tbl:\n",
    "    print('Working on ' + str(row['Source ID']))\n",
    "    #read in relevant data files\n",
    "    file3=fits.open(str(row['non pb corr 3 GHz file']))[0]\n",
    "    file15=fits.open(str(row['non pb corr 15 GHz file']))[0]\n",
    "    file33=fits.open(str(row['non pb corr 33 GHz file']))[0]\n",
    "    file90 = fits.open(str(row['90 GHz file']))[0]\n",
    "    weightmap = fits.open(str(row['90 GHz file']))[1]\n",
    "\n",
    "    #get data from files\n",
    "    data3=file3.data[0,0,:,:]\n",
    "    data15=file15.data[0,0,:,:]\n",
    "    data33=file33.data[0,0,:,:]\n",
    "    data90=file90.data[0,:,:]\n",
    "    weightdata=weightmap.data\n",
    "\n",
    "    #make list of files to loop through\n",
    "    datas=[data3,data15,data33,data90]\n",
    "    vladata=[data3,data15,data33]\n",
    "    gbtdata=[data90]\n",
    "\n",
    "    #get WCS info from files\n",
    "    wcs3=wcs.WCS(file3).dropaxis(3).dropaxis(2)\n",
    "    wcs15=wcs.WCS(file15).dropaxis(3).dropaxis(2)\n",
    "    wcs33=wcs.WCS(file33).dropaxis(3).dropaxis(2)\n",
    "    wcs90=wcs.WCS(file90).dropaxis(2)\n",
    "\n",
    "    #make list of WCSs to loop through\n",
    "    wcss=[wcs3,wcs15,wcs33,wcs90]\n",
    "\n",
    "    ras=[]\n",
    "    decs=[]\n",
    "\n",
    "    #pull out ra and dec info\n",
    "    r=(row['RA_J2000'])\n",
    "    r=(r[:2]+'h'+r[3:5]+'m'+r[6:]+'s')\n",
    "    ras.append(r)\n",
    "    d=(row['Decl_J2000'])\n",
    "    d=(d[:3]+'d'+d[4:6]+'m'+d[7:]+'s')\n",
    "    decs.append(d)\n",
    "\n",
    "    #make SkyCoord positions from ras and decs\n",
    "    #aperture photometry needs SkyCoord positions as input\n",
    "    positions=[]\n",
    "\n",
    "    for r, d in zip(ras,decs):\n",
    "        position=SkyCoord(ra=r,dec=d)\n",
    "        positions.append(position)\n",
    "\n",
    "    #setting aperture radius as FWHM of beam\n",
    "    fwhm = row['Beam']*u.arcsec\n",
    "    #setting annulus inner radius\n",
    "    rin = 1.5*fwhm \n",
    "    #setting annulus outer radius\n",
    "    rout = rin + fwhm\n",
    "\n",
    "    #creating lists of the apertures and annuli (defined in sky coordinates)\n",
    "    skyapertures=[]\n",
    "    skyannuli=[]\n",
    "\n",
    "    for p in positions:\n",
    "        skyaperture = SkyCircularAperture(p, r=fwhm)\n",
    "        skyannulus = SkyCircularAnnulus(p, rin, rout)\n",
    "        skyapertures.append(skyaperture)\n",
    "        skyannuli.append(skyannulus)\n",
    "\n",
    "    #factor for converting from aperture sum to flux density\n",
    "    factor=((scalearcsec.value)**2)/((np.pi/(4*np.log(2))) *(fwhm.value)**2)\n",
    "\n",
    "    #omega is just an arbitrary value so definition of n isn't too long\n",
    "    omega= (np.pi / (4*np.log(2)) ) * ((fwhm.value)**2)\n",
    "    #expression for number of beams in our aperture\n",
    "    n= ((np.pi) * ((fwhm.value)**2)) / (omega)\n",
    "\n",
    "    #performing photometry using photutils\n",
    "    for ap, ann in zip(skyapertures,skyannuli):\n",
    "        for d, w in zip((datas),wcss):\n",
    "            phot=aperture_photometry(data=d,apertures=ap,wcs=w) \n",
    "            aperstats = ApertureStats(data=d, aperture=ann, wcs=w)\n",
    "            aperstatsv2 = ApertureStats(data=d, aperture=ap, wcs=w)  \n",
    "            phot['nonpbcorr_flux_density']=(phot['aperture_sum']*factor)*1000 #flux density\n",
    "            phot['nonpbcorr_aperture_sum']=(phot['aperture_sum'])*1000 #aperture sum\n",
    "            results.append(phot) #add aperture_photometry results to list\n",
    "            names.append(row['Source ID']) #name of source corresponding to results (for merging tables)\n",
    "            mediansnpbc.append(aperstats.median*1000) #median calculated using annulus\n",
    "            meansnpbc.append(aperstats.mean*1000) #mean calculated using annulus\n",
    "            stdsnpbc.append(aperstats.std*1000) #std calculated using annulus\n",
    "            mediansnpbcap.append(aperstatsv2.median*1000) #median calculated using aperture\n",
    "            \n",
    "    for d in vladata:\n",
    "        madvalue=(median_absolute_deviation(d,ignore_nan=True))\n",
    "        mad.append(madvalue*1000)\n",
    "    #calculate noise and errors for VLA data\n",
    "\n",
    "    for d in gbtdata:\n",
    "    #calculate noise and errors for GBT data\n",
    "        condition=(np.median(weightdata[np.where(weightdata > 0)]))\n",
    "        goodidxs=((np.where(weightdata > 0.2*condition)))\n",
    "        \n",
    "        x=d[goodidxs]*np.sqrt(weightdata[goodidxs])\n",
    "        ratio.append(median_absolute_deviation(x))\n",
    "        kappa=((median_absolute_deviation(x))/(0.67)) **2\n",
    "        print(kappa)\n",
    "        aperstats = ApertureStats(data=weightdata, aperture=skyapertures[0], wcs=wcs90)\n",
    "        wghtmed=aperstats.median\n",
    "        wghtmeds.append(wghtmed)\n",
    "        npix=(np.pi*(fwhm.value)**2)/(scalearcsec.value)**2\n",
    "        pixscales.append(scalearcsec.value)\n",
    "        err=np.sqrt(kappa/wghtmed) * np.sqrt(npix) * factor \n",
    "        mininames.append(row['Source ID'])\n",
    "        kappas.append(kappa)\n",
    "        npixs.append(npix)\n",
    "        print(factor)\n",
    "        gbt_noises.append(np.sqrt(kappa/wghtmed)*1000)\n",
    "        gbt_errs.append(err*1000)\n",
    "        madvalue = median_absolute_deviation(d[goodidxs])\n",
    "        mad.append(madvalue*(1000))\n",
    "\n",
    "    table_stacked_nonpbcorr = vstack(results)\n",
    "\n",
    "    mediansnpbccol=Column(mediansnpbc,name='non PB corrected median -- annulus (mJy)',unit='mJy')\n",
    "    madcol=Column(mad,name='non PB corrected MAD (mJy/bm)')\n",
    "    kappacol=Column(kappas,name='correction factor')\n",
    "    npixcol=Column(npixs,name='number of pixels')\n",
    "    ratiocol=Column(ratio,name='MAD of science img * sqrt(weight map)')\n",
    "    meansnpbccol=Column(meansnpbc,'non PB corrected mean -- annulus (mJy)',unit='mJy')\n",
    "    stdsnpbccol=Column(stdsnpbc,'non PB corrected std -- annulus (mJy)',unit='mJy')\n",
    "    mediansnpbcapcol=Column(mediansnpbcap,'non PB corrected median -- aperture (mJy)',unit='mJy')\n",
    "    wghtmedcol=Column(wghtmeds,'median of aperture in weight map (mJy)')\n",
    "    pixscalecol=Column(pixscales,'pixel scale (arcsec)')\n",
    "    \n",
    "    table_stacked_nonpbcorr.add_columns([mediansnpbccol,madcol,meansnpbccol,stdsnpbccol,mediansnpbcapcol])\n",
    "    \n",
    "    freqs = cycle([3,15,33,90])\n",
    "    freqcol=Column(data=[next(freqs) for freq in range(len(table_stacked_nonpbcorr))],name='freq (GHz)')\n",
    "    table_stacked_nonpbcorr.add_column(freqcol,index=1)\n",
    "\n",
    "    namecol=Column(names,name='source ID')\n",
    "    table_stacked_nonpbcorr.add_column(namecol)\n",
    "\n",
    "    minitable=Table()\n",
    "    mininamecol=Column(mininames,name='source ID')\n",
    "    gbtnoisescol=Column(gbt_noises,name='noise (mJy/bm)')\n",
    "    gbterrscol=Column(gbt_errs,name='error (mJy)')\n",
    "    minitable.add_columns([mininamecol,gbtnoisescol,gbterrscol,kappacol,npixcol,wghtmedcol,ratiocol,pixscalecol])\n",
    "    freqs = cycle([90])\n",
    "    freqcol=Column(data=[next(freqs) for freq in range(len(minitable))],name='freq (GHz)')\n",
    "    minitable.add_column(freqcol,index=1)\n",
    "\n",
    "    print('Just finished ' + str(row['Source ID']) + '! :)')\n",
    "    \n",
    "ravalsnpbc=[]\n",
    "decvalsnpbc=[]\n",
    "\n",
    "for row in table_stacked_nonpbcorr:\n",
    "    x1=(row['sky_center'].ra.degree)\n",
    "    y1=(row['sky_center'].dec.degree)\n",
    "    ravalsnpbc.append(x1)\n",
    "    decvalsnpbc.append(y1)\n",
    "    \n",
    "racolnpbc=Column(data=ravalsnpbc,unit='degree',name='RA (deg)')\n",
    "deccolnpbc=Column(data=decvalsnpbc,unit='degree',name='Dec (deg)')\n",
    "table_stacked_nonpbcorr.add_columns([racolnpbc,deccolnpbc])\n",
    "\n",
    "##########################################################################################################\n",
    "\n",
    "#writing the final results spreadsheet!\n",
    "\n",
    "merged_table=join(table_stacked,table_stacked_nonpbcorr,keys=('source ID','freq (GHz)'))\n",
    "\n",
    "rationew=np.divide(merged_table['pbcorr_flux_density'],merged_table['nonpbcorr_flux_density'])\n",
    "newratiocol=Column(data=rationew,name='PBC')\n",
    "merged_table.add_columns([newratiocol])\n",
    "merged_table.rename_column('pbcorr_flux_density', 'flux density (mJy)')\n",
    "merged_table.rename_column('nonpbcorr_flux_density', 'non PB corrected flux density (mJy)')\n",
    "\n",
    "dfcol=Column(np.abs((table_stacked_nonpbcorr['non PB corrected median -- annulus (mJy)'])/(merged_table['non PB corrected flux density (mJy)'])),name='diffuse fraction')\n",
    "merged_table.add_column(dfcol)\n",
    "\n",
    "vlatable=Table()\n",
    "vla_noises=[]\n",
    "vla_errs=[]\n",
    "vlanames=[]\n",
    "nbeams=[]\n",
    "\n",
    "for row in merged_table:    \n",
    "    if row['freq (GHz)'] != 90:\n",
    "        #factor for converting from aperture sum to flux density\n",
    "        factor=((scalearcsec.value)**2)/((np.pi/(4*np.log(2))) *(row['radius (arcsec)'].value)**2)\n",
    "\n",
    "        #omega is just an arbitrary value so definition of n isn't too long\n",
    "        omega= (np.pi / (4*np.log(2)) ) * ((row['radius (arcsec)'].value)**2)\n",
    "        #expression for number of beams in our aperture\n",
    "        n= ((np.pi) * ((row['radius (arcsec)'].value)**2)) / (omega)\n",
    "        vla_noise=(row['non PB corrected MAD (mJy/bm)']/(0.67))*(row['PBC'])\n",
    "        vla_noises.append(vla_noise)\n",
    "        vla_errs.append(np.sqrt(n)*row['non PB corrected MAD (mJy/bm)']/(0.67)*row['PBC'])\n",
    "        nbeams.append(n)\n",
    "        vlanames.append(row['source ID'])\n",
    "        \n",
    "vlanoisecol=Column(data=vla_noises,name='noise (mJy/bm)')\n",
    "vlaerrcol=Column(data=vla_errs, name='error (mJy)')\n",
    "nbeamscol=Column(nbeams,'number of beams')\n",
    "vlanamecol=Column(vlanames,name='source ID')\n",
    "vlatable.add_columns([vlanoisecol,vlaerrcol,vlanamecol,nbeamscol])\n",
    "\n",
    "freqs = cycle([3,15,33])\n",
    "freqcol=Column(data=[next(freqs) for freq in range(len(vlatable))],name='freq (GHz)')\n",
    "vlatable.add_column(freqcol,index=1)\n",
    "vlatable\n",
    "\n",
    "minimerged=join(vlatable,minitable,keys=('source ID','noise (mJy/bm)','error (mJy)'),join_type='outer')\n",
    "\n",
    "minimerged.sort(['source ID', 'freq (GHz)_1'])\n",
    "minimerged.remove_columns(['freq (GHz)_1','freq (GHz)_2'])\n",
    "freqs = cycle([3,15,33,90])\n",
    "freqcol=Column(data=[next(freqs) for freq in range(216)],name='freq (GHz)')\n",
    "minimerged.add_column(freqcol,index=1)\n",
    "\n",
    "merged_table=join(merged_table,minimerged)\n",
    "\n",
    "snrcol=Column(data=merged_table['flux density (mJy)']/merged_table['error (mJy)'],name='SNR')\n",
    "merged_table.add_column(snrcol)\n",
    "\n",
    "new_order=['source ID','freq (GHz)','RA (deg)','Dec (deg)','radius (arcsec)','radius (kpc)', \n",
    "           'flux density (mJy)','non PB corrected flux density (mJy)', \n",
    "           'non PB corrected MAD (mJy/bm)','non PB corrected median -- annulus (mJy)','PBC', 'diffuse fraction',\n",
    "           'error (mJy)','SNR','correction factor','number of pixels','number of beams',\n",
    "          'median -- annulus (mJy)', 'mean -- annulus (mJy)','std -- annulus (mJy)',\n",
    "           'non PB corrected mean -- annulus (mJy)','non PB corrected std -- annulus (mJy)',\n",
    "          'median of aperture in weight map (mJy)','MAD of science img * sqrt(weight map)','pixel scale (arcsec)']\n",
    "\n",
    "merged_table[new_order]\n",
    "\n",
    "# for row in merged_table:\n",
    "#     if row['error (mJy)'] > 2:\n",
    "#         print(row['freq (GHz)'])\n",
    "\n",
    "merged_table[new_order].write('/users/adignan/NEW_photometry_results.csv',overwrite=True)\n",
    "merged_table[new_order]"
   ]
  },
  {
   "cell_type": "markdown",
   "id": "0303409d",
   "metadata": {},
   "source": [
    "# Photometry plots (automated)"
   ]
  },
  {
   "cell_type": "code",
   "execution_count": 28,
   "id": "c6fee9a1",
   "metadata": {},
   "outputs": [
    {
     "data": {
      "text/html": [
       "<div><i>Table length=54</i>\n",
       "<table id=\"table140357649780944\" class=\"table-striped table-bordered table-condensed\">\n",
       "<thead><tr><th>Source ID</th><th>Beam</th><th>Distance</th><th>3 GHz file</th><th>15 GHz file</th><th>33 GHz file</th><th>90 GHz file</th><th>non pb corr 3 GHz file</th><th>non pb corr 15 GHz file</th><th>non pb corr 33 GHz file</th><th>RA_J2000</th><th>Decl_J2000</th></tr></thead>\n",
       "<thead><tr><th>str15</th><th>float64</th><th>float64</th><th>str114</th><th>str115</th><th>str115</th><th>str136</th><th>str108</th><th>str109</th><th>str109</th><th>str12</th><th>str13</th></tr></thead>\n",
       "<tr><td>NGC2146a</td><td>9.517044328</td><td>17.2</td><td>/lustre/cv/students/adignan/data/new/NGC2146/ngc2146_3GHz_r0.5_smoothed_ms.pbcor.gbt_resmatched_regridded.fits</td><td>/lustre/cv/students/adignan/data/new/NGC2146/ngc2146_15GHz_r0.5_smoothed_ms.pbcor.gbt_resmatched_regridded.fits</td><td>/lustre/cv/students/adignan/data/new/NGC2146/ngc2146_33GHz_r0.5_smoothed_ms.pbcor.gbt_resmatched_regridded.fits</td><td>/lustre/cv/students/adignan/data/new/NGC2146/Jyperbeam_NGC2146_2asp_pca6_qm2_fitel_0f09-to-41f0Hz_qc_1p2rr_M_PdoCals_dt20_map_iter1.fits</td><td>/lustre/cv/students/adignan/data/new/NGC2146/ngc2146_3GHz_r0.5_smoothed_ms.gbt_resmatched_regridded.fits</td><td>/lustre/cv/students/adignan/data/new/NGC2146/ngc2146_15GHz_r0.5_smoothed_ms.gbt_resmatched_regridded.fits</td><td>/lustre/cv/students/adignan/data/new/NGC2146/ngc2146_33GHz_r0.5_smoothed_ms.gbt_resmatched_regridded.fits</td><td>06 18 43.427</td><td>+78 21 08.133</td></tr>\n",
       "<tr><td>NGC2146b</td><td>9.517044328</td><td>17.2</td><td>/lustre/cv/students/adignan/data/new/NGC2146/ngc2146_3GHz_r0.5_smoothed_ms.pbcor.gbt_resmatched_regridded.fits</td><td>/lustre/cv/students/adignan/data/new/NGC2146/ngc2146_15GHz_r0.5_smoothed_ms.pbcor.gbt_resmatched_regridded.fits</td><td>/lustre/cv/students/adignan/data/new/NGC2146/ngc2146_33GHz_r0.5_smoothed_ms.pbcor.gbt_resmatched_regridded.fits</td><td>/lustre/cv/students/adignan/data/new/NGC2146/Jyperbeam_NGC2146_2asp_pca6_qm2_fitel_0f09-to-41f0Hz_qc_1p2rr_M_PdoCals_dt20_map_iter1.fits</td><td>/lustre/cv/students/adignan/data/new/NGC2146/ngc2146_3GHz_r0.5_smoothed_ms.gbt_resmatched_regridded.fits</td><td>/lustre/cv/students/adignan/data/new/NGC2146/ngc2146_15GHz_r0.5_smoothed_ms.gbt_resmatched_regridded.fits</td><td>/lustre/cv/students/adignan/data/new/NGC2146/ngc2146_33GHz_r0.5_smoothed_ms.gbt_resmatched_regridded.fits</td><td>06 18 38.365</td><td>+78 21 21.464</td></tr>\n",
       "<tr><td>NGC2146c</td><td>9.517044328</td><td>17.2</td><td>/lustre/cv/students/adignan/data/new/NGC2146/ngc2146_3GHz_r0.5_smoothed_ms.pbcor.gbt_resmatched_regridded.fits</td><td>/lustre/cv/students/adignan/data/new/NGC2146/ngc2146_15GHz_r0.5_smoothed_ms.pbcor.gbt_resmatched_regridded.fits</td><td>/lustre/cv/students/adignan/data/new/NGC2146/ngc2146_33GHz_r0.5_smoothed_ms.pbcor.gbt_resmatched_regridded.fits</td><td>/lustre/cv/students/adignan/data/new/NGC2146/Jyperbeam_NGC2146_2asp_pca6_qm2_fitel_0f09-to-41f0Hz_qc_1p2rr_M_PdoCals_dt20_map_iter1.fits</td><td>/lustre/cv/students/adignan/data/new/NGC2146/ngc2146_3GHz_r0.5_smoothed_ms.gbt_resmatched_regridded.fits</td><td>/lustre/cv/students/adignan/data/new/NGC2146/ngc2146_15GHz_r0.5_smoothed_ms.gbt_resmatched_regridded.fits</td><td>/lustre/cv/students/adignan/data/new/NGC2146/ngc2146_33GHz_r0.5_smoothed_ms.gbt_resmatched_regridded.fits</td><td>06 18 33.773</td><td>+78 21 36.231</td></tr>\n",
       "<tr><td>NGC4254Enuc.1a</td><td>10.6818</td><td>14.4</td><td>/lustre/cv/students/adignan/data/new/NGC4254/ngc4254_e1_3GHz_r0.5_smoothed_ms.pbcor.gbt_resmatched_regridded.fits</td><td>/lustre/cv/students/adignan/data/new/NGC4254/ngc4254_e1_15GHz_r0.5_smoothed_ms.pbcor.gbt_resmatched_regridded.fits</td><td>/lustre/cv/students/adignan/data/new/NGC4254/ngc4254_e1_33GHz_r0.5_smoothed_ms.pbcor.gbt_resmatched_regridded.fits</td><td>/lustre/cv/students/adignan/data/new/NGC4254/Jyperbeam_NGC4254_2asp_pca0_qm2_fitel_0f070-to-41f1Hz_1p0rr_M_dt20_map_iter1_editted.fits</td><td>/lustre/cv/students/adignan/data/new/NGC4254/ngc4254_e1_3GHz_r0.5_smoothed_ms.gbt_resmatched_regridded.fits</td><td>/lustre/cv/students/adignan/data/new/NGC4254/ngc4254_e1_15GHz_r0.5_smoothed_ms.gbt_resmatched_regridded.fits</td><td>/lustre/cv/students/adignan/data/new/NGC4254/ngc4254_e1_33GHz_r0.5_smoothed_ms.gbt_resmatched_regridded.fits</td><td>12 18 49.203</td><td>+14 23 57.9</td></tr>\n",
       "<tr><td>NGC4254Enuc.1b</td><td>10.6818</td><td>14.4</td><td>/lustre/cv/students/adignan/data/new/NGC4254/ngc4254_e1_3GHz_r0.5_smoothed_ms.pbcor.gbt_resmatched_regridded.fits</td><td>/lustre/cv/students/adignan/data/new/NGC4254/ngc4254_e1_15GHz_r0.5_smoothed_ms.pbcor.gbt_resmatched_regridded.fits</td><td>/lustre/cv/students/adignan/data/new/NGC4254/ngc4254_e1_33GHz_r0.5_smoothed_ms.pbcor.gbt_resmatched_regridded.fits</td><td>/lustre/cv/students/adignan/data/new/NGC4254/Jyperbeam_NGC4254_2asp_pca0_qm2_fitel_0f070-to-41f1Hz_1p0rr_M_dt20_map_iter1_editted.fits</td><td>/lustre/cv/students/adignan/data/new/NGC4254/ngc4254_e1_3GHz_r0.5_smoothed_ms.gbt_resmatched_regridded.fits</td><td>/lustre/cv/students/adignan/data/new/NGC4254/ngc4254_e1_15GHz_r0.5_smoothed_ms.gbt_resmatched_regridded.fits</td><td>/lustre/cv/students/adignan/data/new/NGC4254/ngc4254_e1_33GHz_r0.5_smoothed_ms.gbt_resmatched_regridded.fits</td><td>12 18 50.009</td><td>+14 24 06.9</td></tr>\n",
       "<tr><td>NGC4254Enuc.1c</td><td>10.6818</td><td>14.4</td><td>/lustre/cv/students/adignan/data/new/NGC4254/ngc4254_e1_3GHz_r0.5_smoothed_ms.pbcor.gbt_resmatched_regridded.fits</td><td>/lustre/cv/students/adignan/data/new/NGC4254/ngc4254_e1_15GHz_r0.5_smoothed_ms.pbcor.gbt_resmatched_regridded.fits</td><td>/lustre/cv/students/adignan/data/new/NGC4254/ngc4254_e1_33GHz_r0.5_smoothed_ms.pbcor.gbt_resmatched_regridded.fits</td><td>/lustre/cv/students/adignan/data/new/NGC4254/Jyperbeam_NGC4254_2asp_pca0_qm2_fitel_0f070-to-41f1Hz_1p0rr_M_dt20_map_iter1_editted.fits</td><td>/lustre/cv/students/adignan/data/new/NGC4254/ngc4254_e1_3GHz_r0.5_smoothed_ms.gbt_resmatched_regridded.fits</td><td>/lustre/cv/students/adignan/data/new/NGC4254/ngc4254_e1_15GHz_r0.5_smoothed_ms.gbt_resmatched_regridded.fits</td><td>/lustre/cv/students/adignan/data/new/NGC4254/ngc4254_e1_33GHz_r0.5_smoothed_ms.gbt_resmatched_regridded.fits</td><td>12 18 50.194</td><td>+14 24 18.6</td></tr>\n",
       "<tr><td>NGC4254Enuc.2a</td><td>10.6818</td><td>14.4</td><td>/lustre/cv/students/adignan/data/new/NGC4254/ngc4254_e2_3GHz_r0.5_smoothed_ms.pbcor.gbt_resmatched_regridded.fits</td><td>/lustre/cv/students/adignan/data/new/NGC4254/ngc4254_e2_15GHz_r0.5_smoothed_ms.pbcor.gbt_resmatched_regridded.fits</td><td>/lustre/cv/students/adignan/data/new/NGC4254/ngc4254_e2_33GHz_r0.5_smoothed_ms.pbcor.gbt_resmatched_regridded.fits</td><td>/lustre/cv/students/adignan/data/new/NGC4254/Jyperbeam_NGC4254_2asp_pca0_qm2_fitel_0f070-to-41f1Hz_1p0rr_M_dt20_map_iter1_editted.fits</td><td>/lustre/cv/students/adignan/data/new/NGC4254/ngc4254_e2_3GHz_r0.5_smoothed_ms.gbt_resmatched_regridded.fits</td><td>/lustre/cv/students/adignan/data/new/NGC4254/ngc4254_e2_15GHz_r0.5_smoothed_ms.gbt_resmatched_regridded.fits</td><td>/lustre/cv/students/adignan/data/new/NGC4254/ngc4254_e2_33GHz_r0.5_smoothed_ms.gbt_resmatched_regridded.fits</td><td>12 18 45.777</td><td>+14 24 10.4</td></tr>\n",
       "<tr><td>NGC4254Enuc.2b</td><td>10.6818</td><td>14.4</td><td>/lustre/cv/students/adignan/data/new/NGC4254/ngc4254_e2_3GHz_r0.5_smoothed_ms.pbcor.gbt_resmatched_regridded.fits</td><td>/lustre/cv/students/adignan/data/new/NGC4254/ngc4254_e2_15GHz_r0.5_smoothed_ms.pbcor.gbt_resmatched_regridded.fits</td><td>/lustre/cv/students/adignan/data/new/NGC4254/ngc4254_e2_33GHz_r0.5_smoothed_ms.pbcor.gbt_resmatched_regridded.fits</td><td>/lustre/cv/students/adignan/data/new/NGC4254/Jyperbeam_NGC4254_2asp_pca0_qm2_fitel_0f070-to-41f1Hz_1p0rr_M_dt20_map_iter1_editted.fits</td><td>/lustre/cv/students/adignan/data/new/NGC4254/ngc4254_e2_3GHz_r0.5_smoothed_ms.gbt_resmatched_regridded.fits</td><td>/lustre/cv/students/adignan/data/new/NGC4254/ngc4254_e2_15GHz_r0.5_smoothed_ms.gbt_resmatched_regridded.fits</td><td>/lustre/cv/students/adignan/data/new/NGC4254/ngc4254_e2_33GHz_r0.5_smoothed_ms.gbt_resmatched_regridded.fits</td><td>12 18 46.128</td><td>+14 24 18.8</td></tr>\n",
       "<tr><td>NGC4536</td><td>9.394271274</td><td>14.5</td><td>/lustre/cv/students/adignan/data/new/NGC4536/ngc4536_3GHz_r0.5_smoothed_ms.pbcor.gbt_resmatched_regridded.fits</td><td>/lustre/cv/students/adignan/data/new/NGC4536/ngc4536_15GHz_r0.5_smoothed_ms.pbcor.gbt_resmatched_regridded.fits</td><td>/lustre/cv/students/adignan/data/new/NGC4536/ngc4536_33GHz_r0.5_smoothed_ms.pbcor.gbt_resmatched_regridded.fits</td><td>/lustre/cv/students/adignan/data/new/NGC4536/Jyperbeam_NGC4536_2asp_pca0_qm2_fitel_0f070-to-41f0Hz_1p0rr_M_dt20_map_iter1_editted.fits</td><td>/lustre/cv/students/adignan/data/new/NGC4536/ngc4536_3GHz_r0.5_smoothed_ms.gbt_resmatched_regridded.fits</td><td>/lustre/cv/students/adignan/data/new/NGC4536/ngc4536_15GHz_r0.5_smoothed_ms.gbt_resmatched_regridded.fits</td><td>/lustre/cv/students/adignan/data/new/NGC4536/ngc4536_33GHz_r0.5_smoothed_ms.gbt_resmatched_regridded.fits</td><td>12 34 27.06</td><td>+02 11 18.2</td></tr>\n",
       "<tr><td>NGC4559a</td><td>10.53400104</td><td>6.98</td><td>/lustre/cv/students/adignan/data/new/NGC4559/ngc4559_3GHz_r0.5_smoothed_ms.pbcor.gbt_resmatched_regridded.fits</td><td>/lustre/cv/students/adignan/data/new/NGC4559/ngc4559_15GHz_r0.5_smoothed_ms.pbcor.gbt_resmatched_regridded.fits</td><td>/lustre/cv/students/adignan/data/new/NGC4559/ngc4559_33GHz_r0.5_smoothed_ms.pbcor.gbt_resmatched_regridded.fits</td><td>/lustre/cv/students/adignan/data/new/NGC4559/Jyperbeam_NGC4559_2asp_pca0_qm2_fitel_0f070-to-41f0Hz_1p0rr_M_dt20_map_iter1_editted.fits</td><td>/lustre/cv/students/adignan/data/new/NGC4559/ngc4559_3GHz_r0.5_smoothed_ms.gbt_resmatched_regridded.fits</td><td>/lustre/cv/students/adignan/data/new/NGC4559/ngc4559_15GHz_r0.5_smoothed_ms.gbt_resmatched_regridded.fits</td><td>/lustre/cv/students/adignan/data/new/NGC4559/ngc4559_33GHz_r0.5_smoothed_ms.gbt_resmatched_regridded.fits</td><td>12 35 56.273</td><td>+27 57 40.5</td></tr>\n",
       "<tr><td>...</td><td>...</td><td>...</td><td>...</td><td>...</td><td>...</td><td>...</td><td>...</td><td>...</td><td>...</td><td>...</td><td>...</td></tr>\n",
       "<tr><td>NGC5194a</td><td>9.46990354</td><td>7.62</td><td>/lustre/cv/students/adignan/data/new/NGC5194/ngc5194_3GHz_r0.5_smoothed_ms.pbcor.gbt_resmatched_regridded.fits</td><td>/lustre/cv/students/adignan/data/new/NGC5194/ngc5194_15GHz_r0.5_smoothed_ms.pbcor.gbt_resmatched_regridded.fits</td><td>/lustre/cv/students/adignan/data/new/NGC5194/ngc5194_33GHz_r0.5_smoothed_ms.pbcor.gbt_resmatched_regridded.fits</td><td>/lustre/cv/students/adignan/data/new/NGC5194/Jyperbeam_NGC5194_2asp_pca0_qm2_fitel_0f070-to-41f0Hz_1p0rr_M_dt20_map_iter1_editted.fits</td><td>/lustre/cv/students/adignan/data/new/NGC5194/ngc5194_3GHz_r0.5_smoothed_ms.gbt_resmatched_regridded.fits</td><td>/lustre/cv/students/adignan/data/new/NGC5194/ngc5194_15GHz_r0.5_smoothed_ms.gbt_resmatched_regridded.fits</td><td>/lustre/cv/students/adignan/data/new/NGC5194/ngc5194_33GHz_r0.5_smoothed_ms.gbt_resmatched_regridded.fits</td><td>13 29 55.791</td><td>+47 11 45.097</td></tr>\n",
       "<tr><td>NGC5194b</td><td>9.46990354</td><td>7.62</td><td>/lustre/cv/students/adignan/data/new/NGC5194/ngc5194_3GHz_r0.5_smoothed_ms.pbcor.gbt_resmatched_regridded.fits</td><td>/lustre/cv/students/adignan/data/new/NGC5194/ngc5194_15GHz_r0.5_smoothed_ms.pbcor.gbt_resmatched_regridded.fits</td><td>/lustre/cv/students/adignan/data/new/NGC5194/ngc5194_33GHz_r0.5_smoothed_ms.pbcor.gbt_resmatched_regridded.fits</td><td>/lustre/cv/students/adignan/data/new/NGC5194/Jyperbeam_NGC5194_2asp_pca0_qm2_fitel_0f070-to-41f0Hz_1p0rr_M_dt20_map_iter1_editted.fits</td><td>/lustre/cv/students/adignan/data/new/NGC5194/ngc5194_3GHz_r0.5_smoothed_ms.gbt_resmatched_regridded.fits</td><td>/lustre/cv/students/adignan/data/new/NGC5194/ngc5194_15GHz_r0.5_smoothed_ms.gbt_resmatched_regridded.fits</td><td>/lustre/cv/students/adignan/data/new/NGC5194/ngc5194_33GHz_r0.5_smoothed_ms.gbt_resmatched_regridded.fits</td><td>13 29 51.64</td><td>+47 12 06.7</td></tr>\n",
       "<tr><td>NGC5194c</td><td>9.46990354</td><td>7.62</td><td>/lustre/cv/students/adignan/data/new/NGC5194/ngc5194_3GHz_r0.5_smoothed_ms.pbcor.gbt_resmatched_regridded.fits</td><td>/lustre/cv/students/adignan/data/new/NGC5194/ngc5194_15GHz_r0.5_smoothed_ms.pbcor.gbt_resmatched_regridded.fits</td><td>/lustre/cv/students/adignan/data/new/NGC5194/ngc5194_33GHz_r0.5_smoothed_ms.pbcor.gbt_resmatched_regridded.fits</td><td>/lustre/cv/students/adignan/data/new/NGC5194/Jyperbeam_NGC5194_2asp_pca0_qm2_fitel_0f070-to-41f0Hz_1p0rr_M_dt20_map_iter1_editted.fits</td><td>/lustre/cv/students/adignan/data/new/NGC5194/ngc5194_3GHz_r0.5_smoothed_ms.gbt_resmatched_regridded.fits</td><td>/lustre/cv/students/adignan/data/new/NGC5194/ngc5194_15GHz_r0.5_smoothed_ms.gbt_resmatched_regridded.fits</td><td>/lustre/cv/students/adignan/data/new/NGC5194/ngc5194_33GHz_r0.5_smoothed_ms.gbt_resmatched_regridded.fits</td><td>13 29 50.022</td><td>+47 11 31.898</td></tr>\n",
       "<tr><td>NGC5194d</td><td>9.46990354</td><td>7.62</td><td>/lustre/cv/students/adignan/data/new/NGC5194/ngc5194_3GHz_r0.5_smoothed_ms.pbcor.gbt_resmatched_regridded.fits</td><td>/lustre/cv/students/adignan/data/new/NGC5194/ngc5194_15GHz_r0.5_smoothed_ms.pbcor.gbt_resmatched_regridded.fits</td><td>/lustre/cv/students/adignan/data/new/NGC5194/ngc5194_33GHz_r0.5_smoothed_ms.pbcor.gbt_resmatched_regridded.fits</td><td>/lustre/cv/students/adignan/data/new/NGC5194/Jyperbeam_NGC5194_2asp_pca0_qm2_fitel_0f070-to-41f0Hz_1p0rr_M_dt20_map_iter1_editted.fits</td><td>/lustre/cv/students/adignan/data/new/NGC5194/ngc5194_3GHz_r0.5_smoothed_ms.gbt_resmatched_regridded.fits</td><td>/lustre/cv/students/adignan/data/new/NGC5194/ngc5194_15GHz_r0.5_smoothed_ms.gbt_resmatched_regridded.fits</td><td>/lustre/cv/students/adignan/data/new/NGC5194/ngc5194_33GHz_r0.5_smoothed_ms.gbt_resmatched_regridded.fits</td><td>13 29 52.729</td><td>+47 11 40.6</td></tr>\n",
       "<tr><td>NGC5194e</td><td>9.46990354</td><td>7.62</td><td>/lustre/cv/students/adignan/data/new/NGC5194/ngc5194_3GHz_r0.5_smoothed_ms.pbcor.gbt_resmatched_regridded.fits</td><td>/lustre/cv/students/adignan/data/new/NGC5194/ngc5194_15GHz_r0.5_smoothed_ms.pbcor.gbt_resmatched_regridded.fits</td><td>/lustre/cv/students/adignan/data/new/NGC5194/ngc5194_33GHz_r0.5_smoothed_ms.pbcor.gbt_resmatched_regridded.fits</td><td>/lustre/cv/students/adignan/data/new/NGC5194/Jyperbeam_NGC5194_2asp_pca0_qm2_fitel_0f070-to-41f0Hz_1p0rr_M_dt20_map_iter1_editted.fits</td><td>/lustre/cv/students/adignan/data/new/NGC5194/ngc5194_3GHz_r0.5_smoothed_ms.gbt_resmatched_regridded.fits</td><td>/lustre/cv/students/adignan/data/new/NGC5194/ngc5194_15GHz_r0.5_smoothed_ms.gbt_resmatched_regridded.fits</td><td>/lustre/cv/students/adignan/data/new/NGC5194/ngc5194_33GHz_r0.5_smoothed_ms.gbt_resmatched_regridded.fits</td><td>13 29 52.553</td><td>+47 11 52.6</td></tr>\n",
       "<tr><td>NGC5474</td><td>9.635867502</td><td>6.8</td><td>/lustre/cv/students/adignan/data/new/NGC5474/ngc5474_3GHz_r0.5_smoothed_ms.pbcor.gbt_resmatched_regridded.fits</td><td>/lustre/cv/students/adignan/data/new/NGC5474/ngc5474_15GHz_r0.5_smoothed_ms.pbcor.gbt_resmatched_regridded.fits</td><td>/lustre/cv/students/adignan/data/new/NGC5474/ngc5474_33GHz_r0.5_smoothed_ms.pbcor.gbt_resmatched_regridded.fits</td><td>/lustre/cv/students/adignan/data/new/NGC5474/Jyperbeam_NGC5474_2asp_pca0_qm2_fitel_0f070-to-41f0Hz_1p0rr_M_dt20_map_iter1_editted.fits</td><td>/lustre/cv/students/adignan/data/new/NGC5474/ngc5474_3GHz_r0.5_smoothed_ms.gbt_resmatched_regridded.fits</td><td>/lustre/cv/students/adignan/data/new/NGC5474/ngc5474_15GHz_r0.5_smoothed_ms.gbt_resmatched_regridded.fits</td><td>/lustre/cv/students/adignan/data/new/NGC5474/ngc5474_33GHz_r0.5_smoothed_ms.gbt_resmatched_regridded.fits</td><td>14 05 01.3</td><td>+53 39 44</td></tr>\n",
       "<tr><td>NGC5713</td><td>10.31781615</td><td>21.4</td><td>/lustre/cv/students/adignan/data/new/NGC5713/ngc5713_3GHz_r0.5_smoothed_ms.pbcor.gbt_resmatched_regridded.fits</td><td>/lustre/cv/students/adignan/data/new/NGC5713/ngc5713_15GHz_r0.5_smoothed_ms.pbcor.gbt_resmatched_regridded.fits</td><td>/lustre/cv/students/adignan/data/new/NGC5713/ngc5713_33GHz_r0.5_smoothed_ms.pbcor.gbt_resmatched_regridded.fits</td><td>/lustre/cv/students/adignan/data/new/NGC5713/Jyperbeam_NGC5713_2asp_pca0_qm2_fitel_0f070-to-41f0Hz_1p0rr_M_dt20_map_iter1_editted.fits</td><td>/lustre/cv/students/adignan/data/new/NGC5713/ngc5713_3GHz_r0.5_smoothed_ms.gbt_resmatched_regridded.fits</td><td>/lustre/cv/students/adignan/data/new/NGC5713/ngc5713_15GHz_r0.5_smoothed_ms.gbt_resmatched_regridded.fits</td><td>/lustre/cv/students/adignan/data/new/NGC5713/ngc5713_33GHz_r0.5_smoothed_ms.gbt_resmatched_regridded.fits</td><td>14 40 11.3</td><td>-00 17 27</td></tr>\n",
       "<tr><td>NGC5713Enuc.1</td><td>10.31781615</td><td>21.4</td><td>/lustre/cv/students/adignan/data/new/NGC5713/ngc5713_e1_3GHz_r0.5_smoothed_ms.pbcor.gbt_resmatched_regridded.fits</td><td>/lustre/cv/students/adignan/data/new/NGC5713/ngc5713_e1_15GHz_r0.5_smoothed_ms.pbcor.gbt_resmatched_regridded.fits</td><td>/lustre/cv/students/adignan/data/new/NGC5713/ngc5713_e1_33GHz_r0.5_smoothed_ms.pbcor.gbt_resmatched_regridded.fits</td><td>/lustre/cv/students/adignan/data/new/NGC5713/Jyperbeam_NGC5713_2asp_pca0_qm2_fitel_0f070-to-41f0Hz_1p0rr_M_dt20_map_iter1_editted.fits</td><td>/lustre/cv/students/adignan/data/new/NGC5713/ngc5713_e1_3GHz_r0.5_smoothed_ms.gbt_resmatched_regridded.fits</td><td>/lustre/cv/students/adignan/data/new/NGC5713/ngc5713_e1_15GHz_r0.5_smoothed_ms.gbt_resmatched_regridded.fits</td><td>/lustre/cv/students/adignan/data/new/NGC5713/ngc5713_e1_33GHz_r0.5_smoothed_ms.gbt_resmatched_regridded.fits</td><td>14 40 11.36</td><td>-00 17 18.2</td></tr>\n",
       "<tr><td>NGC5713Enuc.2a</td><td>10.31781615</td><td>21.4</td><td>/lustre/cv/students/adignan/data/new/NGC5713/ngc5713_e2_3GHz_r0.5_smoothed_ms.pbcor.gbt_resmatched_regridded.fits</td><td>/lustre/cv/students/adignan/data/new/NGC5713/ngc5713_e2_15GHz_r0.5_smoothed_ms.pbcor.gbt_resmatched_regridded.fits</td><td>/lustre/cv/students/adignan/data/new/NGC5713/ngc5713_e2_33GHz_r0.5_smoothed_ms.pbcor.gbt_resmatched_regridded.fits</td><td>/lustre/cv/students/adignan/data/new/NGC5713/Jyperbeam_NGC5713_2asp_pca0_qm2_fitel_0f070-to-41f0Hz_1p0rr_M_dt20_map_iter1_editted.fits</td><td>/lustre/cv/students/adignan/data/new/NGC5713/ngc5713_e2_3GHz_r0.5_smoothed_ms.gbt_resmatched_regridded.fits</td><td>/lustre/cv/students/adignan/data/new/NGC5713/ngc5713_e2_15GHz_r0.5_smoothed_ms.gbt_resmatched_regridded.fits</td><td>/lustre/cv/students/adignan/data/new/NGC5713/ngc5713_e2_33GHz_r0.5_smoothed_ms.gbt_resmatched_regridded.fits</td><td>14 40 10.8</td><td>-00 17 35.5</td></tr>\n",
       "<tr><td>NGC5713Enuc.2b</td><td>10.31781615</td><td>21.4</td><td>/lustre/cv/students/adignan/data/new/NGC5713/ngc5713_e2_3GHz_r0.5_smoothed_ms.pbcor.gbt_resmatched_regridded.fits</td><td>/lustre/cv/students/adignan/data/new/NGC5713/ngc5713_e2_15GHz_r0.5_smoothed_ms.pbcor.gbt_resmatched_regridded.fits</td><td>/lustre/cv/students/adignan/data/new/NGC5713/ngc5713_e2_33GHz_r0.5_smoothed_ms.pbcor.gbt_resmatched_regridded.fits</td><td>/lustre/cv/students/adignan/data/new/NGC5713/Jyperbeam_NGC5713_2asp_pca0_qm2_fitel_0f070-to-41f0Hz_1p0rr_M_dt20_map_iter1_editted.fits</td><td>/lustre/cv/students/adignan/data/new/NGC5713/ngc5713_e2_3GHz_r0.5_smoothed_ms.gbt_resmatched_regridded.fits</td><td>/lustre/cv/students/adignan/data/new/NGC5713/ngc5713_e2_15GHz_r0.5_smoothed_ms.gbt_resmatched_regridded.fits</td><td>/lustre/cv/students/adignan/data/new/NGC5713/ngc5713_e2_33GHz_r0.5_smoothed_ms.gbt_resmatched_regridded.fits</td><td>14 40 10.86</td><td>-00 17 50.2</td></tr>\n",
       "</table></div>"
      ],
      "text/plain": [
       "<Table length=54>\n",
       "  Source ID        Beam    Distance ...   RA_J2000     Decl_J2000 \n",
       "    str15        float64   float64  ...    str12         str13    \n",
       "-------------- ----------- -------- ... ------------ -------------\n",
       "      NGC2146a 9.517044328     17.2 ... 06 18 43.427 +78 21 08.133\n",
       "      NGC2146b 9.517044328     17.2 ... 06 18 38.365 +78 21 21.464\n",
       "      NGC2146c 9.517044328     17.2 ... 06 18 33.773 +78 21 36.231\n",
       "NGC4254Enuc.1a     10.6818     14.4 ... 12 18 49.203   +14 23 57.9\n",
       "NGC4254Enuc.1b     10.6818     14.4 ... 12 18 50.009   +14 24 06.9\n",
       "NGC4254Enuc.1c     10.6818     14.4 ... 12 18 50.194   +14 24 18.6\n",
       "NGC4254Enuc.2a     10.6818     14.4 ... 12 18 45.777   +14 24 10.4\n",
       "NGC4254Enuc.2b     10.6818     14.4 ... 12 18 46.128   +14 24 18.8\n",
       "       NGC4536 9.394271274     14.5 ...  12 34 27.06   +02 11 18.2\n",
       "      NGC4559a 10.53400104     6.98 ... 12 35 56.273   +27 57 40.5\n",
       "           ...         ...      ... ...          ...           ...\n",
       "      NGC5194a  9.46990354     7.62 ... 13 29 55.791 +47 11 45.097\n",
       "      NGC5194b  9.46990354     7.62 ...  13 29 51.64   +47 12 06.7\n",
       "      NGC5194c  9.46990354     7.62 ... 13 29 50.022 +47 11 31.898\n",
       "      NGC5194d  9.46990354     7.62 ... 13 29 52.729   +47 11 40.6\n",
       "      NGC5194e  9.46990354     7.62 ... 13 29 52.553   +47 11 52.6\n",
       "       NGC5474 9.635867502      6.8 ...   14 05 01.3     +53 39 44\n",
       "       NGC5713 10.31781615     21.4 ...   14 40 11.3     -00 17 27\n",
       " NGC5713Enuc.1 10.31781615     21.4 ...  14 40 11.36   -00 17 18.2\n",
       "NGC5713Enuc.2a 10.31781615     21.4 ...   14 40 10.8   -00 17 35.5\n",
       "NGC5713Enuc.2b 10.31781615     21.4 ...  14 40 10.86   -00 17 50.2"
      ]
     },
     "execution_count": 28,
     "metadata": {},
     "output_type": "execute_result"
    }
   ],
   "source": [
    "tbl"
   ]
  },
  {
   "cell_type": "code",
   "execution_count": 29,
   "id": "2191c678",
   "metadata": {},
   "outputs": [
    {
     "name": "stdout",
     "output_type": "stream",
     "text": [
      "Working on NGC2146a\n",
      "INFO: Setting slices=[0, 0] [aplpy.core]\n",
      "/lustre/cv/students/adignan/data/new/NGC2146/ngc2146_3GHz_r0.5_smoothed_ms.pbcor.gbt_resmatched_regridded.fits\n",
      "INFO: Auto-setting vmin to -9.482e-03 [aplpy.core]\n",
      "INFO: Auto-setting vmax to  8.999e-02 [aplpy.core]\n"
     ]
    },
    {
     "name": "stderr",
     "output_type": "stream",
     "text": [
      "/users/adignan/anaconda3/lib/python3.11/site-packages/aplpy/overlays.py:256: UserWarning: Text labels do not have attribute linewidth. Skipping.\n",
      "  warnings.warn(\"Text labels do not have attribute {0}. Skipping.\".format(kwarg))\n"
     ]
    },
    {
     "name": "stdout",
     "output_type": "stream",
     "text": [
      "INFO: Setting slices=[0, 0] [aplpy.core]\n",
      "INFO: Auto-setting vmin to -9.824e-04 [aplpy.core]\n",
      "INFO: Auto-setting vmax to  4.257e-03 [aplpy.core]\n"
     ]
    },
    {
     "name": "stderr",
     "output_type": "stream",
     "text": [
      "/users/adignan/anaconda3/lib/python3.11/site-packages/aplpy/overlays.py:256: UserWarning: Text labels do not have attribute linewidth. Skipping.\n",
      "  warnings.warn(\"Text labels do not have attribute {0}. Skipping.\".format(kwarg))\n"
     ]
    },
    {
     "name": "stdout",
     "output_type": "stream",
     "text": [
      "INFO: Setting slices=[0, 0] [aplpy.core]\n",
      "INFO: Auto-setting vmin to -4.279e-03 [aplpy.core]\n",
      "INFO: Auto-setting vmax to  3.551e-02 [aplpy.core]\n"
     ]
    },
    {
     "name": "stderr",
     "output_type": "stream",
     "text": [
      "/users/adignan/anaconda3/lib/python3.11/site-packages/aplpy/overlays.py:256: UserWarning: Text labels do not have attribute linewidth. Skipping.\n",
      "  warnings.warn(\"Text labels do not have attribute {0}. Skipping.\".format(kwarg))\n"
     ]
    },
    {
     "name": "stdout",
     "output_type": "stream",
     "text": [
      "INFO: Setting slices=[0] [aplpy.core]\n",
      "INFO: Auto-setting vmin to -5.802e+00 [aplpy.core]\n",
      "INFO: Auto-setting vmax to  6.283e+00 [aplpy.core]\n"
     ]
    },
    {
     "name": "stderr",
     "output_type": "stream",
     "text": [
      "/users/adignan/anaconda3/lib/python3.11/site-packages/aplpy/overlays.py:256: UserWarning: Text labels do not have attribute linewidth. Skipping.\n",
      "  warnings.warn(\"Text labels do not have attribute {0}. Skipping.\".format(kwarg))\n"
     ]
    },
    {
     "name": "stdout",
     "output_type": "stream",
     "text": [
      "Working on NGC2146b\n",
      "INFO: Setting slices=[0, 0] [aplpy.core]\n",
      "/lustre/cv/students/adignan/data/new/NGC2146/ngc2146_3GHz_r0.5_smoothed_ms.pbcor.gbt_resmatched_regridded.fits\n",
      "INFO: Auto-setting vmin to -4.742e-03 [aplpy.core]\n",
      "INFO: Auto-setting vmax to  3.703e-02 [aplpy.core]\n"
     ]
    },
    {
     "name": "stderr",
     "output_type": "stream",
     "text": [
      "/users/adignan/anaconda3/lib/python3.11/site-packages/aplpy/overlays.py:256: UserWarning: Text labels do not have attribute linewidth. Skipping.\n",
      "  warnings.warn(\"Text labels do not have attribute {0}. Skipping.\".format(kwarg))\n"
     ]
    },
    {
     "name": "stdout",
     "output_type": "stream",
     "text": [
      "INFO: Setting slices=[0, 0] [aplpy.core]\n",
      "INFO: Auto-setting vmin to -1.270e-03 [aplpy.core]\n",
      "INFO: Auto-setting vmax to  8.184e-03 [aplpy.core]\n"
     ]
    },
    {
     "name": "stderr",
     "output_type": "stream",
     "text": [
      "/users/adignan/anaconda3/lib/python3.11/site-packages/aplpy/overlays.py:256: UserWarning: Text labels do not have attribute linewidth. Skipping.\n",
      "  warnings.warn(\"Text labels do not have attribute {0}. Skipping.\".format(kwarg))\n"
     ]
    },
    {
     "name": "stdout",
     "output_type": "stream",
     "text": [
      "INFO: Setting slices=[0, 0] [aplpy.core]\n",
      "INFO: Auto-setting vmin to -4.087e-03 [aplpy.core]\n",
      "INFO: Auto-setting vmax to  3.338e-02 [aplpy.core]\n"
     ]
    },
    {
     "name": "stderr",
     "output_type": "stream",
     "text": [
      "/users/adignan/anaconda3/lib/python3.11/site-packages/aplpy/overlays.py:256: UserWarning: Text labels do not have attribute linewidth. Skipping.\n",
      "  warnings.warn(\"Text labels do not have attribute {0}. Skipping.\".format(kwarg))\n"
     ]
    },
    {
     "name": "stdout",
     "output_type": "stream",
     "text": [
      "INFO: Setting slices=[0] [aplpy.core]\n",
      "INFO: Auto-setting vmin to -5.810e+00 [aplpy.core]\n",
      "INFO: Auto-setting vmax to  5.826e+00 [aplpy.core]\n"
     ]
    },
    {
     "name": "stderr",
     "output_type": "stream",
     "text": [
      "/users/adignan/anaconda3/lib/python3.11/site-packages/aplpy/overlays.py:256: UserWarning: Text labels do not have attribute linewidth. Skipping.\n",
      "  warnings.warn(\"Text labels do not have attribute {0}. Skipping.\".format(kwarg))\n"
     ]
    },
    {
     "name": "stdout",
     "output_type": "stream",
     "text": [
      "Working on NGC2146c\n",
      "INFO: Setting slices=[0, 0] [aplpy.core]\n",
      "/lustre/cv/students/adignan/data/new/NGC2146/ngc2146_3GHz_r0.5_smoothed_ms.pbcor.gbt_resmatched_regridded.fits\n",
      "INFO: Auto-setting vmin to -6.243e-03 [aplpy.core]\n",
      "INFO: Auto-setting vmax to  5.443e-02 [aplpy.core]\n"
     ]
    },
    {
     "name": "stderr",
     "output_type": "stream",
     "text": [
      "/users/adignan/anaconda3/lib/python3.11/site-packages/aplpy/overlays.py:256: UserWarning: Text labels do not have attribute linewidth. Skipping.\n",
      "  warnings.warn(\"Text labels do not have attribute {0}. Skipping.\".format(kwarg))\n"
     ]
    },
    {
     "name": "stdout",
     "output_type": "stream",
     "text": [
      "INFO: Setting slices=[0, 0] [aplpy.core]\n",
      "INFO: Auto-setting vmin to -9.803e-04 [aplpy.core]\n",
      "INFO: Auto-setting vmax to  5.764e-03 [aplpy.core]\n"
     ]
    },
    {
     "name": "stderr",
     "output_type": "stream",
     "text": [
      "/users/adignan/anaconda3/lib/python3.11/site-packages/aplpy/overlays.py:256: UserWarning: Text labels do not have attribute linewidth. Skipping.\n",
      "  warnings.warn(\"Text labels do not have attribute {0}. Skipping.\".format(kwarg))\n"
     ]
    },
    {
     "name": "stdout",
     "output_type": "stream",
     "text": [
      "INFO: Setting slices=[0, 0] [aplpy.core]\n",
      "INFO: Auto-setting vmin to -4.691e-03 [aplpy.core]\n",
      "INFO: Auto-setting vmax to  3.983e-02 [aplpy.core]\n"
     ]
    },
    {
     "name": "stderr",
     "output_type": "stream",
     "text": [
      "/users/adignan/anaconda3/lib/python3.11/site-packages/aplpy/overlays.py:256: UserWarning: Text labels do not have attribute linewidth. Skipping.\n",
      "  warnings.warn(\"Text labels do not have attribute {0}. Skipping.\".format(kwarg))\n"
     ]
    },
    {
     "name": "stdout",
     "output_type": "stream",
     "text": [
      "INFO: Setting slices=[0] [aplpy.core]\n",
      "INFO: Auto-setting vmin to -5.699e+00 [aplpy.core]\n",
      "INFO: Auto-setting vmax to  5.959e+00 [aplpy.core]\n"
     ]
    },
    {
     "name": "stderr",
     "output_type": "stream",
     "text": [
      "/users/adignan/anaconda3/lib/python3.11/site-packages/aplpy/overlays.py:256: UserWarning: Text labels do not have attribute linewidth. Skipping.\n",
      "  warnings.warn(\"Text labels do not have attribute {0}. Skipping.\".format(kwarg))\n"
     ]
    },
    {
     "name": "stdout",
     "output_type": "stream",
     "text": [
      "Working on NGC4254Enuc.1a\n",
      "INFO: Setting slices=[0, 0] [aplpy.core]\n",
      "/lustre/cv/students/adignan/data/new/NGC4254/ngc4254_e1_3GHz_r0.5_smoothed_ms.pbcor.gbt_resmatched_regridded.fits\n",
      "INFO: Auto-setting vmin to -4.154e-04 [aplpy.core]\n",
      "INFO: Auto-setting vmax to  7.197e-04 [aplpy.core]\n"
     ]
    },
    {
     "name": "stderr",
     "output_type": "stream",
     "text": [
      "/users/adignan/anaconda3/lib/python3.11/site-packages/aplpy/overlays.py:256: UserWarning: Text labels do not have attribute linewidth. Skipping.\n",
      "  warnings.warn(\"Text labels do not have attribute {0}. Skipping.\".format(kwarg))\n"
     ]
    },
    {
     "name": "stdout",
     "output_type": "stream",
     "text": [
      "INFO: Setting slices=[0, 0] [aplpy.core]\n",
      "INFO: Auto-setting vmin to -6.665e-04 [aplpy.core]\n",
      "INFO: Auto-setting vmax to  7.785e-04 [aplpy.core]\n"
     ]
    },
    {
     "name": "stderr",
     "output_type": "stream",
     "text": [
      "/users/adignan/anaconda3/lib/python3.11/site-packages/aplpy/overlays.py:256: UserWarning: Text labels do not have attribute linewidth. Skipping.\n",
      "  warnings.warn(\"Text labels do not have attribute {0}. Skipping.\".format(kwarg))\n"
     ]
    },
    {
     "name": "stdout",
     "output_type": "stream",
     "text": [
      "INFO: Setting slices=[0, 0] [aplpy.core]\n",
      "INFO: Auto-setting vmin to -4.279e-04 [aplpy.core]\n",
      "INFO: Auto-setting vmax to  4.843e-04 [aplpy.core]\n"
     ]
    },
    {
     "name": "stderr",
     "output_type": "stream",
     "text": [
      "/users/adignan/anaconda3/lib/python3.11/site-packages/aplpy/overlays.py:256: UserWarning: Text labels do not have attribute linewidth. Skipping.\n",
      "  warnings.warn(\"Text labels do not have attribute {0}. Skipping.\".format(kwarg))\n"
     ]
    },
    {
     "name": "stdout",
     "output_type": "stream",
     "text": [
      "INFO: Setting slices=[0] [aplpy.core]\n",
      "INFO: Auto-setting vmin to -1.013e+01 [aplpy.core]\n",
      "INFO: Auto-setting vmax to  1.117e+01 [aplpy.core]\n"
     ]
    },
    {
     "name": "stderr",
     "output_type": "stream",
     "text": [
      "/users/adignan/anaconda3/lib/python3.11/site-packages/aplpy/overlays.py:256: UserWarning: Text labels do not have attribute linewidth. Skipping.\n",
      "  warnings.warn(\"Text labels do not have attribute {0}. Skipping.\".format(kwarg))\n"
     ]
    },
    {
     "name": "stdout",
     "output_type": "stream",
     "text": [
      "Working on NGC4254Enuc.1b\n",
      "INFO: Setting slices=[0, 0] [aplpy.core]\n",
      "/lustre/cv/students/adignan/data/new/NGC4254/ngc4254_e1_3GHz_r0.5_smoothed_ms.pbcor.gbt_resmatched_regridded.fits\n",
      "INFO: Auto-setting vmin to -4.218e-04 [aplpy.core]\n",
      "INFO: Auto-setting vmax to  8.654e-04 [aplpy.core]\n"
     ]
    },
    {
     "name": "stderr",
     "output_type": "stream",
     "text": [
      "/users/adignan/anaconda3/lib/python3.11/site-packages/aplpy/overlays.py:256: UserWarning: Text labels do not have attribute linewidth. Skipping.\n",
      "  warnings.warn(\"Text labels do not have attribute {0}. Skipping.\".format(kwarg))\n"
     ]
    },
    {
     "name": "stdout",
     "output_type": "stream",
     "text": [
      "INFO: Setting slices=[0, 0] [aplpy.core]\n",
      "INFO: Auto-setting vmin to -6.040e-04 [aplpy.core]\n",
      "INFO: Auto-setting vmax to  6.551e-04 [aplpy.core]\n"
     ]
    },
    {
     "name": "stderr",
     "output_type": "stream",
     "text": [
      "/users/adignan/anaconda3/lib/python3.11/site-packages/aplpy/overlays.py:256: UserWarning: Text labels do not have attribute linewidth. Skipping.\n",
      "  warnings.warn(\"Text labels do not have attribute {0}. Skipping.\".format(kwarg))\n"
     ]
    },
    {
     "name": "stdout",
     "output_type": "stream",
     "text": [
      "INFO: Setting slices=[0, 0] [aplpy.core]\n",
      "INFO: Auto-setting vmin to -4.434e-04 [aplpy.core]\n",
      "INFO: Auto-setting vmax to  4.498e-04 [aplpy.core]\n"
     ]
    },
    {
     "name": "stderr",
     "output_type": "stream",
     "text": [
      "/users/adignan/anaconda3/lib/python3.11/site-packages/aplpy/overlays.py:256: UserWarning: Text labels do not have attribute linewidth. Skipping.\n",
      "  warnings.warn(\"Text labels do not have attribute {0}. Skipping.\".format(kwarg))\n"
     ]
    },
    {
     "name": "stdout",
     "output_type": "stream",
     "text": [
      "INFO: Setting slices=[0] [aplpy.core]\n",
      "INFO: Auto-setting vmin to -8.304e+00 [aplpy.core]\n",
      "INFO: Auto-setting vmax to  1.123e+01 [aplpy.core]\n"
     ]
    },
    {
     "name": "stderr",
     "output_type": "stream",
     "text": [
      "/users/adignan/anaconda3/lib/python3.11/site-packages/aplpy/overlays.py:256: UserWarning: Text labels do not have attribute linewidth. Skipping.\n",
      "  warnings.warn(\"Text labels do not have attribute {0}. Skipping.\".format(kwarg))\n"
     ]
    },
    {
     "name": "stdout",
     "output_type": "stream",
     "text": [
      "Working on NGC4254Enuc.1c\n",
      "INFO: Setting slices=[0, 0] [aplpy.core]\n",
      "/lustre/cv/students/adignan/data/new/NGC4254/ngc4254_e1_3GHz_r0.5_smoothed_ms.pbcor.gbt_resmatched_regridded.fits\n",
      "INFO: Auto-setting vmin to -4.086e-04 [aplpy.core]\n",
      "INFO: Auto-setting vmax to  7.595e-04 [aplpy.core]\n"
     ]
    },
    {
     "name": "stderr",
     "output_type": "stream",
     "text": [
      "/users/adignan/anaconda3/lib/python3.11/site-packages/aplpy/overlays.py:256: UserWarning: Text labels do not have attribute linewidth. Skipping.\n",
      "  warnings.warn(\"Text labels do not have attribute {0}. Skipping.\".format(kwarg))\n"
     ]
    },
    {
     "name": "stdout",
     "output_type": "stream",
     "text": [
      "INFO: Setting slices=[0, 0] [aplpy.core]\n",
      "INFO: Auto-setting vmin to -5.965e-04 [aplpy.core]\n",
      "INFO: Auto-setting vmax to  6.306e-04 [aplpy.core]\n"
     ]
    },
    {
     "name": "stderr",
     "output_type": "stream",
     "text": [
      "/users/adignan/anaconda3/lib/python3.11/site-packages/aplpy/overlays.py:256: UserWarning: Text labels do not have attribute linewidth. Skipping.\n",
      "  warnings.warn(\"Text labels do not have attribute {0}. Skipping.\".format(kwarg))\n"
     ]
    },
    {
     "name": "stdout",
     "output_type": "stream",
     "text": [
      "INFO: Setting slices=[0, 0] [aplpy.core]\n",
      "INFO: Auto-setting vmin to -4.719e-04 [aplpy.core]\n",
      "INFO: Auto-setting vmax to  5.490e-04 [aplpy.core]\n"
     ]
    },
    {
     "name": "stderr",
     "output_type": "stream",
     "text": [
      "/users/adignan/anaconda3/lib/python3.11/site-packages/aplpy/overlays.py:256: UserWarning: Text labels do not have attribute linewidth. Skipping.\n",
      "  warnings.warn(\"Text labels do not have attribute {0}. Skipping.\".format(kwarg))\n"
     ]
    },
    {
     "name": "stdout",
     "output_type": "stream",
     "text": [
      "INFO: Setting slices=[0] [aplpy.core]\n",
      "INFO: Auto-setting vmin to -8.564e+00 [aplpy.core]\n",
      "INFO: Auto-setting vmax to  1.105e+01 [aplpy.core]\n"
     ]
    },
    {
     "name": "stderr",
     "output_type": "stream",
     "text": [
      "/users/adignan/anaconda3/lib/python3.11/site-packages/aplpy/overlays.py:256: UserWarning: Text labels do not have attribute linewidth. Skipping.\n",
      "  warnings.warn(\"Text labels do not have attribute {0}. Skipping.\".format(kwarg))\n"
     ]
    },
    {
     "name": "stdout",
     "output_type": "stream",
     "text": [
      "Working on NGC4254Enuc.2a\n",
      "INFO: Setting slices=[0, 0] [aplpy.core]\n",
      "/lustre/cv/students/adignan/data/new/NGC4254/ngc4254_e2_3GHz_r0.5_smoothed_ms.pbcor.gbt_resmatched_regridded.fits\n",
      "INFO: Auto-setting vmin to -4.609e-04 [aplpy.core]\n",
      "INFO: Auto-setting vmax to  1.746e-03 [aplpy.core]\n"
     ]
    },
    {
     "name": "stderr",
     "output_type": "stream",
     "text": [
      "/users/adignan/anaconda3/lib/python3.11/site-packages/aplpy/overlays.py:256: UserWarning: Text labels do not have attribute linewidth. Skipping.\n",
      "  warnings.warn(\"Text labels do not have attribute {0}. Skipping.\".format(kwarg))\n"
     ]
    },
    {
     "name": "stdout",
     "output_type": "stream",
     "text": [
      "INFO: Setting slices=[0, 0] [aplpy.core]\n",
      "INFO: Auto-setting vmin to -8.861e-04 [aplpy.core]\n",
      "INFO: Auto-setting vmax to  9.622e-04 [aplpy.core]\n"
     ]
    },
    {
     "name": "stderr",
     "output_type": "stream",
     "text": [
      "/users/adignan/anaconda3/lib/python3.11/site-packages/aplpy/overlays.py:256: UserWarning: Text labels do not have attribute linewidth. Skipping.\n",
      "  warnings.warn(\"Text labels do not have attribute {0}. Skipping.\".format(kwarg))\n"
     ]
    },
    {
     "name": "stdout",
     "output_type": "stream",
     "text": [
      "INFO: Setting slices=[0, 0] [aplpy.core]\n",
      "INFO: Auto-setting vmin to -2.512e-04 [aplpy.core]\n",
      "INFO: Auto-setting vmax to  3.640e-04 [aplpy.core]\n"
     ]
    },
    {
     "name": "stderr",
     "output_type": "stream",
     "text": [
      "/users/adignan/anaconda3/lib/python3.11/site-packages/aplpy/overlays.py:256: UserWarning: Text labels do not have attribute linewidth. Skipping.\n",
      "  warnings.warn(\"Text labels do not have attribute {0}. Skipping.\".format(kwarg))\n"
     ]
    },
    {
     "name": "stdout",
     "output_type": "stream",
     "text": [
      "INFO: Setting slices=[0] [aplpy.core]\n",
      "INFO: Auto-setting vmin to -7.848e+00 [aplpy.core]\n",
      "INFO: Auto-setting vmax to  1.019e+01 [aplpy.core]\n"
     ]
    },
    {
     "name": "stderr",
     "output_type": "stream",
     "text": [
      "/users/adignan/anaconda3/lib/python3.11/site-packages/aplpy/overlays.py:256: UserWarning: Text labels do not have attribute linewidth. Skipping.\n",
      "  warnings.warn(\"Text labels do not have attribute {0}. Skipping.\".format(kwarg))\n"
     ]
    },
    {
     "name": "stdout",
     "output_type": "stream",
     "text": [
      "Working on NGC4254Enuc.2b\n",
      "INFO: Setting slices=[0, 0] [aplpy.core]\n",
      "/lustre/cv/students/adignan/data/new/NGC4254/ngc4254_e2_3GHz_r0.5_smoothed_ms.pbcor.gbt_resmatched_regridded.fits\n",
      "INFO: Auto-setting vmin to -4.914e-04 [aplpy.core]\n",
      "INFO: Auto-setting vmax to  2.029e-03 [aplpy.core]\n"
     ]
    },
    {
     "name": "stderr",
     "output_type": "stream",
     "text": [
      "/users/adignan/anaconda3/lib/python3.11/site-packages/aplpy/overlays.py:256: UserWarning: Text labels do not have attribute linewidth. Skipping.\n",
      "  warnings.warn(\"Text labels do not have attribute {0}. Skipping.\".format(kwarg))\n"
     ]
    },
    {
     "name": "stdout",
     "output_type": "stream",
     "text": [
      "INFO: Setting slices=[0, 0] [aplpy.core]\n",
      "INFO: Auto-setting vmin to -9.328e-04 [aplpy.core]\n",
      "INFO: Auto-setting vmax to  9.901e-04 [aplpy.core]\n"
     ]
    },
    {
     "name": "stderr",
     "output_type": "stream",
     "text": [
      "/users/adignan/anaconda3/lib/python3.11/site-packages/aplpy/overlays.py:256: UserWarning: Text labels do not have attribute linewidth. Skipping.\n",
      "  warnings.warn(\"Text labels do not have attribute {0}. Skipping.\".format(kwarg))\n"
     ]
    },
    {
     "name": "stdout",
     "output_type": "stream",
     "text": [
      "INFO: Setting slices=[0, 0] [aplpy.core]\n",
      "INFO: Auto-setting vmin to -2.248e-04 [aplpy.core]\n",
      "INFO: Auto-setting vmax to  3.527e-04 [aplpy.core]\n"
     ]
    },
    {
     "name": "stderr",
     "output_type": "stream",
     "text": [
      "/users/adignan/anaconda3/lib/python3.11/site-packages/aplpy/overlays.py:256: UserWarning: Text labels do not have attribute linewidth. Skipping.\n",
      "  warnings.warn(\"Text labels do not have attribute {0}. Skipping.\".format(kwarg))\n"
     ]
    },
    {
     "name": "stdout",
     "output_type": "stream",
     "text": [
      "INFO: Setting slices=[0] [aplpy.core]\n",
      "INFO: Auto-setting vmin to -7.763e+00 [aplpy.core]\n",
      "INFO: Auto-setting vmax to  9.320e+00 [aplpy.core]\n"
     ]
    },
    {
     "name": "stderr",
     "output_type": "stream",
     "text": [
      "/users/adignan/anaconda3/lib/python3.11/site-packages/aplpy/overlays.py:256: UserWarning: Text labels do not have attribute linewidth. Skipping.\n",
      "  warnings.warn(\"Text labels do not have attribute {0}. Skipping.\".format(kwarg))\n"
     ]
    },
    {
     "name": "stdout",
     "output_type": "stream",
     "text": [
      "Working on NGC4536\n",
      "INFO: Setting slices=[0, 0] [aplpy.core]\n",
      "/lustre/cv/students/adignan/data/new/NGC4536/ngc4536_3GHz_r0.5_smoothed_ms.pbcor.gbt_resmatched_regridded.fits\n",
      "INFO: Auto-setting vmin to -2.445e-03 [aplpy.core]\n",
      "INFO: Auto-setting vmax to  2.396e-02 [aplpy.core]\n"
     ]
    },
    {
     "name": "stderr",
     "output_type": "stream",
     "text": [
      "/users/adignan/anaconda3/lib/python3.11/site-packages/aplpy/overlays.py:256: UserWarning: Text labels do not have attribute linewidth. Skipping.\n",
      "  warnings.warn(\"Text labels do not have attribute {0}. Skipping.\".format(kwarg))\n"
     ]
    },
    {
     "name": "stdout",
     "output_type": "stream",
     "text": [
      "INFO: Setting slices=[0, 0] [aplpy.core]\n",
      "INFO: Auto-setting vmin to -1.471e-03 [aplpy.core]\n",
      "INFO: Auto-setting vmax to  1.197e-02 [aplpy.core]\n"
     ]
    },
    {
     "name": "stderr",
     "output_type": "stream",
     "text": [
      "/users/adignan/anaconda3/lib/python3.11/site-packages/aplpy/overlays.py:256: UserWarning: Text labels do not have attribute linewidth. Skipping.\n",
      "  warnings.warn(\"Text labels do not have attribute {0}. Skipping.\".format(kwarg))\n"
     ]
    },
    {
     "name": "stdout",
     "output_type": "stream",
     "text": [
      "INFO: Setting slices=[0, 0] [aplpy.core]\n",
      "INFO: Auto-setting vmin to -1.266e-03 [aplpy.core]\n",
      "INFO: Auto-setting vmax to  9.075e-03 [aplpy.core]\n"
     ]
    },
    {
     "name": "stderr",
     "output_type": "stream",
     "text": [
      "/users/adignan/anaconda3/lib/python3.11/site-packages/aplpy/overlays.py:256: UserWarning: Text labels do not have attribute linewidth. Skipping.\n",
      "  warnings.warn(\"Text labels do not have attribute {0}. Skipping.\".format(kwarg))\n"
     ]
    },
    {
     "name": "stdout",
     "output_type": "stream",
     "text": [
      "INFO: Setting slices=[0] [aplpy.core]\n",
      "INFO: Auto-setting vmin to -4.728e+00 [aplpy.core]\n",
      "INFO: Auto-setting vmax to  4.845e+00 [aplpy.core]\n"
     ]
    },
    {
     "name": "stderr",
     "output_type": "stream",
     "text": [
      "/users/adignan/anaconda3/lib/python3.11/site-packages/aplpy/overlays.py:256: UserWarning: Text labels do not have attribute linewidth. Skipping.\n",
      "  warnings.warn(\"Text labels do not have attribute {0}. Skipping.\".format(kwarg))\n"
     ]
    },
    {
     "name": "stdout",
     "output_type": "stream",
     "text": [
      "Working on NGC4559a\n",
      "INFO: Setting slices=[0, 0] [aplpy.core]\n",
      "/lustre/cv/students/adignan/data/new/NGC4559/ngc4559_3GHz_r0.5_smoothed_ms.pbcor.gbt_resmatched_regridded.fits\n",
      "INFO: Auto-setting vmin to -1.943e-04 [aplpy.core]\n",
      "INFO: Auto-setting vmax to  4.902e-04 [aplpy.core]\n"
     ]
    },
    {
     "name": "stderr",
     "output_type": "stream",
     "text": [
      "/users/adignan/anaconda3/lib/python3.11/site-packages/aplpy/overlays.py:256: UserWarning: Text labels do not have attribute linewidth. Skipping.\n",
      "  warnings.warn(\"Text labels do not have attribute {0}. Skipping.\".format(kwarg))\n"
     ]
    },
    {
     "name": "stdout",
     "output_type": "stream",
     "text": [
      "INFO: Setting slices=[0, 0] [aplpy.core]\n",
      "INFO: Auto-setting vmin to -5.726e-04 [aplpy.core]\n",
      "INFO: Auto-setting vmax to  6.998e-04 [aplpy.core]\n"
     ]
    },
    {
     "name": "stderr",
     "output_type": "stream",
     "text": [
      "/users/adignan/anaconda3/lib/python3.11/site-packages/aplpy/overlays.py:256: UserWarning: Text labels do not have attribute linewidth. Skipping.\n",
      "  warnings.warn(\"Text labels do not have attribute {0}. Skipping.\".format(kwarg))\n"
     ]
    },
    {
     "name": "stdout",
     "output_type": "stream",
     "text": [
      "INFO: Setting slices=[0, 0] [aplpy.core]\n",
      "INFO: Auto-setting vmin to -1.658e-04 [aplpy.core]\n",
      "INFO: Auto-setting vmax to  2.225e-04 [aplpy.core]\n"
     ]
    },
    {
     "name": "stderr",
     "output_type": "stream",
     "text": [
      "/users/adignan/anaconda3/lib/python3.11/site-packages/aplpy/overlays.py:256: UserWarning: Text labels do not have attribute linewidth. Skipping.\n",
      "  warnings.warn(\"Text labels do not have attribute {0}. Skipping.\".format(kwarg))\n"
     ]
    },
    {
     "name": "stdout",
     "output_type": "stream",
     "text": [
      "INFO: Setting slices=[0] [aplpy.core]\n",
      "INFO: Auto-setting vmin to -3.311e+00 [aplpy.core]\n",
      "INFO: Auto-setting vmax to  3.817e+00 [aplpy.core]\n"
     ]
    },
    {
     "name": "stderr",
     "output_type": "stream",
     "text": [
      "/users/adignan/anaconda3/lib/python3.11/site-packages/aplpy/overlays.py:256: UserWarning: Text labels do not have attribute linewidth. Skipping.\n",
      "  warnings.warn(\"Text labels do not have attribute {0}. Skipping.\".format(kwarg))\n"
     ]
    },
    {
     "name": "stdout",
     "output_type": "stream",
     "text": [
      "Working on NGC4559b\n",
      "INFO: Setting slices=[0, 0] [aplpy.core]\n",
      "/lustre/cv/students/adignan/data/new/NGC4559/ngc4559_3GHz_r0.5_smoothed_ms.pbcor.gbt_resmatched_regridded.fits\n",
      "INFO: Auto-setting vmin to -1.876e-04 [aplpy.core]\n",
      "INFO: Auto-setting vmax to  4.612e-04 [aplpy.core]\n"
     ]
    },
    {
     "name": "stderr",
     "output_type": "stream",
     "text": [
      "/users/adignan/anaconda3/lib/python3.11/site-packages/aplpy/overlays.py:256: UserWarning: Text labels do not have attribute linewidth. Skipping.\n",
      "  warnings.warn(\"Text labels do not have attribute {0}. Skipping.\".format(kwarg))\n"
     ]
    },
    {
     "name": "stdout",
     "output_type": "stream",
     "text": [
      "INFO: Setting slices=[0, 0] [aplpy.core]\n",
      "INFO: Auto-setting vmin to -6.722e-04 [aplpy.core]\n",
      "INFO: Auto-setting vmax to  5.449e-04 [aplpy.core]\n"
     ]
    },
    {
     "name": "stderr",
     "output_type": "stream",
     "text": [
      "/users/adignan/anaconda3/lib/python3.11/site-packages/aplpy/overlays.py:256: UserWarning: Text labels do not have attribute linewidth. Skipping.\n",
      "  warnings.warn(\"Text labels do not have attribute {0}. Skipping.\".format(kwarg))\n"
     ]
    },
    {
     "name": "stdout",
     "output_type": "stream",
     "text": [
      "INFO: Setting slices=[0, 0] [aplpy.core]\n",
      "INFO: Auto-setting vmin to -1.766e-04 [aplpy.core]\n",
      "INFO: Auto-setting vmax to  1.841e-04 [aplpy.core]\n"
     ]
    },
    {
     "name": "stderr",
     "output_type": "stream",
     "text": [
      "/users/adignan/anaconda3/lib/python3.11/site-packages/aplpy/overlays.py:256: UserWarning: Text labels do not have attribute linewidth. Skipping.\n",
      "  warnings.warn(\"Text labels do not have attribute {0}. Skipping.\".format(kwarg))\n"
     ]
    },
    {
     "name": "stdout",
     "output_type": "stream",
     "text": [
      "INFO: Setting slices=[0] [aplpy.core]\n",
      "INFO: Auto-setting vmin to -3.566e+00 [aplpy.core]\n",
      "INFO: Auto-setting vmax to  3.782e+00 [aplpy.core]\n"
     ]
    },
    {
     "name": "stderr",
     "output_type": "stream",
     "text": [
      "/users/adignan/anaconda3/lib/python3.11/site-packages/aplpy/overlays.py:256: UserWarning: Text labels do not have attribute linewidth. Skipping.\n",
      "  warnings.warn(\"Text labels do not have attribute {0}. Skipping.\".format(kwarg))\n"
     ]
    },
    {
     "name": "stdout",
     "output_type": "stream",
     "text": [
      "Working on NGC4559c\n",
      "INFO: Setting slices=[0, 0] [aplpy.core]\n",
      "/lustre/cv/students/adignan/data/new/NGC4559/ngc4559_3GHz_r0.5_smoothed_ms.pbcor.gbt_resmatched_regridded.fits\n",
      "INFO: Auto-setting vmin to -1.724e-04 [aplpy.core]\n",
      "INFO: Auto-setting vmax to  3.817e-04 [aplpy.core]\n"
     ]
    },
    {
     "name": "stderr",
     "output_type": "stream",
     "text": [
      "/users/adignan/anaconda3/lib/python3.11/site-packages/aplpy/overlays.py:256: UserWarning: Text labels do not have attribute linewidth. Skipping.\n",
      "  warnings.warn(\"Text labels do not have attribute {0}. Skipping.\".format(kwarg))\n"
     ]
    },
    {
     "name": "stdout",
     "output_type": "stream",
     "text": [
      "INFO: Setting slices=[0, 0] [aplpy.core]\n",
      "INFO: Auto-setting vmin to -6.808e-04 [aplpy.core]\n",
      "INFO: Auto-setting vmax to  5.184e-04 [aplpy.core]\n"
     ]
    },
    {
     "name": "stderr",
     "output_type": "stream",
     "text": [
      "/users/adignan/anaconda3/lib/python3.11/site-packages/aplpy/overlays.py:256: UserWarning: Text labels do not have attribute linewidth. Skipping.\n",
      "  warnings.warn(\"Text labels do not have attribute {0}. Skipping.\".format(kwarg))\n"
     ]
    },
    {
     "name": "stdout",
     "output_type": "stream",
     "text": [
      "INFO: Setting slices=[0, 0] [aplpy.core]\n",
      "INFO: Auto-setting vmin to -1.547e-04 [aplpy.core]\n",
      "INFO: Auto-setting vmax to  2.642e-04 [aplpy.core]\n"
     ]
    },
    {
     "name": "stderr",
     "output_type": "stream",
     "text": [
      "/users/adignan/anaconda3/lib/python3.11/site-packages/aplpy/overlays.py:256: UserWarning: Text labels do not have attribute linewidth. Skipping.\n",
      "  warnings.warn(\"Text labels do not have attribute {0}. Skipping.\".format(kwarg))\n"
     ]
    },
    {
     "name": "stdout",
     "output_type": "stream",
     "text": [
      "INFO: Setting slices=[0] [aplpy.core]\n",
      "INFO: Auto-setting vmin to -3.432e+00 [aplpy.core]\n",
      "INFO: Auto-setting vmax to  3.582e+00 [aplpy.core]\n"
     ]
    },
    {
     "name": "stderr",
     "output_type": "stream",
     "text": [
      "/users/adignan/anaconda3/lib/python3.11/site-packages/aplpy/overlays.py:256: UserWarning: Text labels do not have attribute linewidth. Skipping.\n",
      "  warnings.warn(\"Text labels do not have attribute {0}. Skipping.\".format(kwarg))\n"
     ]
    },
    {
     "name": "stdout",
     "output_type": "stream",
     "text": [
      "Working on NGC4625\n",
      "INFO: Setting slices=[0, 0] [aplpy.core]\n",
      "/lustre/cv/students/adignan/data/new/NGC4625/ngc4625_3GHz_r0.5_smoothed_ms.pbcor.gbt_resmatched_regridded.fits\n",
      "INFO: Auto-setting vmin to -1.659e-04 [aplpy.core]\n",
      "INFO: Auto-setting vmax to  3.858e-04 [aplpy.core]\n"
     ]
    },
    {
     "name": "stderr",
     "output_type": "stream",
     "text": [
      "/users/adignan/anaconda3/lib/python3.11/site-packages/aplpy/overlays.py:256: UserWarning: Text labels do not have attribute linewidth. Skipping.\n",
      "  warnings.warn(\"Text labels do not have attribute {0}. Skipping.\".format(kwarg))\n"
     ]
    },
    {
     "name": "stdout",
     "output_type": "stream",
     "text": [
      "INFO: Setting slices=[0, 0] [aplpy.core]\n",
      "INFO: Auto-setting vmin to -3.429e-04 [aplpy.core]\n",
      "INFO: Auto-setting vmax to  5.030e-04 [aplpy.core]\n"
     ]
    },
    {
     "name": "stderr",
     "output_type": "stream",
     "text": [
      "/users/adignan/anaconda3/lib/python3.11/site-packages/aplpy/overlays.py:256: UserWarning: Text labels do not have attribute linewidth. Skipping.\n",
      "  warnings.warn(\"Text labels do not have attribute {0}. Skipping.\".format(kwarg))\n"
     ]
    },
    {
     "name": "stdout",
     "output_type": "stream",
     "text": [
      "INFO: Setting slices=[0, 0] [aplpy.core]\n",
      "INFO: Auto-setting vmin to -1.396e-04 [aplpy.core]\n",
      "INFO: Auto-setting vmax to  3.142e-04 [aplpy.core]\n"
     ]
    },
    {
     "name": "stderr",
     "output_type": "stream",
     "text": [
      "/users/adignan/anaconda3/lib/python3.11/site-packages/aplpy/overlays.py:256: UserWarning: Text labels do not have attribute linewidth. Skipping.\n",
      "  warnings.warn(\"Text labels do not have attribute {0}. Skipping.\".format(kwarg))\n"
     ]
    },
    {
     "name": "stdout",
     "output_type": "stream",
     "text": [
      "INFO: Setting slices=[0] [aplpy.core]\n",
      "INFO: Auto-setting vmin to -5.308e+01 [aplpy.core]\n",
      "INFO: Auto-setting vmax to  5.181e+01 [aplpy.core]\n"
     ]
    },
    {
     "name": "stderr",
     "output_type": "stream",
     "text": [
      "/users/adignan/anaconda3/lib/python3.11/site-packages/aplpy/overlays.py:256: UserWarning: Text labels do not have attribute linewidth. Skipping.\n",
      "  warnings.warn(\"Text labels do not have attribute {0}. Skipping.\".format(kwarg))\n"
     ]
    },
    {
     "name": "stdout",
     "output_type": "stream",
     "text": [
      "Working on NGC4631Enuc.1\n",
      "INFO: Setting slices=[0, 0] [aplpy.core]\n",
      "/lustre/cv/students/adignan/data/new/NGC4631/ngc4631_e1_3GHz_r0.5_smoothed_ms.pbcor.gbt_resmatched_regridded.fits\n",
      "INFO: Auto-setting vmin to -4.807e-04 [aplpy.core]\n",
      "INFO: Auto-setting vmax to  6.176e-04 [aplpy.core]\n"
     ]
    },
    {
     "name": "stderr",
     "output_type": "stream",
     "text": [
      "/users/adignan/anaconda3/lib/python3.11/site-packages/aplpy/overlays.py:256: UserWarning: Text labels do not have attribute linewidth. Skipping.\n",
      "  warnings.warn(\"Text labels do not have attribute {0}. Skipping.\".format(kwarg))\n"
     ]
    },
    {
     "name": "stdout",
     "output_type": "stream",
     "text": [
      "INFO: Setting slices=[0, 0] [aplpy.core]\n",
      "INFO: Auto-setting vmin to -5.090e-04 [aplpy.core]\n",
      "INFO: Auto-setting vmax to  9.405e-04 [aplpy.core]\n"
     ]
    },
    {
     "name": "stderr",
     "output_type": "stream",
     "text": [
      "/users/adignan/anaconda3/lib/python3.11/site-packages/aplpy/overlays.py:256: UserWarning: Text labels do not have attribute linewidth. Skipping.\n",
      "  warnings.warn(\"Text labels do not have attribute {0}. Skipping.\".format(kwarg))\n"
     ]
    },
    {
     "name": "stdout",
     "output_type": "stream",
     "text": [
      "INFO: Setting slices=[0, 0] [aplpy.core]\n",
      "INFO: Auto-setting vmin to -1.633e-04 [aplpy.core]\n",
      "INFO: Auto-setting vmax to  2.319e-04 [aplpy.core]\n"
     ]
    },
    {
     "name": "stderr",
     "output_type": "stream",
     "text": [
      "/users/adignan/anaconda3/lib/python3.11/site-packages/aplpy/overlays.py:256: UserWarning: Text labels do not have attribute linewidth. Skipping.\n",
      "  warnings.warn(\"Text labels do not have attribute {0}. Skipping.\".format(kwarg))\n"
     ]
    },
    {
     "name": "stdout",
     "output_type": "stream",
     "text": [
      "INFO: Setting slices=[0] [aplpy.core]\n",
      "INFO: Auto-setting vmin to -8.545e+00 [aplpy.core]\n",
      "INFO: Auto-setting vmax to  8.760e+00 [aplpy.core]\n"
     ]
    },
    {
     "name": "stderr",
     "output_type": "stream",
     "text": [
      "/users/adignan/anaconda3/lib/python3.11/site-packages/aplpy/overlays.py:256: UserWarning: Text labels do not have attribute linewidth. Skipping.\n",
      "  warnings.warn(\"Text labels do not have attribute {0}. Skipping.\".format(kwarg))\n"
     ]
    },
    {
     "name": "stdout",
     "output_type": "stream",
     "text": [
      "Working on NGC4631Enuc.2b\n",
      "INFO: Setting slices=[0, 0] [aplpy.core]\n",
      "/lustre/cv/students/adignan/data/new/NGC4631/ngc4631_e2_3GHz_r0.5_smoothed_ms.pbcor.gbt_resmatched_regridded.fits\n",
      "INFO: Auto-setting vmin to -7.498e-04 [aplpy.core]\n",
      "INFO: Auto-setting vmax to  3.220e-03 [aplpy.core]\n"
     ]
    },
    {
     "name": "stderr",
     "output_type": "stream",
     "text": [
      "/users/adignan/anaconda3/lib/python3.11/site-packages/aplpy/overlays.py:256: UserWarning: Text labels do not have attribute linewidth. Skipping.\n",
      "  warnings.warn(\"Text labels do not have attribute {0}. Skipping.\".format(kwarg))\n"
     ]
    },
    {
     "name": "stdout",
     "output_type": "stream",
     "text": [
      "INFO: Setting slices=[0, 0] [aplpy.core]\n",
      "INFO: Auto-setting vmin to -6.484e-04 [aplpy.core]\n",
      "INFO: Auto-setting vmax to  1.098e-03 [aplpy.core]\n"
     ]
    },
    {
     "name": "stderr",
     "output_type": "stream",
     "text": [
      "/users/adignan/anaconda3/lib/python3.11/site-packages/aplpy/overlays.py:256: UserWarning: Text labels do not have attribute linewidth. Skipping.\n",
      "  warnings.warn(\"Text labels do not have attribute {0}. Skipping.\".format(kwarg))\n"
     ]
    },
    {
     "name": "stdout",
     "output_type": "stream",
     "text": [
      "INFO: Setting slices=[0, 0] [aplpy.core]\n",
      "INFO: Auto-setting vmin to -3.790e-04 [aplpy.core]\n",
      "INFO: Auto-setting vmax to  8.361e-04 [aplpy.core]\n"
     ]
    },
    {
     "name": "stderr",
     "output_type": "stream",
     "text": [
      "/users/adignan/anaconda3/lib/python3.11/site-packages/aplpy/overlays.py:256: UserWarning: Text labels do not have attribute linewidth. Skipping.\n",
      "  warnings.warn(\"Text labels do not have attribute {0}. Skipping.\".format(kwarg))\n"
     ]
    },
    {
     "name": "stdout",
     "output_type": "stream",
     "text": [
      "INFO: Setting slices=[0] [aplpy.core]\n",
      "INFO: Auto-setting vmin to -8.336e+00 [aplpy.core]\n",
      "INFO: Auto-setting vmax to  8.657e+00 [aplpy.core]\n"
     ]
    },
    {
     "name": "stderr",
     "output_type": "stream",
     "text": [
      "/users/adignan/anaconda3/lib/python3.11/site-packages/aplpy/overlays.py:256: UserWarning: Text labels do not have attribute linewidth. Skipping.\n",
      "  warnings.warn(\"Text labels do not have attribute {0}. Skipping.\".format(kwarg))\n"
     ]
    },
    {
     "name": "stdout",
     "output_type": "stream",
     "text": [
      "Working on NGC4631a\n",
      "INFO: Setting slices=[0, 0] [aplpy.core]\n",
      "/lustre/cv/students/adignan/data/new/NGC4631/ngc4631_3GHz_r0.5_smoothed_ms.pbcor.gbt_resmatched_regridded.fits\n",
      "INFO: Auto-setting vmin to -9.891e-04 [aplpy.core]\n",
      "INFO: Auto-setting vmax to  5.678e-03 [aplpy.core]\n"
     ]
    },
    {
     "name": "stderr",
     "output_type": "stream",
     "text": [
      "/users/adignan/anaconda3/lib/python3.11/site-packages/aplpy/overlays.py:256: UserWarning: Text labels do not have attribute linewidth. Skipping.\n",
      "  warnings.warn(\"Text labels do not have attribute {0}. Skipping.\".format(kwarg))\n"
     ]
    },
    {
     "name": "stdout",
     "output_type": "stream",
     "text": [
      "INFO: Setting slices=[0, 0] [aplpy.core]\n",
      "INFO: Auto-setting vmin to -1.081e-03 [aplpy.core]\n",
      "INFO: Auto-setting vmax to  2.800e-03 [aplpy.core]\n"
     ]
    },
    {
     "name": "stderr",
     "output_type": "stream",
     "text": [
      "/users/adignan/anaconda3/lib/python3.11/site-packages/aplpy/overlays.py:256: UserWarning: Text labels do not have attribute linewidth. Skipping.\n",
      "  warnings.warn(\"Text labels do not have attribute {0}. Skipping.\".format(kwarg))\n"
     ]
    },
    {
     "name": "stdout",
     "output_type": "stream",
     "text": [
      "INFO: Setting slices=[0, 0] [aplpy.core]\n",
      "INFO: Auto-setting vmin to -1.094e-03 [aplpy.core]\n",
      "INFO: Auto-setting vmax to  3.443e-03 [aplpy.core]\n"
     ]
    },
    {
     "name": "stderr",
     "output_type": "stream",
     "text": [
      "/users/adignan/anaconda3/lib/python3.11/site-packages/aplpy/overlays.py:256: UserWarning: Text labels do not have attribute linewidth. Skipping.\n",
      "  warnings.warn(\"Text labels do not have attribute {0}. Skipping.\".format(kwarg))\n"
     ]
    },
    {
     "name": "stdout",
     "output_type": "stream",
     "text": [
      "INFO: Setting slices=[0] [aplpy.core]\n",
      "INFO: Auto-setting vmin to -7.990e+00 [aplpy.core]\n",
      "INFO: Auto-setting vmax to  8.698e+00 [aplpy.core]\n"
     ]
    },
    {
     "name": "stderr",
     "output_type": "stream",
     "text": [
      "/users/adignan/anaconda3/lib/python3.11/site-packages/aplpy/overlays.py:256: UserWarning: Text labels do not have attribute linewidth. Skipping.\n",
      "  warnings.warn(\"Text labels do not have attribute {0}. Skipping.\".format(kwarg))\n"
     ]
    },
    {
     "name": "stdout",
     "output_type": "stream",
     "text": [
      "Working on NGC4631b\n",
      "INFO: Setting slices=[0, 0] [aplpy.core]\n",
      "/lustre/cv/students/adignan/data/new/NGC4631/ngc4631_3GHz_r0.5_smoothed_ms.pbcor.gbt_resmatched_regridded.fits\n",
      "INFO: Auto-setting vmin to -8.728e-04 [aplpy.core]\n",
      "INFO: Auto-setting vmax to  5.488e-03 [aplpy.core]\n"
     ]
    },
    {
     "name": "stderr",
     "output_type": "stream",
     "text": [
      "/users/adignan/anaconda3/lib/python3.11/site-packages/aplpy/overlays.py:256: UserWarning: Text labels do not have attribute linewidth. Skipping.\n",
      "  warnings.warn(\"Text labels do not have attribute {0}. Skipping.\".format(kwarg))\n"
     ]
    },
    {
     "name": "stdout",
     "output_type": "stream",
     "text": [
      "INFO: Setting slices=[0, 0] [aplpy.core]\n",
      "INFO: Auto-setting vmin to -1.078e-03 [aplpy.core]\n",
      "INFO: Auto-setting vmax to  3.158e-03 [aplpy.core]\n"
     ]
    },
    {
     "name": "stderr",
     "output_type": "stream",
     "text": [
      "/users/adignan/anaconda3/lib/python3.11/site-packages/aplpy/overlays.py:256: UserWarning: Text labels do not have attribute linewidth. Skipping.\n",
      "  warnings.warn(\"Text labels do not have attribute {0}. Skipping.\".format(kwarg))\n"
     ]
    },
    {
     "name": "stdout",
     "output_type": "stream",
     "text": [
      "INFO: Setting slices=[0, 0] [aplpy.core]\n",
      "INFO: Auto-setting vmin to -1.047e-03 [aplpy.core]\n",
      "INFO: Auto-setting vmax to  3.410e-03 [aplpy.core]\n"
     ]
    },
    {
     "name": "stderr",
     "output_type": "stream",
     "text": [
      "/users/adignan/anaconda3/lib/python3.11/site-packages/aplpy/overlays.py:256: UserWarning: Text labels do not have attribute linewidth. Skipping.\n",
      "  warnings.warn(\"Text labels do not have attribute {0}. Skipping.\".format(kwarg))\n"
     ]
    },
    {
     "name": "stdout",
     "output_type": "stream",
     "text": [
      "INFO: Setting slices=[0] [aplpy.core]\n",
      "INFO: Auto-setting vmin to -8.776e+00 [aplpy.core]\n",
      "INFO: Auto-setting vmax to  9.185e+00 [aplpy.core]\n"
     ]
    },
    {
     "name": "stderr",
     "output_type": "stream",
     "text": [
      "/users/adignan/anaconda3/lib/python3.11/site-packages/aplpy/overlays.py:256: UserWarning: Text labels do not have attribute linewidth. Skipping.\n",
      "  warnings.warn(\"Text labels do not have attribute {0}. Skipping.\".format(kwarg))\n"
     ]
    },
    {
     "name": "stdout",
     "output_type": "stream",
     "text": [
      "Working on NGC4631c\n",
      "INFO: Setting slices=[0, 0] [aplpy.core]\n",
      "/lustre/cv/students/adignan/data/new/NGC4631/ngc4631_3GHz_r0.5_smoothed_ms.pbcor.gbt_resmatched_regridded.fits\n",
      "INFO: Auto-setting vmin to -9.184e-04 [aplpy.core]\n",
      "INFO: Auto-setting vmax to  5.636e-03 [aplpy.core]\n"
     ]
    },
    {
     "name": "stderr",
     "output_type": "stream",
     "text": [
      "/users/adignan/anaconda3/lib/python3.11/site-packages/aplpy/overlays.py:256: UserWarning: Text labels do not have attribute linewidth. Skipping.\n",
      "  warnings.warn(\"Text labels do not have attribute {0}. Skipping.\".format(kwarg))\n"
     ]
    },
    {
     "name": "stdout",
     "output_type": "stream",
     "text": [
      "INFO: Setting slices=[0, 0] [aplpy.core]\n",
      "INFO: Auto-setting vmin to -1.247e-03 [aplpy.core]\n",
      "INFO: Auto-setting vmax to  3.555e-03 [aplpy.core]\n"
     ]
    },
    {
     "name": "stderr",
     "output_type": "stream",
     "text": [
      "/users/adignan/anaconda3/lib/python3.11/site-packages/aplpy/overlays.py:256: UserWarning: Text labels do not have attribute linewidth. Skipping.\n",
      "  warnings.warn(\"Text labels do not have attribute {0}. Skipping.\".format(kwarg))\n"
     ]
    },
    {
     "name": "stdout",
     "output_type": "stream",
     "text": [
      "INFO: Setting slices=[0, 0] [aplpy.core]\n",
      "INFO: Auto-setting vmin to -1.077e-03 [aplpy.core]\n",
      "INFO: Auto-setting vmax to  3.262e-03 [aplpy.core]\n"
     ]
    },
    {
     "name": "stderr",
     "output_type": "stream",
     "text": [
      "/users/adignan/anaconda3/lib/python3.11/site-packages/aplpy/overlays.py:256: UserWarning: Text labels do not have attribute linewidth. Skipping.\n",
      "  warnings.warn(\"Text labels do not have attribute {0}. Skipping.\".format(kwarg))\n"
     ]
    },
    {
     "name": "stdout",
     "output_type": "stream",
     "text": [
      "INFO: Setting slices=[0] [aplpy.core]\n",
      "INFO: Auto-setting vmin to -8.235e+00 [aplpy.core]\n",
      "INFO: Auto-setting vmax to  8.583e+00 [aplpy.core]\n"
     ]
    },
    {
     "name": "stderr",
     "output_type": "stream",
     "text": [
      "/users/adignan/anaconda3/lib/python3.11/site-packages/aplpy/overlays.py:256: UserWarning: Text labels do not have attribute linewidth. Skipping.\n",
      "  warnings.warn(\"Text labels do not have attribute {0}. Skipping.\".format(kwarg))\n"
     ]
    },
    {
     "name": "stdout",
     "output_type": "stream",
     "text": [
      "Working on NGC4631d\n",
      "INFO: Setting slices=[0, 0] [aplpy.core]\n",
      "/lustre/cv/students/adignan/data/new/NGC4631/ngc4631_3GHz_r0.5_smoothed_ms.pbcor.gbt_resmatched_regridded.fits\n",
      "INFO: Auto-setting vmin to -9.472e-04 [aplpy.core]\n",
      "INFO: Auto-setting vmax to  4.942e-03 [aplpy.core]\n"
     ]
    },
    {
     "name": "stderr",
     "output_type": "stream",
     "text": [
      "/users/adignan/anaconda3/lib/python3.11/site-packages/aplpy/overlays.py:256: UserWarning: Text labels do not have attribute linewidth. Skipping.\n",
      "  warnings.warn(\"Text labels do not have attribute {0}. Skipping.\".format(kwarg))\n"
     ]
    },
    {
     "name": "stdout",
     "output_type": "stream",
     "text": [
      "INFO: Setting slices=[0, 0] [aplpy.core]\n",
      "INFO: Auto-setting vmin to -1.211e-03 [aplpy.core]\n",
      "INFO: Auto-setting vmax to  3.848e-03 [aplpy.core]\n"
     ]
    },
    {
     "name": "stderr",
     "output_type": "stream",
     "text": [
      "/users/adignan/anaconda3/lib/python3.11/site-packages/aplpy/overlays.py:256: UserWarning: Text labels do not have attribute linewidth. Skipping.\n",
      "  warnings.warn(\"Text labels do not have attribute {0}. Skipping.\".format(kwarg))\n"
     ]
    },
    {
     "name": "stdout",
     "output_type": "stream",
     "text": [
      "INFO: Setting slices=[0, 0] [aplpy.core]\n",
      "INFO: Auto-setting vmin to -1.011e-03 [aplpy.core]\n",
      "INFO: Auto-setting vmax to  3.408e-03 [aplpy.core]\n"
     ]
    },
    {
     "name": "stderr",
     "output_type": "stream",
     "text": [
      "/users/adignan/anaconda3/lib/python3.11/site-packages/aplpy/overlays.py:256: UserWarning: Text labels do not have attribute linewidth. Skipping.\n",
      "  warnings.warn(\"Text labels do not have attribute {0}. Skipping.\".format(kwarg))\n"
     ]
    },
    {
     "name": "stdout",
     "output_type": "stream",
     "text": [
      "INFO: Setting slices=[0] [aplpy.core]\n",
      "INFO: Auto-setting vmin to -8.254e+00 [aplpy.core]\n",
      "INFO: Auto-setting vmax to  9.137e+00 [aplpy.core]\n"
     ]
    },
    {
     "name": "stderr",
     "output_type": "stream",
     "text": [
      "/users/adignan/anaconda3/lib/python3.11/site-packages/aplpy/overlays.py:256: UserWarning: Text labels do not have attribute linewidth. Skipping.\n",
      "  warnings.warn(\"Text labels do not have attribute {0}. Skipping.\".format(kwarg))\n"
     ]
    },
    {
     "name": "stdout",
     "output_type": "stream",
     "text": [
      "Working on NGC4631e\n",
      "INFO: Setting slices=[0, 0] [aplpy.core]\n",
      "/lustre/cv/students/adignan/data/new/NGC4631/ngc4631_3GHz_r0.5_smoothed_ms.pbcor.gbt_resmatched_regridded.fits\n",
      "INFO: Auto-setting vmin to -1.033e-03 [aplpy.core]\n",
      "INFO: Auto-setting vmax to  5.788e-03 [aplpy.core]\n"
     ]
    },
    {
     "name": "stderr",
     "output_type": "stream",
     "text": [
      "/users/adignan/anaconda3/lib/python3.11/site-packages/aplpy/overlays.py:256: UserWarning: Text labels do not have attribute linewidth. Skipping.\n",
      "  warnings.warn(\"Text labels do not have attribute {0}. Skipping.\".format(kwarg))\n"
     ]
    },
    {
     "name": "stdout",
     "output_type": "stream",
     "text": [
      "INFO: Setting slices=[0, 0] [aplpy.core]\n",
      "INFO: Auto-setting vmin to -1.185e-03 [aplpy.core]\n",
      "INFO: Auto-setting vmax to  2.653e-03 [aplpy.core]\n"
     ]
    },
    {
     "name": "stderr",
     "output_type": "stream",
     "text": [
      "/users/adignan/anaconda3/lib/python3.11/site-packages/aplpy/overlays.py:256: UserWarning: Text labels do not have attribute linewidth. Skipping.\n",
      "  warnings.warn(\"Text labels do not have attribute {0}. Skipping.\".format(kwarg))\n"
     ]
    },
    {
     "name": "stdout",
     "output_type": "stream",
     "text": [
      "INFO: Setting slices=[0, 0] [aplpy.core]\n",
      "INFO: Auto-setting vmin to -1.084e-03 [aplpy.core]\n",
      "INFO: Auto-setting vmax to  2.949e-03 [aplpy.core]\n"
     ]
    },
    {
     "name": "stderr",
     "output_type": "stream",
     "text": [
      "/users/adignan/anaconda3/lib/python3.11/site-packages/aplpy/overlays.py:256: UserWarning: Text labels do not have attribute linewidth. Skipping.\n",
      "  warnings.warn(\"Text labels do not have attribute {0}. Skipping.\".format(kwarg))\n"
     ]
    },
    {
     "name": "stdout",
     "output_type": "stream",
     "text": [
      "INFO: Setting slices=[0] [aplpy.core]\n",
      "INFO: Auto-setting vmin to -7.991e+00 [aplpy.core]\n",
      "INFO: Auto-setting vmax to  8.559e+00 [aplpy.core]\n"
     ]
    },
    {
     "name": "stderr",
     "output_type": "stream",
     "text": [
      "/users/adignan/anaconda3/lib/python3.11/site-packages/aplpy/overlays.py:256: UserWarning: Text labels do not have attribute linewidth. Skipping.\n",
      "  warnings.warn(\"Text labels do not have attribute {0}. Skipping.\".format(kwarg))\n"
     ]
    },
    {
     "name": "stdout",
     "output_type": "stream",
     "text": [
      "Working on NGC4725b\n",
      "INFO: Setting slices=[0, 0] [aplpy.core]\n",
      "/lustre/cv/students/adignan/data/new/NGC4725/ngc4725_3GHz_r0.5_smoothed_ms.pbcor.gbt_resmatched_regridded.fits\n",
      "INFO: Auto-setting vmin to -1.654e-04 [aplpy.core]\n",
      "INFO: Auto-setting vmax to  1.903e-04 [aplpy.core]\n"
     ]
    },
    {
     "name": "stderr",
     "output_type": "stream",
     "text": [
      "/users/adignan/anaconda3/lib/python3.11/site-packages/aplpy/overlays.py:256: UserWarning: Text labels do not have attribute linewidth. Skipping.\n",
      "  warnings.warn(\"Text labels do not have attribute {0}. Skipping.\".format(kwarg))\n"
     ]
    },
    {
     "name": "stdout",
     "output_type": "stream",
     "text": [
      "INFO: Setting slices=[0, 0] [aplpy.core]\n",
      "INFO: Auto-setting vmin to -3.441e-04 [aplpy.core]\n",
      "INFO: Auto-setting vmax to  3.755e-04 [aplpy.core]\n"
     ]
    },
    {
     "name": "stderr",
     "output_type": "stream",
     "text": [
      "/users/adignan/anaconda3/lib/python3.11/site-packages/aplpy/overlays.py:256: UserWarning: Text labels do not have attribute linewidth. Skipping.\n",
      "  warnings.warn(\"Text labels do not have attribute {0}. Skipping.\".format(kwarg))\n"
     ]
    },
    {
     "name": "stdout",
     "output_type": "stream",
     "text": [
      "INFO: Setting slices=[0, 0] [aplpy.core]\n",
      "INFO: Auto-setting vmin to -1.741e-04 [aplpy.core]\n",
      "INFO: Auto-setting vmax to  3.611e-04 [aplpy.core]\n"
     ]
    },
    {
     "name": "stderr",
     "output_type": "stream",
     "text": [
      "/users/adignan/anaconda3/lib/python3.11/site-packages/aplpy/overlays.py:256: UserWarning: Text labels do not have attribute linewidth. Skipping.\n",
      "  warnings.warn(\"Text labels do not have attribute {0}. Skipping.\".format(kwarg))\n"
     ]
    },
    {
     "name": "stdout",
     "output_type": "stream",
     "text": [
      "INFO: Setting slices=[0] [aplpy.core]\n",
      "INFO: Auto-setting vmin to -2.410e+00 [aplpy.core]\n",
      "INFO: Auto-setting vmax to  2.490e+00 [aplpy.core]\n"
     ]
    },
    {
     "name": "stderr",
     "output_type": "stream",
     "text": [
      "/users/adignan/anaconda3/lib/python3.11/site-packages/aplpy/overlays.py:256: UserWarning: Text labels do not have attribute linewidth. Skipping.\n",
      "  warnings.warn(\"Text labels do not have attribute {0}. Skipping.\".format(kwarg))\n"
     ]
    },
    {
     "name": "stdout",
     "output_type": "stream",
     "text": [
      "Working on NGC5194Enuc.10a\n",
      "INFO: Setting slices=[0, 0] [aplpy.core]\n",
      "/lustre/cv/students/adignan/data/new/NGC5194/ngc5194_e10_3GHz_r0.5_smoothed_ms.pbcor.gbt_resmatched_regridded.fits\n",
      "INFO: Auto-setting vmin to -9.726e-04 [aplpy.core]\n",
      "INFO: Auto-setting vmax to  4.978e-03 [aplpy.core]\n"
     ]
    },
    {
     "name": "stderr",
     "output_type": "stream",
     "text": [
      "/users/adignan/anaconda3/lib/python3.11/site-packages/aplpy/overlays.py:256: UserWarning: Text labels do not have attribute linewidth. Skipping.\n",
      "  warnings.warn(\"Text labels do not have attribute {0}. Skipping.\".format(kwarg))\n"
     ]
    },
    {
     "name": "stdout",
     "output_type": "stream",
     "text": [
      "INFO: Setting slices=[0, 0] [aplpy.core]\n",
      "INFO: Auto-setting vmin to -5.951e-04 [aplpy.core]\n",
      "INFO: Auto-setting vmax to  2.942e-03 [aplpy.core]\n"
     ]
    },
    {
     "name": "stderr",
     "output_type": "stream",
     "text": [
      "/users/adignan/anaconda3/lib/python3.11/site-packages/aplpy/overlays.py:256: UserWarning: Text labels do not have attribute linewidth. Skipping.\n",
      "  warnings.warn(\"Text labels do not have attribute {0}. Skipping.\".format(kwarg))\n"
     ]
    },
    {
     "name": "stdout",
     "output_type": "stream",
     "text": [
      "INFO: Setting slices=[0, 0] [aplpy.core]\n",
      "INFO: Auto-setting vmin to -3.724e-04 [aplpy.core]\n",
      "INFO: Auto-setting vmax to  5.972e-04 [aplpy.core]\n"
     ]
    },
    {
     "name": "stderr",
     "output_type": "stream",
     "text": [
      "/users/adignan/anaconda3/lib/python3.11/site-packages/aplpy/overlays.py:256: UserWarning: Text labels do not have attribute linewidth. Skipping.\n",
      "  warnings.warn(\"Text labels do not have attribute {0}. Skipping.\".format(kwarg))\n"
     ]
    },
    {
     "name": "stdout",
     "output_type": "stream",
     "text": [
      "INFO: Setting slices=[0] [aplpy.core]\n",
      "INFO: Auto-setting vmin to -3.291e+00 [aplpy.core]\n",
      "INFO: Auto-setting vmax to  2.325e+00 [aplpy.core]\n"
     ]
    },
    {
     "name": "stderr",
     "output_type": "stream",
     "text": [
      "/users/adignan/anaconda3/lib/python3.11/site-packages/aplpy/overlays.py:256: UserWarning: Text labels do not have attribute linewidth. Skipping.\n",
      "  warnings.warn(\"Text labels do not have attribute {0}. Skipping.\".format(kwarg))\n"
     ]
    },
    {
     "name": "stdout",
     "output_type": "stream",
     "text": [
      "Working on NGC5194Enuc.10b\n",
      "INFO: Setting slices=[0, 0] [aplpy.core]\n",
      "/lustre/cv/students/adignan/data/new/NGC5194/ngc5194_e10_3GHz_r0.5_smoothed_ms.pbcor.gbt_resmatched_regridded.fits\n",
      "INFO: Auto-setting vmin to -1.101e-03 [aplpy.core]\n",
      "INFO: Auto-setting vmax to  5.817e-03 [aplpy.core]\n"
     ]
    },
    {
     "name": "stderr",
     "output_type": "stream",
     "text": [
      "/users/adignan/anaconda3/lib/python3.11/site-packages/aplpy/overlays.py:256: UserWarning: Text labels do not have attribute linewidth. Skipping.\n",
      "  warnings.warn(\"Text labels do not have attribute {0}. Skipping.\".format(kwarg))\n"
     ]
    },
    {
     "name": "stdout",
     "output_type": "stream",
     "text": [
      "INFO: Setting slices=[0, 0] [aplpy.core]\n",
      "INFO: Auto-setting vmin to -5.498e-04 [aplpy.core]\n",
      "INFO: Auto-setting vmax to  2.600e-03 [aplpy.core]\n"
     ]
    },
    {
     "name": "stderr",
     "output_type": "stream",
     "text": [
      "/users/adignan/anaconda3/lib/python3.11/site-packages/aplpy/overlays.py:256: UserWarning: Text labels do not have attribute linewidth. Skipping.\n",
      "  warnings.warn(\"Text labels do not have attribute {0}. Skipping.\".format(kwarg))\n"
     ]
    },
    {
     "name": "stdout",
     "output_type": "stream",
     "text": [
      "INFO: Setting slices=[0, 0] [aplpy.core]\n",
      "INFO: Auto-setting vmin to -3.901e-04 [aplpy.core]\n",
      "INFO: Auto-setting vmax to  6.158e-04 [aplpy.core]\n"
     ]
    },
    {
     "name": "stderr",
     "output_type": "stream",
     "text": [
      "/users/adignan/anaconda3/lib/python3.11/site-packages/aplpy/overlays.py:256: UserWarning: Text labels do not have attribute linewidth. Skipping.\n",
      "  warnings.warn(\"Text labels do not have attribute {0}. Skipping.\".format(kwarg))\n"
     ]
    },
    {
     "name": "stdout",
     "output_type": "stream",
     "text": [
      "INFO: Setting slices=[0] [aplpy.core]\n",
      "INFO: Auto-setting vmin to -2.950e+00 [aplpy.core]\n",
      "INFO: Auto-setting vmax to  2.242e+00 [aplpy.core]\n"
     ]
    },
    {
     "name": "stderr",
     "output_type": "stream",
     "text": [
      "/users/adignan/anaconda3/lib/python3.11/site-packages/aplpy/overlays.py:256: UserWarning: Text labels do not have attribute linewidth. Skipping.\n",
      "  warnings.warn(\"Text labels do not have attribute {0}. Skipping.\".format(kwarg))\n"
     ]
    },
    {
     "name": "stdout",
     "output_type": "stream",
     "text": [
      "Working on NGC5194Enuc.11a\n",
      "INFO: Setting slices=[0, 0] [aplpy.core]\n",
      "/lustre/cv/students/adignan/data/new/NGC5194/ngc5194_e11_3GHz_r0.5_smoothed_ms.pbcor.gbt_resmatched_regridded.fits\n",
      "INFO: Auto-setting vmin to -1.306e-03 [aplpy.core]\n",
      "INFO: Auto-setting vmax to  9.683e-03 [aplpy.core]\n"
     ]
    },
    {
     "name": "stderr",
     "output_type": "stream",
     "text": [
      "/users/adignan/anaconda3/lib/python3.11/site-packages/aplpy/overlays.py:256: UserWarning: Text labels do not have attribute linewidth. Skipping.\n",
      "  warnings.warn(\"Text labels do not have attribute {0}. Skipping.\".format(kwarg))\n"
     ]
    },
    {
     "name": "stdout",
     "output_type": "stream",
     "text": [
      "INFO: Setting slices=[0, 0] [aplpy.core]\n",
      "INFO: Auto-setting vmin to -1.217e-03 [aplpy.core]\n",
      "INFO: Auto-setting vmax to  1.595e-03 [aplpy.core]\n"
     ]
    },
    {
     "name": "stderr",
     "output_type": "stream",
     "text": [
      "/users/adignan/anaconda3/lib/python3.11/site-packages/aplpy/overlays.py:256: UserWarning: Text labels do not have attribute linewidth. Skipping.\n",
      "  warnings.warn(\"Text labels do not have attribute {0}. Skipping.\".format(kwarg))\n"
     ]
    },
    {
     "name": "stdout",
     "output_type": "stream",
     "text": [
      "INFO: Setting slices=[0, 0] [aplpy.core]\n",
      "INFO: Auto-setting vmin to -2.445e-04 [aplpy.core]\n",
      "INFO: Auto-setting vmax to  3.267e-04 [aplpy.core]\n"
     ]
    },
    {
     "name": "stderr",
     "output_type": "stream",
     "text": [
      "/users/adignan/anaconda3/lib/python3.11/site-packages/aplpy/overlays.py:256: UserWarning: Text labels do not have attribute linewidth. Skipping.\n",
      "  warnings.warn(\"Text labels do not have attribute {0}. Skipping.\".format(kwarg))\n"
     ]
    },
    {
     "name": "stdout",
     "output_type": "stream",
     "text": [
      "INFO: Setting slices=[0] [aplpy.core]\n",
      "INFO: Auto-setting vmin to -2.860e+00 [aplpy.core]\n",
      "INFO: Auto-setting vmax to  2.392e+00 [aplpy.core]\n"
     ]
    },
    {
     "name": "stderr",
     "output_type": "stream",
     "text": [
      "/users/adignan/anaconda3/lib/python3.11/site-packages/aplpy/overlays.py:256: UserWarning: Text labels do not have attribute linewidth. Skipping.\n",
      "  warnings.warn(\"Text labels do not have attribute {0}. Skipping.\".format(kwarg))\n"
     ]
    },
    {
     "name": "stdout",
     "output_type": "stream",
     "text": [
      "Working on NGC5194Enuc.11b\n",
      "INFO: Setting slices=[0, 0] [aplpy.core]\n",
      "/lustre/cv/students/adignan/data/new/NGC5194/ngc5194_e11_3GHz_r0.5_smoothed_ms.pbcor.gbt_resmatched_regridded.fits\n",
      "INFO: Auto-setting vmin to -9.395e-04 [aplpy.core]\n",
      "INFO: Auto-setting vmax to  4.052e-03 [aplpy.core]\n"
     ]
    },
    {
     "name": "stderr",
     "output_type": "stream",
     "text": [
      "/users/adignan/anaconda3/lib/python3.11/site-packages/aplpy/overlays.py:256: UserWarning: Text labels do not have attribute linewidth. Skipping.\n",
      "  warnings.warn(\"Text labels do not have attribute {0}. Skipping.\".format(kwarg))\n"
     ]
    },
    {
     "name": "stdout",
     "output_type": "stream",
     "text": [
      "INFO: Setting slices=[0, 0] [aplpy.core]\n",
      "INFO: Auto-setting vmin to -1.038e-03 [aplpy.core]\n",
      "INFO: Auto-setting vmax to  1.781e-03 [aplpy.core]\n"
     ]
    },
    {
     "name": "stderr",
     "output_type": "stream",
     "text": [
      "/users/adignan/anaconda3/lib/python3.11/site-packages/aplpy/overlays.py:256: UserWarning: Text labels do not have attribute linewidth. Skipping.\n",
      "  warnings.warn(\"Text labels do not have attribute {0}. Skipping.\".format(kwarg))\n"
     ]
    },
    {
     "name": "stdout",
     "output_type": "stream",
     "text": [
      "INFO: Setting slices=[0, 0] [aplpy.core]\n",
      "INFO: Auto-setting vmin to -2.681e-04 [aplpy.core]\n",
      "INFO: Auto-setting vmax to  3.395e-04 [aplpy.core]\n"
     ]
    },
    {
     "name": "stderr",
     "output_type": "stream",
     "text": [
      "/users/adignan/anaconda3/lib/python3.11/site-packages/aplpy/overlays.py:256: UserWarning: Text labels do not have attribute linewidth. Skipping.\n",
      "  warnings.warn(\"Text labels do not have attribute {0}. Skipping.\".format(kwarg))\n"
     ]
    },
    {
     "name": "stdout",
     "output_type": "stream",
     "text": [
      "INFO: Setting slices=[0] [aplpy.core]\n",
      "INFO: Auto-setting vmin to -2.547e+00 [aplpy.core]\n",
      "INFO: Auto-setting vmax to  2.228e+00 [aplpy.core]\n"
     ]
    },
    {
     "name": "stderr",
     "output_type": "stream",
     "text": [
      "/users/adignan/anaconda3/lib/python3.11/site-packages/aplpy/overlays.py:256: UserWarning: Text labels do not have attribute linewidth. Skipping.\n",
      "  warnings.warn(\"Text labels do not have attribute {0}. Skipping.\".format(kwarg))\n"
     ]
    },
    {
     "name": "stdout",
     "output_type": "stream",
     "text": [
      "Working on NGC5194Enuc.11c\n",
      "INFO: Setting slices=[0, 0] [aplpy.core]\n",
      "/lustre/cv/students/adignan/data/new/NGC5194/ngc5194_e11_3GHz_r0.5_smoothed_ms.pbcor.gbt_resmatched_regridded.fits\n",
      "INFO: Auto-setting vmin to -9.179e-04 [aplpy.core]\n",
      "INFO: Auto-setting vmax to  4.727e-03 [aplpy.core]\n"
     ]
    },
    {
     "name": "stderr",
     "output_type": "stream",
     "text": [
      "/users/adignan/anaconda3/lib/python3.11/site-packages/aplpy/overlays.py:256: UserWarning: Text labels do not have attribute linewidth. Skipping.\n",
      "  warnings.warn(\"Text labels do not have attribute {0}. Skipping.\".format(kwarg))\n"
     ]
    },
    {
     "name": "stdout",
     "output_type": "stream",
     "text": [
      "INFO: Setting slices=[0, 0] [aplpy.core]\n",
      "INFO: Auto-setting vmin to -9.537e-04 [aplpy.core]\n",
      "INFO: Auto-setting vmax to  1.792e-03 [aplpy.core]\n"
     ]
    },
    {
     "name": "stderr",
     "output_type": "stream",
     "text": [
      "/users/adignan/anaconda3/lib/python3.11/site-packages/aplpy/overlays.py:256: UserWarning: Text labels do not have attribute linewidth. Skipping.\n",
      "  warnings.warn(\"Text labels do not have attribute {0}. Skipping.\".format(kwarg))\n"
     ]
    },
    {
     "name": "stdout",
     "output_type": "stream",
     "text": [
      "INFO: Setting slices=[0, 0] [aplpy.core]\n",
      "INFO: Auto-setting vmin to -2.804e-04 [aplpy.core]\n",
      "INFO: Auto-setting vmax to  3.125e-04 [aplpy.core]\n"
     ]
    },
    {
     "name": "stderr",
     "output_type": "stream",
     "text": [
      "/users/adignan/anaconda3/lib/python3.11/site-packages/aplpy/overlays.py:256: UserWarning: Text labels do not have attribute linewidth. Skipping.\n",
      "  warnings.warn(\"Text labels do not have attribute {0}. Skipping.\".format(kwarg))\n"
     ]
    },
    {
     "name": "stdout",
     "output_type": "stream",
     "text": [
      "INFO: Setting slices=[0] [aplpy.core]\n",
      "INFO: Auto-setting vmin to -2.810e+00 [aplpy.core]\n",
      "INFO: Auto-setting vmax to  2.438e+00 [aplpy.core]\n"
     ]
    },
    {
     "name": "stderr",
     "output_type": "stream",
     "text": [
      "/users/adignan/anaconda3/lib/python3.11/site-packages/aplpy/overlays.py:256: UserWarning: Text labels do not have attribute linewidth. Skipping.\n",
      "  warnings.warn(\"Text labels do not have attribute {0}. Skipping.\".format(kwarg))\n"
     ]
    },
    {
     "name": "stdout",
     "output_type": "stream",
     "text": [
      "Working on NGC5194Enuc.11d\n",
      "INFO: Setting slices=[0, 0] [aplpy.core]\n",
      "/lustre/cv/students/adignan/data/new/NGC5194/ngc5194_e11_3GHz_r0.5_smoothed_ms.pbcor.gbt_resmatched_regridded.fits\n",
      "INFO: Auto-setting vmin to -9.362e-04 [aplpy.core]\n",
      "INFO: Auto-setting vmax to  4.713e-03 [aplpy.core]\n"
     ]
    },
    {
     "name": "stderr",
     "output_type": "stream",
     "text": [
      "/users/adignan/anaconda3/lib/python3.11/site-packages/aplpy/overlays.py:256: UserWarning: Text labels do not have attribute linewidth. Skipping.\n",
      "  warnings.warn(\"Text labels do not have attribute {0}. Skipping.\".format(kwarg))\n"
     ]
    },
    {
     "name": "stdout",
     "output_type": "stream",
     "text": [
      "INFO: Setting slices=[0, 0] [aplpy.core]\n",
      "INFO: Auto-setting vmin to -1.073e-03 [aplpy.core]\n",
      "INFO: Auto-setting vmax to  1.340e-03 [aplpy.core]\n"
     ]
    },
    {
     "name": "stderr",
     "output_type": "stream",
     "text": [
      "/users/adignan/anaconda3/lib/python3.11/site-packages/aplpy/overlays.py:256: UserWarning: Text labels do not have attribute linewidth. Skipping.\n",
      "  warnings.warn(\"Text labels do not have attribute {0}. Skipping.\".format(kwarg))\n"
     ]
    },
    {
     "name": "stdout",
     "output_type": "stream",
     "text": [
      "INFO: Setting slices=[0, 0] [aplpy.core]\n",
      "INFO: Auto-setting vmin to -2.287e-04 [aplpy.core]\n",
      "INFO: Auto-setting vmax to  3.120e-04 [aplpy.core]\n"
     ]
    },
    {
     "name": "stderr",
     "output_type": "stream",
     "text": [
      "/users/adignan/anaconda3/lib/python3.11/site-packages/aplpy/overlays.py:256: UserWarning: Text labels do not have attribute linewidth. Skipping.\n",
      "  warnings.warn(\"Text labels do not have attribute {0}. Skipping.\".format(kwarg))\n"
     ]
    },
    {
     "name": "stdout",
     "output_type": "stream",
     "text": [
      "INFO: Setting slices=[0] [aplpy.core]\n",
      "INFO: Auto-setting vmin to -2.954e+00 [aplpy.core]\n",
      "INFO: Auto-setting vmax to  2.401e+00 [aplpy.core]\n"
     ]
    },
    {
     "name": "stderr",
     "output_type": "stream",
     "text": [
      "/users/adignan/anaconda3/lib/python3.11/site-packages/aplpy/overlays.py:256: UserWarning: Text labels do not have attribute linewidth. Skipping.\n",
      "  warnings.warn(\"Text labels do not have attribute {0}. Skipping.\".format(kwarg))\n"
     ]
    },
    {
     "name": "stdout",
     "output_type": "stream",
     "text": [
      "Working on NGC5194Enuc.11e\n",
      "INFO: Setting slices=[0, 0] [aplpy.core]\n",
      "/lustre/cv/students/adignan/data/new/NGC5194/ngc5194_e11_3GHz_r0.5_smoothed_ms.pbcor.gbt_resmatched_regridded.fits\n",
      "INFO: Auto-setting vmin to -6.771e-04 [aplpy.core]\n",
      "INFO: Auto-setting vmax to  3.364e-03 [aplpy.core]\n"
     ]
    },
    {
     "name": "stderr",
     "output_type": "stream",
     "text": [
      "/users/adignan/anaconda3/lib/python3.11/site-packages/aplpy/overlays.py:256: UserWarning: Text labels do not have attribute linewidth. Skipping.\n",
      "  warnings.warn(\"Text labels do not have attribute {0}. Skipping.\".format(kwarg))\n"
     ]
    },
    {
     "name": "stdout",
     "output_type": "stream",
     "text": [
      "INFO: Setting slices=[0, 0] [aplpy.core]\n",
      "INFO: Auto-setting vmin to -1.013e-03 [aplpy.core]\n",
      "INFO: Auto-setting vmax to  2.092e-03 [aplpy.core]\n"
     ]
    },
    {
     "name": "stderr",
     "output_type": "stream",
     "text": [
      "/users/adignan/anaconda3/lib/python3.11/site-packages/aplpy/overlays.py:256: UserWarning: Text labels do not have attribute linewidth. Skipping.\n",
      "  warnings.warn(\"Text labels do not have attribute {0}. Skipping.\".format(kwarg))\n"
     ]
    },
    {
     "name": "stdout",
     "output_type": "stream",
     "text": [
      "INFO: Setting slices=[0, 0] [aplpy.core]\n",
      "INFO: Auto-setting vmin to -2.853e-04 [aplpy.core]\n",
      "INFO: Auto-setting vmax to  3.405e-04 [aplpy.core]\n"
     ]
    },
    {
     "name": "stderr",
     "output_type": "stream",
     "text": [
      "/users/adignan/anaconda3/lib/python3.11/site-packages/aplpy/overlays.py:256: UserWarning: Text labels do not have attribute linewidth. Skipping.\n",
      "  warnings.warn(\"Text labels do not have attribute {0}. Skipping.\".format(kwarg))\n"
     ]
    },
    {
     "name": "stdout",
     "output_type": "stream",
     "text": [
      "INFO: Setting slices=[0] [aplpy.core]\n",
      "INFO: Auto-setting vmin to -3.074e+00 [aplpy.core]\n",
      "INFO: Auto-setting vmax to  2.409e+00 [aplpy.core]\n"
     ]
    },
    {
     "name": "stderr",
     "output_type": "stream",
     "text": [
      "/users/adignan/anaconda3/lib/python3.11/site-packages/aplpy/overlays.py:256: UserWarning: Text labels do not have attribute linewidth. Skipping.\n",
      "  warnings.warn(\"Text labels do not have attribute {0}. Skipping.\".format(kwarg))\n"
     ]
    },
    {
     "name": "stdout",
     "output_type": "stream",
     "text": [
      "Working on NGC5194Enuc.1a\n",
      "INFO: Setting slices=[0, 0] [aplpy.core]\n",
      "/lustre/cv/students/adignan/data/new/NGC5194/ngc5194_e1_3GHz_r0.5_smoothed_ms.pbcor.gbt_resmatched_regridded.fits\n",
      "INFO: Auto-setting vmin to -7.890e-04 [aplpy.core]\n",
      "INFO: Auto-setting vmax to  2.858e-03 [aplpy.core]\n"
     ]
    },
    {
     "name": "stderr",
     "output_type": "stream",
     "text": [
      "/users/adignan/anaconda3/lib/python3.11/site-packages/aplpy/overlays.py:256: UserWarning: Text labels do not have attribute linewidth. Skipping.\n",
      "  warnings.warn(\"Text labels do not have attribute {0}. Skipping.\".format(kwarg))\n"
     ]
    },
    {
     "name": "stdout",
     "output_type": "stream",
     "text": [
      "INFO: Setting slices=[0, 0] [aplpy.core]\n",
      "INFO: Auto-setting vmin to -9.217e-04 [aplpy.core]\n",
      "INFO: Auto-setting vmax to  2.899e-03 [aplpy.core]\n"
     ]
    },
    {
     "name": "stderr",
     "output_type": "stream",
     "text": [
      "/users/adignan/anaconda3/lib/python3.11/site-packages/aplpy/overlays.py:256: UserWarning: Text labels do not have attribute linewidth. Skipping.\n",
      "  warnings.warn(\"Text labels do not have attribute {0}. Skipping.\".format(kwarg))\n"
     ]
    },
    {
     "name": "stdout",
     "output_type": "stream",
     "text": [
      "INFO: Setting slices=[0, 0] [aplpy.core]\n",
      "INFO: Auto-setting vmin to -5.528e-04 [aplpy.core]\n",
      "INFO: Auto-setting vmax to  6.698e-04 [aplpy.core]\n"
     ]
    },
    {
     "name": "stderr",
     "output_type": "stream",
     "text": [
      "/users/adignan/anaconda3/lib/python3.11/site-packages/aplpy/overlays.py:256: UserWarning: Text labels do not have attribute linewidth. Skipping.\n",
      "  warnings.warn(\"Text labels do not have attribute {0}. Skipping.\".format(kwarg))\n"
     ]
    },
    {
     "name": "stdout",
     "output_type": "stream",
     "text": [
      "INFO: Setting slices=[0] [aplpy.core]\n",
      "INFO: Auto-setting vmin to -2.938e+00 [aplpy.core]\n",
      "INFO: Auto-setting vmax to  2.543e+00 [aplpy.core]\n"
     ]
    },
    {
     "name": "stderr",
     "output_type": "stream",
     "text": [
      "/users/adignan/anaconda3/lib/python3.11/site-packages/aplpy/overlays.py:256: UserWarning: Text labels do not have attribute linewidth. Skipping.\n",
      "  warnings.warn(\"Text labels do not have attribute {0}. Skipping.\".format(kwarg))\n"
     ]
    },
    {
     "name": "stdout",
     "output_type": "stream",
     "text": [
      "Working on NGC5194Enuc.1b\n",
      "INFO: Setting slices=[0, 0] [aplpy.core]\n",
      "/lustre/cv/students/adignan/data/new/NGC5194/ngc5194_e1_3GHz_r0.5_smoothed_ms.pbcor.gbt_resmatched_regridded.fits\n",
      "INFO: Auto-setting vmin to -1.135e-03 [aplpy.core]\n",
      "INFO: Auto-setting vmax to  7.720e-03 [aplpy.core]\n"
     ]
    },
    {
     "name": "stderr",
     "output_type": "stream",
     "text": [
      "/users/adignan/anaconda3/lib/python3.11/site-packages/aplpy/overlays.py:256: UserWarning: Text labels do not have attribute linewidth. Skipping.\n",
      "  warnings.warn(\"Text labels do not have attribute {0}. Skipping.\".format(kwarg))\n"
     ]
    },
    {
     "name": "stdout",
     "output_type": "stream",
     "text": [
      "INFO: Setting slices=[0, 0] [aplpy.core]\n",
      "INFO: Auto-setting vmin to -8.145e-04 [aplpy.core]\n",
      "INFO: Auto-setting vmax to  2.271e-03 [aplpy.core]\n"
     ]
    },
    {
     "name": "stderr",
     "output_type": "stream",
     "text": [
      "/users/adignan/anaconda3/lib/python3.11/site-packages/aplpy/overlays.py:256: UserWarning: Text labels do not have attribute linewidth. Skipping.\n",
      "  warnings.warn(\"Text labels do not have attribute {0}. Skipping.\".format(kwarg))\n"
     ]
    },
    {
     "name": "stdout",
     "output_type": "stream",
     "text": [
      "INFO: Setting slices=[0, 0] [aplpy.core]\n",
      "INFO: Auto-setting vmin to -4.534e-04 [aplpy.core]\n",
      "INFO: Auto-setting vmax to  6.580e-04 [aplpy.core]\n"
     ]
    },
    {
     "name": "stderr",
     "output_type": "stream",
     "text": [
      "/users/adignan/anaconda3/lib/python3.11/site-packages/aplpy/overlays.py:256: UserWarning: Text labels do not have attribute linewidth. Skipping.\n",
      "  warnings.warn(\"Text labels do not have attribute {0}. Skipping.\".format(kwarg))\n"
     ]
    },
    {
     "name": "stdout",
     "output_type": "stream",
     "text": [
      "INFO: Setting slices=[0] [aplpy.core]\n",
      "INFO: Auto-setting vmin to -2.798e+00 [aplpy.core]\n",
      "INFO: Auto-setting vmax to  2.371e+00 [aplpy.core]\n"
     ]
    },
    {
     "name": "stderr",
     "output_type": "stream",
     "text": [
      "/users/adignan/anaconda3/lib/python3.11/site-packages/aplpy/overlays.py:256: UserWarning: Text labels do not have attribute linewidth. Skipping.\n",
      "  warnings.warn(\"Text labels do not have attribute {0}. Skipping.\".format(kwarg))\n"
     ]
    },
    {
     "name": "stdout",
     "output_type": "stream",
     "text": [
      "Working on NGC5194Enuc.1c\n",
      "INFO: Setting slices=[0, 0] [aplpy.core]\n",
      "/lustre/cv/students/adignan/data/new/NGC5194/ngc5194_e1_3GHz_r0.5_smoothed_ms.pbcor.gbt_resmatched_regridded.fits\n",
      "INFO: Auto-setting vmin to -1.154e-03 [aplpy.core]\n",
      "INFO: Auto-setting vmax to  6.294e-03 [aplpy.core]\n"
     ]
    },
    {
     "name": "stderr",
     "output_type": "stream",
     "text": [
      "/users/adignan/anaconda3/lib/python3.11/site-packages/aplpy/overlays.py:256: UserWarning: Text labels do not have attribute linewidth. Skipping.\n",
      "  warnings.warn(\"Text labels do not have attribute {0}. Skipping.\".format(kwarg))\n"
     ]
    },
    {
     "name": "stdout",
     "output_type": "stream",
     "text": [
      "INFO: Setting slices=[0, 0] [aplpy.core]\n",
      "INFO: Auto-setting vmin to -8.928e-04 [aplpy.core]\n",
      "INFO: Auto-setting vmax to  3.097e-03 [aplpy.core]\n"
     ]
    },
    {
     "name": "stderr",
     "output_type": "stream",
     "text": [
      "/users/adignan/anaconda3/lib/python3.11/site-packages/aplpy/overlays.py:256: UserWarning: Text labels do not have attribute linewidth. Skipping.\n",
      "  warnings.warn(\"Text labels do not have attribute {0}. Skipping.\".format(kwarg))\n"
     ]
    },
    {
     "name": "stdout",
     "output_type": "stream",
     "text": [
      "INFO: Setting slices=[0, 0] [aplpy.core]\n",
      "INFO: Auto-setting vmin to -5.202e-04 [aplpy.core]\n",
      "INFO: Auto-setting vmax to  6.755e-04 [aplpy.core]\n"
     ]
    },
    {
     "name": "stderr",
     "output_type": "stream",
     "text": [
      "/users/adignan/anaconda3/lib/python3.11/site-packages/aplpy/overlays.py:256: UserWarning: Text labels do not have attribute linewidth. Skipping.\n",
      "  warnings.warn(\"Text labels do not have attribute {0}. Skipping.\".format(kwarg))\n"
     ]
    },
    {
     "name": "stdout",
     "output_type": "stream",
     "text": [
      "INFO: Setting slices=[0] [aplpy.core]\n",
      "INFO: Auto-setting vmin to -2.571e+00 [aplpy.core]\n",
      "INFO: Auto-setting vmax to  2.353e+00 [aplpy.core]\n"
     ]
    },
    {
     "name": "stderr",
     "output_type": "stream",
     "text": [
      "/users/adignan/anaconda3/lib/python3.11/site-packages/aplpy/overlays.py:256: UserWarning: Text labels do not have attribute linewidth. Skipping.\n",
      "  warnings.warn(\"Text labels do not have attribute {0}. Skipping.\".format(kwarg))\n"
     ]
    },
    {
     "name": "stdout",
     "output_type": "stream",
     "text": [
      "Working on NGC5194Enuc.2\n",
      "INFO: Setting slices=[0, 0] [aplpy.core]\n",
      "/lustre/cv/students/adignan/data/new/NGC5194/ngc5194_e2_3GHz_r0.5_smoothed_ms.pbcor.gbt_resmatched_regridded.fits\n",
      "INFO: Auto-setting vmin to -9.587e-04 [aplpy.core]\n",
      "INFO: Auto-setting vmax to  4.828e-03 [aplpy.core]\n"
     ]
    },
    {
     "name": "stderr",
     "output_type": "stream",
     "text": [
      "/users/adignan/anaconda3/lib/python3.11/site-packages/aplpy/overlays.py:256: UserWarning: Text labels do not have attribute linewidth. Skipping.\n",
      "  warnings.warn(\"Text labels do not have attribute {0}. Skipping.\".format(kwarg))\n"
     ]
    },
    {
     "name": "stdout",
     "output_type": "stream",
     "text": [
      "INFO: Setting slices=[0, 0] [aplpy.core]\n",
      "INFO: Auto-setting vmin to -5.070e-04 [aplpy.core]\n",
      "INFO: Auto-setting vmax to  8.911e-04 [aplpy.core]\n"
     ]
    },
    {
     "name": "stderr",
     "output_type": "stream",
     "text": [
      "/users/adignan/anaconda3/lib/python3.11/site-packages/aplpy/overlays.py:256: UserWarning: Text labels do not have attribute linewidth. Skipping.\n",
      "  warnings.warn(\"Text labels do not have attribute {0}. Skipping.\".format(kwarg))\n"
     ]
    },
    {
     "name": "stdout",
     "output_type": "stream",
     "text": [
      "INFO: Setting slices=[0, 0] [aplpy.core]\n",
      "INFO: Auto-setting vmin to -3.575e-04 [aplpy.core]\n",
      "INFO: Auto-setting vmax to  8.193e-04 [aplpy.core]\n"
     ]
    },
    {
     "name": "stderr",
     "output_type": "stream",
     "text": [
      "/users/adignan/anaconda3/lib/python3.11/site-packages/aplpy/overlays.py:256: UserWarning: Text labels do not have attribute linewidth. Skipping.\n",
      "  warnings.warn(\"Text labels do not have attribute {0}. Skipping.\".format(kwarg))\n"
     ]
    },
    {
     "name": "stdout",
     "output_type": "stream",
     "text": [
      "INFO: Setting slices=[0] [aplpy.core]\n",
      "INFO: Auto-setting vmin to -2.687e+00 [aplpy.core]\n",
      "INFO: Auto-setting vmax to  2.253e+00 [aplpy.core]\n"
     ]
    },
    {
     "name": "stderr",
     "output_type": "stream",
     "text": [
      "/users/adignan/anaconda3/lib/python3.11/site-packages/aplpy/overlays.py:256: UserWarning: Text labels do not have attribute linewidth. Skipping.\n",
      "  warnings.warn(\"Text labels do not have attribute {0}. Skipping.\".format(kwarg))\n"
     ]
    },
    {
     "name": "stdout",
     "output_type": "stream",
     "text": [
      "Working on NGC5194Enuc.3\n",
      "INFO: Setting slices=[0, 0] [aplpy.core]\n",
      "/lustre/cv/students/adignan/data/new/NGC5194/ngc5194_e3_3GHz_r0.5_smoothed_ms.pbcor.gbt_resmatched_regridded.fits\n",
      "INFO: Auto-setting vmin to -1.059e-03 [aplpy.core]\n",
      "INFO: Auto-setting vmax to  5.829e-03 [aplpy.core]\n"
     ]
    },
    {
     "name": "stderr",
     "output_type": "stream",
     "text": [
      "/users/adignan/anaconda3/lib/python3.11/site-packages/aplpy/overlays.py:256: UserWarning: Text labels do not have attribute linewidth. Skipping.\n",
      "  warnings.warn(\"Text labels do not have attribute {0}. Skipping.\".format(kwarg))\n"
     ]
    },
    {
     "name": "stdout",
     "output_type": "stream",
     "text": [
      "INFO: Setting slices=[0, 0] [aplpy.core]\n",
      "INFO: Auto-setting vmin to -3.134e-04 [aplpy.core]\n",
      "INFO: Auto-setting vmax to  6.436e-04 [aplpy.core]\n"
     ]
    },
    {
     "name": "stderr",
     "output_type": "stream",
     "text": [
      "/users/adignan/anaconda3/lib/python3.11/site-packages/aplpy/overlays.py:256: UserWarning: Text labels do not have attribute linewidth. Skipping.\n",
      "  warnings.warn(\"Text labels do not have attribute {0}. Skipping.\".format(kwarg))\n"
     ]
    },
    {
     "name": "stdout",
     "output_type": "stream",
     "text": [
      "INFO: Setting slices=[0, 0] [aplpy.core]\n",
      "INFO: Auto-setting vmin to -2.775e-04 [aplpy.core]\n",
      "INFO: Auto-setting vmax to  1.157e-03 [aplpy.core]\n"
     ]
    },
    {
     "name": "stderr",
     "output_type": "stream",
     "text": [
      "/users/adignan/anaconda3/lib/python3.11/site-packages/aplpy/overlays.py:256: UserWarning: Text labels do not have attribute linewidth. Skipping.\n",
      "  warnings.warn(\"Text labels do not have attribute {0}. Skipping.\".format(kwarg))\n"
     ]
    },
    {
     "name": "stdout",
     "output_type": "stream",
     "text": [
      "INFO: Setting slices=[0] [aplpy.core]\n",
      "INFO: Auto-setting vmin to -2.844e+00 [aplpy.core]\n",
      "INFO: Auto-setting vmax to  2.461e+00 [aplpy.core]\n"
     ]
    },
    {
     "name": "stderr",
     "output_type": "stream",
     "text": [
      "/users/adignan/anaconda3/lib/python3.11/site-packages/aplpy/overlays.py:256: UserWarning: Text labels do not have attribute linewidth. Skipping.\n",
      "  warnings.warn(\"Text labels do not have attribute {0}. Skipping.\".format(kwarg))\n"
     ]
    },
    {
     "name": "stdout",
     "output_type": "stream",
     "text": [
      "Working on NGC5194Enuc.4a\n",
      "INFO: Setting slices=[0, 0] [aplpy.core]\n",
      "/lustre/cv/students/adignan/data/new/NGC5194/ngc5194_e4_3GHz_r0.5_smoothed_ms.pbcor.gbt_resmatched_regridded.fits\n",
      "INFO: Auto-setting vmin to -7.322e-04 [aplpy.core]\n",
      "INFO: Auto-setting vmax to  3.922e-03 [aplpy.core]\n"
     ]
    },
    {
     "name": "stderr",
     "output_type": "stream",
     "text": [
      "/users/adignan/anaconda3/lib/python3.11/site-packages/aplpy/overlays.py:256: UserWarning: Text labels do not have attribute linewidth. Skipping.\n",
      "  warnings.warn(\"Text labels do not have attribute {0}. Skipping.\".format(kwarg))\n"
     ]
    },
    {
     "name": "stdout",
     "output_type": "stream",
     "text": [
      "INFO: Setting slices=[0, 0] [aplpy.core]\n",
      "INFO: Auto-setting vmin to -8.515e-04 [aplpy.core]\n",
      "INFO: Auto-setting vmax to  7.522e-04 [aplpy.core]\n"
     ]
    },
    {
     "name": "stderr",
     "output_type": "stream",
     "text": [
      "/users/adignan/anaconda3/lib/python3.11/site-packages/aplpy/overlays.py:256: UserWarning: Text labels do not have attribute linewidth. Skipping.\n",
      "  warnings.warn(\"Text labels do not have attribute {0}. Skipping.\".format(kwarg))\n"
     ]
    },
    {
     "name": "stdout",
     "output_type": "stream",
     "text": [
      "INFO: Setting slices=[0, 0] [aplpy.core]\n",
      "INFO: Auto-setting vmin to -2.417e-04 [aplpy.core]\n",
      "INFO: Auto-setting vmax to  2.138e-04 [aplpy.core]\n"
     ]
    },
    {
     "name": "stderr",
     "output_type": "stream",
     "text": [
      "/users/adignan/anaconda3/lib/python3.11/site-packages/aplpy/overlays.py:256: UserWarning: Text labels do not have attribute linewidth. Skipping.\n",
      "  warnings.warn(\"Text labels do not have attribute {0}. Skipping.\".format(kwarg))\n"
     ]
    },
    {
     "name": "stdout",
     "output_type": "stream",
     "text": [
      "INFO: Setting slices=[0] [aplpy.core]\n",
      "INFO: Auto-setting vmin to -2.868e+00 [aplpy.core]\n",
      "INFO: Auto-setting vmax to  2.263e+00 [aplpy.core]\n"
     ]
    },
    {
     "name": "stderr",
     "output_type": "stream",
     "text": [
      "/users/adignan/anaconda3/lib/python3.11/site-packages/aplpy/overlays.py:256: UserWarning: Text labels do not have attribute linewidth. Skipping.\n",
      "  warnings.warn(\"Text labels do not have attribute {0}. Skipping.\".format(kwarg))\n"
     ]
    },
    {
     "name": "stdout",
     "output_type": "stream",
     "text": [
      "Working on NGC5194Enuc.4b\n",
      "INFO: Setting slices=[0, 0] [aplpy.core]\n",
      "/lustre/cv/students/adignan/data/new/NGC5194/ngc5194_e4_3GHz_r0.5_smoothed_ms.pbcor.gbt_resmatched_regridded.fits\n",
      "INFO: Auto-setting vmin to -6.810e-04 [aplpy.core]\n",
      "INFO: Auto-setting vmax to  3.809e-03 [aplpy.core]\n"
     ]
    },
    {
     "name": "stderr",
     "output_type": "stream",
     "text": [
      "/users/adignan/anaconda3/lib/python3.11/site-packages/aplpy/overlays.py:256: UserWarning: Text labels do not have attribute linewidth. Skipping.\n",
      "  warnings.warn(\"Text labels do not have attribute {0}. Skipping.\".format(kwarg))\n"
     ]
    },
    {
     "name": "stdout",
     "output_type": "stream",
     "text": [
      "INFO: Setting slices=[0, 0] [aplpy.core]\n",
      "INFO: Auto-setting vmin to -8.381e-04 [aplpy.core]\n",
      "INFO: Auto-setting vmax to  7.525e-04 [aplpy.core]\n"
     ]
    },
    {
     "name": "stderr",
     "output_type": "stream",
     "text": [
      "/users/adignan/anaconda3/lib/python3.11/site-packages/aplpy/overlays.py:256: UserWarning: Text labels do not have attribute linewidth. Skipping.\n",
      "  warnings.warn(\"Text labels do not have attribute {0}. Skipping.\".format(kwarg))\n"
     ]
    },
    {
     "name": "stdout",
     "output_type": "stream",
     "text": [
      "INFO: Setting slices=[0, 0] [aplpy.core]\n",
      "INFO: Auto-setting vmin to -2.282e-04 [aplpy.core]\n",
      "INFO: Auto-setting vmax to  3.436e-04 [aplpy.core]\n"
     ]
    },
    {
     "name": "stderr",
     "output_type": "stream",
     "text": [
      "/users/adignan/anaconda3/lib/python3.11/site-packages/aplpy/overlays.py:256: UserWarning: Text labels do not have attribute linewidth. Skipping.\n",
      "  warnings.warn(\"Text labels do not have attribute {0}. Skipping.\".format(kwarg))\n"
     ]
    },
    {
     "name": "stdout",
     "output_type": "stream",
     "text": [
      "INFO: Setting slices=[0] [aplpy.core]\n",
      "INFO: Auto-setting vmin to -2.863e+00 [aplpy.core]\n",
      "INFO: Auto-setting vmax to  2.362e+00 [aplpy.core]\n"
     ]
    },
    {
     "name": "stderr",
     "output_type": "stream",
     "text": [
      "/users/adignan/anaconda3/lib/python3.11/site-packages/aplpy/overlays.py:256: UserWarning: Text labels do not have attribute linewidth. Skipping.\n",
      "  warnings.warn(\"Text labels do not have attribute {0}. Skipping.\".format(kwarg))\n"
     ]
    },
    {
     "name": "stdout",
     "output_type": "stream",
     "text": [
      "Working on NGC5194Enuc.4c\n",
      "INFO: Setting slices=[0, 0] [aplpy.core]\n",
      "/lustre/cv/students/adignan/data/new/NGC5194/ngc5194_e4_3GHz_r0.5_smoothed_ms.pbcor.gbt_resmatched_regridded.fits\n",
      "INFO: Auto-setting vmin to -9.221e-04 [aplpy.core]\n",
      "INFO: Auto-setting vmax to  5.691e-03 [aplpy.core]\n"
     ]
    },
    {
     "name": "stderr",
     "output_type": "stream",
     "text": [
      "/users/adignan/anaconda3/lib/python3.11/site-packages/aplpy/overlays.py:256: UserWarning: Text labels do not have attribute linewidth. Skipping.\n",
      "  warnings.warn(\"Text labels do not have attribute {0}. Skipping.\".format(kwarg))\n"
     ]
    },
    {
     "name": "stdout",
     "output_type": "stream",
     "text": [
      "INFO: Setting slices=[0, 0] [aplpy.core]\n",
      "INFO: Auto-setting vmin to -9.075e-04 [aplpy.core]\n",
      "INFO: Auto-setting vmax to  8.530e-04 [aplpy.core]\n"
     ]
    },
    {
     "name": "stderr",
     "output_type": "stream",
     "text": [
      "/users/adignan/anaconda3/lib/python3.11/site-packages/aplpy/overlays.py:256: UserWarning: Text labels do not have attribute linewidth. Skipping.\n",
      "  warnings.warn(\"Text labels do not have attribute {0}. Skipping.\".format(kwarg))\n"
     ]
    },
    {
     "name": "stdout",
     "output_type": "stream",
     "text": [
      "INFO: Setting slices=[0, 0] [aplpy.core]\n",
      "INFO: Auto-setting vmin to -2.514e-04 [aplpy.core]\n",
      "INFO: Auto-setting vmax to  3.428e-04 [aplpy.core]\n"
     ]
    },
    {
     "name": "stderr",
     "output_type": "stream",
     "text": [
      "/users/adignan/anaconda3/lib/python3.11/site-packages/aplpy/overlays.py:256: UserWarning: Text labels do not have attribute linewidth. Skipping.\n",
      "  warnings.warn(\"Text labels do not have attribute {0}. Skipping.\".format(kwarg))\n"
     ]
    },
    {
     "name": "stdout",
     "output_type": "stream",
     "text": [
      "INFO: Setting slices=[0] [aplpy.core]\n",
      "INFO: Auto-setting vmin to -2.552e+00 [aplpy.core]\n",
      "INFO: Auto-setting vmax to  2.357e+00 [aplpy.core]\n"
     ]
    },
    {
     "name": "stderr",
     "output_type": "stream",
     "text": [
      "/users/adignan/anaconda3/lib/python3.11/site-packages/aplpy/overlays.py:256: UserWarning: Text labels do not have attribute linewidth. Skipping.\n",
      "  warnings.warn(\"Text labels do not have attribute {0}. Skipping.\".format(kwarg))\n"
     ]
    },
    {
     "name": "stdout",
     "output_type": "stream",
     "text": [
      "Working on NGC5194Enuc.4d\n",
      "INFO: Setting slices=[0, 0] [aplpy.core]\n",
      "/lustre/cv/students/adignan/data/new/NGC5194/ngc5194_e4_3GHz_r0.5_smoothed_ms.pbcor.gbt_resmatched_regridded.fits\n",
      "INFO: Auto-setting vmin to -5.600e-04 [aplpy.core]\n",
      "INFO: Auto-setting vmax to  2.307e-03 [aplpy.core]\n"
     ]
    },
    {
     "name": "stderr",
     "output_type": "stream",
     "text": [
      "/users/adignan/anaconda3/lib/python3.11/site-packages/aplpy/overlays.py:256: UserWarning: Text labels do not have attribute linewidth. Skipping.\n",
      "  warnings.warn(\"Text labels do not have attribute {0}. Skipping.\".format(kwarg))\n"
     ]
    },
    {
     "name": "stdout",
     "output_type": "stream",
     "text": [
      "INFO: Setting slices=[0, 0] [aplpy.core]\n",
      "INFO: Auto-setting vmin to -8.240e-04 [aplpy.core]\n",
      "INFO: Auto-setting vmax to  8.830e-04 [aplpy.core]\n"
     ]
    },
    {
     "name": "stderr",
     "output_type": "stream",
     "text": [
      "/users/adignan/anaconda3/lib/python3.11/site-packages/aplpy/overlays.py:256: UserWarning: Text labels do not have attribute linewidth. Skipping.\n",
      "  warnings.warn(\"Text labels do not have attribute {0}. Skipping.\".format(kwarg))\n"
     ]
    },
    {
     "name": "stdout",
     "output_type": "stream",
     "text": [
      "INFO: Setting slices=[0, 0] [aplpy.core]\n",
      "INFO: Auto-setting vmin to -2.556e-04 [aplpy.core]\n",
      "INFO: Auto-setting vmax to  3.010e-04 [aplpy.core]\n"
     ]
    },
    {
     "name": "stderr",
     "output_type": "stream",
     "text": [
      "/users/adignan/anaconda3/lib/python3.11/site-packages/aplpy/overlays.py:256: UserWarning: Text labels do not have attribute linewidth. Skipping.\n",
      "  warnings.warn(\"Text labels do not have attribute {0}. Skipping.\".format(kwarg))\n"
     ]
    },
    {
     "name": "stdout",
     "output_type": "stream",
     "text": [
      "INFO: Setting slices=[0] [aplpy.core]\n",
      "INFO: Auto-setting vmin to -2.629e+00 [aplpy.core]\n",
      "INFO: Auto-setting vmax to  2.236e+00 [aplpy.core]\n"
     ]
    },
    {
     "name": "stderr",
     "output_type": "stream",
     "text": [
      "/users/adignan/anaconda3/lib/python3.11/site-packages/aplpy/overlays.py:256: UserWarning: Text labels do not have attribute linewidth. Skipping.\n",
      "  warnings.warn(\"Text labels do not have attribute {0}. Skipping.\".format(kwarg))\n"
     ]
    },
    {
     "name": "stdout",
     "output_type": "stream",
     "text": [
      "Working on NGC5194Enuc.5a\n",
      "INFO: Setting slices=[0, 0] [aplpy.core]\n",
      "/lustre/cv/students/adignan/data/new/NGC5194/ngc5194_e5_3GHz_r0.5_smoothed_ms.pbcor.gbt_resmatched_regridded.fits\n",
      "INFO: Auto-setting vmin to -8.882e-04 [aplpy.core]\n",
      "INFO: Auto-setting vmax to  5.704e-03 [aplpy.core]\n"
     ]
    },
    {
     "name": "stderr",
     "output_type": "stream",
     "text": [
      "/users/adignan/anaconda3/lib/python3.11/site-packages/aplpy/overlays.py:256: UserWarning: Text labels do not have attribute linewidth. Skipping.\n",
      "  warnings.warn(\"Text labels do not have attribute {0}. Skipping.\".format(kwarg))\n"
     ]
    },
    {
     "name": "stdout",
     "output_type": "stream",
     "text": [
      "INFO: Setting slices=[0, 0] [aplpy.core]\n",
      "INFO: Auto-setting vmin to -6.699e-04 [aplpy.core]\n",
      "INFO: Auto-setting vmax to  7.532e-04 [aplpy.core]\n"
     ]
    },
    {
     "name": "stderr",
     "output_type": "stream",
     "text": [
      "/users/adignan/anaconda3/lib/python3.11/site-packages/aplpy/overlays.py:256: UserWarning: Text labels do not have attribute linewidth. Skipping.\n",
      "  warnings.warn(\"Text labels do not have attribute {0}. Skipping.\".format(kwarg))\n"
     ]
    },
    {
     "name": "stdout",
     "output_type": "stream",
     "text": [
      "INFO: Setting slices=[0, 0] [aplpy.core]\n",
      "INFO: Auto-setting vmin to -5.044e-04 [aplpy.core]\n",
      "INFO: Auto-setting vmax to  3.915e-04 [aplpy.core]\n"
     ]
    },
    {
     "name": "stderr",
     "output_type": "stream",
     "text": [
      "/users/adignan/anaconda3/lib/python3.11/site-packages/aplpy/overlays.py:256: UserWarning: Text labels do not have attribute linewidth. Skipping.\n",
      "  warnings.warn(\"Text labels do not have attribute {0}. Skipping.\".format(kwarg))\n"
     ]
    },
    {
     "name": "stdout",
     "output_type": "stream",
     "text": [
      "INFO: Setting slices=[0] [aplpy.core]\n",
      "INFO: Auto-setting vmin to -2.896e+00 [aplpy.core]\n",
      "INFO: Auto-setting vmax to  2.336e+00 [aplpy.core]\n"
     ]
    },
    {
     "name": "stderr",
     "output_type": "stream",
     "text": [
      "/users/adignan/anaconda3/lib/python3.11/site-packages/aplpy/overlays.py:256: UserWarning: Text labels do not have attribute linewidth. Skipping.\n",
      "  warnings.warn(\"Text labels do not have attribute {0}. Skipping.\".format(kwarg))\n"
     ]
    },
    {
     "name": "stdout",
     "output_type": "stream",
     "text": [
      "Working on NGC5194Enuc.6a\n",
      "INFO: Setting slices=[0, 0] [aplpy.core]\n",
      "/lustre/cv/students/adignan/data/new/NGC5194/ngc5194_e6_3GHz_r0.5_smoothed_ms.pbcor.gbt_resmatched_regridded.fits\n",
      "INFO: Auto-setting vmin to -4.926e-04 [aplpy.core]\n",
      "INFO: Auto-setting vmax to  5.753e-04 [aplpy.core]\n"
     ]
    },
    {
     "name": "stderr",
     "output_type": "stream",
     "text": [
      "/users/adignan/anaconda3/lib/python3.11/site-packages/aplpy/overlays.py:256: UserWarning: Text labels do not have attribute linewidth. Skipping.\n",
      "  warnings.warn(\"Text labels do not have attribute {0}. Skipping.\".format(kwarg))\n"
     ]
    },
    {
     "name": "stdout",
     "output_type": "stream",
     "text": [
      "INFO: Setting slices=[0, 0] [aplpy.core]\n",
      "INFO: Auto-setting vmin to -5.256e-04 [aplpy.core]\n",
      "INFO: Auto-setting vmax to  6.914e-04 [aplpy.core]\n"
     ]
    },
    {
     "name": "stderr",
     "output_type": "stream",
     "text": [
      "/users/adignan/anaconda3/lib/python3.11/site-packages/aplpy/overlays.py:256: UserWarning: Text labels do not have attribute linewidth. Skipping.\n",
      "  warnings.warn(\"Text labels do not have attribute {0}. Skipping.\".format(kwarg))\n"
     ]
    },
    {
     "name": "stdout",
     "output_type": "stream",
     "text": [
      "INFO: Setting slices=[0, 0] [aplpy.core]\n",
      "INFO: Auto-setting vmin to -2.553e-04 [aplpy.core]\n",
      "INFO: Auto-setting vmax to  3.653e-04 [aplpy.core]\n"
     ]
    },
    {
     "name": "stderr",
     "output_type": "stream",
     "text": [
      "/users/adignan/anaconda3/lib/python3.11/site-packages/aplpy/overlays.py:256: UserWarning: Text labels do not have attribute linewidth. Skipping.\n",
      "  warnings.warn(\"Text labels do not have attribute {0}. Skipping.\".format(kwarg))\n"
     ]
    },
    {
     "name": "stdout",
     "output_type": "stream",
     "text": [
      "INFO: Setting slices=[0] [aplpy.core]\n",
      "INFO: Auto-setting vmin to -2.896e+00 [aplpy.core]\n",
      "INFO: Auto-setting vmax to  2.207e+00 [aplpy.core]\n"
     ]
    },
    {
     "name": "stderr",
     "output_type": "stream",
     "text": [
      "/users/adignan/anaconda3/lib/python3.11/site-packages/aplpy/overlays.py:256: UserWarning: Text labels do not have attribute linewidth. Skipping.\n",
      "  warnings.warn(\"Text labels do not have attribute {0}. Skipping.\".format(kwarg))\n"
     ]
    },
    {
     "name": "stdout",
     "output_type": "stream",
     "text": [
      "Working on NGC5194Enuc.7a\n",
      "INFO: Setting slices=[0, 0] [aplpy.core]\n",
      "/lustre/cv/students/adignan/data/new/NGC5194/ngc5194_e7_3GHz_r0.5_smoothed_ms.pbcor.gbt_resmatched_regridded.fits\n",
      "INFO: Auto-setting vmin to -1.048e-03 [aplpy.core]\n",
      "INFO: Auto-setting vmax to  6.450e-03 [aplpy.core]\n"
     ]
    },
    {
     "name": "stderr",
     "output_type": "stream",
     "text": [
      "/users/adignan/anaconda3/lib/python3.11/site-packages/aplpy/overlays.py:256: UserWarning: Text labels do not have attribute linewidth. Skipping.\n",
      "  warnings.warn(\"Text labels do not have attribute {0}. Skipping.\".format(kwarg))\n"
     ]
    },
    {
     "name": "stdout",
     "output_type": "stream",
     "text": [
      "INFO: Setting slices=[0, 0] [aplpy.core]\n",
      "INFO: Auto-setting vmin to -5.862e-04 [aplpy.core]\n",
      "INFO: Auto-setting vmax to  1.872e-03 [aplpy.core]\n"
     ]
    },
    {
     "name": "stderr",
     "output_type": "stream",
     "text": [
      "/users/adignan/anaconda3/lib/python3.11/site-packages/aplpy/overlays.py:256: UserWarning: Text labels do not have attribute linewidth. Skipping.\n",
      "  warnings.warn(\"Text labels do not have attribute {0}. Skipping.\".format(kwarg))\n"
     ]
    },
    {
     "name": "stdout",
     "output_type": "stream",
     "text": [
      "INFO: Setting slices=[0, 0] [aplpy.core]\n",
      "INFO: Auto-setting vmin to -2.347e-04 [aplpy.core]\n",
      "INFO: Auto-setting vmax to  4.205e-04 [aplpy.core]\n"
     ]
    },
    {
     "name": "stderr",
     "output_type": "stream",
     "text": [
      "/users/adignan/anaconda3/lib/python3.11/site-packages/aplpy/overlays.py:256: UserWarning: Text labels do not have attribute linewidth. Skipping.\n",
      "  warnings.warn(\"Text labels do not have attribute {0}. Skipping.\".format(kwarg))\n"
     ]
    },
    {
     "name": "stdout",
     "output_type": "stream",
     "text": [
      "INFO: Setting slices=[0] [aplpy.core]\n",
      "INFO: Auto-setting vmin to -2.820e+00 [aplpy.core]\n",
      "INFO: Auto-setting vmax to  2.186e+00 [aplpy.core]\n"
     ]
    },
    {
     "name": "stderr",
     "output_type": "stream",
     "text": [
      "/users/adignan/anaconda3/lib/python3.11/site-packages/aplpy/overlays.py:256: UserWarning: Text labels do not have attribute linewidth. Skipping.\n",
      "  warnings.warn(\"Text labels do not have attribute {0}. Skipping.\".format(kwarg))\n"
     ]
    },
    {
     "name": "stdout",
     "output_type": "stream",
     "text": [
      "Working on NGC5194Enuc.7b\n",
      "INFO: Setting slices=[0, 0] [aplpy.core]\n",
      "/lustre/cv/students/adignan/data/new/NGC5194/ngc5194_e7_3GHz_r0.5_smoothed_ms.pbcor.gbt_resmatched_regridded.fits\n",
      "INFO: Auto-setting vmin to -1.108e-03 [aplpy.core]\n",
      "INFO: Auto-setting vmax to  6.979e-03 [aplpy.core]\n"
     ]
    },
    {
     "name": "stderr",
     "output_type": "stream",
     "text": [
      "/users/adignan/anaconda3/lib/python3.11/site-packages/aplpy/overlays.py:256: UserWarning: Text labels do not have attribute linewidth. Skipping.\n",
      "  warnings.warn(\"Text labels do not have attribute {0}. Skipping.\".format(kwarg))\n"
     ]
    },
    {
     "name": "stdout",
     "output_type": "stream",
     "text": [
      "INFO: Setting slices=[0, 0] [aplpy.core]\n",
      "INFO: Auto-setting vmin to -6.617e-04 [aplpy.core]\n",
      "INFO: Auto-setting vmax to  1.259e-03 [aplpy.core]\n"
     ]
    },
    {
     "name": "stderr",
     "output_type": "stream",
     "text": [
      "/users/adignan/anaconda3/lib/python3.11/site-packages/aplpy/overlays.py:256: UserWarning: Text labels do not have attribute linewidth. Skipping.\n",
      "  warnings.warn(\"Text labels do not have attribute {0}. Skipping.\".format(kwarg))\n"
     ]
    },
    {
     "name": "stdout",
     "output_type": "stream",
     "text": [
      "INFO: Setting slices=[0, 0] [aplpy.core]\n",
      "INFO: Auto-setting vmin to -2.431e-04 [aplpy.core]\n",
      "INFO: Auto-setting vmax to  3.277e-04 [aplpy.core]\n"
     ]
    },
    {
     "name": "stderr",
     "output_type": "stream",
     "text": [
      "/users/adignan/anaconda3/lib/python3.11/site-packages/aplpy/overlays.py:256: UserWarning: Text labels do not have attribute linewidth. Skipping.\n",
      "  warnings.warn(\"Text labels do not have attribute {0}. Skipping.\".format(kwarg))\n"
     ]
    },
    {
     "name": "stdout",
     "output_type": "stream",
     "text": [
      "INFO: Setting slices=[0] [aplpy.core]\n",
      "INFO: Auto-setting vmin to -2.962e+00 [aplpy.core]\n",
      "INFO: Auto-setting vmax to  2.484e+00 [aplpy.core]\n"
     ]
    },
    {
     "name": "stderr",
     "output_type": "stream",
     "text": [
      "/users/adignan/anaconda3/lib/python3.11/site-packages/aplpy/overlays.py:256: UserWarning: Text labels do not have attribute linewidth. Skipping.\n",
      "  warnings.warn(\"Text labels do not have attribute {0}. Skipping.\".format(kwarg))\n"
     ]
    },
    {
     "name": "stdout",
     "output_type": "stream",
     "text": [
      "Working on NGC5194Enuc.7c\n",
      "INFO: Setting slices=[0, 0] [aplpy.core]\n",
      "/lustre/cv/students/adignan/data/new/NGC5194/ngc5194_e7_3GHz_r0.5_smoothed_ms.pbcor.gbt_resmatched_regridded.fits\n",
      "INFO: Auto-setting vmin to -1.049e-03 [aplpy.core]\n",
      "INFO: Auto-setting vmax to  6.734e-03 [aplpy.core]\n"
     ]
    },
    {
     "name": "stderr",
     "output_type": "stream",
     "text": [
      "/users/adignan/anaconda3/lib/python3.11/site-packages/aplpy/overlays.py:256: UserWarning: Text labels do not have attribute linewidth. Skipping.\n",
      "  warnings.warn(\"Text labels do not have attribute {0}. Skipping.\".format(kwarg))\n"
     ]
    },
    {
     "name": "stdout",
     "output_type": "stream",
     "text": [
      "INFO: Setting slices=[0, 0] [aplpy.core]\n",
      "INFO: Auto-setting vmin to -5.866e-04 [aplpy.core]\n",
      "INFO: Auto-setting vmax to  8.857e-04 [aplpy.core]\n"
     ]
    },
    {
     "name": "stderr",
     "output_type": "stream",
     "text": [
      "/users/adignan/anaconda3/lib/python3.11/site-packages/aplpy/overlays.py:256: UserWarning: Text labels do not have attribute linewidth. Skipping.\n",
      "  warnings.warn(\"Text labels do not have attribute {0}. Skipping.\".format(kwarg))\n"
     ]
    },
    {
     "name": "stdout",
     "output_type": "stream",
     "text": [
      "INFO: Setting slices=[0, 0] [aplpy.core]\n",
      "INFO: Auto-setting vmin to -2.137e-04 [aplpy.core]\n",
      "INFO: Auto-setting vmax to  2.846e-04 [aplpy.core]\n"
     ]
    },
    {
     "name": "stderr",
     "output_type": "stream",
     "text": [
      "/users/adignan/anaconda3/lib/python3.11/site-packages/aplpy/overlays.py:256: UserWarning: Text labels do not have attribute linewidth. Skipping.\n",
      "  warnings.warn(\"Text labels do not have attribute {0}. Skipping.\".format(kwarg))\n"
     ]
    },
    {
     "name": "stdout",
     "output_type": "stream",
     "text": [
      "INFO: Setting slices=[0] [aplpy.core]\n",
      "INFO: Auto-setting vmin to -2.586e+00 [aplpy.core]\n",
      "INFO: Auto-setting vmax to  2.133e+00 [aplpy.core]\n"
     ]
    },
    {
     "name": "stderr",
     "output_type": "stream",
     "text": [
      "/users/adignan/anaconda3/lib/python3.11/site-packages/aplpy/overlays.py:256: UserWarning: Text labels do not have attribute linewidth. Skipping.\n",
      "  warnings.warn(\"Text labels do not have attribute {0}. Skipping.\".format(kwarg))\n"
     ]
    },
    {
     "name": "stdout",
     "output_type": "stream",
     "text": [
      "Working on NGC5194Enuc.8\n",
      "INFO: Setting slices=[0, 0] [aplpy.core]\n",
      "/lustre/cv/students/adignan/data/new/NGC5194/ngc5194_e8_3GHz_r0.5_smoothed_ms.pbcor.gbt_resmatched_regridded.fits\n",
      "INFO: Auto-setting vmin to -9.132e-04 [aplpy.core]\n",
      "INFO: Auto-setting vmax to  5.920e-03 [aplpy.core]\n"
     ]
    },
    {
     "name": "stderr",
     "output_type": "stream",
     "text": [
      "/users/adignan/anaconda3/lib/python3.11/site-packages/aplpy/overlays.py:256: UserWarning: Text labels do not have attribute linewidth. Skipping.\n",
      "  warnings.warn(\"Text labels do not have attribute {0}. Skipping.\".format(kwarg))\n"
     ]
    },
    {
     "name": "stdout",
     "output_type": "stream",
     "text": [
      "INFO: Setting slices=[0, 0] [aplpy.core]\n",
      "INFO: Auto-setting vmin to -6.177e-04 [aplpy.core]\n",
      "INFO: Auto-setting vmax to  1.067e-03 [aplpy.core]\n"
     ]
    },
    {
     "name": "stderr",
     "output_type": "stream",
     "text": [
      "/users/adignan/anaconda3/lib/python3.11/site-packages/aplpy/overlays.py:256: UserWarning: Text labels do not have attribute linewidth. Skipping.\n",
      "  warnings.warn(\"Text labels do not have attribute {0}. Skipping.\".format(kwarg))\n"
     ]
    },
    {
     "name": "stdout",
     "output_type": "stream",
     "text": [
      "INFO: Setting slices=[0, 0] [aplpy.core]\n",
      "INFO: Auto-setting vmin to -2.368e-04 [aplpy.core]\n",
      "INFO: Auto-setting vmax to  3.654e-04 [aplpy.core]\n"
     ]
    },
    {
     "name": "stderr",
     "output_type": "stream",
     "text": [
      "/users/adignan/anaconda3/lib/python3.11/site-packages/aplpy/overlays.py:256: UserWarning: Text labels do not have attribute linewidth. Skipping.\n",
      "  warnings.warn(\"Text labels do not have attribute {0}. Skipping.\".format(kwarg))\n"
     ]
    },
    {
     "name": "stdout",
     "output_type": "stream",
     "text": [
      "INFO: Setting slices=[0] [aplpy.core]\n",
      "INFO: Auto-setting vmin to -2.465e+00 [aplpy.core]\n",
      "INFO: Auto-setting vmax to  2.428e+00 [aplpy.core]\n"
     ]
    },
    {
     "name": "stderr",
     "output_type": "stream",
     "text": [
      "/users/adignan/anaconda3/lib/python3.11/site-packages/aplpy/overlays.py:256: UserWarning: Text labels do not have attribute linewidth. Skipping.\n",
      "  warnings.warn(\"Text labels do not have attribute {0}. Skipping.\".format(kwarg))\n"
     ]
    },
    {
     "name": "stdout",
     "output_type": "stream",
     "text": [
      "Working on NGC5194Enuc.9\n",
      "INFO: Setting slices=[0, 0] [aplpy.core]\n",
      "/lustre/cv/students/adignan/data/new/NGC5194/ngc5194_e9_3GHz_r0.5_smoothed_ms.pbcor.gbt_resmatched_regridded.fits\n",
      "INFO: Auto-setting vmin to -7.334e-04 [aplpy.core]\n",
      "INFO: Auto-setting vmax to  3.600e-03 [aplpy.core]\n"
     ]
    },
    {
     "name": "stderr",
     "output_type": "stream",
     "text": [
      "/users/adignan/anaconda3/lib/python3.11/site-packages/aplpy/overlays.py:256: UserWarning: Text labels do not have attribute linewidth. Skipping.\n",
      "  warnings.warn(\"Text labels do not have attribute {0}. Skipping.\".format(kwarg))\n"
     ]
    },
    {
     "name": "stdout",
     "output_type": "stream",
     "text": [
      "INFO: Setting slices=[0, 0] [aplpy.core]\n",
      "INFO: Auto-setting vmin to -7.168e-04 [aplpy.core]\n",
      "INFO: Auto-setting vmax to  1.813e-03 [aplpy.core]\n"
     ]
    },
    {
     "name": "stderr",
     "output_type": "stream",
     "text": [
      "/users/adignan/anaconda3/lib/python3.11/site-packages/aplpy/overlays.py:256: UserWarning: Text labels do not have attribute linewidth. Skipping.\n",
      "  warnings.warn(\"Text labels do not have attribute {0}. Skipping.\".format(kwarg))\n"
     ]
    },
    {
     "name": "stdout",
     "output_type": "stream",
     "text": [
      "INFO: Setting slices=[0, 0] [aplpy.core]\n",
      "INFO: Auto-setting vmin to -4.144e-04 [aplpy.core]\n",
      "INFO: Auto-setting vmax to  8.798e-04 [aplpy.core]\n"
     ]
    },
    {
     "name": "stderr",
     "output_type": "stream",
     "text": [
      "/users/adignan/anaconda3/lib/python3.11/site-packages/aplpy/overlays.py:256: UserWarning: Text labels do not have attribute linewidth. Skipping.\n",
      "  warnings.warn(\"Text labels do not have attribute {0}. Skipping.\".format(kwarg))\n"
     ]
    },
    {
     "name": "stdout",
     "output_type": "stream",
     "text": [
      "INFO: Setting slices=[0] [aplpy.core]\n",
      "INFO: Auto-setting vmin to -2.680e+00 [aplpy.core]\n",
      "INFO: Auto-setting vmax to  2.230e+00 [aplpy.core]\n"
     ]
    },
    {
     "name": "stderr",
     "output_type": "stream",
     "text": [
      "/users/adignan/anaconda3/lib/python3.11/site-packages/aplpy/overlays.py:256: UserWarning: Text labels do not have attribute linewidth. Skipping.\n",
      "  warnings.warn(\"Text labels do not have attribute {0}. Skipping.\".format(kwarg))\n"
     ]
    },
    {
     "name": "stdout",
     "output_type": "stream",
     "text": [
      "Working on NGC5194a\n",
      "INFO: Setting slices=[0, 0] [aplpy.core]\n",
      "/lustre/cv/students/adignan/data/new/NGC5194/ngc5194_3GHz_r0.5_smoothed_ms.pbcor.gbt_resmatched_regridded.fits\n",
      "INFO: Auto-setting vmin to -1.028e-03 [aplpy.core]\n",
      "INFO: Auto-setting vmax to  5.613e-03 [aplpy.core]\n"
     ]
    },
    {
     "name": "stderr",
     "output_type": "stream",
     "text": [
      "/users/adignan/anaconda3/lib/python3.11/site-packages/aplpy/overlays.py:256: UserWarning: Text labels do not have attribute linewidth. Skipping.\n",
      "  warnings.warn(\"Text labels do not have attribute {0}. Skipping.\".format(kwarg))\n"
     ]
    },
    {
     "name": "stdout",
     "output_type": "stream",
     "text": [
      "INFO: Setting slices=[0, 0] [aplpy.core]\n",
      "INFO: Auto-setting vmin to -1.249e-03 [aplpy.core]\n",
      "INFO: Auto-setting vmax to  2.841e-03 [aplpy.core]\n"
     ]
    },
    {
     "name": "stderr",
     "output_type": "stream",
     "text": [
      "/users/adignan/anaconda3/lib/python3.11/site-packages/aplpy/overlays.py:256: UserWarning: Text labels do not have attribute linewidth. Skipping.\n",
      "  warnings.warn(\"Text labels do not have attribute {0}. Skipping.\".format(kwarg))\n"
     ]
    },
    {
     "name": "stdout",
     "output_type": "stream",
     "text": [
      "INFO: Setting slices=[0, 0] [aplpy.core]\n",
      "INFO: Auto-setting vmin to -5.127e-04 [aplpy.core]\n",
      "INFO: Auto-setting vmax to  1.252e-03 [aplpy.core]\n"
     ]
    },
    {
     "name": "stderr",
     "output_type": "stream",
     "text": [
      "/users/adignan/anaconda3/lib/python3.11/site-packages/aplpy/overlays.py:256: UserWarning: Text labels do not have attribute linewidth. Skipping.\n",
      "  warnings.warn(\"Text labels do not have attribute {0}. Skipping.\".format(kwarg))\n"
     ]
    },
    {
     "name": "stdout",
     "output_type": "stream",
     "text": [
      "INFO: Setting slices=[0] [aplpy.core]\n",
      "INFO: Auto-setting vmin to -2.954e+00 [aplpy.core]\n",
      "INFO: Auto-setting vmax to  2.398e+00 [aplpy.core]\n"
     ]
    },
    {
     "name": "stderr",
     "output_type": "stream",
     "text": [
      "/users/adignan/anaconda3/lib/python3.11/site-packages/aplpy/overlays.py:256: UserWarning: Text labels do not have attribute linewidth. Skipping.\n",
      "  warnings.warn(\"Text labels do not have attribute {0}. Skipping.\".format(kwarg))\n"
     ]
    },
    {
     "name": "stdout",
     "output_type": "stream",
     "text": [
      "Working on NGC5194b\n",
      "INFO: Setting slices=[0, 0] [aplpy.core]\n",
      "/lustre/cv/students/adignan/data/new/NGC5194/ngc5194_3GHz_r0.5_smoothed_ms.pbcor.gbt_resmatched_regridded.fits\n",
      "INFO: Auto-setting vmin to -1.025e-03 [aplpy.core]\n",
      "INFO: Auto-setting vmax to  5.648e-03 [aplpy.core]\n"
     ]
    },
    {
     "name": "stderr",
     "output_type": "stream",
     "text": [
      "/users/adignan/anaconda3/lib/python3.11/site-packages/aplpy/overlays.py:256: UserWarning: Text labels do not have attribute linewidth. Skipping.\n",
      "  warnings.warn(\"Text labels do not have attribute {0}. Skipping.\".format(kwarg))\n"
     ]
    },
    {
     "name": "stdout",
     "output_type": "stream",
     "text": [
      "INFO: Setting slices=[0, 0] [aplpy.core]\n",
      "INFO: Auto-setting vmin to -1.393e-03 [aplpy.core]\n",
      "INFO: Auto-setting vmax to  2.757e-03 [aplpy.core]\n"
     ]
    },
    {
     "name": "stderr",
     "output_type": "stream",
     "text": [
      "/users/adignan/anaconda3/lib/python3.11/site-packages/aplpy/overlays.py:256: UserWarning: Text labels do not have attribute linewidth. Skipping.\n",
      "  warnings.warn(\"Text labels do not have attribute {0}. Skipping.\".format(kwarg))\n"
     ]
    },
    {
     "name": "stdout",
     "output_type": "stream",
     "text": [
      "INFO: Setting slices=[0, 0] [aplpy.core]\n",
      "INFO: Auto-setting vmin to -5.338e-04 [aplpy.core]\n",
      "INFO: Auto-setting vmax to  1.209e-03 [aplpy.core]\n"
     ]
    },
    {
     "name": "stderr",
     "output_type": "stream",
     "text": [
      "/users/adignan/anaconda3/lib/python3.11/site-packages/aplpy/overlays.py:256: UserWarning: Text labels do not have attribute linewidth. Skipping.\n",
      "  warnings.warn(\"Text labels do not have attribute {0}. Skipping.\".format(kwarg))\n"
     ]
    },
    {
     "name": "stdout",
     "output_type": "stream",
     "text": [
      "INFO: Setting slices=[0] [aplpy.core]\n",
      "INFO: Auto-setting vmin to -2.780e+00 [aplpy.core]\n",
      "INFO: Auto-setting vmax to  2.257e+00 [aplpy.core]\n"
     ]
    },
    {
     "name": "stderr",
     "output_type": "stream",
     "text": [
      "/users/adignan/anaconda3/lib/python3.11/site-packages/aplpy/overlays.py:256: UserWarning: Text labels do not have attribute linewidth. Skipping.\n",
      "  warnings.warn(\"Text labels do not have attribute {0}. Skipping.\".format(kwarg))\n"
     ]
    },
    {
     "name": "stdout",
     "output_type": "stream",
     "text": [
      "Working on NGC5194c\n",
      "INFO: Setting slices=[0, 0] [aplpy.core]\n",
      "/lustre/cv/students/adignan/data/new/NGC5194/ngc5194_3GHz_r0.5_smoothed_ms.pbcor.gbt_resmatched_regridded.fits\n",
      "INFO: Auto-setting vmin to -9.721e-04 [aplpy.core]\n",
      "INFO: Auto-setting vmax to  5.782e-03 [aplpy.core]\n"
     ]
    },
    {
     "name": "stderr",
     "output_type": "stream",
     "text": [
      "/users/adignan/anaconda3/lib/python3.11/site-packages/aplpy/overlays.py:256: UserWarning: Text labels do not have attribute linewidth. Skipping.\n",
      "  warnings.warn(\"Text labels do not have attribute {0}. Skipping.\".format(kwarg))\n"
     ]
    },
    {
     "name": "stdout",
     "output_type": "stream",
     "text": [
      "INFO: Setting slices=[0, 0] [aplpy.core]\n",
      "INFO: Auto-setting vmin to -1.188e-03 [aplpy.core]\n",
      "INFO: Auto-setting vmax to  2.002e-03 [aplpy.core]\n"
     ]
    },
    {
     "name": "stderr",
     "output_type": "stream",
     "text": [
      "/users/adignan/anaconda3/lib/python3.11/site-packages/aplpy/overlays.py:256: UserWarning: Text labels do not have attribute linewidth. Skipping.\n",
      "  warnings.warn(\"Text labels do not have attribute {0}. Skipping.\".format(kwarg))\n"
     ]
    },
    {
     "name": "stdout",
     "output_type": "stream",
     "text": [
      "INFO: Setting slices=[0, 0] [aplpy.core]\n",
      "INFO: Auto-setting vmin to -5.012e-04 [aplpy.core]\n",
      "INFO: Auto-setting vmax to  1.270e-03 [aplpy.core]\n"
     ]
    },
    {
     "name": "stderr",
     "output_type": "stream",
     "text": [
      "/users/adignan/anaconda3/lib/python3.11/site-packages/aplpy/overlays.py:256: UserWarning: Text labels do not have attribute linewidth. Skipping.\n",
      "  warnings.warn(\"Text labels do not have attribute {0}. Skipping.\".format(kwarg))\n"
     ]
    },
    {
     "name": "stdout",
     "output_type": "stream",
     "text": [
      "INFO: Setting slices=[0] [aplpy.core]\n",
      "INFO: Auto-setting vmin to -2.374e+00 [aplpy.core]\n",
      "INFO: Auto-setting vmax to  2.094e+00 [aplpy.core]\n"
     ]
    },
    {
     "name": "stderr",
     "output_type": "stream",
     "text": [
      "/users/adignan/anaconda3/lib/python3.11/site-packages/aplpy/overlays.py:256: UserWarning: Text labels do not have attribute linewidth. Skipping.\n",
      "  warnings.warn(\"Text labels do not have attribute {0}. Skipping.\".format(kwarg))\n"
     ]
    },
    {
     "name": "stdout",
     "output_type": "stream",
     "text": [
      "Working on NGC5194d\n",
      "INFO: Setting slices=[0, 0] [aplpy.core]\n",
      "/lustre/cv/students/adignan/data/new/NGC5194/ngc5194_3GHz_r0.5_smoothed_ms.pbcor.gbt_resmatched_regridded.fits\n",
      "INFO: Auto-setting vmin to -1.064e-03 [aplpy.core]\n",
      "INFO: Auto-setting vmax to  5.784e-03 [aplpy.core]\n"
     ]
    },
    {
     "name": "stderr",
     "output_type": "stream",
     "text": [
      "/users/adignan/anaconda3/lib/python3.11/site-packages/aplpy/overlays.py:256: UserWarning: Text labels do not have attribute linewidth. Skipping.\n",
      "  warnings.warn(\"Text labels do not have attribute {0}. Skipping.\".format(kwarg))\n"
     ]
    },
    {
     "name": "stdout",
     "output_type": "stream",
     "text": [
      "INFO: Setting slices=[0, 0] [aplpy.core]\n",
      "INFO: Auto-setting vmin to -1.384e-03 [aplpy.core]\n",
      "INFO: Auto-setting vmax to  2.477e-03 [aplpy.core]\n"
     ]
    },
    {
     "name": "stderr",
     "output_type": "stream",
     "text": [
      "/users/adignan/anaconda3/lib/python3.11/site-packages/aplpy/overlays.py:256: UserWarning: Text labels do not have attribute linewidth. Skipping.\n",
      "  warnings.warn(\"Text labels do not have attribute {0}. Skipping.\".format(kwarg))\n"
     ]
    },
    {
     "name": "stdout",
     "output_type": "stream",
     "text": [
      "INFO: Setting slices=[0, 0] [aplpy.core]\n",
      "INFO: Auto-setting vmin to -6.409e-04 [aplpy.core]\n",
      "INFO: Auto-setting vmax to  1.312e-03 [aplpy.core]\n"
     ]
    },
    {
     "name": "stderr",
     "output_type": "stream",
     "text": [
      "/users/adignan/anaconda3/lib/python3.11/site-packages/aplpy/overlays.py:256: UserWarning: Text labels do not have attribute linewidth. Skipping.\n",
      "  warnings.warn(\"Text labels do not have attribute {0}. Skipping.\".format(kwarg))\n"
     ]
    },
    {
     "name": "stdout",
     "output_type": "stream",
     "text": [
      "INFO: Setting slices=[0] [aplpy.core]\n",
      "INFO: Auto-setting vmin to -2.486e+00 [aplpy.core]\n",
      "INFO: Auto-setting vmax to  2.193e+00 [aplpy.core]\n"
     ]
    },
    {
     "name": "stderr",
     "output_type": "stream",
     "text": [
      "/users/adignan/anaconda3/lib/python3.11/site-packages/aplpy/overlays.py:256: UserWarning: Text labels do not have attribute linewidth. Skipping.\n",
      "  warnings.warn(\"Text labels do not have attribute {0}. Skipping.\".format(kwarg))\n"
     ]
    },
    {
     "name": "stdout",
     "output_type": "stream",
     "text": [
      "Working on NGC5194e\n",
      "INFO: Setting slices=[0, 0] [aplpy.core]\n",
      "/lustre/cv/students/adignan/data/new/NGC5194/ngc5194_3GHz_r0.5_smoothed_ms.pbcor.gbt_resmatched_regridded.fits\n",
      "INFO: Auto-setting vmin to -1.147e-03 [aplpy.core]\n",
      "INFO: Auto-setting vmax to  7.791e-03 [aplpy.core]\n"
     ]
    },
    {
     "name": "stderr",
     "output_type": "stream",
     "text": [
      "/users/adignan/anaconda3/lib/python3.11/site-packages/aplpy/overlays.py:256: UserWarning: Text labels do not have attribute linewidth. Skipping.\n",
      "  warnings.warn(\"Text labels do not have attribute {0}. Skipping.\".format(kwarg))\n"
     ]
    },
    {
     "name": "stdout",
     "output_type": "stream",
     "text": [
      "INFO: Setting slices=[0, 0] [aplpy.core]\n",
      "INFO: Auto-setting vmin to -1.296e-03 [aplpy.core]\n",
      "INFO: Auto-setting vmax to  2.204e-03 [aplpy.core]\n"
     ]
    },
    {
     "name": "stderr",
     "output_type": "stream",
     "text": [
      "/users/adignan/anaconda3/lib/python3.11/site-packages/aplpy/overlays.py:256: UserWarning: Text labels do not have attribute linewidth. Skipping.\n",
      "  warnings.warn(\"Text labels do not have attribute {0}. Skipping.\".format(kwarg))\n"
     ]
    },
    {
     "name": "stdout",
     "output_type": "stream",
     "text": [
      "INFO: Setting slices=[0, 0] [aplpy.core]\n",
      "INFO: Auto-setting vmin to -5.739e-04 [aplpy.core]\n",
      "INFO: Auto-setting vmax to  1.168e-03 [aplpy.core]\n"
     ]
    },
    {
     "name": "stderr",
     "output_type": "stream",
     "text": [
      "/users/adignan/anaconda3/lib/python3.11/site-packages/aplpy/overlays.py:256: UserWarning: Text labels do not have attribute linewidth. Skipping.\n",
      "  warnings.warn(\"Text labels do not have attribute {0}. Skipping.\".format(kwarg))\n"
     ]
    },
    {
     "name": "stdout",
     "output_type": "stream",
     "text": [
      "INFO: Setting slices=[0] [aplpy.core]\n",
      "INFO: Auto-setting vmin to -2.661e+00 [aplpy.core]\n",
      "INFO: Auto-setting vmax to  2.220e+00 [aplpy.core]\n"
     ]
    },
    {
     "name": "stderr",
     "output_type": "stream",
     "text": [
      "/users/adignan/anaconda3/lib/python3.11/site-packages/aplpy/overlays.py:256: UserWarning: Text labels do not have attribute linewidth. Skipping.\n",
      "  warnings.warn(\"Text labels do not have attribute {0}. Skipping.\".format(kwarg))\n"
     ]
    },
    {
     "name": "stdout",
     "output_type": "stream",
     "text": [
      "Working on NGC5474\n",
      "INFO: Setting slices=[0, 0] [aplpy.core]\n",
      "/lustre/cv/students/adignan/data/new/NGC5474/ngc5474_3GHz_r0.5_smoothed_ms.pbcor.gbt_resmatched_regridded.fits\n",
      "INFO: Auto-setting vmin to -1.474e-04 [aplpy.core]\n",
      "INFO: Auto-setting vmax to  1.608e-04 [aplpy.core]\n"
     ]
    },
    {
     "name": "stderr",
     "output_type": "stream",
     "text": [
      "/users/adignan/anaconda3/lib/python3.11/site-packages/aplpy/overlays.py:256: UserWarning: Text labels do not have attribute linewidth. Skipping.\n",
      "  warnings.warn(\"Text labels do not have attribute {0}. Skipping.\".format(kwarg))\n"
     ]
    },
    {
     "name": "stdout",
     "output_type": "stream",
     "text": [
      "INFO: Setting slices=[0, 0] [aplpy.core]\n",
      "INFO: Auto-setting vmin to -4.101e-04 [aplpy.core]\n",
      "INFO: Auto-setting vmax to  4.291e-04 [aplpy.core]\n"
     ]
    },
    {
     "name": "stderr",
     "output_type": "stream",
     "text": [
      "/users/adignan/anaconda3/lib/python3.11/site-packages/aplpy/overlays.py:256: UserWarning: Text labels do not have attribute linewidth. Skipping.\n",
      "  warnings.warn(\"Text labels do not have attribute {0}. Skipping.\".format(kwarg))\n"
     ]
    },
    {
     "name": "stdout",
     "output_type": "stream",
     "text": [
      "INFO: Setting slices=[0, 0] [aplpy.core]\n",
      "INFO: Auto-setting vmin to -1.796e-04 [aplpy.core]\n",
      "INFO: Auto-setting vmax to  1.845e-04 [aplpy.core]\n"
     ]
    },
    {
     "name": "stderr",
     "output_type": "stream",
     "text": [
      "/users/adignan/anaconda3/lib/python3.11/site-packages/aplpy/overlays.py:256: UserWarning: Text labels do not have attribute linewidth. Skipping.\n",
      "  warnings.warn(\"Text labels do not have attribute {0}. Skipping.\".format(kwarg))\n"
     ]
    },
    {
     "name": "stdout",
     "output_type": "stream",
     "text": [
      "INFO: Setting slices=[0] [aplpy.core]\n",
      "INFO: Auto-setting vmin to -2.508e+01 [aplpy.core]\n",
      "INFO: Auto-setting vmax to  2.439e+01 [aplpy.core]\n"
     ]
    },
    {
     "name": "stderr",
     "output_type": "stream",
     "text": [
      "/users/adignan/anaconda3/lib/python3.11/site-packages/aplpy/overlays.py:256: UserWarning: Text labels do not have attribute linewidth. Skipping.\n",
      "  warnings.warn(\"Text labels do not have attribute {0}. Skipping.\".format(kwarg))\n"
     ]
    },
    {
     "name": "stdout",
     "output_type": "stream",
     "text": [
      "Working on NGC5713\n",
      "INFO: Setting slices=[0, 0] [aplpy.core]\n",
      "/lustre/cv/students/adignan/data/new/NGC5713/ngc5713_3GHz_r0.5_smoothed_ms.pbcor.gbt_resmatched_regridded.fits\n",
      "INFO: Auto-setting vmin to -5.668e-04 [aplpy.core]\n",
      "INFO: Auto-setting vmax to  3.265e-03 [aplpy.core]\n"
     ]
    },
    {
     "name": "stderr",
     "output_type": "stream",
     "text": [
      "/users/adignan/anaconda3/lib/python3.11/site-packages/aplpy/overlays.py:256: UserWarning: Text labels do not have attribute linewidth. Skipping.\n",
      "  warnings.warn(\"Text labels do not have attribute {0}. Skipping.\".format(kwarg))\n"
     ]
    },
    {
     "name": "stdout",
     "output_type": "stream",
     "text": [
      "INFO: Setting slices=[0, 0] [aplpy.core]\n",
      "INFO: Auto-setting vmin to -1.731e-03 [aplpy.core]\n",
      "INFO: Auto-setting vmax to  4.327e-03 [aplpy.core]\n"
     ]
    },
    {
     "name": "stderr",
     "output_type": "stream",
     "text": [
      "/users/adignan/anaconda3/lib/python3.11/site-packages/aplpy/overlays.py:256: UserWarning: Text labels do not have attribute linewidth. Skipping.\n",
      "  warnings.warn(\"Text labels do not have attribute {0}. Skipping.\".format(kwarg))\n"
     ]
    },
    {
     "name": "stdout",
     "output_type": "stream",
     "text": [
      "INFO: Setting slices=[0, 0] [aplpy.core]\n",
      "INFO: Auto-setting vmin to -6.518e-04 [aplpy.core]\n",
      "INFO: Auto-setting vmax to  2.258e-03 [aplpy.core]\n"
     ]
    },
    {
     "name": "stderr",
     "output_type": "stream",
     "text": [
      "/users/adignan/anaconda3/lib/python3.11/site-packages/aplpy/overlays.py:256: UserWarning: Text labels do not have attribute linewidth. Skipping.\n",
      "  warnings.warn(\"Text labels do not have attribute {0}. Skipping.\".format(kwarg))\n"
     ]
    },
    {
     "name": "stdout",
     "output_type": "stream",
     "text": [
      "INFO: Setting slices=[0] [aplpy.core]\n",
      "INFO: Auto-setting vmin to -1.146e+01 [aplpy.core]\n",
      "INFO: Auto-setting vmax to  1.266e+01 [aplpy.core]\n"
     ]
    },
    {
     "name": "stderr",
     "output_type": "stream",
     "text": [
      "/users/adignan/anaconda3/lib/python3.11/site-packages/aplpy/overlays.py:256: UserWarning: Text labels do not have attribute linewidth. Skipping.\n",
      "  warnings.warn(\"Text labels do not have attribute {0}. Skipping.\".format(kwarg))\n"
     ]
    },
    {
     "name": "stdout",
     "output_type": "stream",
     "text": [
      "Working on NGC5713Enuc.1\n",
      "INFO: Setting slices=[0, 0] [aplpy.core]\n",
      "/lustre/cv/students/adignan/data/new/NGC5713/ngc5713_e1_3GHz_r0.5_smoothed_ms.pbcor.gbt_resmatched_regridded.fits\n",
      "INFO: Auto-setting vmin to -4.080e-04 [aplpy.core]\n",
      "INFO: Auto-setting vmax to  1.916e-03 [aplpy.core]\n"
     ]
    },
    {
     "name": "stderr",
     "output_type": "stream",
     "text": [
      "/users/adignan/anaconda3/lib/python3.11/site-packages/aplpy/overlays.py:256: UserWarning: Text labels do not have attribute linewidth. Skipping.\n",
      "  warnings.warn(\"Text labels do not have attribute {0}. Skipping.\".format(kwarg))\n"
     ]
    },
    {
     "name": "stdout",
     "output_type": "stream",
     "text": [
      "INFO: Setting slices=[0, 0] [aplpy.core]\n",
      "INFO: Auto-setting vmin to -1.032e-03 [aplpy.core]\n",
      "INFO: Auto-setting vmax to  4.123e-03 [aplpy.core]\n"
     ]
    },
    {
     "name": "stderr",
     "output_type": "stream",
     "text": [
      "/users/adignan/anaconda3/lib/python3.11/site-packages/aplpy/overlays.py:256: UserWarning: Text labels do not have attribute linewidth. Skipping.\n",
      "  warnings.warn(\"Text labels do not have attribute {0}. Skipping.\".format(kwarg))\n"
     ]
    },
    {
     "name": "stdout",
     "output_type": "stream",
     "text": [
      "INFO: Setting slices=[0, 0] [aplpy.core]\n",
      "INFO: Auto-setting vmin to -6.219e-04 [aplpy.core]\n",
      "INFO: Auto-setting vmax to  3.212e-03 [aplpy.core]\n"
     ]
    },
    {
     "name": "stderr",
     "output_type": "stream",
     "text": [
      "/users/adignan/anaconda3/lib/python3.11/site-packages/aplpy/overlays.py:256: UserWarning: Text labels do not have attribute linewidth. Skipping.\n",
      "  warnings.warn(\"Text labels do not have attribute {0}. Skipping.\".format(kwarg))\n"
     ]
    },
    {
     "name": "stdout",
     "output_type": "stream",
     "text": [
      "INFO: Setting slices=[0] [aplpy.core]\n",
      "INFO: Auto-setting vmin to -1.187e+01 [aplpy.core]\n",
      "INFO: Auto-setting vmax to  1.232e+01 [aplpy.core]\n"
     ]
    },
    {
     "name": "stderr",
     "output_type": "stream",
     "text": [
      "/users/adignan/anaconda3/lib/python3.11/site-packages/aplpy/overlays.py:256: UserWarning: Text labels do not have attribute linewidth. Skipping.\n",
      "  warnings.warn(\"Text labels do not have attribute {0}. Skipping.\".format(kwarg))\n"
     ]
    },
    {
     "name": "stdout",
     "output_type": "stream",
     "text": [
      "Working on NGC5713Enuc.2a\n",
      "INFO: Setting slices=[0, 0] [aplpy.core]\n",
      "/lustre/cv/students/adignan/data/new/NGC5713/ngc5713_e2_3GHz_r0.5_smoothed_ms.pbcor.gbt_resmatched_regridded.fits\n",
      "INFO: Auto-setting vmin to -7.827e-04 [aplpy.core]\n",
      "INFO: Auto-setting vmax to  6.234e-03 [aplpy.core]\n"
     ]
    },
    {
     "name": "stderr",
     "output_type": "stream",
     "text": [
      "/users/adignan/anaconda3/lib/python3.11/site-packages/aplpy/overlays.py:256: UserWarning: Text labels do not have attribute linewidth. Skipping.\n",
      "  warnings.warn(\"Text labels do not have attribute {0}. Skipping.\".format(kwarg))\n"
     ]
    },
    {
     "name": "stdout",
     "output_type": "stream",
     "text": [
      "INFO: Setting slices=[0, 0] [aplpy.core]\n",
      "INFO: Auto-setting vmin to -1.071e-03 [aplpy.core]\n",
      "INFO: Auto-setting vmax to  4.765e-03 [aplpy.core]\n"
     ]
    },
    {
     "name": "stderr",
     "output_type": "stream",
     "text": [
      "/users/adignan/anaconda3/lib/python3.11/site-packages/aplpy/overlays.py:256: UserWarning: Text labels do not have attribute linewidth. Skipping.\n",
      "  warnings.warn(\"Text labels do not have attribute {0}. Skipping.\".format(kwarg))\n"
     ]
    },
    {
     "name": "stdout",
     "output_type": "stream",
     "text": [
      "INFO: Setting slices=[0, 0] [aplpy.core]\n",
      "INFO: Auto-setting vmin to -7.397e-04 [aplpy.core]\n",
      "INFO: Auto-setting vmax to  4.023e-03 [aplpy.core]\n"
     ]
    },
    {
     "name": "stderr",
     "output_type": "stream",
     "text": [
      "/users/adignan/anaconda3/lib/python3.11/site-packages/aplpy/overlays.py:256: UserWarning: Text labels do not have attribute linewidth. Skipping.\n",
      "  warnings.warn(\"Text labels do not have attribute {0}. Skipping.\".format(kwarg))\n"
     ]
    },
    {
     "name": "stdout",
     "output_type": "stream",
     "text": [
      "INFO: Setting slices=[0] [aplpy.core]\n",
      "INFO: Auto-setting vmin to -1.224e+01 [aplpy.core]\n",
      "INFO: Auto-setting vmax to  1.235e+01 [aplpy.core]\n"
     ]
    },
    {
     "name": "stderr",
     "output_type": "stream",
     "text": [
      "/users/adignan/anaconda3/lib/python3.11/site-packages/aplpy/overlays.py:256: UserWarning: Text labels do not have attribute linewidth. Skipping.\n",
      "  warnings.warn(\"Text labels do not have attribute {0}. Skipping.\".format(kwarg))\n"
     ]
    },
    {
     "name": "stdout",
     "output_type": "stream",
     "text": [
      "Working on NGC5713Enuc.2b\n",
      "INFO: Setting slices=[0, 0] [aplpy.core]\n",
      "/lustre/cv/students/adignan/data/new/NGC5713/ngc5713_e2_3GHz_r0.5_smoothed_ms.pbcor.gbt_resmatched_regridded.fits\n",
      "INFO: Auto-setting vmin to -7.642e-04 [aplpy.core]\n",
      "INFO: Auto-setting vmax to  5.825e-03 [aplpy.core]\n"
     ]
    },
    {
     "name": "stderr",
     "output_type": "stream",
     "text": [
      "/users/adignan/anaconda3/lib/python3.11/site-packages/aplpy/overlays.py:256: UserWarning: Text labels do not have attribute linewidth. Skipping.\n",
      "  warnings.warn(\"Text labels do not have attribute {0}. Skipping.\".format(kwarg))\n"
     ]
    },
    {
     "name": "stdout",
     "output_type": "stream",
     "text": [
      "INFO: Setting slices=[0, 0] [aplpy.core]\n",
      "INFO: Auto-setting vmin to -1.043e-03 [aplpy.core]\n",
      "INFO: Auto-setting vmax to  4.693e-03 [aplpy.core]\n"
     ]
    },
    {
     "name": "stderr",
     "output_type": "stream",
     "text": [
      "/users/adignan/anaconda3/lib/python3.11/site-packages/aplpy/overlays.py:256: UserWarning: Text labels do not have attribute linewidth. Skipping.\n",
      "  warnings.warn(\"Text labels do not have attribute {0}. Skipping.\".format(kwarg))\n"
     ]
    },
    {
     "name": "stdout",
     "output_type": "stream",
     "text": [
      "INFO: Setting slices=[0, 0] [aplpy.core]\n",
      "INFO: Auto-setting vmin to -6.463e-04 [aplpy.core]\n",
      "INFO: Auto-setting vmax to  2.817e-03 [aplpy.core]\n"
     ]
    },
    {
     "name": "stderr",
     "output_type": "stream",
     "text": [
      "/users/adignan/anaconda3/lib/python3.11/site-packages/aplpy/overlays.py:256: UserWarning: Text labels do not have attribute linewidth. Skipping.\n",
      "  warnings.warn(\"Text labels do not have attribute {0}. Skipping.\".format(kwarg))\n"
     ]
    },
    {
     "name": "stdout",
     "output_type": "stream",
     "text": [
      "INFO: Setting slices=[0] [aplpy.core]\n",
      "INFO: Auto-setting vmin to -1.097e+01 [aplpy.core]\n",
      "INFO: Auto-setting vmax to  1.385e+01 [aplpy.core]\n"
     ]
    },
    {
     "name": "stderr",
     "output_type": "stream",
     "text": [
      "/users/adignan/anaconda3/lib/python3.11/site-packages/aplpy/overlays.py:256: UserWarning: Text labels do not have attribute linewidth. Skipping.\n",
      "  warnings.warn(\"Text labels do not have attribute {0}. Skipping.\".format(kwarg))\n"
     ]
    },
    {
     "name": "stdout",
     "output_type": "stream",
     "text": [
      "Working on NGC2146a\n",
      "INFO: Setting slices=[0, 0] [aplpy.core]\n",
      "/lustre/cv/students/adignan/data/new/NGC2146/ngc2146_3GHz_r0.5_smoothed_ms.pbcor.gbt_resmatched_regridded.fits\n",
      "INFO: Auto-setting vmin to -1.027e-02 [aplpy.core]\n",
      "INFO: Auto-setting vmax to  9.907e-02 [aplpy.core]\n"
     ]
    },
    {
     "name": "stderr",
     "output_type": "stream",
     "text": [
      "/users/adignan/anaconda3/lib/python3.11/site-packages/aplpy/overlays.py:256: UserWarning: Text labels do not have attribute linewidth. Skipping.\n",
      "  warnings.warn(\"Text labels do not have attribute {0}. Skipping.\".format(kwarg))\n"
     ]
    },
    {
     "name": "stdout",
     "output_type": "stream",
     "text": [
      "INFO: Setting slices=[0, 0] [aplpy.core]\n",
      "INFO: Auto-setting vmin to -1.043e-03 [aplpy.core]\n",
      "INFO: Auto-setting vmax to  5.645e-03 [aplpy.core]\n"
     ]
    },
    {
     "name": "stderr",
     "output_type": "stream",
     "text": [
      "/users/adignan/anaconda3/lib/python3.11/site-packages/aplpy/overlays.py:256: UserWarning: Text labels do not have attribute linewidth. Skipping.\n",
      "  warnings.warn(\"Text labels do not have attribute {0}. Skipping.\".format(kwarg))\n"
     ]
    },
    {
     "name": "stdout",
     "output_type": "stream",
     "text": [
      "INFO: Setting slices=[0, 0] [aplpy.core]\n",
      "INFO: Auto-setting vmin to -4.327e-03 [aplpy.core]\n",
      "INFO: Auto-setting vmax to  3.621e-02 [aplpy.core]\n"
     ]
    },
    {
     "name": "stderr",
     "output_type": "stream",
     "text": [
      "/users/adignan/anaconda3/lib/python3.11/site-packages/aplpy/overlays.py:256: UserWarning: Text labels do not have attribute linewidth. Skipping.\n",
      "  warnings.warn(\"Text labels do not have attribute {0}. Skipping.\".format(kwarg))\n"
     ]
    },
    {
     "name": "stdout",
     "output_type": "stream",
     "text": [
      "INFO: Setting slices=[0] [aplpy.core]\n",
      "INFO: Auto-setting vmin to -5.361e+00 [aplpy.core]\n",
      "INFO: Auto-setting vmax to  6.266e+00 [aplpy.core]\n"
     ]
    },
    {
     "name": "stderr",
     "output_type": "stream",
     "text": [
      "/users/adignan/anaconda3/lib/python3.11/site-packages/aplpy/overlays.py:256: UserWarning: Text labels do not have attribute linewidth. Skipping.\n",
      "  warnings.warn(\"Text labels do not have attribute {0}. Skipping.\".format(kwarg))\n"
     ]
    },
    {
     "name": "stdout",
     "output_type": "stream",
     "text": [
      "Working on NGC2146b\n",
      "INFO: Setting slices=[0, 0] [aplpy.core]\n",
      "/lustre/cv/students/adignan/data/new/NGC2146/ngc2146_3GHz_r0.5_smoothed_ms.pbcor.gbt_resmatched_regridded.fits\n",
      "INFO: Auto-setting vmin to -1.094e-02 [aplpy.core]\n",
      "INFO: Auto-setting vmax to  1.058e-01 [aplpy.core]\n"
     ]
    },
    {
     "name": "stderr",
     "output_type": "stream",
     "text": [
      "/users/adignan/anaconda3/lib/python3.11/site-packages/aplpy/overlays.py:256: UserWarning: Text labels do not have attribute linewidth. Skipping.\n",
      "  warnings.warn(\"Text labels do not have attribute {0}. Skipping.\".format(kwarg))\n"
     ]
    },
    {
     "name": "stdout",
     "output_type": "stream",
     "text": [
      "INFO: Setting slices=[0, 0] [aplpy.core]\n",
      "INFO: Auto-setting vmin to -1.418e-03 [aplpy.core]\n",
      "INFO: Auto-setting vmax to  8.769e-03 [aplpy.core]\n"
     ]
    },
    {
     "name": "stderr",
     "output_type": "stream",
     "text": [
      "/users/adignan/anaconda3/lib/python3.11/site-packages/aplpy/overlays.py:256: UserWarning: Text labels do not have attribute linewidth. Skipping.\n",
      "  warnings.warn(\"Text labels do not have attribute {0}. Skipping.\".format(kwarg))\n"
     ]
    },
    {
     "name": "stdout",
     "output_type": "stream",
     "text": [
      "INFO: Setting slices=[0, 0] [aplpy.core]\n",
      "INFO: Auto-setting vmin to -4.215e-03 [aplpy.core]\n",
      "INFO: Auto-setting vmax to  3.486e-02 [aplpy.core]\n"
     ]
    },
    {
     "name": "stderr",
     "output_type": "stream",
     "text": [
      "/users/adignan/anaconda3/lib/python3.11/site-packages/aplpy/overlays.py:256: UserWarning: Text labels do not have attribute linewidth. Skipping.\n",
      "  warnings.warn(\"Text labels do not have attribute {0}. Skipping.\".format(kwarg))\n"
     ]
    },
    {
     "name": "stdout",
     "output_type": "stream",
     "text": [
      "INFO: Setting slices=[0] [aplpy.core]\n",
      "INFO: Auto-setting vmin to -5.465e+00 [aplpy.core]\n",
      "INFO: Auto-setting vmax to  6.152e+00 [aplpy.core]\n"
     ]
    },
    {
     "name": "stderr",
     "output_type": "stream",
     "text": [
      "/users/adignan/anaconda3/lib/python3.11/site-packages/aplpy/overlays.py:256: UserWarning: Text labels do not have attribute linewidth. Skipping.\n",
      "  warnings.warn(\"Text labels do not have attribute {0}. Skipping.\".format(kwarg))\n"
     ]
    },
    {
     "name": "stdout",
     "output_type": "stream",
     "text": [
      "Working on NGC2146c\n",
      "INFO: Setting slices=[0, 0] [aplpy.core]\n",
      "/lustre/cv/students/adignan/data/new/NGC2146/ngc2146_3GHz_r0.5_smoothed_ms.pbcor.gbt_resmatched_regridded.fits\n",
      "INFO: Auto-setting vmin to -5.952e-03 [aplpy.core]\n",
      "INFO: Auto-setting vmax to  5.102e-02 [aplpy.core]\n"
     ]
    },
    {
     "name": "stderr",
     "output_type": "stream",
     "text": [
      "/users/adignan/anaconda3/lib/python3.11/site-packages/aplpy/overlays.py:256: UserWarning: Text labels do not have attribute linewidth. Skipping.\n",
      "  warnings.warn(\"Text labels do not have attribute {0}. Skipping.\".format(kwarg))\n"
     ]
    },
    {
     "name": "stdout",
     "output_type": "stream",
     "text": [
      "INFO: Setting slices=[0, 0] [aplpy.core]\n",
      "INFO: Auto-setting vmin to -1.035e-03 [aplpy.core]\n",
      "INFO: Auto-setting vmax to  5.734e-03 [aplpy.core]\n"
     ]
    },
    {
     "name": "stderr",
     "output_type": "stream",
     "text": [
      "/users/adignan/anaconda3/lib/python3.11/site-packages/aplpy/overlays.py:256: UserWarning: Text labels do not have attribute linewidth. Skipping.\n",
      "  warnings.warn(\"Text labels do not have attribute {0}. Skipping.\".format(kwarg))\n"
     ]
    },
    {
     "name": "stdout",
     "output_type": "stream",
     "text": [
      "INFO: Setting slices=[0, 0] [aplpy.core]\n",
      "INFO: Auto-setting vmin to -4.772e-03 [aplpy.core]\n",
      "INFO: Auto-setting vmax to  4.158e-02 [aplpy.core]\n"
     ]
    },
    {
     "name": "stderr",
     "output_type": "stream",
     "text": [
      "/users/adignan/anaconda3/lib/python3.11/site-packages/aplpy/overlays.py:256: UserWarning: Text labels do not have attribute linewidth. Skipping.\n",
      "  warnings.warn(\"Text labels do not have attribute {0}. Skipping.\".format(kwarg))\n"
     ]
    },
    {
     "name": "stdout",
     "output_type": "stream",
     "text": [
      "INFO: Setting slices=[0] [aplpy.core]\n",
      "INFO: Auto-setting vmin to -5.946e+00 [aplpy.core]\n",
      "INFO: Auto-setting vmax to  5.960e+00 [aplpy.core]\n"
     ]
    },
    {
     "ename": "Exception",
     "evalue": "Zoom region falls outside the image",
     "output_type": "error",
     "traceback": [
      "\u001b[0;31m---------------------------------------------------------------------------\u001b[0m",
      "\u001b[0;31mException\u001b[0m                                 Traceback (most recent call last)",
      "Cell \u001b[0;32mIn[29], line 99\u001b[0m\n\u001b[1;32m     97\u001b[0m f4\u001b[38;5;241m.\u001b[39mcolorbar\u001b[38;5;241m.\u001b[39mset_pad(\u001b[38;5;241m0.25\u001b[39m)\n\u001b[1;32m     98\u001b[0m f4\u001b[38;5;241m.\u001b[39mcolorbar\u001b[38;5;241m.\u001b[39mset_axis_label_text(\u001b[38;5;124m'\u001b[39m\u001b[38;5;124mmJy/beam\u001b[39m\u001b[38;5;124m'\u001b[39m)\n\u001b[0;32m---> 99\u001b[0m f4\u001b[38;5;241m.\u001b[39mrecenter(merged_table[\u001b[38;5;124m'\u001b[39m\u001b[38;5;124mRA (deg)\u001b[39m\u001b[38;5;124m'\u001b[39m][i\u001b[38;5;241m+\u001b[39m\u001b[38;5;241m3\u001b[39m:i\u001b[38;5;241m+\u001b[39m\u001b[38;5;241m4\u001b[39m],merged_table[\u001b[38;5;124m'\u001b[39m\u001b[38;5;124mDec (deg)\u001b[39m\u001b[38;5;124m'\u001b[39m][i\u001b[38;5;241m+\u001b[39m\u001b[38;5;241m3\u001b[39m:i\u001b[38;5;241m+\u001b[39m\u001b[38;5;241m4\u001b[39m],width\u001b[38;5;241m=\u001b[39mw, height\u001b[38;5;241m=\u001b[39mh)\n\u001b[1;32m    100\u001b[0m f4\u001b[38;5;241m.\u001b[39mshow_regions(\u001b[38;5;124m'\u001b[39m\u001b[38;5;124m/users/adignan/regfiles/new/\u001b[39m\u001b[38;5;124m'\u001b[39m\u001b[38;5;241m+\u001b[39m\u001b[38;5;28mstr\u001b[39m(row[\u001b[38;5;124m'\u001b[39m\u001b[38;5;124mSource ID\u001b[39m\u001b[38;5;124m'\u001b[39m])\u001b[38;5;241m+\u001b[39m\u001b[38;5;124m'\u001b[39m\u001b[38;5;124m_90GHz.reg\u001b[39m\u001b[38;5;124m'\u001b[39m)\n\u001b[1;32m    101\u001b[0m f4\u001b[38;5;241m.\u001b[39madd_scalebar(\u001b[38;5;241m10\u001b[39m\u001b[38;5;241m*\u001b[39mu\u001b[38;5;241m.\u001b[39marcsec,label\u001b[38;5;241m=\u001b[39m(\u001b[38;5;124m\"\u001b[39m\u001b[38;5;132;01m%.2f\u001b[39;00m\u001b[38;5;124m\"\u001b[39m \u001b[38;5;241m%\u001b[39m ((\u001b[38;5;241m10\u001b[39m\u001b[38;5;241m*\u001b[39mpclabel\u001b[38;5;241m.\u001b[39mvalue)\u001b[38;5;241m/\u001b[39m(\u001b[38;5;241m1000\u001b[39m)) \u001b[38;5;241m+\u001b[39m \u001b[38;5;124m'\u001b[39m\u001b[38;5;124m kpc\u001b[39m\u001b[38;5;124m'\u001b[39m))\n",
      "File \u001b[0;32m~/anaconda3/lib/python3.11/site-packages/aplpy/decorators.py:26\u001b[0m, in \u001b[0;36mauto_refresh.<locals>.wrapper\u001b[0;34m(*args, **kwargs)\u001b[0m\n\u001b[1;32m     23\u001b[0m mydata\u001b[38;5;241m.\u001b[39mnesting \u001b[38;5;241m=\u001b[39m \u001b[38;5;28mgetattr\u001b[39m(mydata, \u001b[38;5;124m'\u001b[39m\u001b[38;5;124mnesting\u001b[39m\u001b[38;5;124m'\u001b[39m, \u001b[38;5;241m0\u001b[39m) \u001b[38;5;241m+\u001b[39m \u001b[38;5;241m1\u001b[39m\n\u001b[1;32m     25\u001b[0m \u001b[38;5;28;01mtry\u001b[39;00m:\n\u001b[0;32m---> 26\u001b[0m     \u001b[38;5;28;01mreturn\u001b[39;00m f(\u001b[38;5;241m*\u001b[39margs, \u001b[38;5;241m*\u001b[39m\u001b[38;5;241m*\u001b[39mkwargs)\n\u001b[1;32m     27\u001b[0m \u001b[38;5;28;01mfinally\u001b[39;00m:\n\u001b[1;32m     28\u001b[0m     mydata\u001b[38;5;241m.\u001b[39mnesting \u001b[38;5;241m-\u001b[39m\u001b[38;5;241m=\u001b[39m \u001b[38;5;241m1\u001b[39m\n",
      "File \u001b[0;32m~/anaconda3/lib/python3.11/site-packages/aplpy/core.py:517\u001b[0m, in \u001b[0;36mFITSFigure.recenter\u001b[0;34m(self, x, y, radius, width, height)\u001b[0m\n\u001b[1;32m    510\u001b[0m     \u001b[38;5;28;01mraise\u001b[39;00m \u001b[38;5;167;01mException\u001b[39;00m(\u001b[38;5;124m\"\u001b[39m\u001b[38;5;124mNeed to specify either radius= or width= and height= arguments\u001b[39m\u001b[38;5;124m\"\u001b[39m)\n\u001b[1;32m    512\u001b[0m \u001b[38;5;28;01mif\u001b[39;00m (xpix \u001b[38;5;241m+\u001b[39m dx_pix \u001b[38;5;241m<\u001b[39m \u001b[38;5;241m-\u001b[39m\u001b[38;5;241m0.5\u001b[39m \u001b[38;5;129;01mor\u001b[39;00m\n\u001b[1;32m    513\u001b[0m     xpix \u001b[38;5;241m-\u001b[39m dx_pix \u001b[38;5;241m>\u001b[39m \u001b[38;5;28mself\u001b[39m\u001b[38;5;241m.\u001b[39m_wcs\u001b[38;5;241m.\u001b[39mnx \u001b[38;5;241m-\u001b[39m \u001b[38;5;241m0.5\u001b[39m \u001b[38;5;129;01mor\u001b[39;00m\n\u001b[1;32m    514\u001b[0m     ypix \u001b[38;5;241m+\u001b[39m dy_pix \u001b[38;5;241m<\u001b[39m \u001b[38;5;241m-\u001b[39m\u001b[38;5;241m0.5\u001b[39m \u001b[38;5;129;01mor\u001b[39;00m\n\u001b[1;32m    515\u001b[0m         ypix \u001b[38;5;241m-\u001b[39m dy_pix \u001b[38;5;241m>\u001b[39m \u001b[38;5;28mself\u001b[39m\u001b[38;5;241m.\u001b[39m_wcs\u001b[38;5;241m.\u001b[39mny):\n\u001b[0;32m--> 517\u001b[0m     \u001b[38;5;28;01mraise\u001b[39;00m \u001b[38;5;167;01mException\u001b[39;00m(\u001b[38;5;124m\"\u001b[39m\u001b[38;5;124mZoom region falls outside the image\u001b[39m\u001b[38;5;124m\"\u001b[39m)\n\u001b[1;32m    519\u001b[0m \u001b[38;5;28mself\u001b[39m\u001b[38;5;241m.\u001b[39max\u001b[38;5;241m.\u001b[39mset_xlim(xpix \u001b[38;5;241m-\u001b[39m dx_pix, xpix \u001b[38;5;241m+\u001b[39m dx_pix)\n\u001b[1;32m    520\u001b[0m \u001b[38;5;28mself\u001b[39m\u001b[38;5;241m.\u001b[39max\u001b[38;5;241m.\u001b[39mset_ylim(ypix \u001b[38;5;241m-\u001b[39m dy_pix, ypix \u001b[38;5;241m+\u001b[39m dy_pix)\n",
      "\u001b[0;31mException\u001b[0m: Zoom region falls outside the image"
     ]
    },
    {
     "data": {
      "image/png": "[encoded data removed]",
      "text/plain": [
       "<Figure size 1500x1500 with 8 Axes>"
      ]
     },
     "metadata": {},
     "output_type": "display_data"
    }
   ],
   "source": [
    "import matplotlib\n",
    "import matplotlib.pyplot as plt\n",
    "import aplpy\n",
    "\n",
    "##########################################################################################################\n",
    "#function to help us with plotting later on \n",
    "def fix_aplpy_fits(aplpy_obj, dropaxis=2):\n",
    "    \"\"\"This removes the degenerated dimensions in APLpy 2.X...\n",
    "    The input must be the object returned by aplpy.FITSFigure().\n",
    "    `dropaxis` is the index where to start dropping the axis (by default it assumes the 3rd,4th place).\n",
    "    \"\"\"\n",
    "    temp_wcs = aplpy_obj._wcs.dropaxis(dropaxis)\n",
    "    temp_wcs = temp_wcs.dropaxis(dropaxis)\n",
    "    aplpy_obj._wcs = temp_wcs\n",
    "    \n",
    "##########################################################################################################\n",
    "#define some constants for making a scalebar    \n",
    "scale=0.00055556*u.degree #pixel scale in degrees\n",
    "scalearcsec=scale.to('arcsec') #pixel scale in arcseconds\n",
    "length=scalearcsec.value*(19e6*u.AU) #convert pixel scale in arcsecs to length in AU\n",
    "lengthpc=length.to(u.pc) #convert length in AU to length in pc\n",
    "lengtharcsec=(lengthpc/(19.3e6*u.pc))*u.arcsec #convert length in pc to length in arcsecs\n",
    "distance=19e6*u.Mpc #define constant for converting distance from AU to pc\n",
    "pclabel=(distance.value*u.AU).to(u.pc) #create label for scalebar\n",
    "\n",
    "##########################################################################################################\n",
    "import sys\n",
    "\n",
    "tbl\n",
    "# sys.exit()\n",
    "\n",
    "for i in range(54):\n",
    "    for row in tbl:\n",
    "        print('Working on ' + str(row['Source ID']))\n",
    "        #set up the subplots\n",
    "        fig = plt.figure(figsize=(15,15))\n",
    "        \n",
    "        #set width and height parameters for recentering\n",
    "        w=0.075\n",
    "        h=0.075\n",
    "        #3 GHz image\n",
    "        #plot the fits file\n",
    "        f1 = aplpy.FITSFigure(data=str(row['3 GHz file'])[:-5]+'.fits', figure=fig, subplot=[0.1,0.5,0.35,0.35])\n",
    "        print(str(row['3 GHz file']))\n",
    "        fix_aplpy_fits(f1)\n",
    "        #pick out a colormap to use\n",
    "        f1.show_colorscale(cmap='cubehelix')\n",
    "        f1.add_colorbar()\n",
    "        f1.colorbar.set_pad(0.25)\n",
    "        #recenter based on pixel coordinates of aperture\n",
    "        f1.colorbar.set_axis_label_text('mJy/beam')\n",
    "        f1.recenter(merged_table['RA (deg)'][i:i+1],merged_table['Dec (deg)'][i:i+1],width=w, height=h)\n",
    "        #plot the aperture and annulus\n",
    "        f1.show_regions('/users/adignan/regfiles/new/'+str(row['Source ID'])+'_3GHz.reg')\n",
    "        f1.add_scalebar(10*u.arcsec,label=(\"%.2f\" % ((10*pclabel.value)/(1000)) + ' kpc'))\n",
    "        f1.scalebar.set(color='white',linewidth=3) \n",
    "        f1.scalebar.set_font(size='large', weight='heavy', stretch='normal', family='serif')\n",
    "        f1.axis_labels.hide()\n",
    "        f1.set_title('3 GHz',fontsize=15)\n",
    "\n",
    "        #15 GHz image\n",
    "        f2 = aplpy.FITSFigure(data=str(row['15 GHz file'])[:-5]+'.fits', figure=fig, subplot=[0.55,0.5,0.35,0.35])\n",
    "        fix_aplpy_fits(f2)\n",
    "        f2.show_colorscale(cmap='cubehelix')\n",
    "        f2.add_colorbar()\n",
    "        f2.colorbar.set_pad(0.25)\n",
    "        f2.colorbar.set_axis_label_text('mJy/beam')\n",
    "        f2.recenter(merged_table['RA (deg)'][i+1:i+2],merged_table['Dec (deg)'][i+1:i+2],width=w, height=h)\n",
    "        f2.show_regions('/users/adignan/regfiles/new/'+str(row['Source ID'])+'_15GHz.reg')\n",
    "        f2.add_scalebar(10*u.arcsec,label=(\"%.2f\" % ((10*pclabel.value)/(1000)) + ' kpc'))\n",
    "        f2.scalebar.set(color='black',linewidth=3)\n",
    "        f2.scalebar.set_font(size='large', weight='heavy', stretch='normal', family='serif')\n",
    "        f2.axis_labels.hide()\n",
    "        f2.set_title('15 GHz',fontsize=15)\n",
    "\n",
    "        #33 GHz image\n",
    "        f3 = aplpy.FITSFigure(data=str(row['33 GHz file'])[:-5]+'.fits', figure=fig, subplot=[0.1,0.1,0.35,0.35])\n",
    "        fix_aplpy_fits(f3)\n",
    "        f3.show_colorscale(cmap='cubehelix')\n",
    "        f3.add_colorbar()\n",
    "        f3.colorbar.set_pad(0.25)\n",
    "        f3.colorbar.set_axis_label_text('mJy/beam')\n",
    "        f3.recenter(merged_table['RA (deg)'][i+2:i+3],merged_table['Dec (deg)'][i+2:i+3],width=w, height=h)\n",
    "        f3.show_regions('/users/adignan/regfiles/new/'+str(row['Source ID'])+'_33GHz.reg')\n",
    "        f3.add_scalebar(10*u.arcsec,label=(\"%.2f\" % ((10*pclabel.value)/(1000)) + ' kpc'))\n",
    "        f3.scalebar.set(color='black',linewidth=3)\n",
    "        f3.scalebar.set_font(size='large', weight='heavy', stretch='normal', family='serif')\n",
    "        f3.axis_labels.hide()\n",
    "        f3.set_title('33 GHz',fontsize=15)\n",
    "\n",
    "        #90 GHz image\n",
    "        f4 = aplpy.FITSFigure(data=str(row['90 GHz file'])[:-5]+'_copy.fits', figure=fig, subplot=[0.55,0.1,0.35,0.35])\n",
    "        temp_wcs = f4._wcs.dropaxis(2)\n",
    "        f4._wcs = temp_wcs\n",
    "        f4.show_colorscale(cmap='cubehelix')\n",
    "        f4.add_colorbar()\n",
    "        f4.colorbar.set_pad(0.25)\n",
    "        f4.colorbar.set_axis_label_text('mJy/beam')\n",
    "        f4.recenter(merged_table['RA (deg)'][i+3:i+4],merged_table['Dec (deg)'][i+3:i+4],width=w, height=h)\n",
    "        f4.show_regions('/users/adignan/regfiles/new/'+str(row['Source ID'])+'_90GHz.reg')\n",
    "        f4.add_scalebar(10*u.arcsec,label=(\"%.2f\" % ((10*pclabel.value)/(1000)) + ' kpc'))\n",
    "        f4.scalebar.set(color='white',linewidth=3)\n",
    "        f4.scalebar.set_font(size='large', weight='heavy', stretch='normal', family='serif')\n",
    "        f4.axis_labels.hide()\n",
    "        f4.set_title('90 GHz',fontsize=15)\n",
    "\n",
    "        plt.suptitle(str(row['Source ID']),fontsize=25,x=0.475,y=0.9)\n",
    "        \n",
    "        fig.savefig('/users/adignan/figures/new/'+str(row['Source ID'])+'.png')\n",
    "\n",
    "        plt.close()\n",
    "        \n",
    "        i=i+4"
   ]
  },
  {
   "cell_type": "markdown",
   "id": "380b0206",
   "metadata": {},
   "source": [
    "# Creating copies of 90 GHz images for plotting\n",
    "\n",
    "### There's no way to manually change the colorbar scale, so just change the scale of the data"
   ]
  },
  {
   "cell_type": "code",
   "execution_count": 11,
   "id": "c4806536",
   "metadata": {},
   "outputs": [],
   "source": [
    "\n",
    "for row in tbl:\n",
    "    with fits.open(row['90 GHz file']) as f:\n",
    "        hdr = f[0].header \n",
    "        hdr['BSCALE']=1000.0\n",
    "        f.writeto(str(row['90 GHz file'])[:-5]+'_copy.fits',overwrite=True)"
   ]
  },
  {
   "cell_type": "markdown",
   "id": "88743cea",
   "metadata": {},
   "source": [
    "# Performing photometry (manual)"
   ]
  },
  {
   "cell_type": "code",
   "execution_count": null,
   "id": "ba570178",
   "metadata": {
    "scrolled": true
   },
   "outputs": [],
   "source": [
    "###PURPOSE: perform photometry for a given galaxy\n",
    "\n",
    "#import statements\n",
    "from astropy.io import fits\n",
    "from astropy import units as u\n",
    "from astropy.coordinates import SkyCoord\n",
    "from photutils.aperture import SkyCircularAperture, SkyCircularAnnulus\n",
    "from photutils.aperture import CircularAperture, CircularAnnulus\n",
    "import pandas as pd\n",
    "from astropy import wcs\n",
    "from photutils import aperture_photometry\n",
    "import numpy as np\n",
    "import matplotlib.pyplot as plt\n",
    "from astropy.visualization.wcsaxes import WCSAxes\n",
    "from astropy.table import Table\n",
    "from astropy.table import vstack\n",
    "from astropy.table import Column\n",
    "from photutils.aperture import ApertureStats\n",
    "\n",
    "#read in relevant data files\n",
    "jy_data = fits.open(path+'NGC2798/Jyperbeam_NGC2798_2asp_pca6_qm2_fitel_0f09-to-41f0Hz_qc_1p2rr_M_PdoCals_dt20_map_iter1.fits')[0]\n",
    "# jy_image=fits.getdata(path+'NGC0337/Jyperbeam_NGC0337_2asp_pca6_qm2_fitel_0f09-to-41f0Hz_qc_1p2rr_M_PdoCals_dt20_map_iter1.fits')[0]\n",
    "\n",
    "file3=fits.open(path+'NGC2798/ngc2798_3GHz_r0.5_smoothed_ms.fits')[0]\n",
    "file15=fits.open(path+'NGC2798/ngc2798_15GHz_r0.5_smoothed_ms.fits')[0]\n",
    "file33=fits.open(path+'NGC2798/ngc2798_33GHz_r0.5_smoothed_ms.fits')[0]\n",
    "\n",
    "#making a list of the files\n",
    "files=[file3,file15,file33,jy_data]\n",
    "\n",
    "#only read in relevant axes\n",
    "data3=file3.data[0,0,:,:]\n",
    "data15=file15.data[0,0,:,:]\n",
    "data33=file33.data[0,0,:,:]\n",
    "datajy=jy_data.data[0,:,:]\n",
    "\n",
    "#making a list of the data \n",
    "datas=[data3,data15,data33,datajy]\n",
    "\n",
    "#drop extra non-spatial axes\n",
    "wcs3=wcs.WCS(file3).dropaxis(3).dropaxis(2)\n",
    "wcs15=wcs.WCS(file15).dropaxis(3).dropaxis(2)\n",
    "wcs33=wcs.WCS(file33).dropaxis(3).dropaxis(2)\n",
    "wcsjy=wcs.WCS(jy_data).dropaxis(2)\n",
    "\n",
    "#making a list of the WCS info\n",
    "wcss=[wcs3,wcs15,wcs33,wcsjy]\n",
    "\n",
    "#read in Sean's catalog\n",
    "df=pd.read_csv('/lustre/cv/students/adignan/Linden2020_table5.csv')\n",
    "source=df[df['Source ID']==('NGC2798')]\n",
    "# source=df.iloc[[143]]\n",
    "\n",
    "#pull out positions from ra and dec columns\n",
    "ra=source['RA_J2000']\n",
    "dec=source['Decl_J2000']\n",
    "\n",
    "ras=[]\n",
    "decs=[]\n",
    "\n",
    "for r in ra:\n",
    "    r=(r[:2]+'h'+r[3:5]+'m'+r[6:]+'s')\n",
    "    ras.append(r)\n",
    "for d in dec:\n",
    "    d=(d[:3]+'d'+d[4:6]+'m'+d[7:]+'s')\n",
    "    decs.append(d)\n",
    "\n",
    "#creating positions for apertures based on Sean's catalog\n",
    "#defined using sky coordinates since that's what we have (ra and dec)\n",
    "positions=[]\n",
    "\n",
    "for r, d in zip(ras,decs):\n",
    "    position=SkyCoord(ra=r,dec=d)\n",
    "    positions.append(position)\n",
    "\n",
    "#need area of aperture, area of beam (arcsec squared)\n",
    "#divide them to get just beam\n",
    "#divide this number by photometry to get in units of beam\n",
    "\n",
    "#value of the major axis of the beam for the target\n",
    "bmaj=9.528282036*u.arcsec\n",
    "              \n",
    "#define aperture with radius == GBT beam (bmaj value)\n",
    "fwhm = bmaj\n",
    "rin = 1.5*fwhm \n",
    "rout = rin + fwhm\n",
    "\n",
    "#creating lists of the apertures and annuli (defined in sky coordinates)\n",
    "skyapertures=[]\n",
    "skyannuli=[]\n",
    "\n",
    "for p in positions:\n",
    "    x1, y1 = wcs3.world_to_pixel(p)\n",
    "    x2, y2= wcs15.world_to_pixel(p)\n",
    "    x3, y3 = wcs33.world_to_pixel(p)\n",
    "    x4, y4=wcsjy.world_to_pixel(p)\n",
    "    skyaperture = SkyCircularAperture(p, r=fwhm)\n",
    "    skyannulus = SkyCircularAnnulus(p, rin, rout)\n",
    "    skyapertures.append(skyaperture)\n",
    "    skyannuli.append(skyannulus)\n",
    "\n",
    "#creating list of the apertures defined in pixel coordinates \n",
    "#(converting from sky coordinates)\n",
    "pix_apertures=[]\n",
    "pix_annuli=[]\n",
    "\n",
    "for w in wcss:\n",
    "    for i,j in zip(skyapertures,skyannuli):\n",
    "        pix_aperture = i.to_pixel(w)\n",
    "        pix_annulus = j.to_pixel(w)\n",
    "        pix_apertures.append(pix_aperture)\n",
    "        pix_annuli.append(pix_annulus)\n",
    "    \n",
    "factor=(np.pi*((fwhm.value)**2))/(np.pi/4/np.log(2) * bmaj.value)\n",
    "\n",
    "# actually performing photometry\n",
    "# lists=Table(names='aperture_sum')\n",
    "#initialize empty photometry table   \n",
    "# for s in skyapertures:\n",
    "#     for d,w in zip(datas,wcss):\n",
    "#         row = aperture_photometry(data=d, apertures=s, wcs=w)\n",
    "#         row['aperture_sum']=row['aperture_sum']/factor \n",
    "#         print(row)\n",
    "\n",
    "results=[]\n",
    "medians=[]\n",
    "means=[]\n",
    "mads=[]\n",
    "rmss=[]\n",
    "\n",
    "for ap, ann in zip(skyapertures,skyannuli):\n",
    "    for d, w in zip((datas),wcss):\n",
    "        phot=aperture_photometry(data=d,apertures=ap,wcs=w)\n",
    "        aperstats = ApertureStats(data=d, aperture=ann, wcs=w)\n",
    "        phot['aperture_sum']=(phot['aperture_sum']/factor)*1000\n",
    "        results.append(phot)\n",
    "        medians.append(aperstats.median*1000)\n",
    "        means.append(aperstats.mean*1000)\n",
    "        mads.append(aperstats.mad_std*1000)\n",
    "        rmss.append(np.sqrt(aperstats.mean*1000))\n",
    "\n",
    "table_stacked = vstack(results)\n",
    "# table_stacked |= (d)\n",
    "medianscol=Column(medians,name='median',unit='mJy')\n",
    "meanscol=Column(means,name='mean',unit='mJy')\n",
    "madscol=Column(mads,name='mad',unit='mJy')\n",
    "rmscol=Column(rmss,name='rms',unit='mJy')\n",
    "\n",
    "table_stacked.add_columns([medianscol,meanscol,madscol,rmscol])\n",
    "\n",
    "table_stacked['aperture_sum']=Column(data=table_stacked['aperture_sum'],unit='mJy')\n",
    "\n",
    "# name = Column(, name='freq')\n",
    "# table_stacked.add_column(freq,index=0)\n",
    "\n",
    "#read in photometry sources Google Sheet\n",
    "data = ascii.read('/users/adignan/photometry_sources.csv', format='csv')\n",
    "\n",
    "#read in Sean's catalog\n",
    "df = ascii.read('/lustre/cv/students/adignan/Linden2020_table5.csv', format='csv')\n",
    "\n",
    "minitbl=df[['Source ID','RA_J2000','Decl_J2000']]\n",
    "tbl=join(data,minitbl,'Source ID')\n",
    "\n",
    "for row in tbl:\n",
    "    print(row['Source ID'])\n",
    "\n",
    "table_stacked\n",
    "  "
   ]
  }
 ],
 "metadata": {
  "kernelspec": {
   "display_name": "Python 3 (ipykernel)",
   "language": "python",
   "name": "python3"
  },
  "language_info": {
   "codemirror_mode": {
    "name": "ipython",
    "version": 3
   },
   "file_extension": ".py",
   "mimetype": "text/x-python",
   "name": "python",
   "nbconvert_exporter": "python",
   "pygments_lexer": "ipython3",
   "version": "3.11.5"
  }
 },
 "nbformat": 4,
 "nbformat_minor": 5
}
