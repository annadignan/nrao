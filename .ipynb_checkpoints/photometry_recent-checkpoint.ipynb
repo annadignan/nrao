{
 "cells": [
  {
   "cell_type": "markdown",
   "id": "7f6f2607",
   "metadata": {},
   "source": [
    "# Performing photometry (automated)"
   ]
  },
  {
   "cell_type": "code",
   "execution_count": 1,
   "id": "ee1b9f0b",
   "metadata": {},
   "outputs": [
    {
     "name": "stdout",
     "output_type": "stream",
     "text": [
      "Working on NGC0337a\n"
     ]
    },
    {
     "name": "stderr",
     "output_type": "stream",
     "text": [
      "WARNING: FITSFixedWarning: 'datfix' made the change 'Set MJD-OBS to 56593.203906 from DATE-OBS'. [astropy.wcs.wcs]\n",
      "WARNING: FITSFixedWarning: 'obsfix' made the change 'Set OBSGEO-L to  -107.618000 from OBSGEO-[XYZ].\n",
      "Set OBSGEO-B to    34.078827 from OBSGEO-[XYZ].\n",
      "Set OBSGEO-H to     2115.607 from OBSGEO-[XYZ]'. [astropy.wcs.wcs]\n",
      "WARNING: FITSFixedWarning: 'datfix' made the change 'Set MJD-OBS to 56962.259115 from DATE-OBS'. [astropy.wcs.wcs]\n",
      "WARNING: FITSFixedWarning: 'obsfix' made the change 'Set OBSGEO-L to  -107.618000 from OBSGEO-[XYZ].\n",
      "Set OBSGEO-B to    34.078827 from OBSGEO-[XYZ].\n",
      "Set OBSGEO-H to     2115.607 from OBSGEO-[XYZ]'. [astropy.wcs.wcs]\n",
      "WARNING: FITSFixedWarning: 'datfix' made the change 'Set MJD-OBS to 55940.955156 from DATE-OBS'. [astropy.wcs.wcs]\n",
      "WARNING: FITSFixedWarning: 'obsfix' made the change 'Set OBSGEO-L to  -107.618000 from OBSGEO-[XYZ].\n",
      "Set OBSGEO-B to    34.078827 from OBSGEO-[XYZ].\n",
      "Set OBSGEO-H to     2115.607 from OBSGEO-[XYZ]'. [astropy.wcs.wcs]\n",
      "WARNING: FITSFixedWarning: 'cdfix' made the change 'Success'. [astropy.wcs.wcs]\n"
     ]
    },
    {
     "name": "stdout",
     "output_type": "stream",
     "text": [
      "Just finished NGC0337a! :)\n",
      "Working on NGC0337b\n",
      "Just finished NGC0337b! :)\n",
      "Working on NGC0337c\n",
      "Just finished NGC0337c! :)\n",
      "Working on NGC0337d\n"
     ]
    },
    {
     "name": "stderr",
     "output_type": "stream",
     "text": [
      "WARNING: FITSFixedWarning: 'datfix' made the change 'Set MJD-OBS to 56593.203906 from DATE-OBS'. [astropy.wcs.wcs]\n",
      "WARNING: FITSFixedWarning: 'obsfix' made the change 'Set OBSGEO-L to  -107.618000 from OBSGEO-[XYZ].\n",
      "Set OBSGEO-B to    34.078827 from OBSGEO-[XYZ].\n",
      "Set OBSGEO-H to     2115.607 from OBSGEO-[XYZ]'. [astropy.wcs.wcs]\n",
      "WARNING: FITSFixedWarning: 'datfix' made the change 'Set MJD-OBS to 56962.259115 from DATE-OBS'. [astropy.wcs.wcs]\n",
      "WARNING: FITSFixedWarning: 'obsfix' made the change 'Set OBSGEO-L to  -107.618000 from OBSGEO-[XYZ].\n",
      "Set OBSGEO-B to    34.078827 from OBSGEO-[XYZ].\n",
      "Set OBSGEO-H to     2115.607 from OBSGEO-[XYZ]'. [astropy.wcs.wcs]\n",
      "WARNING: FITSFixedWarning: 'datfix' made the change 'Set MJD-OBS to 55940.955156 from DATE-OBS'. [astropy.wcs.wcs]\n",
      "WARNING: FITSFixedWarning: 'obsfix' made the change 'Set OBSGEO-L to  -107.618000 from OBSGEO-[XYZ].\n",
      "Set OBSGEO-B to    34.078827 from OBSGEO-[XYZ].\n",
      "Set OBSGEO-H to     2115.607 from OBSGEO-[XYZ]'. [astropy.wcs.wcs]\n",
      "WARNING: FITSFixedWarning: 'cdfix' made the change 'Success'. [astropy.wcs.wcs]\n",
      "WARNING: FITSFixedWarning: 'datfix' made the change 'Set MJD-OBS to 56593.203906 from DATE-OBS'. [astropy.wcs.wcs]\n",
      "WARNING: FITSFixedWarning: 'obsfix' made the change 'Set OBSGEO-L to  -107.618000 from OBSGEO-[XYZ].\n",
      "Set OBSGEO-B to    34.078827 from OBSGEO-[XYZ].\n",
      "Set OBSGEO-H to     2115.607 from OBSGEO-[XYZ]'. [astropy.wcs.wcs]\n",
      "WARNING: FITSFixedWarning: 'datfix' made the change 'Set MJD-OBS to 56962.259115 from DATE-OBS'. [astropy.wcs.wcs]\n",
      "WARNING: FITSFixedWarning: 'obsfix' made the change 'Set OBSGEO-L to  -107.618000 from OBSGEO-[XYZ].\n",
      "Set OBSGEO-B to    34.078827 from OBSGEO-[XYZ].\n",
      "Set OBSGEO-H to     2115.607 from OBSGEO-[XYZ]'. [astropy.wcs.wcs]\n",
      "WARNING: FITSFixedWarning: 'datfix' made the change 'Set MJD-OBS to 55940.955156 from DATE-OBS'. [astropy.wcs.wcs]\n",
      "WARNING: FITSFixedWarning: 'obsfix' made the change 'Set OBSGEO-L to  -107.618000 from OBSGEO-[XYZ].\n",
      "Set OBSGEO-B to    34.078827 from OBSGEO-[XYZ].\n",
      "Set OBSGEO-H to     2115.607 from OBSGEO-[XYZ]'. [astropy.wcs.wcs]\n",
      "WARNING: FITSFixedWarning: 'cdfix' made the change 'Success'. [astropy.wcs.wcs]\n",
      "WARNING: FITSFixedWarning: 'datfix' made the change 'Set MJD-OBS to 56593.203906 from DATE-OBS'. [astropy.wcs.wcs]\n",
      "WARNING: FITSFixedWarning: 'obsfix' made the change 'Set OBSGEO-L to  -107.618000 from OBSGEO-[XYZ].\n",
      "Set OBSGEO-B to    34.078827 from OBSGEO-[XYZ].\n",
      "Set OBSGEO-H to     2115.607 from OBSGEO-[XYZ]'. [astropy.wcs.wcs]\n",
      "WARNING: FITSFixedWarning: 'datfix' made the change 'Set MJD-OBS to 56962.259115 from DATE-OBS'. [astropy.wcs.wcs]\n",
      "WARNING: FITSFixedWarning: 'obsfix' made the change 'Set OBSGEO-L to  -107.618000 from OBSGEO-[XYZ].\n",
      "Set OBSGEO-B to    34.078827 from OBSGEO-[XYZ].\n",
      "Set OBSGEO-H to     2115.607 from OBSGEO-[XYZ]'. [astropy.wcs.wcs]\n",
      "WARNING: FITSFixedWarning: 'datfix' made the change 'Set MJD-OBS to 55940.955156 from DATE-OBS'. [astropy.wcs.wcs]\n",
      "WARNING: FITSFixedWarning: 'obsfix' made the change 'Set OBSGEO-L to  -107.618000 from OBSGEO-[XYZ].\n",
      "Set OBSGEO-B to    34.078827 from OBSGEO-[XYZ].\n",
      "Set OBSGEO-H to     2115.607 from OBSGEO-[XYZ]'. [astropy.wcs.wcs]\n",
      "WARNING: FITSFixedWarning: 'cdfix' made the change 'Success'. [astropy.wcs.wcs]\n"
     ]
    },
    {
     "name": "stdout",
     "output_type": "stream",
     "text": [
      "Just finished NGC0337d! :)\n",
      "Working on NGC0628\n"
     ]
    },
    {
     "name": "stderr",
     "output_type": "stream",
     "text": [
      "WARNING: FITSFixedWarning: 'datfix' made the change 'Set MJD-OBS to 56610.265191 from DATE-OBS'. [astropy.wcs.wcs]\n",
      "WARNING: FITSFixedWarning: 'obsfix' made the change 'Set OBSGEO-L to  -107.618000 from OBSGEO-[XYZ].\n",
      "Set OBSGEO-B to    34.078827 from OBSGEO-[XYZ].\n",
      "Set OBSGEO-H to     2115.607 from OBSGEO-[XYZ]'. [astropy.wcs.wcs]\n",
      "WARNING: FITSFixedWarning: 'datfix' made the change 'Set MJD-OBS to 56966.294878 from DATE-OBS'. [astropy.wcs.wcs]\n",
      "WARNING: FITSFixedWarning: 'obsfix' made the change 'Set OBSGEO-L to  -107.618000 from OBSGEO-[XYZ].\n",
      "Set OBSGEO-B to    34.078827 from OBSGEO-[XYZ].\n",
      "Set OBSGEO-H to     2115.607 from OBSGEO-[XYZ]'. [astropy.wcs.wcs]\n",
      "WARNING: FITSFixedWarning: 'datfix' made the change 'Set MJD-OBS to 55835.183767 from DATE-OBS'. [astropy.wcs.wcs]\n",
      "WARNING: FITSFixedWarning: 'obsfix' made the change 'Set OBSGEO-L to  -107.618000 from OBSGEO-[XYZ].\n",
      "Set OBSGEO-B to    34.078827 from OBSGEO-[XYZ].\n",
      "Set OBSGEO-H to     2115.607 from OBSGEO-[XYZ]'. [astropy.wcs.wcs]\n",
      "WARNING: FITSFixedWarning: 'cdfix' made the change 'Success'. [astropy.wcs.wcs]\n"
     ]
    },
    {
     "name": "stdout",
     "output_type": "stream",
     "text": [
      "Just finished NGC0628! :)\n",
      "Working on NGC0628Enuc.1\n"
     ]
    },
    {
     "name": "stderr",
     "output_type": "stream",
     "text": [
      "WARNING: FITSFixedWarning: 'datfix' made the change 'Set MJD-OBS to 56610.265191 from DATE-OBS'. [astropy.wcs.wcs]\n",
      "WARNING: FITSFixedWarning: 'obsfix' made the change 'Set OBSGEO-L to  -107.618000 from OBSGEO-[XYZ].\n",
      "Set OBSGEO-B to    34.078827 from OBSGEO-[XYZ].\n",
      "Set OBSGEO-H to     2115.607 from OBSGEO-[XYZ]'. [astropy.wcs.wcs]\n",
      "WARNING: FITSFixedWarning: 'datfix' made the change 'Set MJD-OBS to 56966.300573 from DATE-OBS'. [astropy.wcs.wcs]\n",
      "WARNING: FITSFixedWarning: 'obsfix' made the change 'Set OBSGEO-L to  -107.618000 from OBSGEO-[XYZ].\n",
      "Set OBSGEO-B to    34.078827 from OBSGEO-[XYZ].\n",
      "Set OBSGEO-H to     2115.607 from OBSGEO-[XYZ]'. [astropy.wcs.wcs]\n",
      "WARNING: FITSFixedWarning: 'datfix' made the change 'Set MJD-OBS to 55835.247483 from DATE-OBS'. [astropy.wcs.wcs]\n",
      "WARNING: FITSFixedWarning: 'obsfix' made the change 'Set OBSGEO-L to  -107.618000 from OBSGEO-[XYZ].\n",
      "Set OBSGEO-B to    34.078827 from OBSGEO-[XYZ].\n",
      "Set OBSGEO-H to     2115.607 from OBSGEO-[XYZ]'. [astropy.wcs.wcs]\n",
      "WARNING: FITSFixedWarning: 'cdfix' made the change 'Success'. [astropy.wcs.wcs]\n"
     ]
    },
    {
     "name": "stdout",
     "output_type": "stream",
     "text": [
      "Just finished NGC0628Enuc.1! :)\n",
      "Working on NGC0628Enuc.2\n"
     ]
    },
    {
     "name": "stderr",
     "output_type": "stream",
     "text": [
      "WARNING: FITSFixedWarning: 'datfix' made the change 'Set MJD-OBS to 56610.265191 from DATE-OBS'. [astropy.wcs.wcs]\n",
      "WARNING: FITSFixedWarning: 'obsfix' made the change 'Set OBSGEO-L to  -107.618000 from OBSGEO-[XYZ].\n",
      "Set OBSGEO-B to    34.078827 from OBSGEO-[XYZ].\n",
      "Set OBSGEO-H to     2115.607 from OBSGEO-[XYZ]'. [astropy.wcs.wcs]\n",
      "WARNING: FITSFixedWarning: 'datfix' made the change 'Set MJD-OBS to 56966.306927 from DATE-OBS'. [astropy.wcs.wcs]\n",
      "WARNING: FITSFixedWarning: 'obsfix' made the change 'Set OBSGEO-L to  -107.618000 from OBSGEO-[XYZ].\n",
      "Set OBSGEO-B to    34.078827 from OBSGEO-[XYZ].\n",
      "Set OBSGEO-H to     2115.607 from OBSGEO-[XYZ]'. [astropy.wcs.wcs]\n",
      "WARNING: FITSFixedWarning: 'datfix' made the change 'Set MJD-OBS to 55835.215573 from DATE-OBS'. [astropy.wcs.wcs]\n",
      "WARNING: FITSFixedWarning: 'obsfix' made the change 'Set OBSGEO-L to  -107.618000 from OBSGEO-[XYZ].\n",
      "Set OBSGEO-B to    34.078827 from OBSGEO-[XYZ].\n",
      "Set OBSGEO-H to     2115.607 from OBSGEO-[XYZ]'. [astropy.wcs.wcs]\n",
      "WARNING: FITSFixedWarning: 'cdfix' made the change 'Success'. [astropy.wcs.wcs]\n"
     ]
    },
    {
     "name": "stdout",
     "output_type": "stream",
     "text": [
      "Just finished NGC0628Enuc.2! :)\n",
      "Working on NGC0628Enuc.3\n"
     ]
    },
    {
     "name": "stderr",
     "output_type": "stream",
     "text": [
      "WARNING: FITSFixedWarning: 'datfix' made the change 'Set MJD-OBS to 56610.265191 from DATE-OBS'. [astropy.wcs.wcs]\n",
      "WARNING: FITSFixedWarning: 'obsfix' made the change 'Set OBSGEO-L to  -107.618000 from OBSGEO-[XYZ].\n",
      "Set OBSGEO-B to    34.078827 from OBSGEO-[XYZ].\n",
      "Set OBSGEO-H to     2115.607 from OBSGEO-[XYZ]'. [astropy.wcs.wcs]\n",
      "WARNING: FITSFixedWarning: 'datfix' made the change 'Set MJD-OBS to 56966.312622 from DATE-OBS'. [astropy.wcs.wcs]\n",
      "WARNING: FITSFixedWarning: 'obsfix' made the change 'Set OBSGEO-L to  -107.618000 from OBSGEO-[XYZ].\n",
      "Set OBSGEO-B to    34.078827 from OBSGEO-[XYZ].\n",
      "Set OBSGEO-H to     2115.607 from OBSGEO-[XYZ]'. [astropy.wcs.wcs]\n",
      "WARNING: FITSFixedWarning: 'datfix' made the change 'Set MJD-OBS to 55835.279844 from DATE-OBS'. [astropy.wcs.wcs]\n",
      "WARNING: FITSFixedWarning: 'obsfix' made the change 'Set OBSGEO-L to  -107.618000 from OBSGEO-[XYZ].\n",
      "Set OBSGEO-B to    34.078827 from OBSGEO-[XYZ].\n",
      "Set OBSGEO-H to     2115.607 from OBSGEO-[XYZ]'. [astropy.wcs.wcs]\n",
      "WARNING: FITSFixedWarning: 'cdfix' made the change 'Success'. [astropy.wcs.wcs]\n"
     ]
    },
    {
     "name": "stdout",
     "output_type": "stream",
     "text": [
      "Just finished NGC0628Enuc.3! :)\n",
      "Working on NGC0628Enuc.4\n"
     ]
    },
    {
     "name": "stderr",
     "output_type": "stream",
     "text": [
      "WARNING: FITSFixedWarning: 'datfix' made the change 'Set MJD-OBS to 56610.265191 from DATE-OBS'. [astropy.wcs.wcs]\n",
      "WARNING: FITSFixedWarning: 'obsfix' made the change 'Set OBSGEO-L to  -107.618000 from OBSGEO-[XYZ].\n",
      "Set OBSGEO-B to    34.078827 from OBSGEO-[XYZ].\n",
      "Set OBSGEO-H to     2115.607 from OBSGEO-[XYZ]'. [astropy.wcs.wcs]\n",
      "WARNING: FITSFixedWarning: 'datfix' made the change 'Set MJD-OBS to 56966.318976 from DATE-OBS'. [astropy.wcs.wcs]\n",
      "WARNING: FITSFixedWarning: 'obsfix' made the change 'Set OBSGEO-L to  -107.618000 from OBSGEO-[XYZ].\n",
      "Set OBSGEO-B to    34.078827 from OBSGEO-[XYZ].\n",
      "Set OBSGEO-H to     2115.607 from OBSGEO-[XYZ]'. [astropy.wcs.wcs]\n",
      "WARNING: FITSFixedWarning: 'datfix' made the change 'Set MJD-OBS to 55944.089288 from DATE-OBS'. [astropy.wcs.wcs]\n",
      "WARNING: FITSFixedWarning: 'obsfix' made the change 'Set OBSGEO-L to  -107.618000 from OBSGEO-[XYZ].\n",
      "Set OBSGEO-B to    34.078827 from OBSGEO-[XYZ].\n",
      "Set OBSGEO-H to     2115.607 from OBSGEO-[XYZ]'. [astropy.wcs.wcs]\n",
      "WARNING: FITSFixedWarning: 'cdfix' made the change 'Success'. [astropy.wcs.wcs]\n"
     ]
    },
    {
     "name": "stdout",
     "output_type": "stream",
     "text": [
      "Just finished NGC0628Enuc.4! :)\n",
      "Working on NGC0925\n"
     ]
    },
    {
     "name": "stderr",
     "output_type": "stream",
     "text": [
      "WARNING: FITSFixedWarning: 'datfix' made the change 'Set MJD-OBS to 56610.280434 from DATE-OBS'. [astropy.wcs.wcs]\n",
      "WARNING: FITSFixedWarning: 'obsfix' made the change 'Set OBSGEO-L to  -107.618000 from OBSGEO-[XYZ].\n",
      "Set OBSGEO-B to    34.078827 from OBSGEO-[XYZ].\n",
      "Set OBSGEO-H to     2115.607 from OBSGEO-[XYZ]'. [astropy.wcs.wcs]\n",
      "WARNING: FITSFixedWarning: 'datfix' made the change 'Set MJD-OBS to 56966.336545 from DATE-OBS'. [astropy.wcs.wcs]\n",
      "WARNING: FITSFixedWarning: 'obsfix' made the change 'Set OBSGEO-L to  -107.618000 from OBSGEO-[XYZ].\n",
      "Set OBSGEO-B to    34.078827 from OBSGEO-[XYZ].\n",
      "Set OBSGEO-H to     2115.607 from OBSGEO-[XYZ]'. [astropy.wcs.wcs]\n",
      "WARNING: FITSFixedWarning: 'datfix' made the change 'Set MJD-OBS to 55941.143142 from DATE-OBS'. [astropy.wcs.wcs]\n",
      "WARNING: FITSFixedWarning: 'obsfix' made the change 'Set OBSGEO-L to  -107.618000 from OBSGEO-[XYZ].\n",
      "Set OBSGEO-B to    34.078827 from OBSGEO-[XYZ].\n",
      "Set OBSGEO-H to     2115.607 from OBSGEO-[XYZ]'. [astropy.wcs.wcs]\n",
      "WARNING: FITSFixedWarning: 'cdfix' made the change 'Success'. [astropy.wcs.wcs]\n"
     ]
    },
    {
     "name": "stdout",
     "output_type": "stream",
     "text": [
      "Just finished NGC0925! :)\n",
      "Working on NGC2798\n"
     ]
    },
    {
     "name": "stderr",
     "output_type": "stream",
     "text": [
      "WARNING: FITSFixedWarning: 'datfix' made the change 'Set MJD-OBS to 56610.399080 from DATE-OBS'. [astropy.wcs.wcs]\n",
      "WARNING: FITSFixedWarning: 'obsfix' made the change 'Set OBSGEO-L to  -107.618000 from OBSGEO-[XYZ].\n",
      "Set OBSGEO-B to    34.078827 from OBSGEO-[XYZ].\n",
      "Set OBSGEO-H to     2115.607 from OBSGEO-[XYZ]'. [astropy.wcs.wcs]\n",
      "WARNING: FITSFixedWarning: 'datfix' made the change 'Set MJD-OBS to 57003.573073 from DATE-OBS'. [astropy.wcs.wcs]\n",
      "WARNING: FITSFixedWarning: 'obsfix' made the change 'Set OBSGEO-L to  -107.618000 from OBSGEO-[XYZ].\n",
      "Set OBSGEO-B to    34.078827 from OBSGEO-[XYZ].\n",
      "Set OBSGEO-H to     2115.607 from OBSGEO-[XYZ]'. [astropy.wcs.wcs]\n",
      "WARNING: FITSFixedWarning: 'datfix' made the change 'Set MJD-OBS to 55883.553420 from DATE-OBS'. [astropy.wcs.wcs]\n",
      "WARNING: FITSFixedWarning: 'obsfix' made the change 'Set OBSGEO-L to  -107.618000 from OBSGEO-[XYZ].\n",
      "Set OBSGEO-B to    34.078827 from OBSGEO-[XYZ].\n",
      "Set OBSGEO-H to     2115.607 from OBSGEO-[XYZ]'. [astropy.wcs.wcs]\n",
      "WARNING: FITSFixedWarning: 'cdfix' made the change 'Success'. [astropy.wcs.wcs]\n"
     ]
    },
    {
     "name": "stdout",
     "output_type": "stream",
     "text": [
      "Just finished NGC2798! :)\n",
      "Working on NGC2841\n"
     ]
    },
    {
     "name": "stderr",
     "output_type": "stream",
     "text": [
      "WARNING: FITSFixedWarning: 'datfix' made the change 'Set MJD-OBS to 56610.409115 from DATE-OBS'. [astropy.wcs.wcs]\n",
      "WARNING: FITSFixedWarning: 'obsfix' made the change 'Set OBSGEO-L to  -107.618000 from OBSGEO-[XYZ].\n",
      "Set OBSGEO-B to    34.078827 from OBSGEO-[XYZ].\n",
      "Set OBSGEO-H to     2115.607 from OBSGEO-[XYZ]'. [astropy.wcs.wcs]\n",
      "WARNING: FITSFixedWarning: 'datfix' made the change 'Set MJD-OBS to 57003.580191 from DATE-OBS'. [astropy.wcs.wcs]\n",
      "WARNING: FITSFixedWarning: 'obsfix' made the change 'Set OBSGEO-L to  -107.618000 from OBSGEO-[XYZ].\n",
      "Set OBSGEO-B to    34.078827 from OBSGEO-[XYZ].\n",
      "Set OBSGEO-H to     2115.607 from OBSGEO-[XYZ]'. [astropy.wcs.wcs]\n",
      "WARNING: FITSFixedWarning: 'datfix' made the change 'Set MJD-OBS to 55883.575226 from DATE-OBS'. [astropy.wcs.wcs]\n",
      "WARNING: FITSFixedWarning: 'obsfix' made the change 'Set OBSGEO-L to  -107.618000 from OBSGEO-[XYZ].\n",
      "Set OBSGEO-B to    34.078827 from OBSGEO-[XYZ].\n",
      "Set OBSGEO-H to     2115.607 from OBSGEO-[XYZ]'. [astropy.wcs.wcs]\n",
      "WARNING: FITSFixedWarning: 'cdfix' made the change 'Success'. [astropy.wcs.wcs]\n"
     ]
    },
    {
     "name": "stdout",
     "output_type": "stream",
     "text": [
      "Just finished NGC2841! :)\n",
      "Working on NGC3049\n"
     ]
    },
    {
     "name": "stderr",
     "output_type": "stream",
     "text": [
      "WARNING: FITSFixedWarning: 'datfix' made the change 'Set MJD-OBS to 56610.474010 from DATE-OBS'. [astropy.wcs.wcs]\n",
      "WARNING: FITSFixedWarning: 'obsfix' made the change 'Set OBSGEO-L to  -107.618000 from OBSGEO-[XYZ].\n",
      "Set OBSGEO-B to    34.078827 from OBSGEO-[XYZ].\n",
      "Set OBSGEO-H to     2115.607 from OBSGEO-[XYZ]'. [astropy.wcs.wcs]\n",
      "WARNING: FITSFixedWarning: 'datfix' made the change 'Set MJD-OBS to 57003.646858 from DATE-OBS'. [astropy.wcs.wcs]\n",
      "WARNING: FITSFixedWarning: 'obsfix' made the change 'Set OBSGEO-L to  -107.618000 from OBSGEO-[XYZ].\n",
      "Set OBSGEO-B to    34.078827 from OBSGEO-[XYZ].\n",
      "Set OBSGEO-H to     2115.607 from OBSGEO-[XYZ]'. [astropy.wcs.wcs]\n",
      "WARNING: FITSFixedWarning: 'datfix' made the change 'Set MJD-OBS to 55892.547309 from DATE-OBS'. [astropy.wcs.wcs]\n",
      "WARNING: FITSFixedWarning: 'obsfix' made the change 'Set OBSGEO-L to  -107.618000 from OBSGEO-[XYZ].\n",
      "Set OBSGEO-B to    34.078827 from OBSGEO-[XYZ].\n",
      "Set OBSGEO-H to     2115.607 from OBSGEO-[XYZ]'. [astropy.wcs.wcs]\n",
      "WARNING: FITSFixedWarning: 'cdfix' made the change 'Success'. [astropy.wcs.wcs]\n"
     ]
    },
    {
     "name": "stdout",
     "output_type": "stream",
     "text": [
      "Just finished NGC3049! :)\n",
      "Working on NGC3184\n"
     ]
    },
    {
     "name": "stderr",
     "output_type": "stream",
     "text": [
      "WARNING: FITSFixedWarning: 'datfix' made the change 'Set MJD-OBS to 56610.419531 from DATE-OBS'. [astropy.wcs.wcs]\n",
      "WARNING: FITSFixedWarning: 'obsfix' made the change 'Set OBSGEO-L to  -107.618000 from OBSGEO-[XYZ].\n",
      "Set OBSGEO-B to    34.078827 from OBSGEO-[XYZ].\n",
      "Set OBSGEO-H to     2115.607 from OBSGEO-[XYZ]'. [astropy.wcs.wcs]\n",
      "WARNING: FITSFixedWarning: 'datfix' made the change 'Set MJD-OBS to 57003.590017 from DATE-OBS'. [astropy.wcs.wcs]\n",
      "WARNING: FITSFixedWarning: 'obsfix' made the change 'Set OBSGEO-L to  -107.618000 from OBSGEO-[XYZ].\n",
      "Set OBSGEO-B to    34.078827 from OBSGEO-[XYZ].\n",
      "Set OBSGEO-H to     2115.607 from OBSGEO-[XYZ]'. [astropy.wcs.wcs]\n",
      "WARNING: FITSFixedWarning: 'datfix' made the change 'Set MJD-OBS to 55883.639740 from DATE-OBS'. [astropy.wcs.wcs]\n",
      "WARNING: FITSFixedWarning: 'obsfix' made the change 'Set OBSGEO-L to  -107.618000 from OBSGEO-[XYZ].\n",
      "Set OBSGEO-B to    34.078827 from OBSGEO-[XYZ].\n",
      "Set OBSGEO-H to     2115.607 from OBSGEO-[XYZ]'. [astropy.wcs.wcs]\n",
      "WARNING: FITSFixedWarning: 'cdfix' made the change 'Success'. [astropy.wcs.wcs]\n"
     ]
    },
    {
     "name": "stdout",
     "output_type": "stream",
     "text": [
      "Just finished NGC3184! :)\n",
      "Working on NGC3190\n"
     ]
    },
    {
     "name": "stderr",
     "output_type": "stream",
     "text": [
      "WARNING: FITSFixedWarning: 'datfix' made the change 'Set MJD-OBS to 56610.459462 from DATE-OBS'. [astropy.wcs.wcs]\n",
      "WARNING: FITSFixedWarning: 'obsfix' made the change 'Set OBSGEO-L to  -107.618000 from OBSGEO-[XYZ].\n",
      "Set OBSGEO-B to    34.078827 from OBSGEO-[XYZ].\n",
      "Set OBSGEO-H to     2115.607 from OBSGEO-[XYZ]'. [astropy.wcs.wcs]\n",
      "WARNING: FITSFixedWarning: 'datfix' made the change 'Set MJD-OBS to 57003.637448 from DATE-OBS'. [astropy.wcs.wcs]\n",
      "WARNING: FITSFixedWarning: 'obsfix' made the change 'Set OBSGEO-L to  -107.618000 from OBSGEO-[XYZ].\n",
      "Set OBSGEO-B to    34.078827 from OBSGEO-[XYZ].\n",
      "Set OBSGEO-H to     2115.607 from OBSGEO-[XYZ]'. [astropy.wcs.wcs]\n",
      "WARNING: FITSFixedWarning: 'datfix' made the change 'Set MJD-OBS to 55892.579497 from DATE-OBS'. [astropy.wcs.wcs]\n",
      "WARNING: FITSFixedWarning: 'obsfix' made the change 'Set OBSGEO-L to  -107.618000 from OBSGEO-[XYZ].\n",
      "Set OBSGEO-B to    34.078827 from OBSGEO-[XYZ].\n",
      "Set OBSGEO-H to     2115.607 from OBSGEO-[XYZ]'. [astropy.wcs.wcs]\n",
      "WARNING: FITSFixedWarning: 'cdfix' made the change 'Success'. [astropy.wcs.wcs]\n"
     ]
    },
    {
     "name": "stdout",
     "output_type": "stream",
     "text": [
      "Just finished NGC3190! :)\n",
      "Working on NGC3198\n"
     ]
    },
    {
     "name": "stderr",
     "output_type": "stream",
     "text": [
      "WARNING: FITSFixedWarning: 'datfix' made the change 'Set MJD-OBS to 56610.424010 from DATE-OBS'. [astropy.wcs.wcs]\n",
      "WARNING: FITSFixedWarning: 'obsfix' made the change 'Set OBSGEO-L to  -107.618000 from OBSGEO-[XYZ].\n",
      "Set OBSGEO-B to    34.078827 from OBSGEO-[XYZ].\n",
      "Set OBSGEO-H to     2115.607 from OBSGEO-[XYZ]'. [astropy.wcs.wcs]\n",
      "WARNING: FITSFixedWarning: 'datfix' made the change 'Set MJD-OBS to 57003.597378 from DATE-OBS'. [astropy.wcs.wcs]\n",
      "WARNING: FITSFixedWarning: 'obsfix' made the change 'Set OBSGEO-L to  -107.618000 from OBSGEO-[XYZ].\n",
      "Set OBSGEO-B to    34.078827 from OBSGEO-[XYZ].\n",
      "Set OBSGEO-H to     2115.607 from OBSGEO-[XYZ]'. [astropy.wcs.wcs]\n",
      "WARNING: FITSFixedWarning: 'datfix' made the change 'Set MJD-OBS to 55883.667448 from DATE-OBS'. [astropy.wcs.wcs]\n",
      "WARNING: FITSFixedWarning: 'obsfix' made the change 'Set OBSGEO-L to  -107.618000 from OBSGEO-[XYZ].\n",
      "Set OBSGEO-B to    34.078827 from OBSGEO-[XYZ].\n",
      "Set OBSGEO-H to     2115.607 from OBSGEO-[XYZ]'. [astropy.wcs.wcs]\n",
      "WARNING: FITSFixedWarning: 'cdfix' made the change 'Success'. [astropy.wcs.wcs]\n"
     ]
    },
    {
     "name": "stdout",
     "output_type": "stream",
     "text": [
      "Just finished NGC3198! :)\n",
      "Working on NGC3351a\n"
     ]
    },
    {
     "name": "stderr",
     "output_type": "stream",
     "text": [
      "WARNING: FITSFixedWarning: 'datfix' made the change 'Set MJD-OBS to 56600.701615 from DATE-OBS'. [astropy.wcs.wcs]\n",
      "WARNING: FITSFixedWarning: 'obsfix' made the change 'Set OBSGEO-L to  -107.618000 from OBSGEO-[XYZ].\n",
      "Set OBSGEO-B to    34.078827 from OBSGEO-[XYZ].\n",
      "Set OBSGEO-H to     2115.607 from OBSGEO-[XYZ]'. [astropy.wcs.wcs]\n",
      "WARNING: FITSFixedWarning: 'datfix' made the change 'Set MJD-OBS to 56972.695156 from DATE-OBS'. [astropy.wcs.wcs]\n",
      "WARNING: FITSFixedWarning: 'obsfix' made the change 'Set OBSGEO-L to  -107.618000 from OBSGEO-[XYZ].\n",
      "Set OBSGEO-B to    34.078827 from OBSGEO-[XYZ].\n",
      "Set OBSGEO-H to     2115.607 from OBSGEO-[XYZ]'. [astropy.wcs.wcs]\n",
      "WARNING: FITSFixedWarning: 'datfix' made the change 'Set MJD-OBS to 55892.563212 from DATE-OBS'. [astropy.wcs.wcs]\n",
      "WARNING: FITSFixedWarning: 'obsfix' made the change 'Set OBSGEO-L to  -107.618000 from OBSGEO-[XYZ].\n",
      "Set OBSGEO-B to    34.078827 from OBSGEO-[XYZ].\n",
      "Set OBSGEO-H to     2115.607 from OBSGEO-[XYZ]'. [astropy.wcs.wcs]\n",
      "WARNING: FITSFixedWarning: 'cdfix' made the change 'Success'. [astropy.wcs.wcs]\n",
      "WARNING: FITSFixedWarning: 'datfix' made the change 'Set MJD-OBS to 56600.701615 from DATE-OBS'. [astropy.wcs.wcs]\n",
      "WARNING: FITSFixedWarning: 'obsfix' made the change 'Set OBSGEO-L to  -107.618000 from OBSGEO-[XYZ].\n",
      "Set OBSGEO-B to    34.078827 from OBSGEO-[XYZ].\n",
      "Set OBSGEO-H to     2115.607 from OBSGEO-[XYZ]'. [astropy.wcs.wcs]\n",
      "WARNING: FITSFixedWarning: 'datfix' made the change 'Set MJD-OBS to 56972.695156 from DATE-OBS'. [astropy.wcs.wcs]\n",
      "WARNING: FITSFixedWarning: 'obsfix' made the change 'Set OBSGEO-L to  -107.618000 from OBSGEO-[XYZ].\n",
      "Set OBSGEO-B to    34.078827 from OBSGEO-[XYZ].\n",
      "Set OBSGEO-H to     2115.607 from OBSGEO-[XYZ]'. [astropy.wcs.wcs]\n",
      "WARNING: FITSFixedWarning: 'datfix' made the change 'Set MJD-OBS to 55892.563212 from DATE-OBS'. [astropy.wcs.wcs]\n",
      "WARNING: FITSFixedWarning: 'obsfix' made the change 'Set OBSGEO-L to  -107.618000 from OBSGEO-[XYZ].\n",
      "Set OBSGEO-B to    34.078827 from OBSGEO-[XYZ].\n",
      "Set OBSGEO-H to     2115.607 from OBSGEO-[XYZ]'. [astropy.wcs.wcs]\n",
      "WARNING: FITSFixedWarning: 'cdfix' made the change 'Success'. [astropy.wcs.wcs]\n"
     ]
    },
    {
     "name": "stdout",
     "output_type": "stream",
     "text": [
      "Just finished NGC3351a! :)\n",
      "Working on NGC3351b\n",
      "Just finished NGC3351b! :)\n",
      "Working on NGC3521\n"
     ]
    },
    {
     "name": "stderr",
     "output_type": "stream",
     "text": [
      "WARNING: FITSFixedWarning: 'datfix' made the change 'Set MJD-OBS to 56610.484392 from DATE-OBS'. [astropy.wcs.wcs]\n",
      "WARNING: FITSFixedWarning: 'obsfix' made the change 'Set OBSGEO-L to  -107.618000 from OBSGEO-[XYZ].\n",
      "Set OBSGEO-B to    34.078827 from OBSGEO-[XYZ].\n",
      "Set OBSGEO-H to     2115.607 from OBSGEO-[XYZ]'. [astropy.wcs.wcs]\n",
      "WARNING: FITSFixedWarning: 'datfix' made the change 'Set MJD-OBS to 57003.656580 from DATE-OBS'. [astropy.wcs.wcs]\n",
      "WARNING: FITSFixedWarning: 'obsfix' made the change 'Set OBSGEO-L to  -107.618000 from OBSGEO-[XYZ].\n",
      "Set OBSGEO-B to    34.078827 from OBSGEO-[XYZ].\n",
      "Set OBSGEO-H to     2115.607 from OBSGEO-[XYZ]'. [astropy.wcs.wcs]\n",
      "WARNING: FITSFixedWarning: 'datfix' made the change 'Set MJD-OBS to 55876.568420 from DATE-OBS'. [astropy.wcs.wcs]\n",
      "WARNING: FITSFixedWarning: 'obsfix' made the change 'Set OBSGEO-L to  -107.618000 from OBSGEO-[XYZ].\n",
      "Set OBSGEO-B to    34.078827 from OBSGEO-[XYZ].\n",
      "Set OBSGEO-H to     2115.607 from OBSGEO-[XYZ]'. [astropy.wcs.wcs]\n",
      "WARNING: FITSFixedWarning: 'cdfix' made the change 'Success'. [astropy.wcs.wcs]\n"
     ]
    },
    {
     "name": "stdout",
     "output_type": "stream",
     "text": [
      "Just finished NGC3521! :)\n",
      "Working on NGC3521Enuc.1\n"
     ]
    },
    {
     "name": "stderr",
     "output_type": "stream",
     "text": [
      "WARNING: FITSFixedWarning: 'datfix' made the change 'Set MJD-OBS to 56610.484392 from DATE-OBS'. [astropy.wcs.wcs]\n",
      "WARNING: FITSFixedWarning: 'obsfix' made the change 'Set OBSGEO-L to  -107.618000 from OBSGEO-[XYZ].\n",
      "Set OBSGEO-B to    34.078827 from OBSGEO-[XYZ].\n",
      "Set OBSGEO-H to     2115.607 from OBSGEO-[XYZ]'. [astropy.wcs.wcs]\n",
      "WARNING: FITSFixedWarning: 'datfix' made the change 'Set MJD-OBS to 57003.662274 from DATE-OBS'. [astropy.wcs.wcs]\n",
      "WARNING: FITSFixedWarning: 'obsfix' made the change 'Set OBSGEO-L to  -107.618000 from OBSGEO-[XYZ].\n",
      "Set OBSGEO-B to    34.078827 from OBSGEO-[XYZ].\n",
      "Set OBSGEO-H to     2115.607 from OBSGEO-[XYZ]'. [astropy.wcs.wcs]\n",
      "WARNING: FITSFixedWarning: 'datfix' made the change 'Set MJD-OBS to 55876.527795 from DATE-OBS'. [astropy.wcs.wcs]\n",
      "WARNING: FITSFixedWarning: 'obsfix' made the change 'Set OBSGEO-L to  -107.618000 from OBSGEO-[XYZ].\n",
      "Set OBSGEO-B to    34.078827 from OBSGEO-[XYZ].\n",
      "Set OBSGEO-H to     2115.607 from OBSGEO-[XYZ]'. [astropy.wcs.wcs]\n",
      "WARNING: FITSFixedWarning: 'cdfix' made the change 'Success'. [astropy.wcs.wcs]\n"
     ]
    },
    {
     "name": "stdout",
     "output_type": "stream",
     "text": [
      "Just finished NGC3521Enuc.1! :)\n",
      "Working on NGC3521Enuc.3\n"
     ]
    },
    {
     "name": "stderr",
     "output_type": "stream",
     "text": [
      "WARNING: FITSFixedWarning: 'datfix' made the change 'Set MJD-OBS to 56610.484392 from DATE-OBS'. [astropy.wcs.wcs]\n",
      "WARNING: FITSFixedWarning: 'obsfix' made the change 'Set OBSGEO-L to  -107.618000 from OBSGEO-[XYZ].\n",
      "Set OBSGEO-B to    34.078827 from OBSGEO-[XYZ].\n",
      "Set OBSGEO-H to     2115.607 from OBSGEO-[XYZ]'. [astropy.wcs.wcs]\n",
      "WARNING: FITSFixedWarning: 'datfix' made the change 'Set MJD-OBS to 57003.674323 from DATE-OBS'. [astropy.wcs.wcs]\n",
      "WARNING: FITSFixedWarning: 'obsfix' made the change 'Set OBSGEO-L to  -107.618000 from OBSGEO-[XYZ].\n",
      "Set OBSGEO-B to    34.078827 from OBSGEO-[XYZ].\n",
      "Set OBSGEO-H to     2115.607 from OBSGEO-[XYZ]'. [astropy.wcs.wcs]\n",
      "WARNING: FITSFixedWarning: 'datfix' made the change 'Set MJD-OBS to 55876.546823 from DATE-OBS'. [astropy.wcs.wcs]\n",
      "WARNING: FITSFixedWarning: 'obsfix' made the change 'Set OBSGEO-L to  -107.618000 from OBSGEO-[XYZ].\n",
      "Set OBSGEO-B to    34.078827 from OBSGEO-[XYZ].\n",
      "Set OBSGEO-H to     2115.607 from OBSGEO-[XYZ]'. [astropy.wcs.wcs]\n",
      "WARNING: FITSFixedWarning: 'cdfix' made the change 'Success'. [astropy.wcs.wcs]\n"
     ]
    },
    {
     "name": "stdout",
     "output_type": "stream",
     "text": [
      "Just finished NGC3521Enuc.3! :)\n",
      "Working on NGC3627\n"
     ]
    },
    {
     "name": "stderr",
     "output_type": "stream",
     "text": [
      "WARNING: FITSFixedWarning: 'datfix' made the change 'Set MJD-OBS to 56600.706441 from DATE-OBS'. [astropy.wcs.wcs]\n",
      "WARNING: FITSFixedWarning: 'obsfix' made the change 'Set OBSGEO-L to  -107.618000 from OBSGEO-[XYZ].\n",
      "Set OBSGEO-B to    34.078827 from OBSGEO-[XYZ].\n",
      "Set OBSGEO-H to     2115.607 from OBSGEO-[XYZ]'. [astropy.wcs.wcs]\n",
      "WARNING: FITSFixedWarning: 'datfix' made the change 'Set MJD-OBS to 56972.704983 from DATE-OBS'. [astropy.wcs.wcs]\n",
      "WARNING: FITSFixedWarning: 'obsfix' made the change 'Set OBSGEO-L to  -107.618000 from OBSGEO-[XYZ].\n",
      "Set OBSGEO-B to    34.078827 from OBSGEO-[XYZ].\n",
      "Set OBSGEO-H to     2115.607 from OBSGEO-[XYZ]'. [astropy.wcs.wcs]\n",
      "WARNING: FITSFixedWarning: 'datfix' made the change 'Set MJD-OBS to 55877.649878 from DATE-OBS'. [astropy.wcs.wcs]\n",
      "WARNING: FITSFixedWarning: 'obsfix' made the change 'Set OBSGEO-L to  -107.618000 from OBSGEO-[XYZ].\n",
      "Set OBSGEO-B to    34.078827 from OBSGEO-[XYZ].\n",
      "Set OBSGEO-H to     2115.607 from OBSGEO-[XYZ]'. [astropy.wcs.wcs]\n",
      "WARNING: FITSFixedWarning: 'cdfix' made the change 'Success'. [astropy.wcs.wcs]\n"
     ]
    },
    {
     "name": "stdout",
     "output_type": "stream",
     "text": [
      "Just finished NGC3627! :)\n",
      "Working on NGC3627Enuc.1\n"
     ]
    },
    {
     "name": "stderr",
     "output_type": "stream",
     "text": [
      "WARNING: FITSFixedWarning: 'datfix' made the change 'Set MJD-OBS to 56600.706441 from DATE-OBS'. [astropy.wcs.wcs]\n",
      "WARNING: FITSFixedWarning: 'obsfix' made the change 'Set OBSGEO-L to  -107.618000 from OBSGEO-[XYZ].\n",
      "Set OBSGEO-B to    34.078827 from OBSGEO-[XYZ].\n",
      "Set OBSGEO-H to     2115.607 from OBSGEO-[XYZ]'. [astropy.wcs.wcs]\n",
      "WARNING: FITSFixedWarning: 'datfix' made the change 'Set MJD-OBS to 56972.711024 from DATE-OBS'. [astropy.wcs.wcs]\n",
      "WARNING: FITSFixedWarning: 'obsfix' made the change 'Set OBSGEO-L to  -107.618000 from OBSGEO-[XYZ].\n",
      "Set OBSGEO-B to    34.078827 from OBSGEO-[XYZ].\n",
      "Set OBSGEO-H to     2115.607 from OBSGEO-[XYZ]'. [astropy.wcs.wcs]\n",
      "WARNING: FITSFixedWarning: 'datfix' made the change 'Set MJD-OBS to 55877.694010 from DATE-OBS'. [astropy.wcs.wcs]\n",
      "WARNING: FITSFixedWarning: 'obsfix' made the change 'Set OBSGEO-L to  -107.618000 from OBSGEO-[XYZ].\n",
      "Set OBSGEO-B to    34.078827 from OBSGEO-[XYZ].\n",
      "Set OBSGEO-H to     2115.607 from OBSGEO-[XYZ]'. [astropy.wcs.wcs]\n",
      "WARNING: FITSFixedWarning: 'cdfix' made the change 'Success'. [astropy.wcs.wcs]\n"
     ]
    },
    {
     "name": "stdout",
     "output_type": "stream",
     "text": [
      "Just finished NGC3627Enuc.1! :)\n",
      "Working on NGC3627Enuc.2\n"
     ]
    },
    {
     "name": "stderr",
     "output_type": "stream",
     "text": [
      "WARNING: FITSFixedWarning: 'datfix' made the change 'Set MJD-OBS to 56600.706441 from DATE-OBS'. [astropy.wcs.wcs]\n",
      "WARNING: FITSFixedWarning: 'obsfix' made the change 'Set OBSGEO-L to  -107.618000 from OBSGEO-[XYZ].\n",
      "Set OBSGEO-B to    34.078827 from OBSGEO-[XYZ].\n",
      "Set OBSGEO-H to     2115.607 from OBSGEO-[XYZ]'. [astropy.wcs.wcs]\n",
      "WARNING: FITSFixedWarning: 'datfix' made the change 'Set MJD-OBS to 56972.717691 from DATE-OBS'. [astropy.wcs.wcs]\n",
      "WARNING: FITSFixedWarning: 'obsfix' made the change 'Set OBSGEO-L to  -107.618000 from OBSGEO-[XYZ].\n",
      "Set OBSGEO-B to    34.078827 from OBSGEO-[XYZ].\n",
      "Set OBSGEO-H to     2115.607 from OBSGEO-[XYZ]'. [astropy.wcs.wcs]\n",
      "WARNING: FITSFixedWarning: 'datfix' made the change 'Set MJD-OBS to 55877.707031 from DATE-OBS'. [astropy.wcs.wcs]\n",
      "WARNING: FITSFixedWarning: 'obsfix' made the change 'Set OBSGEO-L to  -107.618000 from OBSGEO-[XYZ].\n",
      "Set OBSGEO-B to    34.078827 from OBSGEO-[XYZ].\n",
      "Set OBSGEO-H to     2115.607 from OBSGEO-[XYZ]'. [astropy.wcs.wcs]\n",
      "WARNING: FITSFixedWarning: 'cdfix' made the change 'Success'. [astropy.wcs.wcs]\n"
     ]
    },
    {
     "name": "stdout",
     "output_type": "stream",
     "text": [
      "Just finished NGC3627Enuc.2! :)\n",
      "Working on NGC3773\n"
     ]
    },
    {
     "name": "stderr",
     "output_type": "stream",
     "text": [
      "WARNING: FITSFixedWarning: 'datfix' made the change 'Set MJD-OBS to 56600.711198 from DATE-OBS'. [astropy.wcs.wcs]\n",
      "WARNING: FITSFixedWarning: 'obsfix' made the change 'Set OBSGEO-L to  -107.618000 from OBSGEO-[XYZ].\n",
      "Set OBSGEO-B to    34.078827 from OBSGEO-[XYZ].\n",
      "Set OBSGEO-H to     2115.607 from OBSGEO-[XYZ]'. [astropy.wcs.wcs]\n",
      "WARNING: FITSFixedWarning: 'datfix' made the change 'Set MJD-OBS to 56972.723698 from DATE-OBS'. [astropy.wcs.wcs]\n",
      "WARNING: FITSFixedWarning: 'obsfix' made the change 'Set OBSGEO-L to  -107.618000 from OBSGEO-[XYZ].\n",
      "Set OBSGEO-B to    34.078827 from OBSGEO-[XYZ].\n",
      "Set OBSGEO-H to     2115.607 from OBSGEO-[XYZ]'. [astropy.wcs.wcs]\n",
      "WARNING: FITSFixedWarning: 'datfix' made the change 'Set MJD-OBS to 55877.751163 from DATE-OBS'. [astropy.wcs.wcs]\n",
      "WARNING: FITSFixedWarning: 'obsfix' made the change 'Set OBSGEO-L to  -107.618000 from OBSGEO-[XYZ].\n",
      "Set OBSGEO-B to    34.078827 from OBSGEO-[XYZ].\n",
      "Set OBSGEO-H to     2115.607 from OBSGEO-[XYZ]'. [astropy.wcs.wcs]\n",
      "WARNING: FITSFixedWarning: 'cdfix' made the change 'Success'. [astropy.wcs.wcs]\n"
     ]
    },
    {
     "name": "stdout",
     "output_type": "stream",
     "text": [
      "Just finished NGC3773! :)\n",
      "Working on NGC3938Enuc.2a\n"
     ]
    },
    {
     "name": "stderr",
     "output_type": "stream",
     "text": [
      "WARNING: FITSFixedWarning: 'datfix' made the change 'Set MJD-OBS to 56610.438906 from DATE-OBS'. [astropy.wcs.wcs]\n",
      "WARNING: FITSFixedWarning: 'obsfix' made the change 'Set OBSGEO-L to  -107.618000 from OBSGEO-[XYZ].\n",
      "Set OBSGEO-B to    34.078827 from OBSGEO-[XYZ].\n",
      "Set OBSGEO-H to     2115.607 from OBSGEO-[XYZ]'. [astropy.wcs.wcs]\n",
      "WARNING: FITSFixedWarning: 'datfix' made the change 'Set MJD-OBS to 57003.614288 from DATE-OBS'. [astropy.wcs.wcs]\n",
      "WARNING: FITSFixedWarning: 'obsfix' made the change 'Set OBSGEO-L to  -107.618000 from OBSGEO-[XYZ].\n",
      "Set OBSGEO-B to    34.078827 from OBSGEO-[XYZ].\n",
      "Set OBSGEO-H to     2115.607 from OBSGEO-[XYZ]'. [astropy.wcs.wcs]\n",
      "WARNING: FITSFixedWarning: 'datfix' made the change 'Set MJD-OBS to 55940.331163 from DATE-OBS'. [astropy.wcs.wcs]\n",
      "WARNING: FITSFixedWarning: 'obsfix' made the change 'Set OBSGEO-L to  -107.618000 from OBSGEO-[XYZ].\n",
      "Set OBSGEO-B to    34.078827 from OBSGEO-[XYZ].\n",
      "Set OBSGEO-H to     2115.607 from OBSGEO-[XYZ]'. [astropy.wcs.wcs]\n",
      "WARNING: FITSFixedWarning: 'cdfix' made the change 'Success'. [astropy.wcs.wcs]\n",
      "WARNING: FITSFixedWarning: 'datfix' made the change 'Set MJD-OBS to 56610.438906 from DATE-OBS'. [astropy.wcs.wcs]\n",
      "WARNING: FITSFixedWarning: 'obsfix' made the change 'Set OBSGEO-L to  -107.618000 from OBSGEO-[XYZ].\n",
      "Set OBSGEO-B to    34.078827 from OBSGEO-[XYZ].\n",
      "Set OBSGEO-H to     2115.607 from OBSGEO-[XYZ]'. [astropy.wcs.wcs]\n",
      "WARNING: FITSFixedWarning: 'datfix' made the change 'Set MJD-OBS to 57003.614288 from DATE-OBS'. [astropy.wcs.wcs]\n",
      "WARNING: FITSFixedWarning: 'obsfix' made the change 'Set OBSGEO-L to  -107.618000 from OBSGEO-[XYZ].\n",
      "Set OBSGEO-B to    34.078827 from OBSGEO-[XYZ].\n",
      "Set OBSGEO-H to     2115.607 from OBSGEO-[XYZ]'. [astropy.wcs.wcs]\n",
      "WARNING: FITSFixedWarning: 'datfix' made the change 'Set MJD-OBS to 55940.331163 from DATE-OBS'. [astropy.wcs.wcs]\n",
      "WARNING: FITSFixedWarning: 'obsfix' made the change 'Set OBSGEO-L to  -107.618000 from OBSGEO-[XYZ].\n",
      "Set OBSGEO-B to    34.078827 from OBSGEO-[XYZ].\n",
      "Set OBSGEO-H to     2115.607 from OBSGEO-[XYZ]'. [astropy.wcs.wcs]\n",
      "WARNING: FITSFixedWarning: 'cdfix' made the change 'Success'. [astropy.wcs.wcs]\n"
     ]
    },
    {
     "name": "stdout",
     "output_type": "stream",
     "text": [
      "Just finished NGC3938Enuc.2a! :)\n",
      "Working on NGC3938Enuc.2b\n",
      "Just finished NGC3938Enuc.2b! :)\n",
      "Working on NGC3938a\n"
     ]
    },
    {
     "name": "stderr",
     "output_type": "stream",
     "text": [
      "WARNING: FITSFixedWarning: 'datfix' made the change 'Set MJD-OBS to 56610.438906 from DATE-OBS'. [astropy.wcs.wcs]\n",
      "WARNING: FITSFixedWarning: 'obsfix' made the change 'Set OBSGEO-L to  -107.618000 from OBSGEO-[XYZ].\n",
      "Set OBSGEO-B to    34.078827 from OBSGEO-[XYZ].\n",
      "Set OBSGEO-H to     2115.607 from OBSGEO-[XYZ]'. [astropy.wcs.wcs]\n",
      "WARNING: FITSFixedWarning: 'datfix' made the change 'Set MJD-OBS to 57003.607865 from DATE-OBS'. [astropy.wcs.wcs]\n",
      "WARNING: FITSFixedWarning: 'obsfix' made the change 'Set OBSGEO-L to  -107.618000 from OBSGEO-[XYZ].\n",
      "Set OBSGEO-B to    34.078827 from OBSGEO-[XYZ].\n",
      "Set OBSGEO-H to     2115.607 from OBSGEO-[XYZ]'. [astropy.wcs.wcs]\n",
      "WARNING: FITSFixedWarning: 'datfix' made the change 'Set MJD-OBS to 55940.306788 from DATE-OBS'. [astropy.wcs.wcs]\n",
      "WARNING: FITSFixedWarning: 'obsfix' made the change 'Set OBSGEO-L to  -107.618000 from OBSGEO-[XYZ].\n",
      "Set OBSGEO-B to    34.078827 from OBSGEO-[XYZ].\n",
      "Set OBSGEO-H to     2115.607 from OBSGEO-[XYZ]'. [astropy.wcs.wcs]\n",
      "WARNING: FITSFixedWarning: 'cdfix' made the change 'Success'. [astropy.wcs.wcs]\n",
      "WARNING: FITSFixedWarning: 'datfix' made the change 'Set MJD-OBS to 56610.438906 from DATE-OBS'. [astropy.wcs.wcs]\n",
      "WARNING: FITSFixedWarning: 'obsfix' made the change 'Set OBSGEO-L to  -107.618000 from OBSGEO-[XYZ].\n",
      "Set OBSGEO-B to    34.078827 from OBSGEO-[XYZ].\n",
      "Set OBSGEO-H to     2115.607 from OBSGEO-[XYZ]'. [astropy.wcs.wcs]\n",
      "WARNING: FITSFixedWarning: 'datfix' made the change 'Set MJD-OBS to 57003.607865 from DATE-OBS'. [astropy.wcs.wcs]\n",
      "WARNING: FITSFixedWarning: 'obsfix' made the change 'Set OBSGEO-L to  -107.618000 from OBSGEO-[XYZ].\n",
      "Set OBSGEO-B to    34.078827 from OBSGEO-[XYZ].\n",
      "Set OBSGEO-H to     2115.607 from OBSGEO-[XYZ]'. [astropy.wcs.wcs]\n",
      "WARNING: FITSFixedWarning: 'datfix' made the change 'Set MJD-OBS to 55940.306788 from DATE-OBS'. [astropy.wcs.wcs]\n",
      "WARNING: FITSFixedWarning: 'obsfix' made the change 'Set OBSGEO-L to  -107.618000 from OBSGEO-[XYZ].\n",
      "Set OBSGEO-B to    34.078827 from OBSGEO-[XYZ].\n",
      "Set OBSGEO-H to     2115.607 from OBSGEO-[XYZ]'. [astropy.wcs.wcs]\n",
      "WARNING: FITSFixedWarning: 'cdfix' made the change 'Success'. [astropy.wcs.wcs]\n"
     ]
    },
    {
     "name": "stdout",
     "output_type": "stream",
     "text": [
      "Just finished NGC3938a! :)\n",
      "Working on NGC3938b\n",
      "Just finished NGC3938b! :)\n",
      "Working on NGC4254a\n"
     ]
    },
    {
     "name": "stderr",
     "output_type": "stream",
     "text": [
      "WARNING: FITSFixedWarning: 'datfix' made the change 'Set MJD-OBS to 56600.731788 from DATE-OBS'. [astropy.wcs.wcs]\n",
      "WARNING: FITSFixedWarning: 'obsfix' made the change 'Set OBSGEO-L to  -107.618000 from OBSGEO-[XYZ].\n",
      "Set OBSGEO-B to    34.078827 from OBSGEO-[XYZ].\n",
      "Set OBSGEO-H to     2115.607 from OBSGEO-[XYZ]'. [astropy.wcs.wcs]\n",
      "WARNING: FITSFixedWarning: 'datfix' made the change 'Set MJD-OBS to 56972.734392 from DATE-OBS'. [astropy.wcs.wcs]\n",
      "WARNING: FITSFixedWarning: 'obsfix' made the change 'Set OBSGEO-L to  -107.618000 from OBSGEO-[XYZ].\n",
      "Set OBSGEO-B to    34.078827 from OBSGEO-[XYZ].\n",
      "Set OBSGEO-H to     2115.607 from OBSGEO-[XYZ]'. [astropy.wcs.wcs]\n",
      "WARNING: FITSFixedWarning: 'datfix' made the change 'Set MJD-OBS to 56326.386580 from DATE-OBS'. [astropy.wcs.wcs]\n",
      "WARNING: FITSFixedWarning: 'obsfix' made the change 'Set OBSGEO-L to  -107.618000 from OBSGEO-[XYZ].\n",
      "Set OBSGEO-B to    34.078827 from OBSGEO-[XYZ].\n",
      "Set OBSGEO-H to     2115.607 from OBSGEO-[XYZ]'. [astropy.wcs.wcs]\n",
      "WARNING: FITSFixedWarning: 'cdfix' made the change 'Success'. [astropy.wcs.wcs]\n",
      "WARNING: FITSFixedWarning: 'datfix' made the change 'Set MJD-OBS to 56600.731788 from DATE-OBS'. [astropy.wcs.wcs]\n",
      "WARNING: FITSFixedWarning: 'obsfix' made the change 'Set OBSGEO-L to  -107.618000 from OBSGEO-[XYZ].\n",
      "Set OBSGEO-B to    34.078827 from OBSGEO-[XYZ].\n",
      "Set OBSGEO-H to     2115.607 from OBSGEO-[XYZ]'. [astropy.wcs.wcs]\n",
      "WARNING: FITSFixedWarning: 'datfix' made the change 'Set MJD-OBS to 56972.734392 from DATE-OBS'. [astropy.wcs.wcs]\n",
      "WARNING: FITSFixedWarning: 'obsfix' made the change 'Set OBSGEO-L to  -107.618000 from OBSGEO-[XYZ].\n",
      "Set OBSGEO-B to    34.078827 from OBSGEO-[XYZ].\n",
      "Set OBSGEO-H to     2115.607 from OBSGEO-[XYZ]'. [astropy.wcs.wcs]\n",
      "WARNING: FITSFixedWarning: 'datfix' made the change 'Set MJD-OBS to 56326.386580 from DATE-OBS'. [astropy.wcs.wcs]\n",
      "WARNING: FITSFixedWarning: 'obsfix' made the change 'Set OBSGEO-L to  -107.618000 from OBSGEO-[XYZ].\n",
      "Set OBSGEO-B to    34.078827 from OBSGEO-[XYZ].\n",
      "Set OBSGEO-H to     2115.607 from OBSGEO-[XYZ]'. [astropy.wcs.wcs]\n",
      "WARNING: FITSFixedWarning: 'cdfix' made the change 'Success'. [astropy.wcs.wcs]\n"
     ]
    },
    {
     "name": "stdout",
     "output_type": "stream",
     "text": [
      "Just finished NGC4254a! :)\n",
      "Working on NGC4254b\n",
      "Just finished NGC4254b! :)\n",
      "Working on NGC4254c\n"
     ]
    },
    {
     "name": "stderr",
     "output_type": "stream",
     "text": [
      "WARNING: FITSFixedWarning: 'datfix' made the change 'Set MJD-OBS to 56600.731788 from DATE-OBS'. [astropy.wcs.wcs]\n",
      "WARNING: FITSFixedWarning: 'obsfix' made the change 'Set OBSGEO-L to  -107.618000 from OBSGEO-[XYZ].\n",
      "Set OBSGEO-B to    34.078827 from OBSGEO-[XYZ].\n",
      "Set OBSGEO-H to     2115.607 from OBSGEO-[XYZ]'. [astropy.wcs.wcs]\n",
      "WARNING: FITSFixedWarning: 'datfix' made the change 'Set MJD-OBS to 56972.734392 from DATE-OBS'. [astropy.wcs.wcs]\n",
      "WARNING: FITSFixedWarning: 'obsfix' made the change 'Set OBSGEO-L to  -107.618000 from OBSGEO-[XYZ].\n",
      "Set OBSGEO-B to    34.078827 from OBSGEO-[XYZ].\n",
      "Set OBSGEO-H to     2115.607 from OBSGEO-[XYZ]'. [astropy.wcs.wcs]\n",
      "WARNING: FITSFixedWarning: 'datfix' made the change 'Set MJD-OBS to 56326.386580 from DATE-OBS'. [astropy.wcs.wcs]\n",
      "WARNING: FITSFixedWarning: 'obsfix' made the change 'Set OBSGEO-L to  -107.618000 from OBSGEO-[XYZ].\n",
      "Set OBSGEO-B to    34.078827 from OBSGEO-[XYZ].\n",
      "Set OBSGEO-H to     2115.607 from OBSGEO-[XYZ]'. [astropy.wcs.wcs]\n",
      "WARNING: FITSFixedWarning: 'cdfix' made the change 'Success'. [astropy.wcs.wcs]\n",
      "WARNING: FITSFixedWarning: 'datfix' made the change 'Set MJD-OBS to 56600.731788 from DATE-OBS'. [astropy.wcs.wcs]\n",
      "WARNING: FITSFixedWarning: 'obsfix' made the change 'Set OBSGEO-L to  -107.618000 from OBSGEO-[XYZ].\n",
      "Set OBSGEO-B to    34.078827 from OBSGEO-[XYZ].\n",
      "Set OBSGEO-H to     2115.607 from OBSGEO-[XYZ]'. [astropy.wcs.wcs]\n",
      "WARNING: FITSFixedWarning: 'datfix' made the change 'Set MJD-OBS to 56972.734392 from DATE-OBS'. [astropy.wcs.wcs]\n",
      "WARNING: FITSFixedWarning: 'obsfix' made the change 'Set OBSGEO-L to  -107.618000 from OBSGEO-[XYZ].\n",
      "Set OBSGEO-B to    34.078827 from OBSGEO-[XYZ].\n",
      "Set OBSGEO-H to     2115.607 from OBSGEO-[XYZ]'. [astropy.wcs.wcs]\n",
      "WARNING: FITSFixedWarning: 'datfix' made the change 'Set MJD-OBS to 56326.386580 from DATE-OBS'. [astropy.wcs.wcs]\n",
      "WARNING: FITSFixedWarning: 'obsfix' made the change 'Set OBSGEO-L to  -107.618000 from OBSGEO-[XYZ].\n",
      "Set OBSGEO-B to    34.078827 from OBSGEO-[XYZ].\n",
      "Set OBSGEO-H to     2115.607 from OBSGEO-[XYZ]'. [astropy.wcs.wcs]\n",
      "WARNING: FITSFixedWarning: 'cdfix' made the change 'Success'. [astropy.wcs.wcs]\n"
     ]
    },
    {
     "name": "stdout",
     "output_type": "stream",
     "text": [
      "Just finished NGC4254c! :)\n",
      "Working on NGC4254d\n",
      "Just finished NGC4254d! :)\n",
      "Working on NGC4254e\n"
     ]
    },
    {
     "name": "stderr",
     "output_type": "stream",
     "text": [
      "WARNING: FITSFixedWarning: 'datfix' made the change 'Set MJD-OBS to 56600.731788 from DATE-OBS'. [astropy.wcs.wcs]\n",
      "WARNING: FITSFixedWarning: 'obsfix' made the change 'Set OBSGEO-L to  -107.618000 from OBSGEO-[XYZ].\n",
      "Set OBSGEO-B to    34.078827 from OBSGEO-[XYZ].\n",
      "Set OBSGEO-H to     2115.607 from OBSGEO-[XYZ]'. [astropy.wcs.wcs]\n",
      "WARNING: FITSFixedWarning: 'datfix' made the change 'Set MJD-OBS to 56972.734392 from DATE-OBS'. [astropy.wcs.wcs]\n",
      "WARNING: FITSFixedWarning: 'obsfix' made the change 'Set OBSGEO-L to  -107.618000 from OBSGEO-[XYZ].\n",
      "Set OBSGEO-B to    34.078827 from OBSGEO-[XYZ].\n",
      "Set OBSGEO-H to     2115.607 from OBSGEO-[XYZ]'. [astropy.wcs.wcs]\n",
      "WARNING: FITSFixedWarning: 'datfix' made the change 'Set MJD-OBS to 56326.386580 from DATE-OBS'. [astropy.wcs.wcs]\n",
      "WARNING: FITSFixedWarning: 'obsfix' made the change 'Set OBSGEO-L to  -107.618000 from OBSGEO-[XYZ].\n",
      "Set OBSGEO-B to    34.078827 from OBSGEO-[XYZ].\n",
      "Set OBSGEO-H to     2115.607 from OBSGEO-[XYZ]'. [astropy.wcs.wcs]\n",
      "WARNING: FITSFixedWarning: 'cdfix' made the change 'Success'. [astropy.wcs.wcs]\n",
      "WARNING: FITSFixedWarning: 'datfix' made the change 'Set MJD-OBS to 56600.731788 from DATE-OBS'. [astropy.wcs.wcs]\n",
      "WARNING: FITSFixedWarning: 'obsfix' made the change 'Set OBSGEO-L to  -107.618000 from OBSGEO-[XYZ].\n",
      "Set OBSGEO-B to    34.078827 from OBSGEO-[XYZ].\n",
      "Set OBSGEO-H to     2115.607 from OBSGEO-[XYZ]'. [astropy.wcs.wcs]\n",
      "WARNING: FITSFixedWarning: 'datfix' made the change 'Set MJD-OBS to 56972.734392 from DATE-OBS'. [astropy.wcs.wcs]\n",
      "WARNING: FITSFixedWarning: 'obsfix' made the change 'Set OBSGEO-L to  -107.618000 from OBSGEO-[XYZ].\n",
      "Set OBSGEO-B to    34.078827 from OBSGEO-[XYZ].\n",
      "Set OBSGEO-H to     2115.607 from OBSGEO-[XYZ]'. [astropy.wcs.wcs]\n",
      "WARNING: FITSFixedWarning: 'datfix' made the change 'Set MJD-OBS to 56326.386580 from DATE-OBS'. [astropy.wcs.wcs]\n",
      "WARNING: FITSFixedWarning: 'obsfix' made the change 'Set OBSGEO-L to  -107.618000 from OBSGEO-[XYZ].\n",
      "Set OBSGEO-B to    34.078827 from OBSGEO-[XYZ].\n",
      "Set OBSGEO-H to     2115.607 from OBSGEO-[XYZ]'. [astropy.wcs.wcs]\n",
      "WARNING: FITSFixedWarning: 'cdfix' made the change 'Success'. [astropy.wcs.wcs]\n"
     ]
    },
    {
     "name": "stdout",
     "output_type": "stream",
     "text": [
      "Just finished NGC4254e! :)\n",
      "Working on NGC4254f\n",
      "Just finished NGC4254f! :)\n",
      "Working on NGC4321Enuc.1\n"
     ]
    },
    {
     "name": "stderr",
     "output_type": "stream",
     "text": [
      "WARNING: FITSFixedWarning: 'datfix' made the change 'Set MJD-OBS to 56600.736615 from DATE-OBS'. [astropy.wcs.wcs]\n",
      "WARNING: FITSFixedWarning: 'obsfix' made the change 'Set OBSGEO-L to  -107.618000 from OBSGEO-[XYZ].\n",
      "Set OBSGEO-B to    34.078827 from OBSGEO-[XYZ].\n",
      "Set OBSGEO-H to     2115.607 from OBSGEO-[XYZ]'. [astropy.wcs.wcs]\n",
      "WARNING: FITSFixedWarning: 'datfix' made the change 'Set MJD-OBS to 56972.759878 from DATE-OBS'. [astropy.wcs.wcs]\n",
      "WARNING: FITSFixedWarning: 'obsfix' made the change 'Set OBSGEO-L to  -107.618000 from OBSGEO-[XYZ].\n",
      "Set OBSGEO-B to    34.078827 from OBSGEO-[XYZ].\n",
      "Set OBSGEO-H to     2115.607 from OBSGEO-[XYZ]'. [astropy.wcs.wcs]\n",
      "WARNING: FITSFixedWarning: 'datfix' made the change 'Set MJD-OBS to 56326.423976 from DATE-OBS'. [astropy.wcs.wcs]\n",
      "WARNING: FITSFixedWarning: 'obsfix' made the change 'Set OBSGEO-L to  -107.618000 from OBSGEO-[XYZ].\n",
      "Set OBSGEO-B to    34.078827 from OBSGEO-[XYZ].\n",
      "Set OBSGEO-H to     2115.607 from OBSGEO-[XYZ]'. [astropy.wcs.wcs]\n",
      "WARNING: FITSFixedWarning: 'cdfix' made the change 'Success'. [astropy.wcs.wcs]\n"
     ]
    },
    {
     "name": "stdout",
     "output_type": "stream",
     "text": [
      "Just finished NGC4321Enuc.1! :)\n",
      "Working on NGC4321Enuc.2\n"
     ]
    },
    {
     "name": "stderr",
     "output_type": "stream",
     "text": [
      "WARNING: FITSFixedWarning: 'datfix' made the change 'Set MJD-OBS to 56600.736615 from DATE-OBS'. [astropy.wcs.wcs]\n",
      "WARNING: FITSFixedWarning: 'obsfix' made the change 'Set OBSGEO-L to  -107.618000 from OBSGEO-[XYZ].\n",
      "Set OBSGEO-B to    34.078827 from OBSGEO-[XYZ].\n",
      "Set OBSGEO-H to     2115.607 from OBSGEO-[XYZ]'. [astropy.wcs.wcs]\n",
      "WARNING: FITSFixedWarning: 'datfix' made the change 'Set MJD-OBS to 56972.766580 from DATE-OBS'. [astropy.wcs.wcs]\n",
      "WARNING: FITSFixedWarning: 'obsfix' made the change 'Set OBSGEO-L to  -107.618000 from OBSGEO-[XYZ].\n",
      "Set OBSGEO-B to    34.078827 from OBSGEO-[XYZ].\n",
      "Set OBSGEO-H to     2115.607 from OBSGEO-[XYZ]'. [astropy.wcs.wcs]\n",
      "WARNING: FITSFixedWarning: 'datfix' made the change 'Set MJD-OBS to 56326.403177 from DATE-OBS'. [astropy.wcs.wcs]\n",
      "WARNING: FITSFixedWarning: 'obsfix' made the change 'Set OBSGEO-L to  -107.618000 from OBSGEO-[XYZ].\n",
      "Set OBSGEO-B to    34.078827 from OBSGEO-[XYZ].\n",
      "Set OBSGEO-H to     2115.607 from OBSGEO-[XYZ]'. [astropy.wcs.wcs]\n",
      "WARNING: FITSFixedWarning: 'cdfix' made the change 'Success'. [astropy.wcs.wcs]\n",
      "WARNING: FITSFixedWarning: 'datfix' made the change 'Set MJD-OBS to 56600.736615 from DATE-OBS'. [astropy.wcs.wcs]\n",
      "WARNING: FITSFixedWarning: 'obsfix' made the change 'Set OBSGEO-L to  -107.618000 from OBSGEO-[XYZ].\n",
      "Set OBSGEO-B to    34.078827 from OBSGEO-[XYZ].\n",
      "Set OBSGEO-H to     2115.607 from OBSGEO-[XYZ]'. [astropy.wcs.wcs]\n",
      "WARNING: FITSFixedWarning: 'datfix' made the change 'Set MJD-OBS to 56972.766580 from DATE-OBS'. [astropy.wcs.wcs]\n",
      "WARNING: FITSFixedWarning: 'obsfix' made the change 'Set OBSGEO-L to  -107.618000 from OBSGEO-[XYZ].\n",
      "Set OBSGEO-B to    34.078827 from OBSGEO-[XYZ].\n",
      "Set OBSGEO-H to     2115.607 from OBSGEO-[XYZ]'. [astropy.wcs.wcs]\n",
      "WARNING: FITSFixedWarning: 'datfix' made the change 'Set MJD-OBS to 56326.403177 from DATE-OBS'. [astropy.wcs.wcs]\n",
      "WARNING: FITSFixedWarning: 'obsfix' made the change 'Set OBSGEO-L to  -107.618000 from OBSGEO-[XYZ].\n",
      "Set OBSGEO-B to    34.078827 from OBSGEO-[XYZ].\n",
      "Set OBSGEO-H to     2115.607 from OBSGEO-[XYZ]'. [astropy.wcs.wcs]\n",
      "WARNING: FITSFixedWarning: 'cdfix' made the change 'Success'. [astropy.wcs.wcs]\n"
     ]
    },
    {
     "name": "stdout",
     "output_type": "stream",
     "text": [
      "Just finished NGC4321Enuc.2! :)\n",
      "Working on NGC4321Enuc.2a\n",
      "Just finished NGC4321Enuc.2a! :)\n",
      "Working on NGC4321Enuc.2b\n"
     ]
    },
    {
     "name": "stderr",
     "output_type": "stream",
     "text": [
      "WARNING: FITSFixedWarning: 'datfix' made the change 'Set MJD-OBS to 56600.736615 from DATE-OBS'. [astropy.wcs.wcs]\n",
      "WARNING: FITSFixedWarning: 'obsfix' made the change 'Set OBSGEO-L to  -107.618000 from OBSGEO-[XYZ].\n",
      "Set OBSGEO-B to    34.078827 from OBSGEO-[XYZ].\n",
      "Set OBSGEO-H to     2115.607 from OBSGEO-[XYZ]'. [astropy.wcs.wcs]\n",
      "WARNING: FITSFixedWarning: 'datfix' made the change 'Set MJD-OBS to 56972.766580 from DATE-OBS'. [astropy.wcs.wcs]\n",
      "WARNING: FITSFixedWarning: 'obsfix' made the change 'Set OBSGEO-L to  -107.618000 from OBSGEO-[XYZ].\n",
      "Set OBSGEO-B to    34.078827 from OBSGEO-[XYZ].\n",
      "Set OBSGEO-H to     2115.607 from OBSGEO-[XYZ]'. [astropy.wcs.wcs]\n",
      "WARNING: FITSFixedWarning: 'datfix' made the change 'Set MJD-OBS to 56326.403177 from DATE-OBS'. [astropy.wcs.wcs]\n",
      "WARNING: FITSFixedWarning: 'obsfix' made the change 'Set OBSGEO-L to  -107.618000 from OBSGEO-[XYZ].\n",
      "Set OBSGEO-B to    34.078827 from OBSGEO-[XYZ].\n",
      "Set OBSGEO-H to     2115.607 from OBSGEO-[XYZ]'. [astropy.wcs.wcs]\n",
      "WARNING: FITSFixedWarning: 'cdfix' made the change 'Success'. [astropy.wcs.wcs]\n"
     ]
    },
    {
     "name": "stdout",
     "output_type": "stream",
     "text": [
      "Just finished NGC4321Enuc.2b! :)\n",
      "Working on NGC4321a\n"
     ]
    },
    {
     "name": "stderr",
     "output_type": "stream",
     "text": [
      "WARNING: FITSFixedWarning: 'datfix' made the change 'Set MJD-OBS to 56600.736615 from DATE-OBS'. [astropy.wcs.wcs]\n",
      "WARNING: FITSFixedWarning: 'obsfix' made the change 'Set OBSGEO-L to  -107.618000 from OBSGEO-[XYZ].\n",
      "Set OBSGEO-B to    34.078827 from OBSGEO-[XYZ].\n",
      "Set OBSGEO-H to     2115.607 from OBSGEO-[XYZ]'. [astropy.wcs.wcs]\n",
      "WARNING: FITSFixedWarning: 'datfix' made the change 'Set MJD-OBS to 56972.753837 from DATE-OBS'. [astropy.wcs.wcs]\n",
      "WARNING: FITSFixedWarning: 'obsfix' made the change 'Set OBSGEO-L to  -107.618000 from OBSGEO-[XYZ].\n",
      "Set OBSGEO-B to    34.078827 from OBSGEO-[XYZ].\n",
      "Set OBSGEO-H to     2115.607 from OBSGEO-[XYZ]'. [astropy.wcs.wcs]\n",
      "WARNING: FITSFixedWarning: 'datfix' made the change 'Set MJD-OBS to 56326.450955 from DATE-OBS'. [astropy.wcs.wcs]\n",
      "WARNING: FITSFixedWarning: 'obsfix' made the change 'Set OBSGEO-L to  -107.618000 from OBSGEO-[XYZ].\n",
      "Set OBSGEO-B to    34.078827 from OBSGEO-[XYZ].\n",
      "Set OBSGEO-H to     2115.607 from OBSGEO-[XYZ]'. [astropy.wcs.wcs]\n",
      "WARNING: FITSFixedWarning: 'cdfix' made the change 'Success'. [astropy.wcs.wcs]\n",
      "WARNING: FITSFixedWarning: 'datfix' made the change 'Set MJD-OBS to 56600.736615 from DATE-OBS'. [astropy.wcs.wcs]\n",
      "WARNING: FITSFixedWarning: 'obsfix' made the change 'Set OBSGEO-L to  -107.618000 from OBSGEO-[XYZ].\n",
      "Set OBSGEO-B to    34.078827 from OBSGEO-[XYZ].\n",
      "Set OBSGEO-H to     2115.607 from OBSGEO-[XYZ]'. [astropy.wcs.wcs]\n",
      "WARNING: FITSFixedWarning: 'datfix' made the change 'Set MJD-OBS to 56972.753837 from DATE-OBS'. [astropy.wcs.wcs]\n",
      "WARNING: FITSFixedWarning: 'obsfix' made the change 'Set OBSGEO-L to  -107.618000 from OBSGEO-[XYZ].\n",
      "Set OBSGEO-B to    34.078827 from OBSGEO-[XYZ].\n",
      "Set OBSGEO-H to     2115.607 from OBSGEO-[XYZ]'. [astropy.wcs.wcs]\n",
      "WARNING: FITSFixedWarning: 'datfix' made the change 'Set MJD-OBS to 56326.450955 from DATE-OBS'. [astropy.wcs.wcs]\n",
      "WARNING: FITSFixedWarning: 'obsfix' made the change 'Set OBSGEO-L to  -107.618000 from OBSGEO-[XYZ].\n",
      "Set OBSGEO-B to    34.078827 from OBSGEO-[XYZ].\n",
      "Set OBSGEO-H to     2115.607 from OBSGEO-[XYZ]'. [astropy.wcs.wcs]\n",
      "WARNING: FITSFixedWarning: 'cdfix' made the change 'Success'. [astropy.wcs.wcs]\n"
     ]
    },
    {
     "name": "stdout",
     "output_type": "stream",
     "text": [
      "Just finished NGC4321a! :)\n",
      "Working on NGC4321b\n",
      "Just finished NGC4321b! :)\n",
      "Working on NGC4569\n"
     ]
    },
    {
     "name": "stderr",
     "output_type": "stream",
     "text": [
      "WARNING: FITSFixedWarning: 'datfix' made the change 'Set MJD-OBS to 56600.741441 from DATE-OBS'. [astropy.wcs.wcs]\n",
      "WARNING: FITSFixedWarning: 'obsfix' made the change 'Set OBSGEO-L to  -107.618000 from OBSGEO-[XYZ].\n",
      "Set OBSGEO-B to    34.078827 from OBSGEO-[XYZ].\n",
      "Set OBSGEO-H to     2115.607 from OBSGEO-[XYZ]'. [astropy.wcs.wcs]\n",
      "WARNING: FITSFixedWarning: 'datfix' made the change 'Set MJD-OBS to 56972.774358 from DATE-OBS'. [astropy.wcs.wcs]\n",
      "WARNING: FITSFixedWarning: 'obsfix' made the change 'Set OBSGEO-L to  -107.618000 from OBSGEO-[XYZ].\n",
      "Set OBSGEO-B to    34.078827 from OBSGEO-[XYZ].\n",
      "Set OBSGEO-H to     2115.607 from OBSGEO-[XYZ]'. [astropy.wcs.wcs]\n",
      "WARNING: FITSFixedWarning: 'datfix' made the change 'Set MJD-OBS to 56326.462413 from DATE-OBS'. [astropy.wcs.wcs]\n",
      "WARNING: FITSFixedWarning: 'obsfix' made the change 'Set OBSGEO-L to  -107.618000 from OBSGEO-[XYZ].\n",
      "Set OBSGEO-B to    34.078827 from OBSGEO-[XYZ].\n",
      "Set OBSGEO-H to     2115.607 from OBSGEO-[XYZ]'. [astropy.wcs.wcs]\n",
      "WARNING: FITSFixedWarning: 'cdfix' made the change 'Success'. [astropy.wcs.wcs]\n"
     ]
    },
    {
     "name": "stdout",
     "output_type": "stream",
     "text": [
      "Just finished NGC4569! :)\n",
      "Working on NGC4579\n"
     ]
    },
    {
     "name": "stderr",
     "output_type": "stream",
     "text": [
      "WARNING: FITSFixedWarning: 'datfix' made the change 'Set MJD-OBS to 56600.746198 from DATE-OBS'. [astropy.wcs.wcs]\n",
      "WARNING: FITSFixedWarning: 'obsfix' made the change 'Set OBSGEO-L to  -107.618000 from OBSGEO-[XYZ].\n",
      "Set OBSGEO-B to    34.078827 from OBSGEO-[XYZ].\n",
      "Set OBSGEO-H to     2115.607 from OBSGEO-[XYZ]'. [astropy.wcs.wcs]\n",
      "WARNING: FITSFixedWarning: 'datfix' made the change 'Set MJD-OBS to 56972.780365 from DATE-OBS'. [astropy.wcs.wcs]\n",
      "WARNING: FITSFixedWarning: 'obsfix' made the change 'Set OBSGEO-L to  -107.618000 from OBSGEO-[XYZ].\n",
      "Set OBSGEO-B to    34.078827 from OBSGEO-[XYZ].\n",
      "Set OBSGEO-H to     2115.607 from OBSGEO-[XYZ]'. [astropy.wcs.wcs]\n",
      "WARNING: FITSFixedWarning: 'datfix' made the change 'Set MJD-OBS to 56326.472101 from DATE-OBS'. [astropy.wcs.wcs]\n",
      "WARNING: FITSFixedWarning: 'obsfix' made the change 'Set OBSGEO-L to  -107.618000 from OBSGEO-[XYZ].\n",
      "Set OBSGEO-B to    34.078827 from OBSGEO-[XYZ].\n",
      "Set OBSGEO-H to     2115.607 from OBSGEO-[XYZ]'. [astropy.wcs.wcs]\n",
      "WARNING: FITSFixedWarning: 'cdfix' made the change 'Success'. [astropy.wcs.wcs]\n"
     ]
    },
    {
     "name": "stdout",
     "output_type": "stream",
     "text": [
      "Just finished NGC4579! :)\n",
      "Working on NGC4594a\n"
     ]
    },
    {
     "name": "stderr",
     "output_type": "stream",
     "text": [
      "WARNING: FITSFixedWarning: 'datfix' made the change 'Set MJD-OBS to 56601.649115 from DATE-OBS'. [astropy.wcs.wcs]\n",
      "WARNING: FITSFixedWarning: 'obsfix' made the change 'Set OBSGEO-L to  -107.618000 from OBSGEO-[XYZ].\n",
      "Set OBSGEO-B to    34.078827 from OBSGEO-[XYZ].\n",
      "Set OBSGEO-H to     2115.607 from OBSGEO-[XYZ]'. [astropy.wcs.wcs]\n",
      "WARNING: FITSFixedWarning: 'datfix' made the change 'Set MJD-OBS to 56964.726823 from DATE-OBS'. [astropy.wcs.wcs]\n",
      "WARNING: FITSFixedWarning: 'obsfix' made the change 'Set OBSGEO-L to  -107.618000 from OBSGEO-[XYZ].\n",
      "Set OBSGEO-B to    34.078827 from OBSGEO-[XYZ].\n",
      "Set OBSGEO-H to     2115.607 from OBSGEO-[XYZ]'. [astropy.wcs.wcs]\n",
      "WARNING: FITSFixedWarning: 'datfix' made the change 'Set MJD-OBS to 56353.406024 from DATE-OBS'. [astropy.wcs.wcs]\n",
      "WARNING: FITSFixedWarning: 'obsfix' made the change 'Set OBSGEO-L to  -107.618000 from OBSGEO-[XYZ].\n",
      "Set OBSGEO-B to    34.078827 from OBSGEO-[XYZ].\n",
      "Set OBSGEO-H to     2115.607 from OBSGEO-[XYZ]'. [astropy.wcs.wcs]\n",
      "WARNING: FITSFixedWarning: 'cdfix' made the change 'Success'. [astropy.wcs.wcs]\n"
     ]
    },
    {
     "name": "stdout",
     "output_type": "stream",
     "text": [
      "Just finished NGC4594a! :)\n",
      "Working on NGC4725a\n"
     ]
    },
    {
     "name": "stderr",
     "output_type": "stream",
     "text": [
      "WARNING: FITSFixedWarning: 'datfix' made the change 'Set MJD-OBS to 56600.792101 from DATE-OBS'. [astropy.wcs.wcs]\n",
      "WARNING: FITSFixedWarning: 'obsfix' made the change 'Set OBSGEO-L to  -107.618000 from OBSGEO-[XYZ].\n",
      "Set OBSGEO-B to    34.078827 from OBSGEO-[XYZ].\n",
      "Set OBSGEO-H to     2115.607 from OBSGEO-[XYZ]'. [astropy.wcs.wcs]\n",
      "WARNING: FITSFixedWarning: 'datfix' made the change 'Set MJD-OBS to 56972.796788 from DATE-OBS'. [astropy.wcs.wcs]\n",
      "WARNING: FITSFixedWarning: 'obsfix' made the change 'Set OBSGEO-L to  -107.618000 from OBSGEO-[XYZ].\n",
      "Set OBSGEO-B to    34.078827 from OBSGEO-[XYZ].\n",
      "Set OBSGEO-H to     2115.607 from OBSGEO-[XYZ]'. [astropy.wcs.wcs]\n",
      "WARNING: FITSFixedWarning: 'datfix' made the change 'Set MJD-OBS to 56358.222135 from DATE-OBS'. [astropy.wcs.wcs]\n",
      "WARNING: FITSFixedWarning: 'obsfix' made the change 'Set OBSGEO-L to  -107.618000 from OBSGEO-[XYZ].\n",
      "Set OBSGEO-B to    34.078827 from OBSGEO-[XYZ].\n",
      "Set OBSGEO-H to     2115.607 from OBSGEO-[XYZ]'. [astropy.wcs.wcs]\n",
      "WARNING: FITSFixedWarning: 'cdfix' made the change 'Success'. [astropy.wcs.wcs]\n"
     ]
    },
    {
     "name": "stdout",
     "output_type": "stream",
     "text": [
      "Just finished NGC4725a! :)\n",
      "Working on NGC6946Enuc.2a\n"
     ]
    },
    {
     "name": "stderr",
     "output_type": "stream",
     "text": [
      "WARNING: FITSFixedWarning: 'datfix' made the change 'Set MJD-OBS to 56593.153177 from DATE-OBS'. [astropy.wcs.wcs]\n",
      "WARNING: FITSFixedWarning: 'obsfix' made the change 'Set OBSGEO-L to  -107.618000 from OBSGEO-[XYZ].\n",
      "Set OBSGEO-B to    34.078827 from OBSGEO-[XYZ].\n",
      "Set OBSGEO-H to     2115.607 from OBSGEO-[XYZ]'. [astropy.wcs.wcs]\n",
      "WARNING: FITSFixedWarning: 'datfix' made the change 'Set MJD-OBS to 56962.166997 from DATE-OBS'. [astropy.wcs.wcs]\n",
      "WARNING: FITSFixedWarning: 'obsfix' made the change 'Set OBSGEO-L to  -107.618000 from OBSGEO-[XYZ].\n",
      "Set OBSGEO-B to    34.078827 from OBSGEO-[XYZ].\n",
      "Set OBSGEO-H to     2115.607 from OBSGEO-[XYZ]'. [astropy.wcs.wcs]\n",
      "WARNING: FITSFixedWarning: 'datfix' made the change 'Set MJD-OBS to 55927.964983 from DATE-OBS'. [astropy.wcs.wcs]\n",
      "WARNING: FITSFixedWarning: 'obsfix' made the change 'Set OBSGEO-L to  -107.618000 from OBSGEO-[XYZ].\n",
      "Set OBSGEO-B to    34.078827 from OBSGEO-[XYZ].\n",
      "Set OBSGEO-H to     2115.607 from OBSGEO-[XYZ]'. [astropy.wcs.wcs]\n",
      "WARNING: FITSFixedWarning: 'cdfix' made the change 'Success'. [astropy.wcs.wcs]\n",
      "WARNING: FITSFixedWarning: 'datfix' made the change 'Set MJD-OBS to 56593.153177 from DATE-OBS'. [astropy.wcs.wcs]\n",
      "WARNING: FITSFixedWarning: 'obsfix' made the change 'Set OBSGEO-L to  -107.618000 from OBSGEO-[XYZ].\n",
      "Set OBSGEO-B to    34.078827 from OBSGEO-[XYZ].\n",
      "Set OBSGEO-H to     2115.607 from OBSGEO-[XYZ]'. [astropy.wcs.wcs]\n",
      "WARNING: FITSFixedWarning: 'datfix' made the change 'Set MJD-OBS to 56962.166997 from DATE-OBS'. [astropy.wcs.wcs]\n",
      "WARNING: FITSFixedWarning: 'obsfix' made the change 'Set OBSGEO-L to  -107.618000 from OBSGEO-[XYZ].\n",
      "Set OBSGEO-B to    34.078827 from OBSGEO-[XYZ].\n",
      "Set OBSGEO-H to     2115.607 from OBSGEO-[XYZ]'. [astropy.wcs.wcs]\n",
      "WARNING: FITSFixedWarning: 'datfix' made the change 'Set MJD-OBS to 55927.964983 from DATE-OBS'. [astropy.wcs.wcs]\n",
      "WARNING: FITSFixedWarning: 'obsfix' made the change 'Set OBSGEO-L to  -107.618000 from OBSGEO-[XYZ].\n",
      "Set OBSGEO-B to    34.078827 from OBSGEO-[XYZ].\n",
      "Set OBSGEO-H to     2115.607 from OBSGEO-[XYZ]'. [astropy.wcs.wcs]\n",
      "WARNING: FITSFixedWarning: 'cdfix' made the change 'Success'. [astropy.wcs.wcs]\n"
     ]
    },
    {
     "name": "stdout",
     "output_type": "stream",
     "text": [
      "Just finished NGC6946Enuc.2a! :)\n",
      "Working on NGC6946Enuc.2b\n",
      "Just finished NGC6946Enuc.2b! :)\n",
      "Working on NGC6946Enuc.3a\n"
     ]
    },
    {
     "name": "stderr",
     "output_type": "stream",
     "text": [
      "WARNING: FITSFixedWarning: 'datfix' made the change 'Set MJD-OBS to 56593.153177 from DATE-OBS'. [astropy.wcs.wcs]\n",
      "WARNING: FITSFixedWarning: 'obsfix' made the change 'Set OBSGEO-L to  -107.618000 from OBSGEO-[XYZ].\n",
      "Set OBSGEO-B to    34.078827 from OBSGEO-[XYZ].\n",
      "Set OBSGEO-H to     2115.607 from OBSGEO-[XYZ]'. [astropy.wcs.wcs]\n",
      "WARNING: FITSFixedWarning: 'datfix' made the change 'Set MJD-OBS to 56962.173038 from DATE-OBS'. [astropy.wcs.wcs]\n",
      "WARNING: FITSFixedWarning: 'obsfix' made the change 'Set OBSGEO-L to  -107.618000 from OBSGEO-[XYZ].\n",
      "Set OBSGEO-B to    34.078827 from OBSGEO-[XYZ].\n",
      "Set OBSGEO-H to     2115.607 from OBSGEO-[XYZ]'. [astropy.wcs.wcs]\n",
      "WARNING: FITSFixedWarning: 'datfix' made the change 'Set MJD-OBS to 55906.922622 from DATE-OBS'. [astropy.wcs.wcs]\n",
      "WARNING: FITSFixedWarning: 'obsfix' made the change 'Set OBSGEO-L to  -107.618000 from OBSGEO-[XYZ].\n",
      "Set OBSGEO-B to    34.078827 from OBSGEO-[XYZ].\n",
      "Set OBSGEO-H to     2115.607 from OBSGEO-[XYZ]'. [astropy.wcs.wcs]\n",
      "WARNING: FITSFixedWarning: 'cdfix' made the change 'Success'. [astropy.wcs.wcs]\n",
      "WARNING: FITSFixedWarning: 'datfix' made the change 'Set MJD-OBS to 56593.153177 from DATE-OBS'. [astropy.wcs.wcs]\n",
      "WARNING: FITSFixedWarning: 'obsfix' made the change 'Set OBSGEO-L to  -107.618000 from OBSGEO-[XYZ].\n",
      "Set OBSGEO-B to    34.078827 from OBSGEO-[XYZ].\n",
      "Set OBSGEO-H to     2115.607 from OBSGEO-[XYZ]'. [astropy.wcs.wcs]\n",
      "WARNING: FITSFixedWarning: 'datfix' made the change 'Set MJD-OBS to 56962.173038 from DATE-OBS'. [astropy.wcs.wcs]\n",
      "WARNING: FITSFixedWarning: 'obsfix' made the change 'Set OBSGEO-L to  -107.618000 from OBSGEO-[XYZ].\n",
      "Set OBSGEO-B to    34.078827 from OBSGEO-[XYZ].\n",
      "Set OBSGEO-H to     2115.607 from OBSGEO-[XYZ]'. [astropy.wcs.wcs]\n",
      "WARNING: FITSFixedWarning: 'datfix' made the change 'Set MJD-OBS to 55906.922622 from DATE-OBS'. [astropy.wcs.wcs]\n",
      "WARNING: FITSFixedWarning: 'obsfix' made the change 'Set OBSGEO-L to  -107.618000 from OBSGEO-[XYZ].\n",
      "Set OBSGEO-B to    34.078827 from OBSGEO-[XYZ].\n",
      "Set OBSGEO-H to     2115.607 from OBSGEO-[XYZ]'. [astropy.wcs.wcs]\n",
      "WARNING: FITSFixedWarning: 'cdfix' made the change 'Success'. [astropy.wcs.wcs]\n"
     ]
    },
    {
     "name": "stdout",
     "output_type": "stream",
     "text": [
      "Just finished NGC6946Enuc.3a! :)\n",
      "Working on NGC6946Enuc.3b\n",
      "Just finished NGC6946Enuc.3b! :)\n",
      "Working on NGC6946Enuc.4a\n"
     ]
    },
    {
     "name": "stderr",
     "output_type": "stream",
     "text": [
      "WARNING: FITSFixedWarning: 'datfix' made the change 'Set MJD-OBS to 56593.153177 from DATE-OBS'. [astropy.wcs.wcs]\n",
      "WARNING: FITSFixedWarning: 'obsfix' made the change 'Set OBSGEO-L to  -107.618000 from OBSGEO-[XYZ].\n",
      "Set OBSGEO-B to    34.078827 from OBSGEO-[XYZ].\n",
      "Set OBSGEO-H to     2115.607 from OBSGEO-[XYZ]'. [astropy.wcs.wcs]\n",
      "WARNING: FITSFixedWarning: 'datfix' made the change 'Set MJD-OBS to 56962.182587 from DATE-OBS'. [astropy.wcs.wcs]\n",
      "WARNING: FITSFixedWarning: 'obsfix' made the change 'Set OBSGEO-L to  -107.618000 from OBSGEO-[XYZ].\n",
      "Set OBSGEO-B to    34.078827 from OBSGEO-[XYZ].\n",
      "Set OBSGEO-H to     2115.607 from OBSGEO-[XYZ]'. [astropy.wcs.wcs]\n",
      "WARNING: FITSFixedWarning: 'datfix' made the change 'Set MJD-OBS to 55906.835156 from DATE-OBS'. [astropy.wcs.wcs]\n",
      "WARNING: FITSFixedWarning: 'obsfix' made the change 'Set OBSGEO-L to  -107.618000 from OBSGEO-[XYZ].\n",
      "Set OBSGEO-B to    34.078827 from OBSGEO-[XYZ].\n",
      "Set OBSGEO-H to     2115.607 from OBSGEO-[XYZ]'. [astropy.wcs.wcs]\n",
      "WARNING: FITSFixedWarning: 'cdfix' made the change 'Success'. [astropy.wcs.wcs]\n",
      "WARNING: FITSFixedWarning: 'datfix' made the change 'Set MJD-OBS to 56593.153177 from DATE-OBS'. [astropy.wcs.wcs]\n",
      "WARNING: FITSFixedWarning: 'obsfix' made the change 'Set OBSGEO-L to  -107.618000 from OBSGEO-[XYZ].\n",
      "Set OBSGEO-B to    34.078827 from OBSGEO-[XYZ].\n",
      "Set OBSGEO-H to     2115.607 from OBSGEO-[XYZ]'. [astropy.wcs.wcs]\n",
      "WARNING: FITSFixedWarning: 'datfix' made the change 'Set MJD-OBS to 56962.182587 from DATE-OBS'. [astropy.wcs.wcs]\n",
      "WARNING: FITSFixedWarning: 'obsfix' made the change 'Set OBSGEO-L to  -107.618000 from OBSGEO-[XYZ].\n",
      "Set OBSGEO-B to    34.078827 from OBSGEO-[XYZ].\n",
      "Set OBSGEO-H to     2115.607 from OBSGEO-[XYZ]'. [astropy.wcs.wcs]\n",
      "WARNING: FITSFixedWarning: 'datfix' made the change 'Set MJD-OBS to 55906.835156 from DATE-OBS'. [astropy.wcs.wcs]\n",
      "WARNING: FITSFixedWarning: 'obsfix' made the change 'Set OBSGEO-L to  -107.618000 from OBSGEO-[XYZ].\n",
      "Set OBSGEO-B to    34.078827 from OBSGEO-[XYZ].\n",
      "Set OBSGEO-H to     2115.607 from OBSGEO-[XYZ]'. [astropy.wcs.wcs]\n",
      "WARNING: FITSFixedWarning: 'cdfix' made the change 'Success'. [astropy.wcs.wcs]\n"
     ]
    },
    {
     "name": "stdout",
     "output_type": "stream",
     "text": [
      "Just finished NGC6946Enuc.4a! :)\n",
      "Working on NGC6946Enuc.4b\n",
      "Just finished NGC6946Enuc.4b! :)\n",
      "Working on NGC6946Enuc.4c\n"
     ]
    },
    {
     "name": "stderr",
     "output_type": "stream",
     "text": [
      "WARNING: FITSFixedWarning: 'datfix' made the change 'Set MJD-OBS to 56593.153177 from DATE-OBS'. [astropy.wcs.wcs]\n",
      "WARNING: FITSFixedWarning: 'obsfix' made the change 'Set OBSGEO-L to  -107.618000 from OBSGEO-[XYZ].\n",
      "Set OBSGEO-B to    34.078827 from OBSGEO-[XYZ].\n",
      "Set OBSGEO-H to     2115.607 from OBSGEO-[XYZ]'. [astropy.wcs.wcs]\n",
      "WARNING: FITSFixedWarning: 'datfix' made the change 'Set MJD-OBS to 56962.182587 from DATE-OBS'. [astropy.wcs.wcs]\n",
      "WARNING: FITSFixedWarning: 'obsfix' made the change 'Set OBSGEO-L to  -107.618000 from OBSGEO-[XYZ].\n",
      "Set OBSGEO-B to    34.078827 from OBSGEO-[XYZ].\n",
      "Set OBSGEO-H to     2115.607 from OBSGEO-[XYZ]'. [astropy.wcs.wcs]\n",
      "WARNING: FITSFixedWarning: 'datfix' made the change 'Set MJD-OBS to 55906.835156 from DATE-OBS'. [astropy.wcs.wcs]\n",
      "WARNING: FITSFixedWarning: 'obsfix' made the change 'Set OBSGEO-L to  -107.618000 from OBSGEO-[XYZ].\n",
      "Set OBSGEO-B to    34.078827 from OBSGEO-[XYZ].\n",
      "Set OBSGEO-H to     2115.607 from OBSGEO-[XYZ]'. [astropy.wcs.wcs]\n",
      "WARNING: FITSFixedWarning: 'cdfix' made the change 'Success'. [astropy.wcs.wcs]\n"
     ]
    },
    {
     "name": "stdout",
     "output_type": "stream",
     "text": [
      "Just finished NGC6946Enuc.4c! :)\n",
      "Working on NGC6946Enuc.5a\n"
     ]
    },
    {
     "name": "stderr",
     "output_type": "stream",
     "text": [
      "WARNING: FITSFixedWarning: 'datfix' made the change 'Set MJD-OBS to 56593.161823 from DATE-OBS'. [astropy.wcs.wcs]\n",
      "WARNING: FITSFixedWarning: 'obsfix' made the change 'Set OBSGEO-L to  -107.618000 from OBSGEO-[XYZ].\n",
      "Set OBSGEO-B to    34.078827 from OBSGEO-[XYZ].\n",
      "Set OBSGEO-H to     2115.607 from OBSGEO-[XYZ]'. [astropy.wcs.wcs]\n",
      "WARNING: FITSFixedWarning: 'datfix' made the change 'Set MJD-OBS to 56962.188628 from DATE-OBS'. [astropy.wcs.wcs]\n",
      "WARNING: FITSFixedWarning: 'obsfix' made the change 'Set OBSGEO-L to  -107.618000 from OBSGEO-[XYZ].\n",
      "Set OBSGEO-B to    34.078827 from OBSGEO-[XYZ].\n",
      "Set OBSGEO-H to     2115.607 from OBSGEO-[XYZ]'. [astropy.wcs.wcs]\n",
      "WARNING: FITSFixedWarning: 'datfix' made the change 'Set MJD-OBS to 55906.878872 from DATE-OBS'. [astropy.wcs.wcs]\n",
      "WARNING: FITSFixedWarning: 'obsfix' made the change 'Set OBSGEO-L to  -107.618000 from OBSGEO-[XYZ].\n",
      "Set OBSGEO-B to    34.078827 from OBSGEO-[XYZ].\n",
      "Set OBSGEO-H to     2115.607 from OBSGEO-[XYZ]'. [astropy.wcs.wcs]\n",
      "WARNING: FITSFixedWarning: 'cdfix' made the change 'Success'. [astropy.wcs.wcs]\n",
      "WARNING: FITSFixedWarning: 'datfix' made the change 'Set MJD-OBS to 56593.161823 from DATE-OBS'. [astropy.wcs.wcs]\n",
      "WARNING: FITSFixedWarning: 'obsfix' made the change 'Set OBSGEO-L to  -107.618000 from OBSGEO-[XYZ].\n",
      "Set OBSGEO-B to    34.078827 from OBSGEO-[XYZ].\n",
      "Set OBSGEO-H to     2115.607 from OBSGEO-[XYZ]'. [astropy.wcs.wcs]\n",
      "WARNING: FITSFixedWarning: 'datfix' made the change 'Set MJD-OBS to 56962.188628 from DATE-OBS'. [astropy.wcs.wcs]\n",
      "WARNING: FITSFixedWarning: 'obsfix' made the change 'Set OBSGEO-L to  -107.618000 from OBSGEO-[XYZ].\n",
      "Set OBSGEO-B to    34.078827 from OBSGEO-[XYZ].\n",
      "Set OBSGEO-H to     2115.607 from OBSGEO-[XYZ]'. [astropy.wcs.wcs]\n",
      "WARNING: FITSFixedWarning: 'datfix' made the change 'Set MJD-OBS to 55906.878872 from DATE-OBS'. [astropy.wcs.wcs]\n",
      "WARNING: FITSFixedWarning: 'obsfix' made the change 'Set OBSGEO-L to  -107.618000 from OBSGEO-[XYZ].\n",
      "Set OBSGEO-B to    34.078827 from OBSGEO-[XYZ].\n",
      "Set OBSGEO-H to     2115.607 from OBSGEO-[XYZ]'. [astropy.wcs.wcs]\n",
      "WARNING: FITSFixedWarning: 'cdfix' made the change 'Success'. [astropy.wcs.wcs]\n"
     ]
    },
    {
     "name": "stdout",
     "output_type": "stream",
     "text": [
      "Just finished NGC6946Enuc.5a! :)\n",
      "Working on NGC6946Enuc.5b\n",
      "Just finished NGC6946Enuc.5b! :)\n",
      "Working on NGC6946Enuc.6a\n"
     ]
    },
    {
     "name": "stderr",
     "output_type": "stream",
     "text": [
      "WARNING: FITSFixedWarning: 'datfix' made the change 'Set MJD-OBS to 56593.153177 from DATE-OBS'. [astropy.wcs.wcs]\n",
      "WARNING: FITSFixedWarning: 'obsfix' made the change 'Set OBSGEO-L to  -107.618000 from OBSGEO-[XYZ].\n",
      "Set OBSGEO-B to    34.078827 from OBSGEO-[XYZ].\n",
      "Set OBSGEO-H to     2115.607 from OBSGEO-[XYZ]'. [astropy.wcs.wcs]\n",
      "WARNING: FITSFixedWarning: 'datfix' made the change 'Set MJD-OBS to 56962.195330 from DATE-OBS'. [astropy.wcs.wcs]\n",
      "WARNING: FITSFixedWarning: 'obsfix' made the change 'Set OBSGEO-L to  -107.618000 from OBSGEO-[XYZ].\n",
      "Set OBSGEO-B to    34.078827 from OBSGEO-[XYZ].\n",
      "Set OBSGEO-H to     2115.607 from OBSGEO-[XYZ]'. [astropy.wcs.wcs]\n",
      "WARNING: FITSFixedWarning: 'datfix' made the change 'Set MJD-OBS to 55927.879010 from DATE-OBS'. [astropy.wcs.wcs]\n",
      "WARNING: FITSFixedWarning: 'obsfix' made the change 'Set OBSGEO-L to  -107.618000 from OBSGEO-[XYZ].\n",
      "Set OBSGEO-B to    34.078827 from OBSGEO-[XYZ].\n",
      "Set OBSGEO-H to     2115.607 from OBSGEO-[XYZ]'. [astropy.wcs.wcs]\n",
      "WARNING: FITSFixedWarning: 'cdfix' made the change 'Success'. [astropy.wcs.wcs]\n",
      "WARNING: FITSFixedWarning: 'datfix' made the change 'Set MJD-OBS to 56593.153177 from DATE-OBS'. [astropy.wcs.wcs]\n",
      "WARNING: FITSFixedWarning: 'obsfix' made the change 'Set OBSGEO-L to  -107.618000 from OBSGEO-[XYZ].\n",
      "Set OBSGEO-B to    34.078827 from OBSGEO-[XYZ].\n",
      "Set OBSGEO-H to     2115.607 from OBSGEO-[XYZ]'. [astropy.wcs.wcs]\n",
      "WARNING: FITSFixedWarning: 'datfix' made the change 'Set MJD-OBS to 56962.195330 from DATE-OBS'. [astropy.wcs.wcs]\n",
      "WARNING: FITSFixedWarning: 'obsfix' made the change 'Set OBSGEO-L to  -107.618000 from OBSGEO-[XYZ].\n",
      "Set OBSGEO-B to    34.078827 from OBSGEO-[XYZ].\n",
      "Set OBSGEO-H to     2115.607 from OBSGEO-[XYZ]'. [astropy.wcs.wcs]\n",
      "WARNING: FITSFixedWarning: 'datfix' made the change 'Set MJD-OBS to 55927.879010 from DATE-OBS'. [astropy.wcs.wcs]\n",
      "WARNING: FITSFixedWarning: 'obsfix' made the change 'Set OBSGEO-L to  -107.618000 from OBSGEO-[XYZ].\n",
      "Set OBSGEO-B to    34.078827 from OBSGEO-[XYZ].\n",
      "Set OBSGEO-H to     2115.607 from OBSGEO-[XYZ]'. [astropy.wcs.wcs]\n",
      "WARNING: FITSFixedWarning: 'cdfix' made the change 'Success'. [astropy.wcs.wcs]\n"
     ]
    },
    {
     "name": "stdout",
     "output_type": "stream",
     "text": [
      "Just finished NGC6946Enuc.6a! :)\n",
      "Working on NGC6946Enuc.6b\n",
      "Just finished NGC6946Enuc.6b! :)\n",
      "Working on NGC6946Enuc.7\n"
     ]
    },
    {
     "name": "stderr",
     "output_type": "stream",
     "text": [
      "WARNING: FITSFixedWarning: 'datfix' made the change 'Set MJD-OBS to 56593.153177 from DATE-OBS'. [astropy.wcs.wcs]\n",
      "WARNING: FITSFixedWarning: 'obsfix' made the change 'Set OBSGEO-L to  -107.618000 from OBSGEO-[XYZ].\n",
      "Set OBSGEO-B to    34.078827 from OBSGEO-[XYZ].\n",
      "Set OBSGEO-H to     2115.607 from OBSGEO-[XYZ]'. [astropy.wcs.wcs]\n",
      "WARNING: FITSFixedWarning: 'datfix' made the change 'Set MJD-OBS to 56962.208038 from DATE-OBS'. [astropy.wcs.wcs]\n",
      "WARNING: FITSFixedWarning: 'obsfix' made the change 'Set OBSGEO-L to  -107.618000 from OBSGEO-[XYZ].\n",
      "Set OBSGEO-B to    34.078827 from OBSGEO-[XYZ].\n",
      "Set OBSGEO-H to     2115.607 from OBSGEO-[XYZ]'. [astropy.wcs.wcs]\n",
      "WARNING: FITSFixedWarning: 'datfix' made the change 'Set MJD-OBS to 55927.905885 from DATE-OBS'. [astropy.wcs.wcs]\n",
      "WARNING: FITSFixedWarning: 'obsfix' made the change 'Set OBSGEO-L to  -107.618000 from OBSGEO-[XYZ].\n",
      "Set OBSGEO-B to    34.078827 from OBSGEO-[XYZ].\n",
      "Set OBSGEO-H to     2115.607 from OBSGEO-[XYZ]'. [astropy.wcs.wcs]\n",
      "WARNING: FITSFixedWarning: 'cdfix' made the change 'Success'. [astropy.wcs.wcs]\n"
     ]
    },
    {
     "name": "stdout",
     "output_type": "stream",
     "text": [
      "Just finished NGC6946Enuc.7! :)\n",
      "Working on NGC6946Enuc.8\n"
     ]
    },
    {
     "name": "stderr",
     "output_type": "stream",
     "text": [
      "WARNING: FITSFixedWarning: 'datfix' made the change 'Set MJD-OBS to 56593.157483 from DATE-OBS'. [astropy.wcs.wcs]\n",
      "WARNING: FITSFixedWarning: 'obsfix' made the change 'Set OBSGEO-L to  -107.618000 from OBSGEO-[XYZ].\n",
      "Set OBSGEO-B to    34.078827 from OBSGEO-[XYZ].\n",
      "Set OBSGEO-H to     2115.607 from OBSGEO-[XYZ]'. [astropy.wcs.wcs]\n",
      "WARNING: FITSFixedWarning: 'datfix' made the change 'Set MJD-OBS to 56962.201372 from DATE-OBS'. [astropy.wcs.wcs]\n",
      "WARNING: FITSFixedWarning: 'obsfix' made the change 'Set OBSGEO-L to  -107.618000 from OBSGEO-[XYZ].\n",
      "Set OBSGEO-B to    34.078827 from OBSGEO-[XYZ].\n",
      "Set OBSGEO-H to     2115.607 from OBSGEO-[XYZ]'. [astropy.wcs.wcs]\n",
      "WARNING: FITSFixedWarning: 'datfix' made the change 'Set MJD-OBS to 55927.840260 from DATE-OBS'. [astropy.wcs.wcs]\n",
      "WARNING: FITSFixedWarning: 'obsfix' made the change 'Set OBSGEO-L to  -107.618000 from OBSGEO-[XYZ].\n",
      "Set OBSGEO-B to    34.078827 from OBSGEO-[XYZ].\n",
      "Set OBSGEO-H to     2115.607 from OBSGEO-[XYZ]'. [astropy.wcs.wcs]\n",
      "WARNING: FITSFixedWarning: 'cdfix' made the change 'Success'. [astropy.wcs.wcs]\n",
      "WARNING: FITSFixedWarning: 'datfix' made the change 'Set MJD-OBS to 56593.153177 from DATE-OBS'. [astropy.wcs.wcs]\n",
      "WARNING: FITSFixedWarning: 'obsfix' made the change 'Set OBSGEO-L to  -107.618000 from OBSGEO-[XYZ].\n",
      "Set OBSGEO-B to    34.078827 from OBSGEO-[XYZ].\n",
      "Set OBSGEO-H to     2115.607 from OBSGEO-[XYZ]'. [astropy.wcs.wcs]\n",
      "WARNING: FITSFixedWarning: 'datfix' made the change 'Set MJD-OBS to 56962.208038 from DATE-OBS'. [astropy.wcs.wcs]\n",
      "WARNING: FITSFixedWarning: 'obsfix' made the change 'Set OBSGEO-L to  -107.618000 from OBSGEO-[XYZ].\n",
      "Set OBSGEO-B to    34.078827 from OBSGEO-[XYZ].\n",
      "Set OBSGEO-H to     2115.607 from OBSGEO-[XYZ]'. [astropy.wcs.wcs]\n",
      "WARNING: FITSFixedWarning: 'datfix' made the change 'Set MJD-OBS to 55927.905885 from DATE-OBS'. [astropy.wcs.wcs]\n",
      "WARNING: FITSFixedWarning: 'obsfix' made the change 'Set OBSGEO-L to  -107.618000 from OBSGEO-[XYZ].\n",
      "Set OBSGEO-B to    34.078827 from OBSGEO-[XYZ].\n",
      "Set OBSGEO-H to     2115.607 from OBSGEO-[XYZ]'. [astropy.wcs.wcs]\n",
      "WARNING: FITSFixedWarning: 'cdfix' made the change 'Success'. [astropy.wcs.wcs]\n"
     ]
    },
    {
     "name": "stdout",
     "output_type": "stream",
     "text": [
      "Just finished NGC6946Enuc.8! :)\n",
      "Working on NGC6946Enuc.9\n",
      "Just finished NGC6946Enuc.9! :)\n",
      "Working on NGC6946a\n"
     ]
    },
    {
     "name": "stderr",
     "output_type": "stream",
     "text": [
      "WARNING: FITSFixedWarning: 'datfix' made the change 'Set MJD-OBS to 56593.153177 from DATE-OBS'. [astropy.wcs.wcs]\n",
      "WARNING: FITSFixedWarning: 'obsfix' made the change 'Set OBSGEO-L to  -107.618000 from OBSGEO-[XYZ].\n",
      "Set OBSGEO-B to    34.078827 from OBSGEO-[XYZ].\n",
      "Set OBSGEO-H to     2115.607 from OBSGEO-[XYZ]'. [astropy.wcs.wcs]\n",
      "WARNING: FITSFixedWarning: 'datfix' made the change 'Set MJD-OBS to 56962.154323 from DATE-OBS'. [astropy.wcs.wcs]\n",
      "WARNING: FITSFixedWarning: 'obsfix' made the change 'Set OBSGEO-L to  -107.618000 from OBSGEO-[XYZ].\n",
      "Set OBSGEO-B to    34.078827 from OBSGEO-[XYZ].\n",
      "Set OBSGEO-H to     2115.607 from OBSGEO-[XYZ]'. [astropy.wcs.wcs]\n",
      "WARNING: FITSFixedWarning: 'datfix' made the change 'Set MJD-OBS to 55927.867135 from DATE-OBS'. [astropy.wcs.wcs]\n",
      "WARNING: FITSFixedWarning: 'obsfix' made the change 'Set OBSGEO-L to  -107.618000 from OBSGEO-[XYZ].\n",
      "Set OBSGEO-B to    34.078827 from OBSGEO-[XYZ].\n",
      "Set OBSGEO-H to     2115.607 from OBSGEO-[XYZ]'. [astropy.wcs.wcs]\n",
      "WARNING: FITSFixedWarning: 'cdfix' made the change 'Success'. [astropy.wcs.wcs]\n",
      "WARNING: FITSFixedWarning: 'datfix' made the change 'Set MJD-OBS to 56593.153177 from DATE-OBS'. [astropy.wcs.wcs]\n",
      "WARNING: FITSFixedWarning: 'obsfix' made the change 'Set OBSGEO-L to  -107.618000 from OBSGEO-[XYZ].\n",
      "Set OBSGEO-B to    34.078827 from OBSGEO-[XYZ].\n",
      "Set OBSGEO-H to     2115.607 from OBSGEO-[XYZ]'. [astropy.wcs.wcs]\n",
      "WARNING: FITSFixedWarning: 'datfix' made the change 'Set MJD-OBS to 56962.154323 from DATE-OBS'. [astropy.wcs.wcs]\n",
      "WARNING: FITSFixedWarning: 'obsfix' made the change 'Set OBSGEO-L to  -107.618000 from OBSGEO-[XYZ].\n",
      "Set OBSGEO-B to    34.078827 from OBSGEO-[XYZ].\n",
      "Set OBSGEO-H to     2115.607 from OBSGEO-[XYZ]'. [astropy.wcs.wcs]\n",
      "WARNING: FITSFixedWarning: 'datfix' made the change 'Set MJD-OBS to 55927.867135 from DATE-OBS'. [astropy.wcs.wcs]\n",
      "WARNING: FITSFixedWarning: 'obsfix' made the change 'Set OBSGEO-L to  -107.618000 from OBSGEO-[XYZ].\n",
      "Set OBSGEO-B to    34.078827 from OBSGEO-[XYZ].\n",
      "Set OBSGEO-H to     2115.607 from OBSGEO-[XYZ]'. [astropy.wcs.wcs]\n",
      "WARNING: FITSFixedWarning: 'cdfix' made the change 'Success'. [astropy.wcs.wcs]\n"
     ]
    },
    {
     "name": "stdout",
     "output_type": "stream",
     "text": [
      "Just finished NGC6946a! :)\n",
      "Working on NGC6946b\n",
      "Just finished NGC6946b! :)\n",
      "Working on NGC6946c\n"
     ]
    },
    {
     "name": "stderr",
     "output_type": "stream",
     "text": [
      "WARNING: FITSFixedWarning: 'datfix' made the change 'Set MJD-OBS to 56593.153177 from DATE-OBS'. [astropy.wcs.wcs]\n",
      "WARNING: FITSFixedWarning: 'obsfix' made the change 'Set OBSGEO-L to  -107.618000 from OBSGEO-[XYZ].\n",
      "Set OBSGEO-B to    34.078827 from OBSGEO-[XYZ].\n",
      "Set OBSGEO-H to     2115.607 from OBSGEO-[XYZ]'. [astropy.wcs.wcs]\n",
      "WARNING: FITSFixedWarning: 'datfix' made the change 'Set MJD-OBS to 56962.154323 from DATE-OBS'. [astropy.wcs.wcs]\n",
      "WARNING: FITSFixedWarning: 'obsfix' made the change 'Set OBSGEO-L to  -107.618000 from OBSGEO-[XYZ].\n",
      "Set OBSGEO-B to    34.078827 from OBSGEO-[XYZ].\n",
      "Set OBSGEO-H to     2115.607 from OBSGEO-[XYZ]'. [astropy.wcs.wcs]\n",
      "WARNING: FITSFixedWarning: 'datfix' made the change 'Set MJD-OBS to 55927.867135 from DATE-OBS'. [astropy.wcs.wcs]\n",
      "WARNING: FITSFixedWarning: 'obsfix' made the change 'Set OBSGEO-L to  -107.618000 from OBSGEO-[XYZ].\n",
      "Set OBSGEO-B to    34.078827 from OBSGEO-[XYZ].\n",
      "Set OBSGEO-H to     2115.607 from OBSGEO-[XYZ]'. [astropy.wcs.wcs]\n",
      "WARNING: FITSFixedWarning: 'cdfix' made the change 'Success'. [astropy.wcs.wcs]\n"
     ]
    },
    {
     "name": "stdout",
     "output_type": "stream",
     "text": [
      "Just finished NGC6946c! :)\n",
      "Working on NGC7331\n"
     ]
    },
    {
     "name": "stderr",
     "output_type": "stream",
     "text": [
      "WARNING: FITSFixedWarning: 'datfix' made the change 'Set MJD-OBS to 56593.180885 from DATE-OBS'. [astropy.wcs.wcs]\n",
      "WARNING: FITSFixedWarning: 'obsfix' made the change 'Set OBSGEO-L to  -107.618000 from OBSGEO-[XYZ].\n",
      "Set OBSGEO-B to    34.078827 from OBSGEO-[XYZ].\n",
      "Set OBSGEO-H to     2115.607 from OBSGEO-[XYZ]'. [astropy.wcs.wcs]\n",
      "WARNING: FITSFixedWarning: 'datfix' made the change 'Set MJD-OBS to 56962.218385 from DATE-OBS'. [astropy.wcs.wcs]\n",
      "WARNING: FITSFixedWarning: 'obsfix' made the change 'Set OBSGEO-L to  -107.618000 from OBSGEO-[XYZ].\n",
      "Set OBSGEO-B to    34.078827 from OBSGEO-[XYZ].\n",
      "Set OBSGEO-H to     2115.607 from OBSGEO-[XYZ]'. [astropy.wcs.wcs]\n",
      "WARNING: FITSFixedWarning: 'datfix' made the change 'Set MJD-OBS to 55861.294844 from DATE-OBS'. [astropy.wcs.wcs]\n",
      "WARNING: FITSFixedWarning: 'obsfix' made the change 'Set OBSGEO-L to  -107.618000 from OBSGEO-[XYZ].\n",
      "Set OBSGEO-B to    34.078827 from OBSGEO-[XYZ].\n",
      "Set OBSGEO-H to     2115.607 from OBSGEO-[XYZ]'. [astropy.wcs.wcs]\n",
      "WARNING: FITSFixedWarning: 'cdfix' made the change 'Success'. [astropy.wcs.wcs]\n"
     ]
    },
    {
     "name": "stdout",
     "output_type": "stream",
     "text": [
      "Just finished NGC7331! :)\n",
      "Working on NGC0337a\n"
     ]
    },
    {
     "name": "stderr",
     "output_type": "stream",
     "text": [
      "WARNING: FITSFixedWarning: 'datfix' made the change 'Set MJD-OBS to 56593.203906 from DATE-OBS'. [astropy.wcs.wcs]\n",
      "WARNING: FITSFixedWarning: 'obsfix' made the change 'Set OBSGEO-L to  -107.618000 from OBSGEO-[XYZ].\n",
      "Set OBSGEO-B to    34.078827 from OBSGEO-[XYZ].\n",
      "Set OBSGEO-H to     2115.607 from OBSGEO-[XYZ]'. [astropy.wcs.wcs]\n",
      "WARNING: FITSFixedWarning: 'datfix' made the change 'Set MJD-OBS to 56962.259115 from DATE-OBS'. [astropy.wcs.wcs]\n",
      "WARNING: FITSFixedWarning: 'obsfix' made the change 'Set OBSGEO-L to  -107.618000 from OBSGEO-[XYZ].\n",
      "Set OBSGEO-B to    34.078827 from OBSGEO-[XYZ].\n",
      "Set OBSGEO-H to     2115.607 from OBSGEO-[XYZ]'. [astropy.wcs.wcs]\n",
      "WARNING: FITSFixedWarning: 'datfix' made the change 'Set MJD-OBS to 55940.955156 from DATE-OBS'. [astropy.wcs.wcs]\n",
      "WARNING: FITSFixedWarning: 'obsfix' made the change 'Set OBSGEO-L to  -107.618000 from OBSGEO-[XYZ].\n",
      "Set OBSGEO-B to    34.078827 from OBSGEO-[XYZ].\n",
      "Set OBSGEO-H to     2115.607 from OBSGEO-[XYZ]'. [astropy.wcs.wcs]\n",
      "WARNING: FITSFixedWarning: 'cdfix' made the change 'Success'. [astropy.wcs.wcs]\n",
      "WARNING: FITSFixedWarning: 'datfix' made the change 'Set MJD-OBS to 56593.203906 from DATE-OBS'. [astropy.wcs.wcs]\n",
      "WARNING: FITSFixedWarning: 'obsfix' made the change 'Set OBSGEO-L to  -107.618000 from OBSGEO-[XYZ].\n",
      "Set OBSGEO-B to    34.078827 from OBSGEO-[XYZ].\n",
      "Set OBSGEO-H to     2115.607 from OBSGEO-[XYZ]'. [astropy.wcs.wcs]\n",
      "WARNING: FITSFixedWarning: 'datfix' made the change 'Set MJD-OBS to 56962.259115 from DATE-OBS'. [astropy.wcs.wcs]\n",
      "WARNING: FITSFixedWarning: 'obsfix' made the change 'Set OBSGEO-L to  -107.618000 from OBSGEO-[XYZ].\n",
      "Set OBSGEO-B to    34.078827 from OBSGEO-[XYZ].\n",
      "Set OBSGEO-H to     2115.607 from OBSGEO-[XYZ]'. [astropy.wcs.wcs]\n",
      "WARNING: FITSFixedWarning: 'datfix' made the change 'Set MJD-OBS to 55940.955156 from DATE-OBS'. [astropy.wcs.wcs]\n",
      "WARNING: FITSFixedWarning: 'obsfix' made the change 'Set OBSGEO-L to  -107.618000 from OBSGEO-[XYZ].\n",
      "Set OBSGEO-B to    34.078827 from OBSGEO-[XYZ].\n",
      "Set OBSGEO-H to     2115.607 from OBSGEO-[XYZ]'. [astropy.wcs.wcs]\n",
      "WARNING: FITSFixedWarning: 'cdfix' made the change 'Success'. [astropy.wcs.wcs]\n"
     ]
    },
    {
     "name": "stdout",
     "output_type": "stream",
     "text": [
      "00h59m50.018s\n",
      "-07d34m33.9s\n",
      "Just finished NGC0337a! :)\n",
      "Working on NGC0337b\n",
      "00h59m50.683s\n",
      "-07d34m57.6s\n",
      "Just finished NGC0337b! :)\n",
      "Working on NGC0337c\n",
      "00h59m51.995s\n",
      "-07d34m54.9s\n",
      "Just finished NGC0337c! :)\n",
      "Working on NGC0337d\n",
      "00h59m52.156s\n",
      "-07d34m38.2s\n",
      "Just finished NGC0337d! :)\n",
      "Working on NGC0628\n"
     ]
    },
    {
     "name": "stderr",
     "output_type": "stream",
     "text": [
      "WARNING: FITSFixedWarning: 'datfix' made the change 'Set MJD-OBS to 56593.203906 from DATE-OBS'. [astropy.wcs.wcs]\n",
      "WARNING: FITSFixedWarning: 'obsfix' made the change 'Set OBSGEO-L to  -107.618000 from OBSGEO-[XYZ].\n",
      "Set OBSGEO-B to    34.078827 from OBSGEO-[XYZ].\n",
      "Set OBSGEO-H to     2115.607 from OBSGEO-[XYZ]'. [astropy.wcs.wcs]\n",
      "WARNING: FITSFixedWarning: 'datfix' made the change 'Set MJD-OBS to 56962.259115 from DATE-OBS'. [astropy.wcs.wcs]\n",
      "WARNING: FITSFixedWarning: 'obsfix' made the change 'Set OBSGEO-L to  -107.618000 from OBSGEO-[XYZ].\n",
      "Set OBSGEO-B to    34.078827 from OBSGEO-[XYZ].\n",
      "Set OBSGEO-H to     2115.607 from OBSGEO-[XYZ]'. [astropy.wcs.wcs]\n",
      "WARNING: FITSFixedWarning: 'datfix' made the change 'Set MJD-OBS to 55940.955156 from DATE-OBS'. [astropy.wcs.wcs]\n",
      "WARNING: FITSFixedWarning: 'obsfix' made the change 'Set OBSGEO-L to  -107.618000 from OBSGEO-[XYZ].\n",
      "Set OBSGEO-B to    34.078827 from OBSGEO-[XYZ].\n",
      "Set OBSGEO-H to     2115.607 from OBSGEO-[XYZ]'. [astropy.wcs.wcs]\n",
      "WARNING: FITSFixedWarning: 'cdfix' made the change 'Success'. [astropy.wcs.wcs]\n",
      "WARNING: FITSFixedWarning: 'datfix' made the change 'Set MJD-OBS to 56593.203906 from DATE-OBS'. [astropy.wcs.wcs]\n",
      "WARNING: FITSFixedWarning: 'obsfix' made the change 'Set OBSGEO-L to  -107.618000 from OBSGEO-[XYZ].\n",
      "Set OBSGEO-B to    34.078827 from OBSGEO-[XYZ].\n",
      "Set OBSGEO-H to     2115.607 from OBSGEO-[XYZ]'. [astropy.wcs.wcs]\n",
      "WARNING: FITSFixedWarning: 'datfix' made the change 'Set MJD-OBS to 56962.259115 from DATE-OBS'. [astropy.wcs.wcs]\n",
      "WARNING: FITSFixedWarning: 'obsfix' made the change 'Set OBSGEO-L to  -107.618000 from OBSGEO-[XYZ].\n",
      "Set OBSGEO-B to    34.078827 from OBSGEO-[XYZ].\n",
      "Set OBSGEO-H to     2115.607 from OBSGEO-[XYZ]'. [astropy.wcs.wcs]\n",
      "WARNING: FITSFixedWarning: 'datfix' made the change 'Set MJD-OBS to 55940.955156 from DATE-OBS'. [astropy.wcs.wcs]\n",
      "WARNING: FITSFixedWarning: 'obsfix' made the change 'Set OBSGEO-L to  -107.618000 from OBSGEO-[XYZ].\n",
      "Set OBSGEO-B to    34.078827 from OBSGEO-[XYZ].\n",
      "Set OBSGEO-H to     2115.607 from OBSGEO-[XYZ]'. [astropy.wcs.wcs]\n",
      "WARNING: FITSFixedWarning: 'cdfix' made the change 'Success'. [astropy.wcs.wcs]\n",
      "WARNING: FITSFixedWarning: 'datfix' made the change 'Set MJD-OBS to 56610.265191 from DATE-OBS'. [astropy.wcs.wcs]\n",
      "WARNING: FITSFixedWarning: 'obsfix' made the change 'Set OBSGEO-L to  -107.618000 from OBSGEO-[XYZ].\n",
      "Set OBSGEO-B to    34.078827 from OBSGEO-[XYZ].\n",
      "Set OBSGEO-H to     2115.607 from OBSGEO-[XYZ]'. [astropy.wcs.wcs]\n",
      "WARNING: FITSFixedWarning: 'datfix' made the change 'Set MJD-OBS to 56966.294878 from DATE-OBS'. [astropy.wcs.wcs]\n",
      "WARNING: FITSFixedWarning: 'obsfix' made the change 'Set OBSGEO-L to  -107.618000 from OBSGEO-[XYZ].\n",
      "Set OBSGEO-B to    34.078827 from OBSGEO-[XYZ].\n",
      "Set OBSGEO-H to     2115.607 from OBSGEO-[XYZ]'. [astropy.wcs.wcs]\n",
      "WARNING: FITSFixedWarning: 'datfix' made the change 'Set MJD-OBS to 55835.183767 from DATE-OBS'. [astropy.wcs.wcs]\n",
      "WARNING: FITSFixedWarning: 'obsfix' made the change 'Set OBSGEO-L to  -107.618000 from OBSGEO-[XYZ].\n",
      "Set OBSGEO-B to    34.078827 from OBSGEO-[XYZ].\n",
      "Set OBSGEO-H to     2115.607 from OBSGEO-[XYZ]'. [astropy.wcs.wcs]\n",
      "WARNING: FITSFixedWarning: 'cdfix' made the change 'Success'. [astropy.wcs.wcs]\n"
     ]
    },
    {
     "name": "stdout",
     "output_type": "stream",
     "text": [
      "01h36m41.7s\n",
      "+15d46m59s\n",
      "Just finished NGC0628! :)\n",
      "Working on NGC0628Enuc.1\n"
     ]
    },
    {
     "name": "stderr",
     "output_type": "stream",
     "text": [
      "WARNING: FITSFixedWarning: 'datfix' made the change 'Set MJD-OBS to 56610.265191 from DATE-OBS'. [astropy.wcs.wcs]\n",
      "WARNING: FITSFixedWarning: 'obsfix' made the change 'Set OBSGEO-L to  -107.618000 from OBSGEO-[XYZ].\n",
      "Set OBSGEO-B to    34.078827 from OBSGEO-[XYZ].\n",
      "Set OBSGEO-H to     2115.607 from OBSGEO-[XYZ]'. [astropy.wcs.wcs]\n",
      "WARNING: FITSFixedWarning: 'datfix' made the change 'Set MJD-OBS to 56966.300573 from DATE-OBS'. [astropy.wcs.wcs]\n",
      "WARNING: FITSFixedWarning: 'obsfix' made the change 'Set OBSGEO-L to  -107.618000 from OBSGEO-[XYZ].\n",
      "Set OBSGEO-B to    34.078827 from OBSGEO-[XYZ].\n",
      "Set OBSGEO-H to     2115.607 from OBSGEO-[XYZ]'. [astropy.wcs.wcs]\n",
      "WARNING: FITSFixedWarning: 'datfix' made the change 'Set MJD-OBS to 55835.247483 from DATE-OBS'. [astropy.wcs.wcs]\n",
      "WARNING: FITSFixedWarning: 'obsfix' made the change 'Set OBSGEO-L to  -107.618000 from OBSGEO-[XYZ].\n",
      "Set OBSGEO-B to    34.078827 from OBSGEO-[XYZ].\n",
      "Set OBSGEO-H to     2115.607 from OBSGEO-[XYZ]'. [astropy.wcs.wcs]\n",
      "WARNING: FITSFixedWarning: 'cdfix' made the change 'Success'. [astropy.wcs.wcs]\n"
     ]
    },
    {
     "name": "stdout",
     "output_type": "stream",
     "text": [
      "01h36m45.266s\n",
      "+15d47m48.3s\n",
      "Just finished NGC0628Enuc.1! :)\n",
      "Working on NGC0628Enuc.2\n"
     ]
    },
    {
     "name": "stderr",
     "output_type": "stream",
     "text": [
      "WARNING: FITSFixedWarning: 'datfix' made the change 'Set MJD-OBS to 56610.265191 from DATE-OBS'. [astropy.wcs.wcs]\n",
      "WARNING: FITSFixedWarning: 'obsfix' made the change 'Set OBSGEO-L to  -107.618000 from OBSGEO-[XYZ].\n",
      "Set OBSGEO-B to    34.078827 from OBSGEO-[XYZ].\n",
      "Set OBSGEO-H to     2115.607 from OBSGEO-[XYZ]'. [astropy.wcs.wcs]\n",
      "WARNING: FITSFixedWarning: 'datfix' made the change 'Set MJD-OBS to 56966.306927 from DATE-OBS'. [astropy.wcs.wcs]\n",
      "WARNING: FITSFixedWarning: 'obsfix' made the change 'Set OBSGEO-L to  -107.618000 from OBSGEO-[XYZ].\n",
      "Set OBSGEO-B to    34.078827 from OBSGEO-[XYZ].\n",
      "Set OBSGEO-H to     2115.607 from OBSGEO-[XYZ]'. [astropy.wcs.wcs]\n",
      "WARNING: FITSFixedWarning: 'datfix' made the change 'Set MJD-OBS to 55835.215573 from DATE-OBS'. [astropy.wcs.wcs]\n",
      "WARNING: FITSFixedWarning: 'obsfix' made the change 'Set OBSGEO-L to  -107.618000 from OBSGEO-[XYZ].\n",
      "Set OBSGEO-B to    34.078827 from OBSGEO-[XYZ].\n",
      "Set OBSGEO-H to     2115.607 from OBSGEO-[XYZ]'. [astropy.wcs.wcs]\n",
      "WARNING: FITSFixedWarning: 'cdfix' made the change 'Success'. [astropy.wcs.wcs]\n"
     ]
    },
    {
     "name": "stdout",
     "output_type": "stream",
     "text": [
      "01h36m37.645s\n",
      "+15d45m07.2s\n",
      "Just finished NGC0628Enuc.2! :)\n",
      "Working on NGC0628Enuc.3\n"
     ]
    },
    {
     "name": "stderr",
     "output_type": "stream",
     "text": [
      "WARNING: FITSFixedWarning: 'datfix' made the change 'Set MJD-OBS to 56610.265191 from DATE-OBS'. [astropy.wcs.wcs]\n",
      "WARNING: FITSFixedWarning: 'obsfix' made the change 'Set OBSGEO-L to  -107.618000 from OBSGEO-[XYZ].\n",
      "Set OBSGEO-B to    34.078827 from OBSGEO-[XYZ].\n",
      "Set OBSGEO-H to     2115.607 from OBSGEO-[XYZ]'. [astropy.wcs.wcs]\n",
      "WARNING: FITSFixedWarning: 'datfix' made the change 'Set MJD-OBS to 56966.312622 from DATE-OBS'. [astropy.wcs.wcs]\n",
      "WARNING: FITSFixedWarning: 'obsfix' made the change 'Set OBSGEO-L to  -107.618000 from OBSGEO-[XYZ].\n",
      "Set OBSGEO-B to    34.078827 from OBSGEO-[XYZ].\n",
      "Set OBSGEO-H to     2115.607 from OBSGEO-[XYZ]'. [astropy.wcs.wcs]\n",
      "WARNING: FITSFixedWarning: 'datfix' made the change 'Set MJD-OBS to 55835.279844 from DATE-OBS'. [astropy.wcs.wcs]\n",
      "WARNING: FITSFixedWarning: 'obsfix' made the change 'Set OBSGEO-L to  -107.618000 from OBSGEO-[XYZ].\n",
      "Set OBSGEO-B to    34.078827 from OBSGEO-[XYZ].\n",
      "Set OBSGEO-H to     2115.607 from OBSGEO-[XYZ]'. [astropy.wcs.wcs]\n",
      "WARNING: FITSFixedWarning: 'cdfix' made the change 'Success'. [astropy.wcs.wcs]\n"
     ]
    },
    {
     "name": "stdout",
     "output_type": "stream",
     "text": [
      "01h36m38.779s\n",
      "+15d44m23.2s\n",
      "Just finished NGC0628Enuc.3! :)\n",
      "Working on NGC0628Enuc.4\n"
     ]
    },
    {
     "name": "stderr",
     "output_type": "stream",
     "text": [
      "WARNING: FITSFixedWarning: 'datfix' made the change 'Set MJD-OBS to 56610.265191 from DATE-OBS'. [astropy.wcs.wcs]\n",
      "WARNING: FITSFixedWarning: 'obsfix' made the change 'Set OBSGEO-L to  -107.618000 from OBSGEO-[XYZ].\n",
      "Set OBSGEO-B to    34.078827 from OBSGEO-[XYZ].\n",
      "Set OBSGEO-H to     2115.607 from OBSGEO-[XYZ]'. [astropy.wcs.wcs]\n",
      "WARNING: FITSFixedWarning: 'datfix' made the change 'Set MJD-OBS to 56966.318976 from DATE-OBS'. [astropy.wcs.wcs]\n",
      "WARNING: FITSFixedWarning: 'obsfix' made the change 'Set OBSGEO-L to  -107.618000 from OBSGEO-[XYZ].\n",
      "Set OBSGEO-B to    34.078827 from OBSGEO-[XYZ].\n",
      "Set OBSGEO-H to     2115.607 from OBSGEO-[XYZ]'. [astropy.wcs.wcs]\n",
      "WARNING: FITSFixedWarning: 'datfix' made the change 'Set MJD-OBS to 55944.089288 from DATE-OBS'. [astropy.wcs.wcs]\n",
      "WARNING: FITSFixedWarning: 'obsfix' made the change 'Set OBSGEO-L to  -107.618000 from OBSGEO-[XYZ].\n",
      "Set OBSGEO-B to    34.078827 from OBSGEO-[XYZ].\n",
      "Set OBSGEO-H to     2115.607 from OBSGEO-[XYZ]'. [astropy.wcs.wcs]\n",
      "WARNING: FITSFixedWarning: 'cdfix' made the change 'Success'. [astropy.wcs.wcs]\n"
     ]
    },
    {
     "name": "stdout",
     "output_type": "stream",
     "text": [
      "01h36m35.718s\n",
      "+15d50m07.25s\n",
      "Just finished NGC0628Enuc.4! :)\n",
      "Working on NGC0925\n"
     ]
    },
    {
     "name": "stderr",
     "output_type": "stream",
     "text": [
      "WARNING: FITSFixedWarning: 'datfix' made the change 'Set MJD-OBS to 56610.280434 from DATE-OBS'. [astropy.wcs.wcs]\n",
      "WARNING: FITSFixedWarning: 'obsfix' made the change 'Set OBSGEO-L to  -107.618000 from OBSGEO-[XYZ].\n",
      "Set OBSGEO-B to    34.078827 from OBSGEO-[XYZ].\n",
      "Set OBSGEO-H to     2115.607 from OBSGEO-[XYZ]'. [astropy.wcs.wcs]\n",
      "WARNING: FITSFixedWarning: 'datfix' made the change 'Set MJD-OBS to 56966.336545 from DATE-OBS'. [astropy.wcs.wcs]\n",
      "WARNING: FITSFixedWarning: 'obsfix' made the change 'Set OBSGEO-L to  -107.618000 from OBSGEO-[XYZ].\n",
      "Set OBSGEO-B to    34.078827 from OBSGEO-[XYZ].\n",
      "Set OBSGEO-H to     2115.607 from OBSGEO-[XYZ]'. [astropy.wcs.wcs]\n",
      "WARNING: FITSFixedWarning: 'datfix' made the change 'Set MJD-OBS to 55941.143142 from DATE-OBS'. [astropy.wcs.wcs]\n",
      "WARNING: FITSFixedWarning: 'obsfix' made the change 'Set OBSGEO-L to  -107.618000 from OBSGEO-[XYZ].\n",
      "Set OBSGEO-B to    34.078827 from OBSGEO-[XYZ].\n",
      "Set OBSGEO-H to     2115.607 from OBSGEO-[XYZ]'. [astropy.wcs.wcs]\n",
      "WARNING: FITSFixedWarning: 'cdfix' made the change 'Success'. [astropy.wcs.wcs]\n"
     ]
    },
    {
     "name": "stdout",
     "output_type": "stream",
     "text": [
      "02h27m17s\n",
      "+33d34m43s\n",
      "Just finished NGC0925! :)\n",
      "Working on NGC2798\n"
     ]
    },
    {
     "name": "stderr",
     "output_type": "stream",
     "text": [
      "WARNING: FITSFixedWarning: 'datfix' made the change 'Set MJD-OBS to 56610.399080 from DATE-OBS'. [astropy.wcs.wcs]\n",
      "WARNING: FITSFixedWarning: 'obsfix' made the change 'Set OBSGEO-L to  -107.618000 from OBSGEO-[XYZ].\n",
      "Set OBSGEO-B to    34.078827 from OBSGEO-[XYZ].\n",
      "Set OBSGEO-H to     2115.607 from OBSGEO-[XYZ]'. [astropy.wcs.wcs]\n",
      "WARNING: FITSFixedWarning: 'datfix' made the change 'Set MJD-OBS to 57003.573073 from DATE-OBS'. [astropy.wcs.wcs]\n",
      "WARNING: FITSFixedWarning: 'obsfix' made the change 'Set OBSGEO-L to  -107.618000 from OBSGEO-[XYZ].\n",
      "Set OBSGEO-B to    34.078827 from OBSGEO-[XYZ].\n",
      "Set OBSGEO-H to     2115.607 from OBSGEO-[XYZ]'. [astropy.wcs.wcs]\n",
      "WARNING: FITSFixedWarning: 'datfix' made the change 'Set MJD-OBS to 55883.553420 from DATE-OBS'. [astropy.wcs.wcs]\n",
      "WARNING: FITSFixedWarning: 'obsfix' made the change 'Set OBSGEO-L to  -107.618000 from OBSGEO-[XYZ].\n",
      "Set OBSGEO-B to    34.078827 from OBSGEO-[XYZ].\n",
      "Set OBSGEO-H to     2115.607 from OBSGEO-[XYZ]'. [astropy.wcs.wcs]\n",
      "WARNING: FITSFixedWarning: 'cdfix' made the change 'Success'. [astropy.wcs.wcs]\n"
     ]
    },
    {
     "name": "stdout",
     "output_type": "stream",
     "text": [
      "09h17m22.854s\n",
      "+42d00m00.4s\n",
      "Just finished NGC2798! :)\n",
      "Working on NGC2841\n"
     ]
    },
    {
     "name": "stderr",
     "output_type": "stream",
     "text": [
      "WARNING: FITSFixedWarning: 'datfix' made the change 'Set MJD-OBS to 56610.409115 from DATE-OBS'. [astropy.wcs.wcs]\n",
      "WARNING: FITSFixedWarning: 'obsfix' made the change 'Set OBSGEO-L to  -107.618000 from OBSGEO-[XYZ].\n",
      "Set OBSGEO-B to    34.078827 from OBSGEO-[XYZ].\n",
      "Set OBSGEO-H to     2115.607 from OBSGEO-[XYZ]'. [astropy.wcs.wcs]\n",
      "WARNING: FITSFixedWarning: 'datfix' made the change 'Set MJD-OBS to 57003.580191 from DATE-OBS'. [astropy.wcs.wcs]\n",
      "WARNING: FITSFixedWarning: 'obsfix' made the change 'Set OBSGEO-L to  -107.618000 from OBSGEO-[XYZ].\n",
      "Set OBSGEO-B to    34.078827 from OBSGEO-[XYZ].\n",
      "Set OBSGEO-H to     2115.607 from OBSGEO-[XYZ]'. [astropy.wcs.wcs]\n",
      "WARNING: FITSFixedWarning: 'datfix' made the change 'Set MJD-OBS to 55883.575226 from DATE-OBS'. [astropy.wcs.wcs]\n",
      "WARNING: FITSFixedWarning: 'obsfix' made the change 'Set OBSGEO-L to  -107.618000 from OBSGEO-[XYZ].\n",
      "Set OBSGEO-B to    34.078827 from OBSGEO-[XYZ].\n",
      "Set OBSGEO-H to     2115.607 from OBSGEO-[XYZ]'. [astropy.wcs.wcs]\n",
      "WARNING: FITSFixedWarning: 'cdfix' made the change 'Success'. [astropy.wcs.wcs]\n"
     ]
    },
    {
     "name": "stdout",
     "output_type": "stream",
     "text": [
      "09h22m02.668s\n",
      "+50d58m35.7s\n",
      "Just finished NGC2841! :)\n",
      "Working on NGC3049\n"
     ]
    },
    {
     "name": "stderr",
     "output_type": "stream",
     "text": [
      "WARNING: FITSFixedWarning: 'datfix' made the change 'Set MJD-OBS to 56610.474010 from DATE-OBS'. [astropy.wcs.wcs]\n",
      "WARNING: FITSFixedWarning: 'obsfix' made the change 'Set OBSGEO-L to  -107.618000 from OBSGEO-[XYZ].\n",
      "Set OBSGEO-B to    34.078827 from OBSGEO-[XYZ].\n",
      "Set OBSGEO-H to     2115.607 from OBSGEO-[XYZ]'. [astropy.wcs.wcs]\n",
      "WARNING: FITSFixedWarning: 'datfix' made the change 'Set MJD-OBS to 57003.646858 from DATE-OBS'. [astropy.wcs.wcs]\n",
      "WARNING: FITSFixedWarning: 'obsfix' made the change 'Set OBSGEO-L to  -107.618000 from OBSGEO-[XYZ].\n",
      "Set OBSGEO-B to    34.078827 from OBSGEO-[XYZ].\n",
      "Set OBSGEO-H to     2115.607 from OBSGEO-[XYZ]'. [astropy.wcs.wcs]\n",
      "WARNING: FITSFixedWarning: 'datfix' made the change 'Set MJD-OBS to 55892.547309 from DATE-OBS'. [astropy.wcs.wcs]\n",
      "WARNING: FITSFixedWarning: 'obsfix' made the change 'Set OBSGEO-L to  -107.618000 from OBSGEO-[XYZ].\n",
      "Set OBSGEO-B to    34.078827 from OBSGEO-[XYZ].\n",
      "Set OBSGEO-H to     2115.607 from OBSGEO-[XYZ]'. [astropy.wcs.wcs]\n",
      "WARNING: FITSFixedWarning: 'cdfix' made the change 'Success'. [astropy.wcs.wcs]\n"
     ]
    },
    {
     "name": "stdout",
     "output_type": "stream",
     "text": [
      "09h54m49.559s\n",
      "+09d16m16.1s\n",
      "Just finished NGC3049! :)\n",
      "Working on NGC3184\n"
     ]
    },
    {
     "name": "stderr",
     "output_type": "stream",
     "text": [
      "WARNING: FITSFixedWarning: 'datfix' made the change 'Set MJD-OBS to 56610.419531 from DATE-OBS'. [astropy.wcs.wcs]\n",
      "WARNING: FITSFixedWarning: 'obsfix' made the change 'Set OBSGEO-L to  -107.618000 from OBSGEO-[XYZ].\n",
      "Set OBSGEO-B to    34.078827 from OBSGEO-[XYZ].\n",
      "Set OBSGEO-H to     2115.607 from OBSGEO-[XYZ]'. [astropy.wcs.wcs]\n",
      "WARNING: FITSFixedWarning: 'datfix' made the change 'Set MJD-OBS to 57003.590017 from DATE-OBS'. [astropy.wcs.wcs]\n",
      "WARNING: FITSFixedWarning: 'obsfix' made the change 'Set OBSGEO-L to  -107.618000 from OBSGEO-[XYZ].\n",
      "Set OBSGEO-B to    34.078827 from OBSGEO-[XYZ].\n",
      "Set OBSGEO-H to     2115.607 from OBSGEO-[XYZ]'. [astropy.wcs.wcs]\n",
      "WARNING: FITSFixedWarning: 'datfix' made the change 'Set MJD-OBS to 55883.639740 from DATE-OBS'. [astropy.wcs.wcs]\n",
      "WARNING: FITSFixedWarning: 'obsfix' made the change 'Set OBSGEO-L to  -107.618000 from OBSGEO-[XYZ].\n",
      "Set OBSGEO-B to    34.078827 from OBSGEO-[XYZ].\n",
      "Set OBSGEO-H to     2115.607 from OBSGEO-[XYZ]'. [astropy.wcs.wcs]\n",
      "WARNING: FITSFixedWarning: 'cdfix' made the change 'Success'. [astropy.wcs.wcs]\n"
     ]
    },
    {
     "name": "stdout",
     "output_type": "stream",
     "text": [
      "10h18m16.94s\n",
      "+41d25m27s\n",
      "Just finished NGC3184! :)\n",
      "Working on NGC3190\n"
     ]
    },
    {
     "name": "stderr",
     "output_type": "stream",
     "text": [
      "WARNING: FITSFixedWarning: 'datfix' made the change 'Set MJD-OBS to 56610.459462 from DATE-OBS'. [astropy.wcs.wcs]\n",
      "WARNING: FITSFixedWarning: 'obsfix' made the change 'Set OBSGEO-L to  -107.618000 from OBSGEO-[XYZ].\n",
      "Set OBSGEO-B to    34.078827 from OBSGEO-[XYZ].\n",
      "Set OBSGEO-H to     2115.607 from OBSGEO-[XYZ]'. [astropy.wcs.wcs]\n",
      "WARNING: FITSFixedWarning: 'datfix' made the change 'Set MJD-OBS to 57003.637448 from DATE-OBS'. [astropy.wcs.wcs]\n",
      "WARNING: FITSFixedWarning: 'obsfix' made the change 'Set OBSGEO-L to  -107.618000 from OBSGEO-[XYZ].\n",
      "Set OBSGEO-B to    34.078827 from OBSGEO-[XYZ].\n",
      "Set OBSGEO-H to     2115.607 from OBSGEO-[XYZ]'. [astropy.wcs.wcs]\n",
      "WARNING: FITSFixedWarning: 'datfix' made the change 'Set MJD-OBS to 55892.579497 from DATE-OBS'. [astropy.wcs.wcs]\n",
      "WARNING: FITSFixedWarning: 'obsfix' made the change 'Set OBSGEO-L to  -107.618000 from OBSGEO-[XYZ].\n",
      "Set OBSGEO-B to    34.078827 from OBSGEO-[XYZ].\n",
      "Set OBSGEO-H to     2115.607 from OBSGEO-[XYZ]'. [astropy.wcs.wcs]\n",
      "WARNING: FITSFixedWarning: 'cdfix' made the change 'Success'. [astropy.wcs.wcs]\n"
     ]
    },
    {
     "name": "stdout",
     "output_type": "stream",
     "text": [
      "10h18m05.643s\n",
      "+21d49m55.9s\n",
      "Just finished NGC3190! :)\n",
      "Working on NGC3198\n"
     ]
    },
    {
     "name": "stderr",
     "output_type": "stream",
     "text": [
      "WARNING: FITSFixedWarning: 'datfix' made the change 'Set MJD-OBS to 56610.424010 from DATE-OBS'. [astropy.wcs.wcs]\n",
      "WARNING: FITSFixedWarning: 'obsfix' made the change 'Set OBSGEO-L to  -107.618000 from OBSGEO-[XYZ].\n",
      "Set OBSGEO-B to    34.078827 from OBSGEO-[XYZ].\n",
      "Set OBSGEO-H to     2115.607 from OBSGEO-[XYZ]'. [astropy.wcs.wcs]\n",
      "WARNING: FITSFixedWarning: 'datfix' made the change 'Set MJD-OBS to 57003.597378 from DATE-OBS'. [astropy.wcs.wcs]\n",
      "WARNING: FITSFixedWarning: 'obsfix' made the change 'Set OBSGEO-L to  -107.618000 from OBSGEO-[XYZ].\n",
      "Set OBSGEO-B to    34.078827 from OBSGEO-[XYZ].\n",
      "Set OBSGEO-H to     2115.607 from OBSGEO-[XYZ]'. [astropy.wcs.wcs]\n",
      "WARNING: FITSFixedWarning: 'datfix' made the change 'Set MJD-OBS to 55883.667448 from DATE-OBS'. [astropy.wcs.wcs]\n",
      "WARNING: FITSFixedWarning: 'obsfix' made the change 'Set OBSGEO-L to  -107.618000 from OBSGEO-[XYZ].\n",
      "Set OBSGEO-B to    34.078827 from OBSGEO-[XYZ].\n",
      "Set OBSGEO-H to     2115.607 from OBSGEO-[XYZ]'. [astropy.wcs.wcs]\n",
      "WARNING: FITSFixedWarning: 'cdfix' made the change 'Success'. [astropy.wcs.wcs]\n"
     ]
    },
    {
     "name": "stdout",
     "output_type": "stream",
     "text": [
      "10h19m54.986s\n",
      "+45d32m59.3s\n",
      "Just finished NGC3198! :)\n",
      "Working on NGC3351a\n"
     ]
    },
    {
     "name": "stderr",
     "output_type": "stream",
     "text": [
      "WARNING: FITSFixedWarning: 'datfix' made the change 'Set MJD-OBS to 56600.701615 from DATE-OBS'. [astropy.wcs.wcs]\n",
      "WARNING: FITSFixedWarning: 'obsfix' made the change 'Set OBSGEO-L to  -107.618000 from OBSGEO-[XYZ].\n",
      "Set OBSGEO-B to    34.078827 from OBSGEO-[XYZ].\n",
      "Set OBSGEO-H to     2115.607 from OBSGEO-[XYZ]'. [astropy.wcs.wcs]\n",
      "WARNING: FITSFixedWarning: 'datfix' made the change 'Set MJD-OBS to 56972.695156 from DATE-OBS'. [astropy.wcs.wcs]\n",
      "WARNING: FITSFixedWarning: 'obsfix' made the change 'Set OBSGEO-L to  -107.618000 from OBSGEO-[XYZ].\n",
      "Set OBSGEO-B to    34.078827 from OBSGEO-[XYZ].\n",
      "Set OBSGEO-H to     2115.607 from OBSGEO-[XYZ]'. [astropy.wcs.wcs]\n",
      "WARNING: FITSFixedWarning: 'datfix' made the change 'Set MJD-OBS to 55892.563212 from DATE-OBS'. [astropy.wcs.wcs]\n",
      "WARNING: FITSFixedWarning: 'obsfix' made the change 'Set OBSGEO-L to  -107.618000 from OBSGEO-[XYZ].\n",
      "Set OBSGEO-B to    34.078827 from OBSGEO-[XYZ].\n",
      "Set OBSGEO-H to     2115.607 from OBSGEO-[XYZ]'. [astropy.wcs.wcs]\n",
      "WARNING: FITSFixedWarning: 'cdfix' made the change 'Success'. [astropy.wcs.wcs]\n",
      "WARNING: FITSFixedWarning: 'datfix' made the change 'Set MJD-OBS to 56600.701615 from DATE-OBS'. [astropy.wcs.wcs]\n",
      "WARNING: FITSFixedWarning: 'obsfix' made the change 'Set OBSGEO-L to  -107.618000 from OBSGEO-[XYZ].\n",
      "Set OBSGEO-B to    34.078827 from OBSGEO-[XYZ].\n",
      "Set OBSGEO-H to     2115.607 from OBSGEO-[XYZ]'. [astropy.wcs.wcs]\n",
      "WARNING: FITSFixedWarning: 'datfix' made the change 'Set MJD-OBS to 56972.695156 from DATE-OBS'. [astropy.wcs.wcs]\n",
      "WARNING: FITSFixedWarning: 'obsfix' made the change 'Set OBSGEO-L to  -107.618000 from OBSGEO-[XYZ].\n",
      "Set OBSGEO-B to    34.078827 from OBSGEO-[XYZ].\n",
      "Set OBSGEO-H to     2115.607 from OBSGEO-[XYZ]'. [astropy.wcs.wcs]\n",
      "WARNING: FITSFixedWarning: 'datfix' made the change 'Set MJD-OBS to 55892.563212 from DATE-OBS'. [astropy.wcs.wcs]\n",
      "WARNING: FITSFixedWarning: 'obsfix' made the change 'Set OBSGEO-L to  -107.618000 from OBSGEO-[XYZ].\n",
      "Set OBSGEO-B to    34.078827 from OBSGEO-[XYZ].\n",
      "Set OBSGEO-H to     2115.607 from OBSGEO-[XYZ]'. [astropy.wcs.wcs]\n",
      "WARNING: FITSFixedWarning: 'cdfix' made the change 'Success'. [astropy.wcs.wcs]\n"
     ]
    },
    {
     "name": "stdout",
     "output_type": "stream",
     "text": [
      "10h43m57.677s\n",
      "+11d42m08s\n",
      "Just finished NGC3351a! :)\n",
      "Working on NGC3351b\n",
      "10h43m57.8s\n",
      "+11d42m18.5s\n",
      "Just finished NGC3351b! :)\n",
      "Working on NGC3521\n"
     ]
    },
    {
     "name": "stderr",
     "output_type": "stream",
     "text": [
      "WARNING: FITSFixedWarning: 'datfix' made the change 'Set MJD-OBS to 56610.484392 from DATE-OBS'. [astropy.wcs.wcs]\n",
      "WARNING: FITSFixedWarning: 'obsfix' made the change 'Set OBSGEO-L to  -107.618000 from OBSGEO-[XYZ].\n",
      "Set OBSGEO-B to    34.078827 from OBSGEO-[XYZ].\n",
      "Set OBSGEO-H to     2115.607 from OBSGEO-[XYZ]'. [astropy.wcs.wcs]\n",
      "WARNING: FITSFixedWarning: 'datfix' made the change 'Set MJD-OBS to 57003.656580 from DATE-OBS'. [astropy.wcs.wcs]\n",
      "WARNING: FITSFixedWarning: 'obsfix' made the change 'Set OBSGEO-L to  -107.618000 from OBSGEO-[XYZ].\n",
      "Set OBSGEO-B to    34.078827 from OBSGEO-[XYZ].\n",
      "Set OBSGEO-H to     2115.607 from OBSGEO-[XYZ]'. [astropy.wcs.wcs]\n",
      "WARNING: FITSFixedWarning: 'datfix' made the change 'Set MJD-OBS to 55876.568420 from DATE-OBS'. [astropy.wcs.wcs]\n",
      "WARNING: FITSFixedWarning: 'obsfix' made the change 'Set OBSGEO-L to  -107.618000 from OBSGEO-[XYZ].\n",
      "Set OBSGEO-B to    34.078827 from OBSGEO-[XYZ].\n",
      "Set OBSGEO-H to     2115.607 from OBSGEO-[XYZ]'. [astropy.wcs.wcs]\n",
      "WARNING: FITSFixedWarning: 'cdfix' made the change 'Success'. [astropy.wcs.wcs]\n"
     ]
    },
    {
     "name": "stdout",
     "output_type": "stream",
     "text": [
      "11h05m48.9s\n",
      "-00d02m06s\n",
      "Just finished NGC3521! :)\n",
      "Working on NGC3521Enuc.1\n"
     ]
    },
    {
     "name": "stderr",
     "output_type": "stream",
     "text": [
      "WARNING: FITSFixedWarning: 'datfix' made the change 'Set MJD-OBS to 56610.484392 from DATE-OBS'. [astropy.wcs.wcs]\n",
      "WARNING: FITSFixedWarning: 'obsfix' made the change 'Set OBSGEO-L to  -107.618000 from OBSGEO-[XYZ].\n",
      "Set OBSGEO-B to    34.078827 from OBSGEO-[XYZ].\n",
      "Set OBSGEO-H to     2115.607 from OBSGEO-[XYZ]'. [astropy.wcs.wcs]\n",
      "WARNING: FITSFixedWarning: 'datfix' made the change 'Set MJD-OBS to 57003.662274 from DATE-OBS'. [astropy.wcs.wcs]\n",
      "WARNING: FITSFixedWarning: 'obsfix' made the change 'Set OBSGEO-L to  -107.618000 from OBSGEO-[XYZ].\n",
      "Set OBSGEO-B to    34.078827 from OBSGEO-[XYZ].\n",
      "Set OBSGEO-H to     2115.607 from OBSGEO-[XYZ]'. [astropy.wcs.wcs]\n",
      "WARNING: FITSFixedWarning: 'datfix' made the change 'Set MJD-OBS to 55876.527795 from DATE-OBS'. [astropy.wcs.wcs]\n",
      "WARNING: FITSFixedWarning: 'obsfix' made the change 'Set OBSGEO-L to  -107.618000 from OBSGEO-[XYZ].\n",
      "Set OBSGEO-B to    34.078827 from OBSGEO-[XYZ].\n",
      "Set OBSGEO-H to     2115.607 from OBSGEO-[XYZ]'. [astropy.wcs.wcs]\n",
      "WARNING: FITSFixedWarning: 'cdfix' made the change 'Success'. [astropy.wcs.wcs]\n"
     ]
    },
    {
     "name": "stdout",
     "output_type": "stream",
     "text": [
      "11h05m46.3s\n",
      "-00d04m08.992s\n",
      "Just finished NGC3521Enuc.1! :)\n",
      "Working on NGC3521Enuc.3\n"
     ]
    },
    {
     "name": "stderr",
     "output_type": "stream",
     "text": [
      "WARNING: FITSFixedWarning: 'datfix' made the change 'Set MJD-OBS to 56610.484392 from DATE-OBS'. [astropy.wcs.wcs]\n",
      "WARNING: FITSFixedWarning: 'obsfix' made the change 'Set OBSGEO-L to  -107.618000 from OBSGEO-[XYZ].\n",
      "Set OBSGEO-B to    34.078827 from OBSGEO-[XYZ].\n",
      "Set OBSGEO-H to     2115.607 from OBSGEO-[XYZ]'. [astropy.wcs.wcs]\n",
      "WARNING: FITSFixedWarning: 'datfix' made the change 'Set MJD-OBS to 57003.674323 from DATE-OBS'. [astropy.wcs.wcs]\n",
      "WARNING: FITSFixedWarning: 'obsfix' made the change 'Set OBSGEO-L to  -107.618000 from OBSGEO-[XYZ].\n",
      "Set OBSGEO-B to    34.078827 from OBSGEO-[XYZ].\n",
      "Set OBSGEO-H to     2115.607 from OBSGEO-[XYZ]'. [astropy.wcs.wcs]\n",
      "WARNING: FITSFixedWarning: 'datfix' made the change 'Set MJD-OBS to 55876.546823 from DATE-OBS'. [astropy.wcs.wcs]\n",
      "WARNING: FITSFixedWarning: 'obsfix' made the change 'Set OBSGEO-L to  -107.618000 from OBSGEO-[XYZ].\n",
      "Set OBSGEO-B to    34.078827 from OBSGEO-[XYZ].\n",
      "Set OBSGEO-H to     2115.607 from OBSGEO-[XYZ]'. [astropy.wcs.wcs]\n",
      "WARNING: FITSFixedWarning: 'cdfix' made the change 'Success'. [astropy.wcs.wcs]\n"
     ]
    },
    {
     "name": "stdout",
     "output_type": "stream",
     "text": [
      "11h05m47.6s\n",
      "+00d00m33.004s\n",
      "Just finished NGC3521Enuc.3! :)\n",
      "Working on NGC3627\n"
     ]
    },
    {
     "name": "stderr",
     "output_type": "stream",
     "text": [
      "WARNING: FITSFixedWarning: 'datfix' made the change 'Set MJD-OBS to 56600.706441 from DATE-OBS'. [astropy.wcs.wcs]\n",
      "WARNING: FITSFixedWarning: 'obsfix' made the change 'Set OBSGEO-L to  -107.618000 from OBSGEO-[XYZ].\n",
      "Set OBSGEO-B to    34.078827 from OBSGEO-[XYZ].\n",
      "Set OBSGEO-H to     2115.607 from OBSGEO-[XYZ]'. [astropy.wcs.wcs]\n",
      "WARNING: FITSFixedWarning: 'datfix' made the change 'Set MJD-OBS to 56972.704983 from DATE-OBS'. [astropy.wcs.wcs]\n",
      "WARNING: FITSFixedWarning: 'obsfix' made the change 'Set OBSGEO-L to  -107.618000 from OBSGEO-[XYZ].\n",
      "Set OBSGEO-B to    34.078827 from OBSGEO-[XYZ].\n",
      "Set OBSGEO-H to     2115.607 from OBSGEO-[XYZ]'. [astropy.wcs.wcs]\n",
      "WARNING: FITSFixedWarning: 'datfix' made the change 'Set MJD-OBS to 55877.649878 from DATE-OBS'. [astropy.wcs.wcs]\n",
      "WARNING: FITSFixedWarning: 'obsfix' made the change 'Set OBSGEO-L to  -107.618000 from OBSGEO-[XYZ].\n",
      "Set OBSGEO-B to    34.078827 from OBSGEO-[XYZ].\n",
      "Set OBSGEO-H to     2115.607 from OBSGEO-[XYZ]'. [astropy.wcs.wcs]\n",
      "WARNING: FITSFixedWarning: 'cdfix' made the change 'Success'. [astropy.wcs.wcs]\n"
     ]
    },
    {
     "name": "stdout",
     "output_type": "stream",
     "text": [
      "11h20m15s\n",
      "+12d59m29.4s\n",
      "Just finished NGC3627! :)\n",
      "Working on NGC3627Enuc.1\n"
     ]
    },
    {
     "name": "stderr",
     "output_type": "stream",
     "text": [
      "WARNING: FITSFixedWarning: 'datfix' made the change 'Set MJD-OBS to 56600.706441 from DATE-OBS'. [astropy.wcs.wcs]\n",
      "WARNING: FITSFixedWarning: 'obsfix' made the change 'Set OBSGEO-L to  -107.618000 from OBSGEO-[XYZ].\n",
      "Set OBSGEO-B to    34.078827 from OBSGEO-[XYZ].\n",
      "Set OBSGEO-H to     2115.607 from OBSGEO-[XYZ]'. [astropy.wcs.wcs]\n",
      "WARNING: FITSFixedWarning: 'datfix' made the change 'Set MJD-OBS to 56972.711024 from DATE-OBS'. [astropy.wcs.wcs]\n",
      "WARNING: FITSFixedWarning: 'obsfix' made the change 'Set OBSGEO-L to  -107.618000 from OBSGEO-[XYZ].\n",
      "Set OBSGEO-B to    34.078827 from OBSGEO-[XYZ].\n",
      "Set OBSGEO-H to     2115.607 from OBSGEO-[XYZ]'. [astropy.wcs.wcs]\n",
      "WARNING: FITSFixedWarning: 'datfix' made the change 'Set MJD-OBS to 55877.694010 from DATE-OBS'. [astropy.wcs.wcs]\n",
      "WARNING: FITSFixedWarning: 'obsfix' made the change 'Set OBSGEO-L to  -107.618000 from OBSGEO-[XYZ].\n",
      "Set OBSGEO-B to    34.078827 from OBSGEO-[XYZ].\n",
      "Set OBSGEO-H to     2115.607 from OBSGEO-[XYZ]'. [astropy.wcs.wcs]\n",
      "WARNING: FITSFixedWarning: 'cdfix' made the change 'Success'. [astropy.wcs.wcs]\n"
     ]
    },
    {
     "name": "stdout",
     "output_type": "stream",
     "text": [
      "11h20m16.323s\n",
      "+12d57m49.2s\n",
      "Just finished NGC3627Enuc.1! :)\n",
      "Working on NGC3627Enuc.2\n"
     ]
    },
    {
     "name": "stderr",
     "output_type": "stream",
     "text": [
      "WARNING: FITSFixedWarning: 'datfix' made the change 'Set MJD-OBS to 56600.706441 from DATE-OBS'. [astropy.wcs.wcs]\n",
      "WARNING: FITSFixedWarning: 'obsfix' made the change 'Set OBSGEO-L to  -107.618000 from OBSGEO-[XYZ].\n",
      "Set OBSGEO-B to    34.078827 from OBSGEO-[XYZ].\n",
      "Set OBSGEO-H to     2115.607 from OBSGEO-[XYZ]'. [astropy.wcs.wcs]\n",
      "WARNING: FITSFixedWarning: 'datfix' made the change 'Set MJD-OBS to 56972.717691 from DATE-OBS'. [astropy.wcs.wcs]\n",
      "WARNING: FITSFixedWarning: 'obsfix' made the change 'Set OBSGEO-L to  -107.618000 from OBSGEO-[XYZ].\n",
      "Set OBSGEO-B to    34.078827 from OBSGEO-[XYZ].\n",
      "Set OBSGEO-H to     2115.607 from OBSGEO-[XYZ]'. [astropy.wcs.wcs]\n",
      "WARNING: FITSFixedWarning: 'datfix' made the change 'Set MJD-OBS to 55877.707031 from DATE-OBS'. [astropy.wcs.wcs]\n",
      "WARNING: FITSFixedWarning: 'obsfix' made the change 'Set OBSGEO-L to  -107.618000 from OBSGEO-[XYZ].\n",
      "Set OBSGEO-B to    34.078827 from OBSGEO-[XYZ].\n",
      "Set OBSGEO-H to     2115.607 from OBSGEO-[XYZ]'. [astropy.wcs.wcs]\n",
      "WARNING: FITSFixedWarning: 'cdfix' made the change 'Success'. [astropy.wcs.wcs]\n"
     ]
    },
    {
     "name": "stdout",
     "output_type": "stream",
     "text": [
      "11h20m16.464s\n",
      "+12d58m43.4s\n",
      "Just finished NGC3627Enuc.2! :)\n",
      "Working on NGC3773\n"
     ]
    },
    {
     "name": "stderr",
     "output_type": "stream",
     "text": [
      "WARNING: FITSFixedWarning: 'datfix' made the change 'Set MJD-OBS to 56600.711198 from DATE-OBS'. [astropy.wcs.wcs]\n",
      "WARNING: FITSFixedWarning: 'obsfix' made the change 'Set OBSGEO-L to  -107.618000 from OBSGEO-[XYZ].\n",
      "Set OBSGEO-B to    34.078827 from OBSGEO-[XYZ].\n",
      "Set OBSGEO-H to     2115.607 from OBSGEO-[XYZ]'. [astropy.wcs.wcs]\n",
      "WARNING: FITSFixedWarning: 'datfix' made the change 'Set MJD-OBS to 56972.723698 from DATE-OBS'. [astropy.wcs.wcs]\n",
      "WARNING: FITSFixedWarning: 'obsfix' made the change 'Set OBSGEO-L to  -107.618000 from OBSGEO-[XYZ].\n",
      "Set OBSGEO-B to    34.078827 from OBSGEO-[XYZ].\n",
      "Set OBSGEO-H to     2115.607 from OBSGEO-[XYZ]'. [astropy.wcs.wcs]\n",
      "WARNING: FITSFixedWarning: 'datfix' made the change 'Set MJD-OBS to 55877.751163 from DATE-OBS'. [astropy.wcs.wcs]\n",
      "WARNING: FITSFixedWarning: 'obsfix' made the change 'Set OBSGEO-L to  -107.618000 from OBSGEO-[XYZ].\n",
      "Set OBSGEO-B to    34.078827 from OBSGEO-[XYZ].\n",
      "Set OBSGEO-H to     2115.607 from OBSGEO-[XYZ]'. [astropy.wcs.wcs]\n",
      "WARNING: FITSFixedWarning: 'cdfix' made the change 'Success'. [astropy.wcs.wcs]\n"
     ]
    },
    {
     "name": "stdout",
     "output_type": "stream",
     "text": [
      "11h38m13.02s\n",
      "+12d06m43.8s\n",
      "Just finished NGC3773! :)\n",
      "Working on NGC3938Enuc.2a\n"
     ]
    },
    {
     "name": "stderr",
     "output_type": "stream",
     "text": [
      "WARNING: FITSFixedWarning: 'datfix' made the change 'Set MJD-OBS to 56610.438906 from DATE-OBS'. [astropy.wcs.wcs]\n",
      "WARNING: FITSFixedWarning: 'obsfix' made the change 'Set OBSGEO-L to  -107.618000 from OBSGEO-[XYZ].\n",
      "Set OBSGEO-B to    34.078827 from OBSGEO-[XYZ].\n",
      "Set OBSGEO-H to     2115.607 from OBSGEO-[XYZ]'. [astropy.wcs.wcs]\n",
      "WARNING: FITSFixedWarning: 'datfix' made the change 'Set MJD-OBS to 57003.614288 from DATE-OBS'. [astropy.wcs.wcs]\n",
      "WARNING: FITSFixedWarning: 'obsfix' made the change 'Set OBSGEO-L to  -107.618000 from OBSGEO-[XYZ].\n",
      "Set OBSGEO-B to    34.078827 from OBSGEO-[XYZ].\n",
      "Set OBSGEO-H to     2115.607 from OBSGEO-[XYZ]'. [astropy.wcs.wcs]\n",
      "WARNING: FITSFixedWarning: 'datfix' made the change 'Set MJD-OBS to 55940.331163 from DATE-OBS'. [astropy.wcs.wcs]\n",
      "WARNING: FITSFixedWarning: 'obsfix' made the change 'Set OBSGEO-L to  -107.618000 from OBSGEO-[XYZ].\n",
      "Set OBSGEO-B to    34.078827 from OBSGEO-[XYZ].\n",
      "Set OBSGEO-H to     2115.607 from OBSGEO-[XYZ]'. [astropy.wcs.wcs]\n",
      "WARNING: FITSFixedWarning: 'cdfix' made the change 'Success'. [astropy.wcs.wcs]\n",
      "WARNING: FITSFixedWarning: 'datfix' made the change 'Set MJD-OBS to 56610.438906 from DATE-OBS'. [astropy.wcs.wcs]\n",
      "WARNING: FITSFixedWarning: 'obsfix' made the change 'Set OBSGEO-L to  -107.618000 from OBSGEO-[XYZ].\n",
      "Set OBSGEO-B to    34.078827 from OBSGEO-[XYZ].\n",
      "Set OBSGEO-H to     2115.607 from OBSGEO-[XYZ]'. [astropy.wcs.wcs]\n",
      "WARNING: FITSFixedWarning: 'datfix' made the change 'Set MJD-OBS to 57003.614288 from DATE-OBS'. [astropy.wcs.wcs]\n",
      "WARNING: FITSFixedWarning: 'obsfix' made the change 'Set OBSGEO-L to  -107.618000 from OBSGEO-[XYZ].\n",
      "Set OBSGEO-B to    34.078827 from OBSGEO-[XYZ].\n",
      "Set OBSGEO-H to     2115.607 from OBSGEO-[XYZ]'. [astropy.wcs.wcs]\n",
      "WARNING: FITSFixedWarning: 'datfix' made the change 'Set MJD-OBS to 55940.331163 from DATE-OBS'. [astropy.wcs.wcs]\n",
      "WARNING: FITSFixedWarning: 'obsfix' made the change 'Set OBSGEO-L to  -107.618000 from OBSGEO-[XYZ].\n",
      "Set OBSGEO-B to    34.078827 from OBSGEO-[XYZ].\n",
      "Set OBSGEO-H to     2115.607 from OBSGEO-[XYZ]'. [astropy.wcs.wcs]\n",
      "WARNING: FITSFixedWarning: 'cdfix' made the change 'Success'. [astropy.wcs.wcs]\n"
     ]
    },
    {
     "name": "stdout",
     "output_type": "stream",
     "text": [
      "11h53m00.056s\n",
      "+44d08m00s\n",
      "Just finished NGC3938Enuc.2a! :)\n",
      "Working on NGC3938Enuc.2b\n",
      "11h53m00.195s\n",
      "+44d07m48.3s\n",
      "Just finished NGC3938Enuc.2b! :)\n",
      "Working on NGC3938a\n"
     ]
    },
    {
     "name": "stderr",
     "output_type": "stream",
     "text": [
      "WARNING: FITSFixedWarning: 'datfix' made the change 'Set MJD-OBS to 56610.438906 from DATE-OBS'. [astropy.wcs.wcs]\n",
      "WARNING: FITSFixedWarning: 'obsfix' made the change 'Set OBSGEO-L to  -107.618000 from OBSGEO-[XYZ].\n",
      "Set OBSGEO-B to    34.078827 from OBSGEO-[XYZ].\n",
      "Set OBSGEO-H to     2115.607 from OBSGEO-[XYZ]'. [astropy.wcs.wcs]\n",
      "WARNING: FITSFixedWarning: 'datfix' made the change 'Set MJD-OBS to 57003.607865 from DATE-OBS'. [astropy.wcs.wcs]\n",
      "WARNING: FITSFixedWarning: 'obsfix' made the change 'Set OBSGEO-L to  -107.618000 from OBSGEO-[XYZ].\n",
      "Set OBSGEO-B to    34.078827 from OBSGEO-[XYZ].\n",
      "Set OBSGEO-H to     2115.607 from OBSGEO-[XYZ]'. [astropy.wcs.wcs]\n",
      "WARNING: FITSFixedWarning: 'datfix' made the change 'Set MJD-OBS to 55940.306788 from DATE-OBS'. [astropy.wcs.wcs]\n",
      "WARNING: FITSFixedWarning: 'obsfix' made the change 'Set OBSGEO-L to  -107.618000 from OBSGEO-[XYZ].\n",
      "Set OBSGEO-B to    34.078827 from OBSGEO-[XYZ].\n",
      "Set OBSGEO-H to     2115.607 from OBSGEO-[XYZ]'. [astropy.wcs.wcs]\n",
      "WARNING: FITSFixedWarning: 'cdfix' made the change 'Success'. [astropy.wcs.wcs]\n",
      "WARNING: FITSFixedWarning: 'datfix' made the change 'Set MJD-OBS to 56610.438906 from DATE-OBS'. [astropy.wcs.wcs]\n",
      "WARNING: FITSFixedWarning: 'obsfix' made the change 'Set OBSGEO-L to  -107.618000 from OBSGEO-[XYZ].\n",
      "Set OBSGEO-B to    34.078827 from OBSGEO-[XYZ].\n",
      "Set OBSGEO-H to     2115.607 from OBSGEO-[XYZ]'. [astropy.wcs.wcs]\n",
      "WARNING: FITSFixedWarning: 'datfix' made the change 'Set MJD-OBS to 57003.607865 from DATE-OBS'. [astropy.wcs.wcs]\n",
      "WARNING: FITSFixedWarning: 'obsfix' made the change 'Set OBSGEO-L to  -107.618000 from OBSGEO-[XYZ].\n",
      "Set OBSGEO-B to    34.078827 from OBSGEO-[XYZ].\n",
      "Set OBSGEO-H to     2115.607 from OBSGEO-[XYZ]'. [astropy.wcs.wcs]\n",
      "WARNING: FITSFixedWarning: 'datfix' made the change 'Set MJD-OBS to 55940.306788 from DATE-OBS'. [astropy.wcs.wcs]\n",
      "WARNING: FITSFixedWarning: 'obsfix' made the change 'Set OBSGEO-L to  -107.618000 from OBSGEO-[XYZ].\n",
      "Set OBSGEO-B to    34.078827 from OBSGEO-[XYZ].\n",
      "Set OBSGEO-H to     2115.607 from OBSGEO-[XYZ]'. [astropy.wcs.wcs]\n",
      "WARNING: FITSFixedWarning: 'cdfix' made the change 'Success'. [astropy.wcs.wcs]\n"
     ]
    },
    {
     "name": "stdout",
     "output_type": "stream",
     "text": [
      "11h52m49.5s\n",
      "+44d07m14s\n",
      "Just finished NGC3938a! :)\n",
      "Working on NGC3938b\n",
      "11h52m48.191s\n",
      "+44d07m05.9s\n",
      "Just finished NGC3938b! :)\n",
      "Working on NGC4254a\n"
     ]
    },
    {
     "name": "stderr",
     "output_type": "stream",
     "text": [
      "WARNING: FITSFixedWarning: 'datfix' made the change 'Set MJD-OBS to 56600.731788 from DATE-OBS'. [astropy.wcs.wcs]\n",
      "WARNING: FITSFixedWarning: 'obsfix' made the change 'Set OBSGEO-L to  -107.618000 from OBSGEO-[XYZ].\n",
      "Set OBSGEO-B to    34.078827 from OBSGEO-[XYZ].\n",
      "Set OBSGEO-H to     2115.607 from OBSGEO-[XYZ]'. [astropy.wcs.wcs]\n",
      "WARNING: FITSFixedWarning: 'datfix' made the change 'Set MJD-OBS to 56972.734392 from DATE-OBS'. [astropy.wcs.wcs]\n",
      "WARNING: FITSFixedWarning: 'obsfix' made the change 'Set OBSGEO-L to  -107.618000 from OBSGEO-[XYZ].\n",
      "Set OBSGEO-B to    34.078827 from OBSGEO-[XYZ].\n",
      "Set OBSGEO-H to     2115.607 from OBSGEO-[XYZ]'. [astropy.wcs.wcs]\n",
      "WARNING: FITSFixedWarning: 'datfix' made the change 'Set MJD-OBS to 56326.386580 from DATE-OBS'. [astropy.wcs.wcs]\n",
      "WARNING: FITSFixedWarning: 'obsfix' made the change 'Set OBSGEO-L to  -107.618000 from OBSGEO-[XYZ].\n",
      "Set OBSGEO-B to    34.078827 from OBSGEO-[XYZ].\n",
      "Set OBSGEO-H to     2115.607 from OBSGEO-[XYZ]'. [astropy.wcs.wcs]\n",
      "WARNING: FITSFixedWarning: 'cdfix' made the change 'Success'. [astropy.wcs.wcs]\n"
     ]
    },
    {
     "name": "stdout",
     "output_type": "stream",
     "text": [
      "12h18m48.677s\n",
      "+14d24m42.5s\n",
      "Just finished NGC4254a! :)\n",
      "Working on NGC4254b\n"
     ]
    },
    {
     "name": "stderr",
     "output_type": "stream",
     "text": [
      "WARNING: FITSFixedWarning: 'datfix' made the change 'Set MJD-OBS to 56600.731788 from DATE-OBS'. [astropy.wcs.wcs]\n",
      "WARNING: FITSFixedWarning: 'obsfix' made the change 'Set OBSGEO-L to  -107.618000 from OBSGEO-[XYZ].\n",
      "Set OBSGEO-B to    34.078827 from OBSGEO-[XYZ].\n",
      "Set OBSGEO-H to     2115.607 from OBSGEO-[XYZ]'. [astropy.wcs.wcs]\n",
      "WARNING: FITSFixedWarning: 'datfix' made the change 'Set MJD-OBS to 56972.734392 from DATE-OBS'. [astropy.wcs.wcs]\n",
      "WARNING: FITSFixedWarning: 'obsfix' made the change 'Set OBSGEO-L to  -107.618000 from OBSGEO-[XYZ].\n",
      "Set OBSGEO-B to    34.078827 from OBSGEO-[XYZ].\n",
      "Set OBSGEO-H to     2115.607 from OBSGEO-[XYZ]'. [astropy.wcs.wcs]\n",
      "WARNING: FITSFixedWarning: 'datfix' made the change 'Set MJD-OBS to 56326.386580 from DATE-OBS'. [astropy.wcs.wcs]\n",
      "WARNING: FITSFixedWarning: 'obsfix' made the change 'Set OBSGEO-L to  -107.618000 from OBSGEO-[XYZ].\n",
      "Set OBSGEO-B to    34.078827 from OBSGEO-[XYZ].\n",
      "Set OBSGEO-H to     2115.607 from OBSGEO-[XYZ]'. [astropy.wcs.wcs]\n",
      "WARNING: FITSFixedWarning: 'cdfix' made the change 'Success'. [astropy.wcs.wcs]\n"
     ]
    },
    {
     "name": "stdout",
     "output_type": "stream",
     "text": [
      "12h18m49.668s\n",
      "+14d24m59s\n",
      "Just finished NGC4254b! :)\n",
      "Working on NGC4254c\n"
     ]
    },
    {
     "name": "stderr",
     "output_type": "stream",
     "text": [
      "WARNING: FITSFixedWarning: 'datfix' made the change 'Set MJD-OBS to 56600.731788 from DATE-OBS'. [astropy.wcs.wcs]\n",
      "WARNING: FITSFixedWarning: 'obsfix' made the change 'Set OBSGEO-L to  -107.618000 from OBSGEO-[XYZ].\n",
      "Set OBSGEO-B to    34.078827 from OBSGEO-[XYZ].\n",
      "Set OBSGEO-H to     2115.607 from OBSGEO-[XYZ]'. [astropy.wcs.wcs]\n",
      "WARNING: FITSFixedWarning: 'datfix' made the change 'Set MJD-OBS to 56972.734392 from DATE-OBS'. [astropy.wcs.wcs]\n",
      "WARNING: FITSFixedWarning: 'obsfix' made the change 'Set OBSGEO-L to  -107.618000 from OBSGEO-[XYZ].\n",
      "Set OBSGEO-B to    34.078827 from OBSGEO-[XYZ].\n",
      "Set OBSGEO-H to     2115.607 from OBSGEO-[XYZ]'. [astropy.wcs.wcs]\n",
      "WARNING: FITSFixedWarning: 'datfix' made the change 'Set MJD-OBS to 56326.386580 from DATE-OBS'. [astropy.wcs.wcs]\n",
      "WARNING: FITSFixedWarning: 'obsfix' made the change 'Set OBSGEO-L to  -107.618000 from OBSGEO-[XYZ].\n",
      "Set OBSGEO-B to    34.078827 from OBSGEO-[XYZ].\n",
      "Set OBSGEO-H to     2115.607 from OBSGEO-[XYZ]'. [astropy.wcs.wcs]\n",
      "WARNING: FITSFixedWarning: 'cdfix' made the change 'Success'. [astropy.wcs.wcs]\n"
     ]
    },
    {
     "name": "stdout",
     "output_type": "stream",
     "text": [
      "12h18m50.102s\n",
      "+14d25m11.6s\n",
      "Just finished NGC4254c! :)\n",
      "Working on NGC4254d\n"
     ]
    },
    {
     "name": "stderr",
     "output_type": "stream",
     "text": [
      "WARNING: FITSFixedWarning: 'datfix' made the change 'Set MJD-OBS to 56600.731788 from DATE-OBS'. [astropy.wcs.wcs]\n",
      "WARNING: FITSFixedWarning: 'obsfix' made the change 'Set OBSGEO-L to  -107.618000 from OBSGEO-[XYZ].\n",
      "Set OBSGEO-B to    34.078827 from OBSGEO-[XYZ].\n",
      "Set OBSGEO-H to     2115.607 from OBSGEO-[XYZ]'. [astropy.wcs.wcs]\n",
      "WARNING: FITSFixedWarning: 'datfix' made the change 'Set MJD-OBS to 56972.734392 from DATE-OBS'. [astropy.wcs.wcs]\n",
      "WARNING: FITSFixedWarning: 'obsfix' made the change 'Set OBSGEO-L to  -107.618000 from OBSGEO-[XYZ].\n",
      "Set OBSGEO-B to    34.078827 from OBSGEO-[XYZ].\n",
      "Set OBSGEO-H to     2115.607 from OBSGEO-[XYZ]'. [astropy.wcs.wcs]\n",
      "WARNING: FITSFixedWarning: 'datfix' made the change 'Set MJD-OBS to 56326.386580 from DATE-OBS'. [astropy.wcs.wcs]\n",
      "WARNING: FITSFixedWarning: 'obsfix' made the change 'Set OBSGEO-L to  -107.618000 from OBSGEO-[XYZ].\n",
      "Set OBSGEO-B to    34.078827 from OBSGEO-[XYZ].\n",
      "Set OBSGEO-H to     2115.607 from OBSGEO-[XYZ]'. [astropy.wcs.wcs]\n",
      "WARNING: FITSFixedWarning: 'cdfix' made the change 'Success'. [astropy.wcs.wcs]\n"
     ]
    },
    {
     "name": "stdout",
     "output_type": "stream",
     "text": [
      "12h18m51.63s\n",
      "+14d25m08.599s\n",
      "Just finished NGC4254d! :)\n",
      "Working on NGC4254e\n"
     ]
    },
    {
     "name": "stderr",
     "output_type": "stream",
     "text": [
      "WARNING: FITSFixedWarning: 'datfix' made the change 'Set MJD-OBS to 56600.731788 from DATE-OBS'. [astropy.wcs.wcs]\n",
      "WARNING: FITSFixedWarning: 'obsfix' made the change 'Set OBSGEO-L to  -107.618000 from OBSGEO-[XYZ].\n",
      "Set OBSGEO-B to    34.078827 from OBSGEO-[XYZ].\n",
      "Set OBSGEO-H to     2115.607 from OBSGEO-[XYZ]'. [astropy.wcs.wcs]\n",
      "WARNING: FITSFixedWarning: 'datfix' made the change 'Set MJD-OBS to 56972.734392 from DATE-OBS'. [astropy.wcs.wcs]\n",
      "WARNING: FITSFixedWarning: 'obsfix' made the change 'Set OBSGEO-L to  -107.618000 from OBSGEO-[XYZ].\n",
      "Set OBSGEO-B to    34.078827 from OBSGEO-[XYZ].\n",
      "Set OBSGEO-H to     2115.607 from OBSGEO-[XYZ]'. [astropy.wcs.wcs]\n",
      "WARNING: FITSFixedWarning: 'datfix' made the change 'Set MJD-OBS to 56326.386580 from DATE-OBS'. [astropy.wcs.wcs]\n",
      "WARNING: FITSFixedWarning: 'obsfix' made the change 'Set OBSGEO-L to  -107.618000 from OBSGEO-[XYZ].\n",
      "Set OBSGEO-B to    34.078827 from OBSGEO-[XYZ].\n",
      "Set OBSGEO-H to     2115.607 from OBSGEO-[XYZ]'. [astropy.wcs.wcs]\n",
      "WARNING: FITSFixedWarning: 'cdfix' made the change 'Success'. [astropy.wcs.wcs]\n"
     ]
    },
    {
     "name": "stdout",
     "output_type": "stream",
     "text": [
      "12h18m51.899s\n",
      "+14d24m49.699s\n",
      "Just finished NGC4254e! :)\n",
      "Working on NGC4254f\n"
     ]
    },
    {
     "name": "stderr",
     "output_type": "stream",
     "text": [
      "WARNING: FITSFixedWarning: 'datfix' made the change 'Set MJD-OBS to 56600.731788 from DATE-OBS'. [astropy.wcs.wcs]\n",
      "WARNING: FITSFixedWarning: 'obsfix' made the change 'Set OBSGEO-L to  -107.618000 from OBSGEO-[XYZ].\n",
      "Set OBSGEO-B to    34.078827 from OBSGEO-[XYZ].\n",
      "Set OBSGEO-H to     2115.607 from OBSGEO-[XYZ]'. [astropy.wcs.wcs]\n",
      "WARNING: FITSFixedWarning: 'datfix' made the change 'Set MJD-OBS to 56972.734392 from DATE-OBS'. [astropy.wcs.wcs]\n",
      "WARNING: FITSFixedWarning: 'obsfix' made the change 'Set OBSGEO-L to  -107.618000 from OBSGEO-[XYZ].\n",
      "Set OBSGEO-B to    34.078827 from OBSGEO-[XYZ].\n",
      "Set OBSGEO-H to     2115.607 from OBSGEO-[XYZ]'. [astropy.wcs.wcs]\n",
      "WARNING: FITSFixedWarning: 'datfix' made the change 'Set MJD-OBS to 56326.386580 from DATE-OBS'. [astropy.wcs.wcs]\n",
      "WARNING: FITSFixedWarning: 'obsfix' made the change 'Set OBSGEO-L to  -107.618000 from OBSGEO-[XYZ].\n",
      "Set OBSGEO-B to    34.078827 from OBSGEO-[XYZ].\n",
      "Set OBSGEO-H to     2115.607 from OBSGEO-[XYZ]'. [astropy.wcs.wcs]\n",
      "WARNING: FITSFixedWarning: 'cdfix' made the change 'Success'. [astropy.wcs.wcs]\n"
     ]
    },
    {
     "name": "stdout",
     "output_type": "stream",
     "text": [
      "12h18m51.919s\n",
      "+14d24m40.099s\n",
      "Just finished NGC4254f! :)\n",
      "Working on NGC4321Enuc.1\n"
     ]
    },
    {
     "name": "stderr",
     "output_type": "stream",
     "text": [
      "WARNING: FITSFixedWarning: 'datfix' made the change 'Set MJD-OBS to 56600.736615 from DATE-OBS'. [astropy.wcs.wcs]\n",
      "WARNING: FITSFixedWarning: 'obsfix' made the change 'Set OBSGEO-L to  -107.618000 from OBSGEO-[XYZ].\n",
      "Set OBSGEO-B to    34.078827 from OBSGEO-[XYZ].\n",
      "Set OBSGEO-H to     2115.607 from OBSGEO-[XYZ]'. [astropy.wcs.wcs]\n",
      "WARNING: FITSFixedWarning: 'datfix' made the change 'Set MJD-OBS to 56972.759878 from DATE-OBS'. [astropy.wcs.wcs]\n",
      "WARNING: FITSFixedWarning: 'obsfix' made the change 'Set OBSGEO-L to  -107.618000 from OBSGEO-[XYZ].\n",
      "Set OBSGEO-B to    34.078827 from OBSGEO-[XYZ].\n",
      "Set OBSGEO-H to     2115.607 from OBSGEO-[XYZ]'. [astropy.wcs.wcs]\n",
      "WARNING: FITSFixedWarning: 'datfix' made the change 'Set MJD-OBS to 56326.423976 from DATE-OBS'. [astropy.wcs.wcs]\n",
      "WARNING: FITSFixedWarning: 'obsfix' made the change 'Set OBSGEO-L to  -107.618000 from OBSGEO-[XYZ].\n",
      "Set OBSGEO-B to    34.078827 from OBSGEO-[XYZ].\n",
      "Set OBSGEO-H to     2115.607 from OBSGEO-[XYZ]'. [astropy.wcs.wcs]\n",
      "WARNING: FITSFixedWarning: 'cdfix' made the change 'Success'. [astropy.wcs.wcs]\n"
     ]
    },
    {
     "name": "stdout",
     "output_type": "stream",
     "text": [
      "12h22m58.9s\n",
      "+15d49m35.003s\n",
      "Just finished NGC4321Enuc.1! :)\n",
      "Working on NGC4321Enuc.2\n"
     ]
    },
    {
     "name": "stderr",
     "output_type": "stream",
     "text": [
      "WARNING: FITSFixedWarning: 'datfix' made the change 'Set MJD-OBS to 56600.736615 from DATE-OBS'. [astropy.wcs.wcs]\n",
      "WARNING: FITSFixedWarning: 'obsfix' made the change 'Set OBSGEO-L to  -107.618000 from OBSGEO-[XYZ].\n",
      "Set OBSGEO-B to    34.078827 from OBSGEO-[XYZ].\n",
      "Set OBSGEO-H to     2115.607 from OBSGEO-[XYZ]'. [astropy.wcs.wcs]\n",
      "WARNING: FITSFixedWarning: 'datfix' made the change 'Set MJD-OBS to 56972.766580 from DATE-OBS'. [astropy.wcs.wcs]\n",
      "WARNING: FITSFixedWarning: 'obsfix' made the change 'Set OBSGEO-L to  -107.618000 from OBSGEO-[XYZ].\n",
      "Set OBSGEO-B to    34.078827 from OBSGEO-[XYZ].\n",
      "Set OBSGEO-H to     2115.607 from OBSGEO-[XYZ]'. [astropy.wcs.wcs]\n",
      "WARNING: FITSFixedWarning: 'datfix' made the change 'Set MJD-OBS to 56326.403177 from DATE-OBS'. [astropy.wcs.wcs]\n",
      "WARNING: FITSFixedWarning: 'obsfix' made the change 'Set OBSGEO-L to  -107.618000 from OBSGEO-[XYZ].\n",
      "Set OBSGEO-B to    34.078827 from OBSGEO-[XYZ].\n",
      "Set OBSGEO-H to     2115.607 from OBSGEO-[XYZ]'. [astropy.wcs.wcs]\n",
      "WARNING: FITSFixedWarning: 'cdfix' made the change 'Success'. [astropy.wcs.wcs]\n",
      "WARNING: FITSFixedWarning: 'datfix' made the change 'Set MJD-OBS to 56600.736615 from DATE-OBS'. [astropy.wcs.wcs]\n",
      "WARNING: FITSFixedWarning: 'obsfix' made the change 'Set OBSGEO-L to  -107.618000 from OBSGEO-[XYZ].\n",
      "Set OBSGEO-B to    34.078827 from OBSGEO-[XYZ].\n",
      "Set OBSGEO-H to     2115.607 from OBSGEO-[XYZ]'. [astropy.wcs.wcs]\n",
      "WARNING: FITSFixedWarning: 'datfix' made the change 'Set MJD-OBS to 56972.766580 from DATE-OBS'. [astropy.wcs.wcs]\n",
      "WARNING: FITSFixedWarning: 'obsfix' made the change 'Set OBSGEO-L to  -107.618000 from OBSGEO-[XYZ].\n",
      "Set OBSGEO-B to    34.078827 from OBSGEO-[XYZ].\n",
      "Set OBSGEO-H to     2115.607 from OBSGEO-[XYZ]'. [astropy.wcs.wcs]\n",
      "WARNING: FITSFixedWarning: 'datfix' made the change 'Set MJD-OBS to 56326.403177 from DATE-OBS'. [astropy.wcs.wcs]\n",
      "WARNING: FITSFixedWarning: 'obsfix' made the change 'Set OBSGEO-L to  -107.618000 from OBSGEO-[XYZ].\n",
      "Set OBSGEO-B to    34.078827 from OBSGEO-[XYZ].\n",
      "Set OBSGEO-H to     2115.607 from OBSGEO-[XYZ]'. [astropy.wcs.wcs]\n",
      "WARNING: FITSFixedWarning: 'cdfix' made the change 'Success'. [astropy.wcs.wcs]\n"
     ]
    },
    {
     "name": "stdout",
     "output_type": "stream",
     "text": [
      "12h22m50.652s\n",
      "+15d50m27.2s\n",
      "Just finished NGC4321Enuc.2! :)\n",
      "Working on NGC4321Enuc.2a\n",
      "12h22m48.844s\n",
      "+15d50m12.8s\n",
      "Just finished NGC4321Enuc.2a! :)\n",
      "Working on NGC4321Enuc.2b\n",
      "12h22m49.904s\n",
      "+15d50m27.8s\n",
      "Just finished NGC4321Enuc.2b! :)\n",
      "Working on NGC4321a\n"
     ]
    },
    {
     "name": "stderr",
     "output_type": "stream",
     "text": [
      "WARNING: FITSFixedWarning: 'datfix' made the change 'Set MJD-OBS to 56600.736615 from DATE-OBS'. [astropy.wcs.wcs]\n",
      "WARNING: FITSFixedWarning: 'obsfix' made the change 'Set OBSGEO-L to  -107.618000 from OBSGEO-[XYZ].\n",
      "Set OBSGEO-B to    34.078827 from OBSGEO-[XYZ].\n",
      "Set OBSGEO-H to     2115.607 from OBSGEO-[XYZ]'. [astropy.wcs.wcs]\n",
      "WARNING: FITSFixedWarning: 'datfix' made the change 'Set MJD-OBS to 56972.766580 from DATE-OBS'. [astropy.wcs.wcs]\n",
      "WARNING: FITSFixedWarning: 'obsfix' made the change 'Set OBSGEO-L to  -107.618000 from OBSGEO-[XYZ].\n",
      "Set OBSGEO-B to    34.078827 from OBSGEO-[XYZ].\n",
      "Set OBSGEO-H to     2115.607 from OBSGEO-[XYZ]'. [astropy.wcs.wcs]\n",
      "WARNING: FITSFixedWarning: 'datfix' made the change 'Set MJD-OBS to 56326.403177 from DATE-OBS'. [astropy.wcs.wcs]\n",
      "WARNING: FITSFixedWarning: 'obsfix' made the change 'Set OBSGEO-L to  -107.618000 from OBSGEO-[XYZ].\n",
      "Set OBSGEO-B to    34.078827 from OBSGEO-[XYZ].\n",
      "Set OBSGEO-H to     2115.607 from OBSGEO-[XYZ]'. [astropy.wcs.wcs]\n",
      "WARNING: FITSFixedWarning: 'cdfix' made the change 'Success'. [astropy.wcs.wcs]\n",
      "WARNING: FITSFixedWarning: 'datfix' made the change 'Set MJD-OBS to 56600.736615 from DATE-OBS'. [astropy.wcs.wcs]\n",
      "WARNING: FITSFixedWarning: 'obsfix' made the change 'Set OBSGEO-L to  -107.618000 from OBSGEO-[XYZ].\n",
      "Set OBSGEO-B to    34.078827 from OBSGEO-[XYZ].\n",
      "Set OBSGEO-H to     2115.607 from OBSGEO-[XYZ]'. [astropy.wcs.wcs]\n",
      "WARNING: FITSFixedWarning: 'datfix' made the change 'Set MJD-OBS to 56972.753837 from DATE-OBS'. [astropy.wcs.wcs]\n",
      "WARNING: FITSFixedWarning: 'obsfix' made the change 'Set OBSGEO-L to  -107.618000 from OBSGEO-[XYZ].\n",
      "Set OBSGEO-B to    34.078827 from OBSGEO-[XYZ].\n",
      "Set OBSGEO-H to     2115.607 from OBSGEO-[XYZ]'. [astropy.wcs.wcs]\n",
      "WARNING: FITSFixedWarning: 'datfix' made the change 'Set MJD-OBS to 56326.450955 from DATE-OBS'. [astropy.wcs.wcs]\n",
      "WARNING: FITSFixedWarning: 'obsfix' made the change 'Set OBSGEO-L to  -107.618000 from OBSGEO-[XYZ].\n",
      "Set OBSGEO-B to    34.078827 from OBSGEO-[XYZ].\n",
      "Set OBSGEO-H to     2115.607 from OBSGEO-[XYZ]'. [astropy.wcs.wcs]\n",
      "WARNING: FITSFixedWarning: 'cdfix' made the change 'Success'. [astropy.wcs.wcs]\n",
      "WARNING: FITSFixedWarning: 'datfix' made the change 'Set MJD-OBS to 56600.736615 from DATE-OBS'. [astropy.wcs.wcs]\n",
      "WARNING: FITSFixedWarning: 'obsfix' made the change 'Set OBSGEO-L to  -107.618000 from OBSGEO-[XYZ].\n",
      "Set OBSGEO-B to    34.078827 from OBSGEO-[XYZ].\n",
      "Set OBSGEO-H to     2115.607 from OBSGEO-[XYZ]'. [astropy.wcs.wcs]\n",
      "WARNING: FITSFixedWarning: 'datfix' made the change 'Set MJD-OBS to 56972.753837 from DATE-OBS'. [astropy.wcs.wcs]\n",
      "WARNING: FITSFixedWarning: 'obsfix' made the change 'Set OBSGEO-L to  -107.618000 from OBSGEO-[XYZ].\n",
      "Set OBSGEO-B to    34.078827 from OBSGEO-[XYZ].\n",
      "Set OBSGEO-H to     2115.607 from OBSGEO-[XYZ]'. [astropy.wcs.wcs]\n",
      "WARNING: FITSFixedWarning: 'datfix' made the change 'Set MJD-OBS to 56326.450955 from DATE-OBS'. [astropy.wcs.wcs]\n",
      "WARNING: FITSFixedWarning: 'obsfix' made the change 'Set OBSGEO-L to  -107.618000 from OBSGEO-[XYZ].\n",
      "Set OBSGEO-B to    34.078827 from OBSGEO-[XYZ].\n",
      "Set OBSGEO-H to     2115.607 from OBSGEO-[XYZ]'. [astropy.wcs.wcs]\n",
      "WARNING: FITSFixedWarning: 'cdfix' made the change 'Success'. [astropy.wcs.wcs]\n"
     ]
    },
    {
     "name": "stdout",
     "output_type": "stream",
     "text": [
      "12h22m54.651s\n",
      "+15d49m19.8s\n",
      "Just finished NGC4321a! :)\n",
      "Working on NGC4321b\n",
      "12h22m55.129s\n",
      "+15d49m20.4s\n",
      "Just finished NGC4321b! :)\n",
      "Working on NGC4569\n",
      "12h36m49.8s\n",
      "+13d09m46.6s\n"
     ]
    },
    {
     "name": "stderr",
     "output_type": "stream",
     "text": [
      "WARNING: FITSFixedWarning: 'datfix' made the change 'Set MJD-OBS to 56600.741441 from DATE-OBS'. [astropy.wcs.wcs]\n",
      "WARNING: FITSFixedWarning: 'obsfix' made the change 'Set OBSGEO-L to  -107.618000 from OBSGEO-[XYZ].\n",
      "Set OBSGEO-B to    34.078827 from OBSGEO-[XYZ].\n",
      "Set OBSGEO-H to     2115.607 from OBSGEO-[XYZ]'. [astropy.wcs.wcs]\n",
      "WARNING: FITSFixedWarning: 'datfix' made the change 'Set MJD-OBS to 56972.774358 from DATE-OBS'. [astropy.wcs.wcs]\n",
      "WARNING: FITSFixedWarning: 'obsfix' made the change 'Set OBSGEO-L to  -107.618000 from OBSGEO-[XYZ].\n",
      "Set OBSGEO-B to    34.078827 from OBSGEO-[XYZ].\n",
      "Set OBSGEO-H to     2115.607 from OBSGEO-[XYZ]'. [astropy.wcs.wcs]\n",
      "WARNING: FITSFixedWarning: 'datfix' made the change 'Set MJD-OBS to 56326.462413 from DATE-OBS'. [astropy.wcs.wcs]\n",
      "WARNING: FITSFixedWarning: 'obsfix' made the change 'Set OBSGEO-L to  -107.618000 from OBSGEO-[XYZ].\n",
      "Set OBSGEO-B to    34.078827 from OBSGEO-[XYZ].\n",
      "Set OBSGEO-H to     2115.607 from OBSGEO-[XYZ]'. [astropy.wcs.wcs]\n",
      "WARNING: FITSFixedWarning: 'cdfix' made the change 'Success'. [astropy.wcs.wcs]\n"
     ]
    },
    {
     "name": "stdout",
     "output_type": "stream",
     "text": [
      "Just finished NGC4569! :)\n",
      "Working on NGC4579\n"
     ]
    },
    {
     "name": "stderr",
     "output_type": "stream",
     "text": [
      "WARNING: FITSFixedWarning: 'datfix' made the change 'Set MJD-OBS to 56600.746198 from DATE-OBS'. [astropy.wcs.wcs]\n",
      "WARNING: FITSFixedWarning: 'obsfix' made the change 'Set OBSGEO-L to  -107.618000 from OBSGEO-[XYZ].\n",
      "Set OBSGEO-B to    34.078827 from OBSGEO-[XYZ].\n",
      "Set OBSGEO-H to     2115.607 from OBSGEO-[XYZ]'. [astropy.wcs.wcs]\n",
      "WARNING: FITSFixedWarning: 'datfix' made the change 'Set MJD-OBS to 56972.780365 from DATE-OBS'. [astropy.wcs.wcs]\n",
      "WARNING: FITSFixedWarning: 'obsfix' made the change 'Set OBSGEO-L to  -107.618000 from OBSGEO-[XYZ].\n",
      "Set OBSGEO-B to    34.078827 from OBSGEO-[XYZ].\n",
      "Set OBSGEO-H to     2115.607 from OBSGEO-[XYZ]'. [astropy.wcs.wcs]\n",
      "WARNING: FITSFixedWarning: 'datfix' made the change 'Set MJD-OBS to 56326.472101 from DATE-OBS'. [astropy.wcs.wcs]\n",
      "WARNING: FITSFixedWarning: 'obsfix' made the change 'Set OBSGEO-L to  -107.618000 from OBSGEO-[XYZ].\n",
      "Set OBSGEO-B to    34.078827 from OBSGEO-[XYZ].\n",
      "Set OBSGEO-H to     2115.607 from OBSGEO-[XYZ]'. [astropy.wcs.wcs]\n",
      "WARNING: FITSFixedWarning: 'cdfix' made the change 'Success'. [astropy.wcs.wcs]\n"
     ]
    },
    {
     "name": "stdout",
     "output_type": "stream",
     "text": [
      "12h37m43.518s\n",
      "+11d49m05.6s\n",
      "Just finished NGC4579! :)\n",
      "Working on NGC4594a\n"
     ]
    },
    {
     "name": "stderr",
     "output_type": "stream",
     "text": [
      "WARNING: FITSFixedWarning: 'datfix' made the change 'Set MJD-OBS to 56601.649115 from DATE-OBS'. [astropy.wcs.wcs]\n",
      "WARNING: FITSFixedWarning: 'obsfix' made the change 'Set OBSGEO-L to  -107.618000 from OBSGEO-[XYZ].\n",
      "Set OBSGEO-B to    34.078827 from OBSGEO-[XYZ].\n",
      "Set OBSGEO-H to     2115.607 from OBSGEO-[XYZ]'. [astropy.wcs.wcs]\n",
      "WARNING: FITSFixedWarning: 'datfix' made the change 'Set MJD-OBS to 56964.726823 from DATE-OBS'. [astropy.wcs.wcs]\n",
      "WARNING: FITSFixedWarning: 'obsfix' made the change 'Set OBSGEO-L to  -107.618000 from OBSGEO-[XYZ].\n",
      "Set OBSGEO-B to    34.078827 from OBSGEO-[XYZ].\n",
      "Set OBSGEO-H to     2115.607 from OBSGEO-[XYZ]'. [astropy.wcs.wcs]\n",
      "WARNING: FITSFixedWarning: 'datfix' made the change 'Set MJD-OBS to 56353.406024 from DATE-OBS'. [astropy.wcs.wcs]\n",
      "WARNING: FITSFixedWarning: 'obsfix' made the change 'Set OBSGEO-L to  -107.618000 from OBSGEO-[XYZ].\n",
      "Set OBSGEO-B to    34.078827 from OBSGEO-[XYZ].\n",
      "Set OBSGEO-H to     2115.607 from OBSGEO-[XYZ]'. [astropy.wcs.wcs]\n",
      "WARNING: FITSFixedWarning: 'cdfix' made the change 'Success'. [astropy.wcs.wcs]\n"
     ]
    },
    {
     "name": "stdout",
     "output_type": "stream",
     "text": [
      "12h39m59.42s\n",
      "-11d37m23s\n",
      "Just finished NGC4594a! :)\n",
      "Working on NGC4725a\n"
     ]
    },
    {
     "name": "stderr",
     "output_type": "stream",
     "text": [
      "WARNING: FITSFixedWarning: 'datfix' made the change 'Set MJD-OBS to 56600.792101 from DATE-OBS'. [astropy.wcs.wcs]\n",
      "WARNING: FITSFixedWarning: 'obsfix' made the change 'Set OBSGEO-L to  -107.618000 from OBSGEO-[XYZ].\n",
      "Set OBSGEO-B to    34.078827 from OBSGEO-[XYZ].\n",
      "Set OBSGEO-H to     2115.607 from OBSGEO-[XYZ]'. [astropy.wcs.wcs]\n",
      "WARNING: FITSFixedWarning: 'datfix' made the change 'Set MJD-OBS to 56972.796788 from DATE-OBS'. [astropy.wcs.wcs]\n",
      "WARNING: FITSFixedWarning: 'obsfix' made the change 'Set OBSGEO-L to  -107.618000 from OBSGEO-[XYZ].\n",
      "Set OBSGEO-B to    34.078827 from OBSGEO-[XYZ].\n",
      "Set OBSGEO-H to     2115.607 from OBSGEO-[XYZ]'. [astropy.wcs.wcs]\n",
      "WARNING: FITSFixedWarning: 'datfix' made the change 'Set MJD-OBS to 56358.222135 from DATE-OBS'. [astropy.wcs.wcs]\n",
      "WARNING: FITSFixedWarning: 'obsfix' made the change 'Set OBSGEO-L to  -107.618000 from OBSGEO-[XYZ].\n",
      "Set OBSGEO-B to    34.078827 from OBSGEO-[XYZ].\n",
      "Set OBSGEO-H to     2115.607 from OBSGEO-[XYZ]'. [astropy.wcs.wcs]\n",
      "WARNING: FITSFixedWarning: 'cdfix' made the change 'Success'. [astropy.wcs.wcs]\n"
     ]
    },
    {
     "name": "stdout",
     "output_type": "stream",
     "text": [
      "12h50m26.556s\n",
      "+25d30m03s\n",
      "Just finished NGC4725a! :)\n",
      "Working on NGC6946Enuc.2a\n"
     ]
    },
    {
     "name": "stderr",
     "output_type": "stream",
     "text": [
      "WARNING: FITSFixedWarning: 'datfix' made the change 'Set MJD-OBS to 56593.153177 from DATE-OBS'. [astropy.wcs.wcs]\n",
      "WARNING: FITSFixedWarning: 'obsfix' made the change 'Set OBSGEO-L to  -107.618000 from OBSGEO-[XYZ].\n",
      "Set OBSGEO-B to    34.078827 from OBSGEO-[XYZ].\n",
      "Set OBSGEO-H to     2115.607 from OBSGEO-[XYZ]'. [astropy.wcs.wcs]\n",
      "WARNING: FITSFixedWarning: 'datfix' made the change 'Set MJD-OBS to 56962.166997 from DATE-OBS'. [astropy.wcs.wcs]\n",
      "WARNING: FITSFixedWarning: 'obsfix' made the change 'Set OBSGEO-L to  -107.618000 from OBSGEO-[XYZ].\n",
      "Set OBSGEO-B to    34.078827 from OBSGEO-[XYZ].\n",
      "Set OBSGEO-H to     2115.607 from OBSGEO-[XYZ]'. [astropy.wcs.wcs]\n",
      "WARNING: FITSFixedWarning: 'datfix' made the change 'Set MJD-OBS to 55927.964983 from DATE-OBS'. [astropy.wcs.wcs]\n",
      "WARNING: FITSFixedWarning: 'obsfix' made the change 'Set OBSGEO-L to  -107.618000 from OBSGEO-[XYZ].\n",
      "Set OBSGEO-B to    34.078827 from OBSGEO-[XYZ].\n",
      "Set OBSGEO-H to     2115.607 from OBSGEO-[XYZ]'. [astropy.wcs.wcs]\n",
      "WARNING: FITSFixedWarning: 'cdfix' made the change 'Success'. [astropy.wcs.wcs]\n",
      "WARNING: FITSFixedWarning: 'datfix' made the change 'Set MJD-OBS to 56593.153177 from DATE-OBS'. [astropy.wcs.wcs]\n",
      "WARNING: FITSFixedWarning: 'obsfix' made the change 'Set OBSGEO-L to  -107.618000 from OBSGEO-[XYZ].\n",
      "Set OBSGEO-B to    34.078827 from OBSGEO-[XYZ].\n",
      "Set OBSGEO-H to     2115.607 from OBSGEO-[XYZ]'. [astropy.wcs.wcs]\n",
      "WARNING: FITSFixedWarning: 'datfix' made the change 'Set MJD-OBS to 56962.166997 from DATE-OBS'. [astropy.wcs.wcs]\n",
      "WARNING: FITSFixedWarning: 'obsfix' made the change 'Set OBSGEO-L to  -107.618000 from OBSGEO-[XYZ].\n",
      "Set OBSGEO-B to    34.078827 from OBSGEO-[XYZ].\n",
      "Set OBSGEO-H to     2115.607 from OBSGEO-[XYZ]'. [astropy.wcs.wcs]\n",
      "WARNING: FITSFixedWarning: 'datfix' made the change 'Set MJD-OBS to 55927.964983 from DATE-OBS'. [astropy.wcs.wcs]\n",
      "WARNING: FITSFixedWarning: 'obsfix' made the change 'Set OBSGEO-L to  -107.618000 from OBSGEO-[XYZ].\n",
      "Set OBSGEO-B to    34.078827 from OBSGEO-[XYZ].\n",
      "Set OBSGEO-H to     2115.607 from OBSGEO-[XYZ]'. [astropy.wcs.wcs]\n",
      "WARNING: FITSFixedWarning: 'cdfix' made the change 'Success'. [astropy.wcs.wcs]\n"
     ]
    },
    {
     "name": "stdout",
     "output_type": "stream",
     "text": [
      "20h35m23.572s\n",
      "+60d09m48.899s\n",
      "Just finished NGC6946Enuc.2a! :)\n",
      "Working on NGC6946Enuc.2b\n",
      "20h35m25.381s\n",
      "+60d09m58.8s\n",
      "Just finished NGC6946Enuc.2b! :)\n",
      "Working on NGC6946Enuc.3a\n"
     ]
    },
    {
     "name": "stderr",
     "output_type": "stream",
     "text": [
      "WARNING: FITSFixedWarning: 'datfix' made the change 'Set MJD-OBS to 56593.153177 from DATE-OBS'. [astropy.wcs.wcs]\n",
      "WARNING: FITSFixedWarning: 'obsfix' made the change 'Set OBSGEO-L to  -107.618000 from OBSGEO-[XYZ].\n",
      "Set OBSGEO-B to    34.078827 from OBSGEO-[XYZ].\n",
      "Set OBSGEO-H to     2115.607 from OBSGEO-[XYZ]'. [astropy.wcs.wcs]\n",
      "WARNING: FITSFixedWarning: 'datfix' made the change 'Set MJD-OBS to 56962.173038 from DATE-OBS'. [astropy.wcs.wcs]\n",
      "WARNING: FITSFixedWarning: 'obsfix' made the change 'Set OBSGEO-L to  -107.618000 from OBSGEO-[XYZ].\n",
      "Set OBSGEO-B to    34.078827 from OBSGEO-[XYZ].\n",
      "Set OBSGEO-H to     2115.607 from OBSGEO-[XYZ]'. [astropy.wcs.wcs]\n",
      "WARNING: FITSFixedWarning: 'datfix' made the change 'Set MJD-OBS to 55906.922622 from DATE-OBS'. [astropy.wcs.wcs]\n",
      "WARNING: FITSFixedWarning: 'obsfix' made the change 'Set OBSGEO-L to  -107.618000 from OBSGEO-[XYZ].\n",
      "Set OBSGEO-B to    34.078827 from OBSGEO-[XYZ].\n",
      "Set OBSGEO-H to     2115.607 from OBSGEO-[XYZ]'. [astropy.wcs.wcs]\n",
      "WARNING: FITSFixedWarning: 'cdfix' made the change 'Success'. [astropy.wcs.wcs]\n",
      "WARNING: FITSFixedWarning: 'datfix' made the change 'Set MJD-OBS to 56593.153177 from DATE-OBS'. [astropy.wcs.wcs]\n",
      "WARNING: FITSFixedWarning: 'obsfix' made the change 'Set OBSGEO-L to  -107.618000 from OBSGEO-[XYZ].\n",
      "Set OBSGEO-B to    34.078827 from OBSGEO-[XYZ].\n",
      "Set OBSGEO-H to     2115.607 from OBSGEO-[XYZ]'. [astropy.wcs.wcs]\n",
      "WARNING: FITSFixedWarning: 'datfix' made the change 'Set MJD-OBS to 56962.173038 from DATE-OBS'. [astropy.wcs.wcs]\n",
      "WARNING: FITSFixedWarning: 'obsfix' made the change 'Set OBSGEO-L to  -107.618000 from OBSGEO-[XYZ].\n",
      "Set OBSGEO-B to    34.078827 from OBSGEO-[XYZ].\n",
      "Set OBSGEO-H to     2115.607 from OBSGEO-[XYZ]'. [astropy.wcs.wcs]\n",
      "WARNING: FITSFixedWarning: 'datfix' made the change 'Set MJD-OBS to 55906.922622 from DATE-OBS'. [astropy.wcs.wcs]\n",
      "WARNING: FITSFixedWarning: 'obsfix' made the change 'Set OBSGEO-L to  -107.618000 from OBSGEO-[XYZ].\n",
      "Set OBSGEO-B to    34.078827 from OBSGEO-[XYZ].\n",
      "Set OBSGEO-H to     2115.607 from OBSGEO-[XYZ]'. [astropy.wcs.wcs]\n",
      "WARNING: FITSFixedWarning: 'cdfix' made the change 'Success'. [astropy.wcs.wcs]\n"
     ]
    },
    {
     "name": "stdout",
     "output_type": "stream",
     "text": [
      "20h34m49.865s\n",
      "+60d12m40.699s\n",
      "Just finished NGC6946Enuc.3a! :)\n",
      "Working on NGC6946Enuc.3b\n",
      "20h34m52.24s\n",
      "+60d12m43.7s\n",
      "Just finished NGC6946Enuc.3b! :)\n",
      "Working on NGC6946Enuc.4a\n"
     ]
    },
    {
     "name": "stderr",
     "output_type": "stream",
     "text": [
      "WARNING: FITSFixedWarning: 'datfix' made the change 'Set MJD-OBS to 56593.153177 from DATE-OBS'. [astropy.wcs.wcs]\n",
      "WARNING: FITSFixedWarning: 'obsfix' made the change 'Set OBSGEO-L to  -107.618000 from OBSGEO-[XYZ].\n",
      "Set OBSGEO-B to    34.078827 from OBSGEO-[XYZ].\n",
      "Set OBSGEO-H to     2115.607 from OBSGEO-[XYZ]'. [astropy.wcs.wcs]\n",
      "WARNING: FITSFixedWarning: 'datfix' made the change 'Set MJD-OBS to 56962.182587 from DATE-OBS'. [astropy.wcs.wcs]\n",
      "WARNING: FITSFixedWarning: 'obsfix' made the change 'Set OBSGEO-L to  -107.618000 from OBSGEO-[XYZ].\n",
      "Set OBSGEO-B to    34.078827 from OBSGEO-[XYZ].\n",
      "Set OBSGEO-H to     2115.607 from OBSGEO-[XYZ]'. [astropy.wcs.wcs]\n",
      "WARNING: FITSFixedWarning: 'datfix' made the change 'Set MJD-OBS to 55906.835156 from DATE-OBS'. [astropy.wcs.wcs]\n",
      "WARNING: FITSFixedWarning: 'obsfix' made the change 'Set OBSGEO-L to  -107.618000 from OBSGEO-[XYZ].\n",
      "Set OBSGEO-B to    34.078827 from OBSGEO-[XYZ].\n",
      "Set OBSGEO-H to     2115.607 from OBSGEO-[XYZ]'. [astropy.wcs.wcs]\n",
      "WARNING: FITSFixedWarning: 'cdfix' made the change 'Success'. [astropy.wcs.wcs]\n",
      "WARNING: FITSFixedWarning: 'datfix' made the change 'Set MJD-OBS to 56593.153177 from DATE-OBS'. [astropy.wcs.wcs]\n",
      "WARNING: FITSFixedWarning: 'obsfix' made the change 'Set OBSGEO-L to  -107.618000 from OBSGEO-[XYZ].\n",
      "Set OBSGEO-B to    34.078827 from OBSGEO-[XYZ].\n",
      "Set OBSGEO-H to     2115.607 from OBSGEO-[XYZ]'. [astropy.wcs.wcs]\n",
      "WARNING: FITSFixedWarning: 'datfix' made the change 'Set MJD-OBS to 56962.182587 from DATE-OBS'. [astropy.wcs.wcs]\n",
      "WARNING: FITSFixedWarning: 'obsfix' made the change 'Set OBSGEO-L to  -107.618000 from OBSGEO-[XYZ].\n",
      "Set OBSGEO-B to    34.078827 from OBSGEO-[XYZ].\n",
      "Set OBSGEO-H to     2115.607 from OBSGEO-[XYZ]'. [astropy.wcs.wcs]\n",
      "WARNING: FITSFixedWarning: 'datfix' made the change 'Set MJD-OBS to 55906.835156 from DATE-OBS'. [astropy.wcs.wcs]\n",
      "WARNING: FITSFixedWarning: 'obsfix' made the change 'Set OBSGEO-L to  -107.618000 from OBSGEO-[XYZ].\n",
      "Set OBSGEO-B to    34.078827 from OBSGEO-[XYZ].\n",
      "Set OBSGEO-H to     2115.607 from OBSGEO-[XYZ]'. [astropy.wcs.wcs]\n",
      "WARNING: FITSFixedWarning: 'cdfix' made the change 'Success'. [astropy.wcs.wcs]\n"
     ]
    },
    {
     "name": "stdout",
     "output_type": "stream",
     "text": [
      "20h34m19.842s\n",
      "+60d10m06.6s\n",
      "Just finished NGC6946Enuc.4a! :)\n",
      "Working on NGC6946Enuc.4b\n",
      "20h34m21.41s\n",
      "+60d10m17.699s\n",
      "Just finished NGC6946Enuc.4b! :)\n",
      "Working on NGC6946Enuc.4c\n",
      "20h34m22.738s\n",
      "+60d10m34.197s\n",
      "Just finished NGC6946Enuc.4c! :)\n",
      "Working on NGC6946Enuc.5a\n"
     ]
    },
    {
     "name": "stderr",
     "output_type": "stream",
     "text": [
      "WARNING: FITSFixedWarning: 'datfix' made the change 'Set MJD-OBS to 56593.153177 from DATE-OBS'. [astropy.wcs.wcs]\n",
      "WARNING: FITSFixedWarning: 'obsfix' made the change 'Set OBSGEO-L to  -107.618000 from OBSGEO-[XYZ].\n",
      "Set OBSGEO-B to    34.078827 from OBSGEO-[XYZ].\n",
      "Set OBSGEO-H to     2115.607 from OBSGEO-[XYZ]'. [astropy.wcs.wcs]\n",
      "WARNING: FITSFixedWarning: 'datfix' made the change 'Set MJD-OBS to 56962.182587 from DATE-OBS'. [astropy.wcs.wcs]\n",
      "WARNING: FITSFixedWarning: 'obsfix' made the change 'Set OBSGEO-L to  -107.618000 from OBSGEO-[XYZ].\n",
      "Set OBSGEO-B to    34.078827 from OBSGEO-[XYZ].\n",
      "Set OBSGEO-H to     2115.607 from OBSGEO-[XYZ]'. [astropy.wcs.wcs]\n",
      "WARNING: FITSFixedWarning: 'datfix' made the change 'Set MJD-OBS to 55906.835156 from DATE-OBS'. [astropy.wcs.wcs]\n",
      "WARNING: FITSFixedWarning: 'obsfix' made the change 'Set OBSGEO-L to  -107.618000 from OBSGEO-[XYZ].\n",
      "Set OBSGEO-B to    34.078827 from OBSGEO-[XYZ].\n",
      "Set OBSGEO-H to     2115.607 from OBSGEO-[XYZ]'. [astropy.wcs.wcs]\n",
      "WARNING: FITSFixedWarning: 'cdfix' made the change 'Success'. [astropy.wcs.wcs]\n",
      "WARNING: FITSFixedWarning: 'datfix' made the change 'Set MJD-OBS to 56593.161823 from DATE-OBS'. [astropy.wcs.wcs]\n",
      "WARNING: FITSFixedWarning: 'obsfix' made the change 'Set OBSGEO-L to  -107.618000 from OBSGEO-[XYZ].\n",
      "Set OBSGEO-B to    34.078827 from OBSGEO-[XYZ].\n",
      "Set OBSGEO-H to     2115.607 from OBSGEO-[XYZ]'. [astropy.wcs.wcs]\n",
      "WARNING: FITSFixedWarning: 'datfix' made the change 'Set MJD-OBS to 56962.188628 from DATE-OBS'. [astropy.wcs.wcs]\n",
      "WARNING: FITSFixedWarning: 'obsfix' made the change 'Set OBSGEO-L to  -107.618000 from OBSGEO-[XYZ].\n",
      "Set OBSGEO-B to    34.078827 from OBSGEO-[XYZ].\n",
      "Set OBSGEO-H to     2115.607 from OBSGEO-[XYZ]'. [astropy.wcs.wcs]\n",
      "WARNING: FITSFixedWarning: 'datfix' made the change 'Set MJD-OBS to 55906.878872 from DATE-OBS'. [astropy.wcs.wcs]\n",
      "WARNING: FITSFixedWarning: 'obsfix' made the change 'Set OBSGEO-L to  -107.618000 from OBSGEO-[XYZ].\n",
      "Set OBSGEO-B to    34.078827 from OBSGEO-[XYZ].\n",
      "Set OBSGEO-H to     2115.607 from OBSGEO-[XYZ]'. [astropy.wcs.wcs]\n",
      "WARNING: FITSFixedWarning: 'cdfix' made the change 'Success'. [astropy.wcs.wcs]\n",
      "WARNING: FITSFixedWarning: 'datfix' made the change 'Set MJD-OBS to 56593.161823 from DATE-OBS'. [astropy.wcs.wcs]\n",
      "WARNING: FITSFixedWarning: 'obsfix' made the change 'Set OBSGEO-L to  -107.618000 from OBSGEO-[XYZ].\n",
      "Set OBSGEO-B to    34.078827 from OBSGEO-[XYZ].\n",
      "Set OBSGEO-H to     2115.607 from OBSGEO-[XYZ]'. [astropy.wcs.wcs]\n",
      "WARNING: FITSFixedWarning: 'datfix' made the change 'Set MJD-OBS to 56962.188628 from DATE-OBS'. [astropy.wcs.wcs]\n",
      "WARNING: FITSFixedWarning: 'obsfix' made the change 'Set OBSGEO-L to  -107.618000 from OBSGEO-[XYZ].\n",
      "Set OBSGEO-B to    34.078827 from OBSGEO-[XYZ].\n",
      "Set OBSGEO-H to     2115.607 from OBSGEO-[XYZ]'. [astropy.wcs.wcs]\n",
      "WARNING: FITSFixedWarning: 'datfix' made the change 'Set MJD-OBS to 55906.878872 from DATE-OBS'. [astropy.wcs.wcs]\n",
      "WARNING: FITSFixedWarning: 'obsfix' made the change 'Set OBSGEO-L to  -107.618000 from OBSGEO-[XYZ].\n",
      "Set OBSGEO-B to    34.078827 from OBSGEO-[XYZ].\n",
      "Set OBSGEO-H to     2115.607 from OBSGEO-[XYZ]'. [astropy.wcs.wcs]\n",
      "WARNING: FITSFixedWarning: 'cdfix' made the change 'Success'. [astropy.wcs.wcs]\n"
     ]
    },
    {
     "name": "stdout",
     "output_type": "stream",
     "text": [
      "20h34m37.155s\n",
      "+60d05m10.099s\n",
      "Just finished NGC6946Enuc.5a! :)\n",
      "Working on NGC6946Enuc.5b\n",
      "20h34m39.361s\n",
      "+60d04m52.4s\n",
      "Just finished NGC6946Enuc.5b! :)\n",
      "Working on NGC6946Enuc.6a\n",
      "20h35m06.08s\n",
      "+60d10m58.5s\n"
     ]
    },
    {
     "name": "stderr",
     "output_type": "stream",
     "text": [
      "WARNING: FITSFixedWarning: 'datfix' made the change 'Set MJD-OBS to 56593.153177 from DATE-OBS'. [astropy.wcs.wcs]\n",
      "WARNING: FITSFixedWarning: 'obsfix' made the change 'Set OBSGEO-L to  -107.618000 from OBSGEO-[XYZ].\n",
      "Set OBSGEO-B to    34.078827 from OBSGEO-[XYZ].\n",
      "Set OBSGEO-H to     2115.607 from OBSGEO-[XYZ]'. [astropy.wcs.wcs]\n",
      "WARNING: FITSFixedWarning: 'datfix' made the change 'Set MJD-OBS to 56962.195330 from DATE-OBS'. [astropy.wcs.wcs]\n",
      "WARNING: FITSFixedWarning: 'obsfix' made the change 'Set OBSGEO-L to  -107.618000 from OBSGEO-[XYZ].\n",
      "Set OBSGEO-B to    34.078827 from OBSGEO-[XYZ].\n",
      "Set OBSGEO-H to     2115.607 from OBSGEO-[XYZ]'. [astropy.wcs.wcs]\n",
      "WARNING: FITSFixedWarning: 'datfix' made the change 'Set MJD-OBS to 55927.879010 from DATE-OBS'. [astropy.wcs.wcs]\n",
      "WARNING: FITSFixedWarning: 'obsfix' made the change 'Set OBSGEO-L to  -107.618000 from OBSGEO-[XYZ].\n",
      "Set OBSGEO-B to    34.078827 from OBSGEO-[XYZ].\n",
      "Set OBSGEO-H to     2115.607 from OBSGEO-[XYZ]'. [astropy.wcs.wcs]\n",
      "WARNING: FITSFixedWarning: 'cdfix' made the change 'Success'. [astropy.wcs.wcs]\n",
      "WARNING: FITSFixedWarning: 'datfix' made the change 'Set MJD-OBS to 56593.153177 from DATE-OBS'. [astropy.wcs.wcs]\n",
      "WARNING: FITSFixedWarning: 'obsfix' made the change 'Set OBSGEO-L to  -107.618000 from OBSGEO-[XYZ].\n",
      "Set OBSGEO-B to    34.078827 from OBSGEO-[XYZ].\n",
      "Set OBSGEO-H to     2115.607 from OBSGEO-[XYZ]'. [astropy.wcs.wcs]\n",
      "WARNING: FITSFixedWarning: 'datfix' made the change 'Set MJD-OBS to 56962.195330 from DATE-OBS'. [astropy.wcs.wcs]\n",
      "WARNING: FITSFixedWarning: 'obsfix' made the change 'Set OBSGEO-L to  -107.618000 from OBSGEO-[XYZ].\n",
      "Set OBSGEO-B to    34.078827 from OBSGEO-[XYZ].\n",
      "Set OBSGEO-H to     2115.607 from OBSGEO-[XYZ]'. [astropy.wcs.wcs]\n",
      "WARNING: FITSFixedWarning: 'datfix' made the change 'Set MJD-OBS to 55927.879010 from DATE-OBS'. [astropy.wcs.wcs]\n",
      "WARNING: FITSFixedWarning: 'obsfix' made the change 'Set OBSGEO-L to  -107.618000 from OBSGEO-[XYZ].\n",
      "Set OBSGEO-B to    34.078827 from OBSGEO-[XYZ].\n",
      "Set OBSGEO-H to     2115.607 from OBSGEO-[XYZ]'. [astropy.wcs.wcs]\n",
      "WARNING: FITSFixedWarning: 'cdfix' made the change 'Success'. [astropy.wcs.wcs]\n"
     ]
    },
    {
     "name": "stdout",
     "output_type": "stream",
     "text": [
      "Just finished NGC6946Enuc.6a! :)\n",
      "Working on NGC6946Enuc.6b\n",
      "20h35m06.965s\n",
      "+60d10m46.5s\n",
      "Just finished NGC6946Enuc.6b! :)\n",
      "Working on NGC6946Enuc.7\n"
     ]
    },
    {
     "name": "stderr",
     "output_type": "stream",
     "text": [
      "WARNING: FITSFixedWarning: 'datfix' made the change 'Set MJD-OBS to 56593.153177 from DATE-OBS'. [astropy.wcs.wcs]\n",
      "WARNING: FITSFixedWarning: 'obsfix' made the change 'Set OBSGEO-L to  -107.618000 from OBSGEO-[XYZ].\n",
      "Set OBSGEO-B to    34.078827 from OBSGEO-[XYZ].\n",
      "Set OBSGEO-H to     2115.607 from OBSGEO-[XYZ]'. [astropy.wcs.wcs]\n",
      "WARNING: FITSFixedWarning: 'datfix' made the change 'Set MJD-OBS to 56962.208038 from DATE-OBS'. [astropy.wcs.wcs]\n",
      "WARNING: FITSFixedWarning: 'obsfix' made the change 'Set OBSGEO-L to  -107.618000 from OBSGEO-[XYZ].\n",
      "Set OBSGEO-B to    34.078827 from OBSGEO-[XYZ].\n",
      "Set OBSGEO-H to     2115.607 from OBSGEO-[XYZ]'. [astropy.wcs.wcs]\n",
      "WARNING: FITSFixedWarning: 'datfix' made the change 'Set MJD-OBS to 55927.905885 from DATE-OBS'. [astropy.wcs.wcs]\n",
      "WARNING: FITSFixedWarning: 'obsfix' made the change 'Set OBSGEO-L to  -107.618000 from OBSGEO-[XYZ].\n",
      "Set OBSGEO-B to    34.078827 from OBSGEO-[XYZ].\n",
      "Set OBSGEO-H to     2115.607 from OBSGEO-[XYZ]'. [astropy.wcs.wcs]\n",
      "WARNING: FITSFixedWarning: 'cdfix' made the change 'Success'. [astropy.wcs.wcs]\n"
     ]
    },
    {
     "name": "stdout",
     "output_type": "stream",
     "text": [
      "20h35m12.974s\n",
      "+60d08m50.55s\n",
      "Just finished NGC6946Enuc.7! :)\n",
      "Working on NGC6946Enuc.8\n"
     ]
    },
    {
     "name": "stderr",
     "output_type": "stream",
     "text": [
      "WARNING: FITSFixedWarning: 'datfix' made the change 'Set MJD-OBS to 56593.157483 from DATE-OBS'. [astropy.wcs.wcs]\n",
      "WARNING: FITSFixedWarning: 'obsfix' made the change 'Set OBSGEO-L to  -107.618000 from OBSGEO-[XYZ].\n",
      "Set OBSGEO-B to    34.078827 from OBSGEO-[XYZ].\n",
      "Set OBSGEO-H to     2115.607 from OBSGEO-[XYZ]'. [astropy.wcs.wcs]\n",
      "WARNING: FITSFixedWarning: 'datfix' made the change 'Set MJD-OBS to 56962.201372 from DATE-OBS'. [astropy.wcs.wcs]\n",
      "WARNING: FITSFixedWarning: 'obsfix' made the change 'Set OBSGEO-L to  -107.618000 from OBSGEO-[XYZ].\n",
      "Set OBSGEO-B to    34.078827 from OBSGEO-[XYZ].\n",
      "Set OBSGEO-H to     2115.607 from OBSGEO-[XYZ]'. [astropy.wcs.wcs]\n",
      "WARNING: FITSFixedWarning: 'datfix' made the change 'Set MJD-OBS to 55927.840260 from DATE-OBS'. [astropy.wcs.wcs]\n",
      "WARNING: FITSFixedWarning: 'obsfix' made the change 'Set OBSGEO-L to  -107.618000 from OBSGEO-[XYZ].\n",
      "Set OBSGEO-B to    34.078827 from OBSGEO-[XYZ].\n",
      "Set OBSGEO-H to     2115.607 from OBSGEO-[XYZ]'. [astropy.wcs.wcs]\n",
      "WARNING: FITSFixedWarning: 'cdfix' made the change 'Success'. [astropy.wcs.wcs]\n",
      "WARNING: FITSFixedWarning: 'datfix' made the change 'Set MJD-OBS to 56593.153177 from DATE-OBS'. [astropy.wcs.wcs]\n",
      "WARNING: FITSFixedWarning: 'obsfix' made the change 'Set OBSGEO-L to  -107.618000 from OBSGEO-[XYZ].\n",
      "Set OBSGEO-B to    34.078827 from OBSGEO-[XYZ].\n",
      "Set OBSGEO-H to     2115.607 from OBSGEO-[XYZ]'. [astropy.wcs.wcs]\n",
      "WARNING: FITSFixedWarning: 'datfix' made the change 'Set MJD-OBS to 56962.208038 from DATE-OBS'. [astropy.wcs.wcs]\n",
      "WARNING: FITSFixedWarning: 'obsfix' made the change 'Set OBSGEO-L to  -107.618000 from OBSGEO-[XYZ].\n",
      "Set OBSGEO-B to    34.078827 from OBSGEO-[XYZ].\n",
      "Set OBSGEO-H to     2115.607 from OBSGEO-[XYZ]'. [astropy.wcs.wcs]\n",
      "WARNING: FITSFixedWarning: 'datfix' made the change 'Set MJD-OBS to 55927.905885 from DATE-OBS'. [astropy.wcs.wcs]\n",
      "WARNING: FITSFixedWarning: 'obsfix' made the change 'Set OBSGEO-L to  -107.618000 from OBSGEO-[XYZ].\n",
      "Set OBSGEO-B to    34.078827 from OBSGEO-[XYZ].\n",
      "Set OBSGEO-H to     2115.607 from OBSGEO-[XYZ]'. [astropy.wcs.wcs]\n",
      "WARNING: FITSFixedWarning: 'cdfix' made the change 'Success'. [astropy.wcs.wcs]\n"
     ]
    },
    {
     "name": "stdout",
     "output_type": "stream",
     "text": [
      "20h34m32.28s\n",
      "+60d10m19.3s\n",
      "Just finished NGC6946Enuc.8! :)\n",
      "Working on NGC6946Enuc.9\n",
      "20h35m11.086s\n",
      "+60d08m57.45s\n",
      "Just finished NGC6946Enuc.9! :)\n",
      "Working on NGC6946a\n",
      "20h34m51.295s\n",
      "+60d09m39.2s\n"
     ]
    },
    {
     "name": "stderr",
     "output_type": "stream",
     "text": [
      "WARNING: FITSFixedWarning: 'datfix' made the change 'Set MJD-OBS to 56593.153177 from DATE-OBS'. [astropy.wcs.wcs]\n",
      "WARNING: FITSFixedWarning: 'obsfix' made the change 'Set OBSGEO-L to  -107.618000 from OBSGEO-[XYZ].\n",
      "Set OBSGEO-B to    34.078827 from OBSGEO-[XYZ].\n",
      "Set OBSGEO-H to     2115.607 from OBSGEO-[XYZ]'. [astropy.wcs.wcs]\n",
      "WARNING: FITSFixedWarning: 'datfix' made the change 'Set MJD-OBS to 56962.154323 from DATE-OBS'. [astropy.wcs.wcs]\n",
      "WARNING: FITSFixedWarning: 'obsfix' made the change 'Set OBSGEO-L to  -107.618000 from OBSGEO-[XYZ].\n",
      "Set OBSGEO-B to    34.078827 from OBSGEO-[XYZ].\n",
      "Set OBSGEO-H to     2115.607 from OBSGEO-[XYZ]'. [astropy.wcs.wcs]\n",
      "WARNING: FITSFixedWarning: 'datfix' made the change 'Set MJD-OBS to 55927.867135 from DATE-OBS'. [astropy.wcs.wcs]\n",
      "WARNING: FITSFixedWarning: 'obsfix' made the change 'Set OBSGEO-L to  -107.618000 from OBSGEO-[XYZ].\n",
      "Set OBSGEO-B to    34.078827 from OBSGEO-[XYZ].\n",
      "Set OBSGEO-H to     2115.607 from OBSGEO-[XYZ]'. [astropy.wcs.wcs]\n",
      "WARNING: FITSFixedWarning: 'cdfix' made the change 'Success'. [astropy.wcs.wcs]\n",
      "WARNING: FITSFixedWarning: 'datfix' made the change 'Set MJD-OBS to 56593.153177 from DATE-OBS'. [astropy.wcs.wcs]\n",
      "WARNING: FITSFixedWarning: 'obsfix' made the change 'Set OBSGEO-L to  -107.618000 from OBSGEO-[XYZ].\n",
      "Set OBSGEO-B to    34.078827 from OBSGEO-[XYZ].\n",
      "Set OBSGEO-H to     2115.607 from OBSGEO-[XYZ]'. [astropy.wcs.wcs]\n",
      "WARNING: FITSFixedWarning: 'datfix' made the change 'Set MJD-OBS to 56962.154323 from DATE-OBS'. [astropy.wcs.wcs]\n",
      "WARNING: FITSFixedWarning: 'obsfix' made the change 'Set OBSGEO-L to  -107.618000 from OBSGEO-[XYZ].\n",
      "Set OBSGEO-B to    34.078827 from OBSGEO-[XYZ].\n",
      "Set OBSGEO-H to     2115.607 from OBSGEO-[XYZ]'. [astropy.wcs.wcs]\n",
      "WARNING: FITSFixedWarning: 'datfix' made the change 'Set MJD-OBS to 55927.867135 from DATE-OBS'. [astropy.wcs.wcs]\n",
      "WARNING: FITSFixedWarning: 'obsfix' made the change 'Set OBSGEO-L to  -107.618000 from OBSGEO-[XYZ].\n",
      "Set OBSGEO-B to    34.078827 from OBSGEO-[XYZ].\n",
      "Set OBSGEO-H to     2115.607 from OBSGEO-[XYZ]'. [astropy.wcs.wcs]\n"
     ]
    },
    {
     "name": "stdout",
     "output_type": "stream",
     "text": [
      "Just finished NGC6946a! :)\n",
      "Working on NGC6946b\n",
      "20h34m52.26s\n",
      "+60d09m14.3s\n",
      "Just finished NGC6946b! :)\n",
      "Working on NGC6946c\n"
     ]
    },
    {
     "name": "stderr",
     "output_type": "stream",
     "text": [
      "WARNING: FITSFixedWarning: 'cdfix' made the change 'Success'. [astropy.wcs.wcs]\n",
      "WARNING: FITSFixedWarning: 'datfix' made the change 'Set MJD-OBS to 56593.153177 from DATE-OBS'. [astropy.wcs.wcs]\n",
      "WARNING: FITSFixedWarning: 'obsfix' made the change 'Set OBSGEO-L to  -107.618000 from OBSGEO-[XYZ].\n",
      "Set OBSGEO-B to    34.078827 from OBSGEO-[XYZ].\n",
      "Set OBSGEO-H to     2115.607 from OBSGEO-[XYZ]'. [astropy.wcs.wcs]\n",
      "WARNING: FITSFixedWarning: 'datfix' made the change 'Set MJD-OBS to 56962.154323 from DATE-OBS'. [astropy.wcs.wcs]\n",
      "WARNING: FITSFixedWarning: 'obsfix' made the change 'Set OBSGEO-L to  -107.618000 from OBSGEO-[XYZ].\n",
      "Set OBSGEO-B to    34.078827 from OBSGEO-[XYZ].\n",
      "Set OBSGEO-H to     2115.607 from OBSGEO-[XYZ]'. [astropy.wcs.wcs]\n",
      "WARNING: FITSFixedWarning: 'datfix' made the change 'Set MJD-OBS to 55927.867135 from DATE-OBS'. [astropy.wcs.wcs]\n",
      "WARNING: FITSFixedWarning: 'obsfix' made the change 'Set OBSGEO-L to  -107.618000 from OBSGEO-[XYZ].\n",
      "Set OBSGEO-B to    34.078827 from OBSGEO-[XYZ].\n",
      "Set OBSGEO-H to     2115.607 from OBSGEO-[XYZ]'. [astropy.wcs.wcs]\n",
      "WARNING: FITSFixedWarning: 'cdfix' made the change 'Success'. [astropy.wcs.wcs]\n"
     ]
    },
    {
     "name": "stdout",
     "output_type": "stream",
     "text": [
      "20h34m52.742s\n",
      "+60d09m30.5s\n",
      "Just finished NGC6946c! :)\n",
      "Working on NGC7331\n"
     ]
    },
    {
     "name": "stderr",
     "output_type": "stream",
     "text": [
      "WARNING: FITSFixedWarning: 'datfix' made the change 'Set MJD-OBS to 56593.180885 from DATE-OBS'. [astropy.wcs.wcs]\n",
      "WARNING: FITSFixedWarning: 'obsfix' made the change 'Set OBSGEO-L to  -107.618000 from OBSGEO-[XYZ].\n",
      "Set OBSGEO-B to    34.078827 from OBSGEO-[XYZ].\n",
      "Set OBSGEO-H to     2115.607 from OBSGEO-[XYZ]'. [astropy.wcs.wcs]\n",
      "WARNING: FITSFixedWarning: 'datfix' made the change 'Set MJD-OBS to 56962.218385 from DATE-OBS'. [astropy.wcs.wcs]\n",
      "WARNING: FITSFixedWarning: 'obsfix' made the change 'Set OBSGEO-L to  -107.618000 from OBSGEO-[XYZ].\n",
      "Set OBSGEO-B to    34.078827 from OBSGEO-[XYZ].\n",
      "Set OBSGEO-H to     2115.607 from OBSGEO-[XYZ]'. [astropy.wcs.wcs]\n",
      "WARNING: FITSFixedWarning: 'datfix' made the change 'Set MJD-OBS to 55861.294844 from DATE-OBS'. [astropy.wcs.wcs]\n",
      "WARNING: FITSFixedWarning: 'obsfix' made the change 'Set OBSGEO-L to  -107.618000 from OBSGEO-[XYZ].\n",
      "Set OBSGEO-B to    34.078827 from OBSGEO-[XYZ].\n",
      "Set OBSGEO-H to     2115.607 from OBSGEO-[XYZ]'. [astropy.wcs.wcs]\n",
      "WARNING: FITSFixedWarning: 'cdfix' made the change 'Success'. [astropy.wcs.wcs]\n"
     ]
    },
    {
     "name": "stdout",
     "output_type": "stream",
     "text": [
      "22h37m04.1s\n",
      "+34d24m56s\n",
      "Just finished NGC7331! :)\n"
     ]
    }
   ],
   "source": [
    "###PURPOSE: make an astropy table with all of the correct and relevant file names for each source\n",
    "### we want to run photometry on\n",
    "\n",
    "import sys\n",
    "\n",
    "#import statements\n",
    "from astropy.io import ascii\n",
    "import pandas as pd\n",
    "from astropy.table import join\n",
    "from astropy.io import fits\n",
    "from astropy import units as u\n",
    "from astropy.coordinates import SkyCoord\n",
    "from photutils.aperture import SkyCircularAperture\n",
    "from photutils.aperture import CircularAnnulus, CircularAperture\n",
    "from astropy import wcs\n",
    "from photutils.aperture import SkyCircularAnnulus\n",
    "from photutils.aperture import aperture_photometry\n",
    "import numpy as np\n",
    "import matplotlib.pyplot as plt\n",
    "import aplpy\n",
    "from itertools import cycle\n",
    "from photutils.aperture import ApertureStats\n",
    "from astropy.stats import median_absolute_deviation\n",
    "from astropy.table import vstack\n",
    "from astropy.table import Column\n",
    "from astropy.table import join\n",
    "\n",
    "#function to help us with plotting later on \n",
    "def fix_aplpy_fits(aplpy_obj, dropaxis=2):\n",
    "    \"\"\"This removes the degenerated dimensions in APLpy 2.X...\n",
    "    The input must be the object returned by aplpy.FITSFigure().\n",
    "    `dropaxis` is the index where to start dropping the axis (by default it assumes the 3rd,4th place).\n",
    "    \"\"\"\n",
    "    temp_wcs = aplpy_obj._wcs.dropaxis(dropaxis)\n",
    "    temp_wcs = temp_wcs.dropaxis(dropaxis)\n",
    "    aplpy_obj._wcs = temp_wcs\n",
    "    \n",
    "scale=0.00055556*u.degree\n",
    "scalearcsec=scale.to('arcsec')\n",
    "length=scalearcsec.value*(19e6*u.AU)\n",
    "lengthpc=length.to(u.pc)\n",
    "lengtharcsec=(lengthpc/(19.3e6*u.pc))*u.arcsec\n",
    "distance=19e6*u.Mpc\n",
    "pclabel=(distance.value*u.AU).to(u.pc)\n",
    "\n",
    "#read in photometry sources Google Sheet\n",
    "data = ascii.read('/users/adignan/photometry_sources.csv', format='csv')\n",
    "\n",
    "#read in Sean's catalog\n",
    "df = ascii.read('/lustre/cv/students/adignan/Linden2020_table5.csv', format='csv')\n",
    "\n",
    "minitbl=df[['Source ID','RA_J2000','Decl_J2000']]\n",
    "tbl=join(data,minitbl,'Source ID')\n",
    "\n",
    "path='/lustre/cv/students/adignan/data/'\n",
    "\n",
    "results1=[]\n",
    "medians=[]\n",
    "means=[]\n",
    "mads=[]\n",
    "stds=[]\n",
    "names1=[]\n",
    "errs1=[]\n",
    "snrs=[]\n",
    "beams=[]\n",
    "rins=[]\n",
    "routs=[]\n",
    "unscaledmad1=[]\n",
    "scaledmad1=[]\n",
    "\n",
    "# tbl=tbl[tbl['Source ID']=='NGC2798']\n",
    "\n",
    "for row in tbl:\n",
    "    print('Working on ' + str(row['Source ID']))\n",
    "    #read in relevant data files\n",
    "    file3=fits.open(str(row['3 GHz file']))[0]\n",
    "    file15=fits.open(str(row['15 GHz file']))[0]\n",
    "    file33=fits.open(str(row['33 GHz file']))[0]\n",
    "    file90 = fits.open(str(row['90 GHz file']))[0]\n",
    "\n",
    "    data3=file3.data[0,0,:,:]\n",
    "    data15=file15.data[0,0,:,:]\n",
    "    data33=file33.data[0,0,:,:]\n",
    "    data90=file90.data[0,:,:]\n",
    "\n",
    "    datas=[data3,data15,data33,data90]\n",
    "\n",
    "    wcs3=wcs.WCS(file3).dropaxis(3).dropaxis(2)\n",
    "    wcs15=wcs.WCS(file15).dropaxis(3).dropaxis(2)\n",
    "    wcs33=wcs.WCS(file33).dropaxis(3).dropaxis(2)\n",
    "    wcs90=wcs.WCS(file90).dropaxis(2)\n",
    "\n",
    "    wcss=[wcs3,wcs15,wcs33,wcs90]\n",
    "\n",
    "    ras=[]\n",
    "    decs=[]\n",
    "\n",
    "    #pull out ra and dec info\n",
    "    r=(row['RA_J2000'])\n",
    "    r=(r[:2]+'h'+r[3:5]+'m'+r[6:]+'s')\n",
    "    ras.append(r)\n",
    "    d=(row['Decl_J2000'])\n",
    "    d=(d[:3]+'d'+d[4:6]+'m'+d[7:]+'s')\n",
    "    decs.append(d)\n",
    "\n",
    "    positions=[]\n",
    "\n",
    "    for r, d in zip(ras,decs):\n",
    "        position=SkyCoord(ra=r,dec=d)\n",
    "        positions.append(position)\n",
    "        \n",
    "    fwhm = row['Beam']*u.arcsec\n",
    "    rin = 1.5*fwhm \n",
    "    rout = rin + fwhm\n",
    "\n",
    "    #creating lists of the apertures and annuli (defined in sky coordinates)\n",
    "    skyapertures=[]\n",
    "    skyannuli=[]\n",
    "\n",
    "    for p in positions:\n",
    "        skyaperture = SkyCircularAperture(p, r=fwhm)\n",
    "        skyannulus = SkyCircularAnnulus(p, rin, rout)\n",
    "        skyapertures.append(skyaperture)\n",
    "        skyannuli.append(skyannulus)\n",
    "        \n",
    "    factor=((scalearcsec.value)**2)/((np.pi/(4*np.log(2))) *(fwhm.value)**2)\n",
    "\n",
    "    omega= (np.pi / (4*np.log(2)) ) * ((fwhm.value)**2)\n",
    "    n= ((np.pi) * ((fwhm.value)**2)) / (omega)\n",
    "\n",
    "    for ap, ann in zip(skyapertures,skyannuli):\n",
    "        for d, w in zip((datas),wcss):\n",
    "            phot=aperture_photometry(data=d,apertures=ap,wcs=w)\n",
    "            aperstats = ApertureStats(data=d, aperture=ann, wcs=w)\n",
    "            phot['pbcorr_flux_density']=(phot['aperture_sum']*factor)*1000\n",
    "            phot['pbcorr_aperture_sum']=(phot['aperture_sum'])*1000\n",
    "            results1.append(phot)\n",
    "            medians.append(aperstats.median*1000)\n",
    "            means.append(aperstats.mean*1000)\n",
    "            mads.append(aperstats.mad_std*1000)\n",
    "            stds.append(aperstats.std*1000)\n",
    "            names1.append(row['Source ID'])\n",
    "            beams.append(row['Beam'])\n",
    "            rins.append((1.5*row['Beam']))\n",
    "            routs.append(((1.5*row['Beam'])+row['Beam']))\n",
    "            madvalue = median_absolute_deviation(d,ignore_nan=True)\n",
    "            unscaledmad1.append(madvalue*1000)\n",
    "            scaledmad1.append(madvalue*1000)\n",
    "\n",
    "    table_stacked = vstack(results1)\n",
    "    \n",
    "    medianscol=Column(medians,name='median',unit='mJy')\n",
    "    meanscol=Column(means,name='mean',unit='mJy')\n",
    "    madscol=Column(mads,name='mad',unit='mJy')\n",
    "    rmscol=Column(stds,name='std',unit='mJy')\n",
    "    namecol1=Column(names1,name='source ID')\n",
    "    beamcol=Column(beams,name='radius',unit='arcsec')\n",
    "    rincol=Column(rins,name='radius_in',unit='arcsec')\n",
    "    routcol=Column(routs,name='radius_out',unit='arcsec')\n",
    "    unscaledmadcol1=Column(unscaledmad1,name='unscaled mad entire image',unit='mJy')\n",
    "    scaledmadcol1=Column(scaledmad1,name='scaled mad entire image',unit='mJy')\n",
    "\n",
    "    table_stacked.add_columns([medianscol,meanscol,rmscol,madscol,unscaledmadcol1,scaledmadcol1])\n",
    "\n",
    "    freqs = cycle(['3','15','33','90'])\n",
    "    freqcol=Column(data=[next(freqs) for freq in range(len(table_stacked))],name='freq')\n",
    "    table_stacked.add_column(freqcol,index=1)\n",
    "\n",
    "    table_stacked.add_column(namecol1,index=0)\n",
    "\n",
    "    table_stacked.remove_column('id')\n",
    "    table_stacked.remove_column('aperture_sum')\n",
    "\n",
    "\n",
    "    print('Just finished ' + str(row['Source ID']) + '! :)')\n",
    "    \n",
    "\n",
    "results=[]\n",
    "names=[]\n",
    "errs=[]\n",
    "unscaledmad=[]\n",
    "scaledmad=[]\n",
    "\n",
    "#repeat process but for non pb corr images\n",
    "for row in tbl:\n",
    "    print('Working on ' + str(row['Source ID']))\n",
    "    #read in relevant data files\n",
    "    file3=fits.open(str(row['non pb corr 3 GHz file']))[0]\n",
    "    file15=fits.open(str(row['non pb corr 15 GHz file']))[0]\n",
    "    file33=fits.open(str(row['non pb corr 33 GHz file']))[0]\n",
    "    file90 = fits.open(str(row['90 GHz file']))[0]\n",
    "\n",
    "    data3=file3.data[0,0,:,:]\n",
    "    data15=file15.data[0,0,:,:]\n",
    "    data33=file33.data[0,0,:,:]\n",
    "    data90=file90.data[0,:,:]\n",
    "\n",
    "    datas=[data3,data15,data33,data90]\n",
    "\n",
    "    wcs3=wcs.WCS(file3).dropaxis(3).dropaxis(2)\n",
    "    wcs15=wcs.WCS(file15).dropaxis(3).dropaxis(2)\n",
    "    wcs33=wcs.WCS(file33).dropaxis(3).dropaxis(2)\n",
    "    wcs90=wcs.WCS(file90).dropaxis(2)\n",
    "\n",
    "    wcss=[wcs3,wcs15,wcs33,wcs90]\n",
    "\n",
    "    ras=[]\n",
    "    decs=[]\n",
    "\n",
    "    #pull out ra and dec info\n",
    "    r=(row['RA_J2000'])\n",
    "    r=(r[:2]+'h'+r[3:5]+'m'+r[6:]+'s')\n",
    "    ras.append(r)\n",
    "    d=(row['Decl_J2000'])\n",
    "    d=(d[:3]+'d'+d[4:6]+'m'+d[7:]+'s')\n",
    "    decs.append(d)\n",
    "\n",
    "    positions=[]\n",
    "\n",
    "    for r, d in zip(ras,decs):\n",
    "        position=SkyCoord(ra=r,dec=d)\n",
    "        positions.append(position)\n",
    "\n",
    "    fwhm = row['Beam']*u.arcsec\n",
    "    rin = 1.5*fwhm \n",
    "    rout = rin + fwhm\n",
    "\n",
    "    #creating lists of the apertures and annuli (defined in sky coordinates)\n",
    "    skyapertures=[]\n",
    "    skyannuli=[]\n",
    "\n",
    "    for p in positions:\n",
    "        skyaperture = SkyCircularAperture(p, r=fwhm)\n",
    "        skyannulus = SkyCircularAnnulus(p, rin, rout)\n",
    "        skyapertures.append(skyaperture)\n",
    "        skyannuli.append(skyannulus)\n",
    "\n",
    "    factor=((scalearcsec.value)**2)/((np.pi/(4*np.log(2))) *(fwhm.value)**2)\n",
    "\n",
    "    omega= (np.pi / (4*np.log(2)) ) * ((fwhm.value)**2)\n",
    "    n= ((np.pi) * ((fwhm.value)**2)) / (omega)\n",
    "\n",
    "    for ap, ann in zip(skyapertures,skyannuli):\n",
    "        for d, w in zip((datas),wcss):\n",
    "            phot=aperture_photometry(data=d,apertures=ap,wcs=w)\n",
    "            aperstats = ApertureStats(data=d, aperture=ann, wcs=w)\n",
    "            phot['nonpbcorr_flux_density']=(phot['aperture_sum']*factor)*1000\n",
    "            phot['nonpbcorr_aperture_sum']=(phot['aperture_sum'])*1000\n",
    "            results.append(phot)\n",
    "            names.append(row['Source ID'])\n",
    "            madvalue = median_absolute_deviation(d,ignore_nan=True)\n",
    "            unscaledmad.append(madvalue*1000)\n",
    "            scaledmad.append(madvalue*1000)\n",
    "\n",
    "    table_stacked_nonpbcorr = vstack(results)\n",
    "    \n",
    "    unscaledmadcol=Column(unscaledmad,name='non pb corr unscaled mad entire image',unit='mJy')\n",
    "    scaledmadcol=Column(scaledmad,name='non pb corr scaled mad entire image',unit='mJy')\n",
    "\n",
    "    table_stacked_nonpbcorr.add_columns([unscaledmadcol,scaledmadcol])\n",
    "    \n",
    "    freqs = cycle(['3','15','33','90'])\n",
    "    freqcol=Column(data=[next(freqs) for freq in range(len(table_stacked_nonpbcorr))],name='freq')\n",
    "    table_stacked_nonpbcorr.add_column(freqcol,index=1)\n",
    "\n",
    "    namecol=Column(names,name='source ID')\n",
    "    table_stacked_nonpbcorr.add_column(namecol,index=0)\n",
    "\n",
    "    table_stacked_nonpbcorr.remove_column('id')\n",
    "    table_stacked_nonpbcorr.remove_column('aperture_sum')\n",
    "\n",
    "\n",
    "    print('Just finished ' + str(row['Source ID']) + '! :)')\n",
    "    \n",
    "ravals=[]\n",
    "decvals=[]\n",
    "\n",
    "for row in table_stacked:\n",
    "    x1=(row['sky_center'].ra.degree)\n",
    "    y1=(row['sky_center'].dec.degree)\n",
    "    ravals.append(x1)\n",
    "    decvals.append(y1)\n",
    "    \n",
    "racol=Column(data=ravals,unit='degree',name='RA')\n",
    "deccol=Column(data=decvals,unit='degree',name='Dec')\n",
    "table_stacked.add_columns([racol,deccol])\n"
   ]
  },
  {
   "cell_type": "code",
   "execution_count": 2,
   "id": "9642841b",
   "metadata": {},
   "outputs": [
    {
     "data": {
      "text/html": [
       "<div><i>QTable length=252</i>\n",
       "<table id=\"table140622902626064\" class=\"table-striped table-bordered table-condensed\">\n",
       "<thead><tr><th>source ID</th><th>freq</th><th>xcenter_1</th><th>ycenter_1</th><th>sky_center_1</th><th>pbcorr_flux_density</th><th>pbcorr_aperture_sum</th><th>median</th><th>mean</th><th>std</th><th>mad</th><th>unscaled mad entire image</th><th>scaled mad entire image</th><th>RA</th><th>Dec</th><th>nonpbcorr_flux_density</th><th>nonpbcorr_aperture_sum</th><th>non pb corr unscaled mad entire image</th><th>non pb corr scaled mad entire image</th><th>pbcorr/nonpbcorr</th><th>error</th></tr></thead>\n",
       "<thead><tr><th></th><th></th><th>pix</th><th>pix</th><th>deg,deg</th><th></th><th></th><th>mJy</th><th>mJy</th><th>mJy</th><th>mJy</th><th>mJy</th><th>mJy</th><th>deg</th><th>deg</th><th></th><th></th><th>mJy</th><th>mJy</th><th></th><th>mJy</th></tr></thead>\n",
       "<thead><tr><th>str14</th><th>str2</th><th>float64</th><th>float64</th><th>SkyCoord</th><th>float64</th><th>float64</th><th>float64</th><th>float64</th><th>float64</th><th>float64</th><th>float64</th><th>float64</th><th>float64</th><th>float64</th><th>float64</th><th>float64</th><th>float64</th><th>float64</th><th>float64</th><th>float64</th></tr></thead>\n",
       "<tr><td>NGC0337a</td><td>15</td><td>163.08660398624397</td><td>166.05182461915973</td><td>14.958408333333331,-7.576083333333333</td><td>1.252183239140013</td><td>32.202869648747054</td><td>0.14866785204503685</td><td>0.23555952583344547</td><td>0.2720863038848723</td><td>0.06407481475254288</td><td>0.10690979252103716</td><td>0.10690979252103716</td><td>14.958408333333331</td><td>-7.576083333333333</td><td>1.238872722085565</td><td>31.86055805068079</td><td>0.04947710476699285</td><td>0.04947710476699285</td><td>1.0107440553150935</td><td>0.22290925440319578</td></tr>\n",
       "<tr><td>NGC0337a</td><td>3</td><td>163.08660398624397</td><td>166.05182461915973</td><td>14.958408333333331,-7.576083333333333</td><td>1.7205513778781547</td><td>44.24807010181282</td><td>0.1603786222403869</td><td>0.332031413071021</td><td>0.49764989970348195</td><td>0.11283610033899386</td><td>0.05721887282561511</td><td>0.05721887282561511</td><td>14.958408333333331</td><td>-7.576083333333333</td><td>1.7198174213412785</td><td>44.22919466414038</td><td>0.054272917623165995</td><td>0.054272917623165995</td><td>1.0004267642179736</td><td>0.1639266901700945</td></tr>\n",
       "<tr><td>NGC0337a</td><td>33</td><td>163.08660398624397</td><td>166.05182461915973</td><td>14.958408333333331,-7.576083333333333</td><td>0.6047965207377465</td><td>15.553780718794354</td><td>0.01699945096333977</td><td>0.018868610739188267</td><td>0.1879614409261915</td><td>0.10039917201028158</td><td>0.10189894237555563</td><td>0.10189894237555563</td><td>14.958408333333331</td><td>-7.576083333333333</td><td>0.5785259106271867</td><td>14.878169509076814</td><td>0.04196152804070152</td><td>0.04196152804070152</td><td>1.0454095652899618</td><td>0.10261756064955602</td></tr>\n",
       "<tr><td>NGC0337a</td><td>90</td><td>163.08660398624397</td><td>166.05182461915973</td><td>14.958408333333331,-7.576083333333333</td><td>0.5992092038186183</td><td>15.410089577746582</td><td>0.06498488801298663</td><td>0.05021175946647102</td><td>0.31259012442833134</td><td>0.31950084849466653</td><td>0.0</td><td>0.0</td><td>14.958408333333331</td><td>-7.576083333333333</td><td>0.5992092038186183</td><td>15.410089577746582</td><td>0.0</td><td>0.0</td><td>1.0</td><td>0.0</td></tr>\n",
       "<tr><td>NGC0337b</td><td>15</td><td>158.1426866107587</td><td>154.20182190894883</td><td>14.961179166666664,-7.582666666666666</td><td>2.5329128283966638</td><td>65.13987657310956</td><td>0.11702247138600796</td><td>0.15004789714653136</td><td>0.19362638633501125</td><td>0.1898032233480022</td><td>0.10690979252103716</td><td>0.10690979252103716</td><td>14.961179166666664</td><td>-7.582666666666666</td><td>2.4887357702700563</td><td>64.00375847166195</td><td>0.04947710476699285</td><td>0.04947710476699285</td><td>1.0177508028993427</td><td>0.450900229613326</td></tr>\n",
       "<tr><td>NGC0337b</td><td>3</td><td>158.1426866107587</td><td>154.20182190894883</td><td>14.961179166666664,-7.582666666666666</td><td>4.663467567533819</td><td>119.9321580854182</td><td>0.15097580035217106</td><td>0.22900654470052834</td><td>0.255385536899418</td><td>0.21838307171046994</td><td>0.05721887282561511</td><td>0.05721887282561511</td><td>14.961179166666664</td><td>-7.582666666666666</td><td>4.660044164639309</td><td>119.84411713923627</td><td>0.054272917623165995</td><td>0.054272917623165995</td><td>1.000734628851908</td><td>0.4443150102289699</td></tr>\n",
       "<tr><td>NGC0337b</td><td>33</td><td>158.1426866107587</td><td>154.20182190894883</td><td>14.961179166666664,-7.582666666666666</td><td>1.4756634929073624</td><td>37.95019580372856</td><td>0.015951794466673164</td><td>0.025891644598810274</td><td>0.13919911042862074</td><td>0.1349915229947803</td><td>0.10189894237555563</td><td>0.10189894237555563</td><td>14.961179166666664</td><td>-7.582666666666666</td><td>1.3398847825758784</td><td>34.45832338984549</td><td>0.04196152804070152</td><td>0.04196152804070152</td><td>1.1013361089678582</td><td>0.25038005806819114</td></tr>\n",
       "<tr><td>NGC0337b</td><td>90</td><td>158.1426866107587</td><td>154.20182190894883</td><td>14.961179166666664,-7.582666666666666</td><td>1.5281484758635486</td><td>39.29997194816536</td><td>0.047167537559289485</td><td>0.04127325893666917</td><td>0.3143429725144839</td><td>0.32175695821140926</td><td>0.0</td><td>0.0</td><td>14.961179166666664</td><td>-7.582666666666666</td><td>1.5281484758635486</td><td>39.29997194816536</td><td>0.0</td><td>0.0</td><td>1.0</td><td>0.0</td></tr>\n",
       "<tr><td>NGC0337c</td><td>15</td><td>148.3887104819186</td><td>155.55172348587124</td><td>14.966645833333331,-7.581916666666666</td><td>0.5180214735602533</td><td>13.322154032160329</td><td>0.01623858406674117</td><td>0.1999888406111151</td><td>0.45018280478534173</td><td>0.16119796807732595</td><td>0.10690979252103716</td><td>0.10690979252103716</td><td>14.966645833333331</td><td>-7.581916666666666</td><td>0.48943005652480837</td><td>12.586857753559967</td><td>0.04947710476699285</td><td>0.04947710476699285</td><td>1.0584177793216418</td><td>0.0922163600556303</td></tr>\n",
       "<tr><td>...</td><td>...</td><td>...</td><td>...</td><td>...</td><td>...</td><td>...</td><td>...</td><td>...</td><td>...</td><td>...</td><td>...</td><td>...</td><td>...</td><td>...</td><td>...</td><td>...</td><td>...</td><td>...</td><td>...</td><td>...</td></tr>\n",
       "<tr><td>NGC6946b</td><td>33</td><td>161.2271393941289</td><td>161.16060972057878</td><td>308.71774999999997,60.15397222222222</td><td>12.910958390732404</td><td>339.05703131995136</td><td>-0.07336994531215169</td><td>-0.023238784451709075</td><td>0.24430166593590893</td><td>0.17261746583115192</td><td>0.20953945931978524</td><td>0.20953945931978524</td><td>308.71774999999997</td><td>60.15397222222222</td><td>12.854113356953631</td><td>337.564213527885</td><td>0.08622417226433754</td><td>0.08622417226433754</td><td>1.004422322427087</td><td>4.504711960586364</td></tr>\n",
       "<tr><td>NGC6946b</td><td>90</td><td>161.2271393941289</td><td>161.16060972057878</td><td>308.71774999999997,60.15397222222222</td><td>12.300116238032484</td><td>323.01559422197505</td><td>0.40866494236979634</td><td>0.40931286113693377</td><td>0.40079173104781785</td><td>0.4111581751726808</td><td>0.38785082870163023</td><td>0.38785082870163023</td><td>308.71774999999997</td><td>60.15397222222222</td><td>12.300116238032484</td><td>323.01559422197505</td><td>0.38785082870163023</td><td>0.38785082870163023</td><td>1.0</td><td>7.943587166718916</td></tr>\n",
       "<tr><td>NGC6946c</td><td>15</td><td>159.42827385524444</td><td>169.26062988948826</td><td>308.7197583333333,60.15847222222222</td><td>2.8891575200697357</td><td>75.8726921832321</td><td>0.23425721883540973</td><td>1.6474035266088631</td><td>3.511993243575087</td><td>0.2315652657508479</td><td>0.1188349342555739</td><td>0.1188349342555739</td><td>308.7197583333333</td><td>60.15847222222222</td><td>2.844438116890758</td><td>74.69830778624204</td><td>0.049363370635546744</td><td>0.049363370635546744</td><td>1.0157217001535122</td><td>0.5716866847873885</td></tr>\n",
       "<tr><td>NGC6946c</td><td>3</td><td>159.42827385524444</td><td>169.26062988948826</td><td>308.7197583333333,60.15847222222222</td><td>3.7639582579804096</td><td>98.84599379385483</td><td>0.07635520523763262</td><td>3.3860737789804136</td><td>8.44299507468778</td><td>0.4236564430754513</td><td>0.07235764496726915</td><td>0.07235764496726915</td><td>308.7197583333333</td><td>60.15847222222222</td><td>3.7370290055906716</td><td>98.13879978899428</td><td>0.06819031841587275</td><td>0.06819031841587275</td><td>1.0072060592383552</td><td>0.4534944204025574</td></tr>\n",
       "<tr><td>NGC6946c</td><td>33</td><td>159.42827385524444</td><td>169.26062988948826</td><td>308.7197583333333,60.15847222222222</td><td>1.30971050148987</td><td>34.394546174238684</td><td>0.05795159268018324</td><td>0.8981480115988567</td><td>2.2812213550879172</td><td>0.3894359455606828</td><td>0.20953945931978524</td><td>0.20953945931978524</td><td>308.7197583333333</td><td>60.15847222222222</td><td>1.2296393874908882</td><td>32.29178405655858</td><td>0.08622417226433754</td><td>0.08622417226433754</td><td>1.0651175578901788</td><td>0.45696596506747</td></tr>\n",
       "<tr><td>NGC6946c</td><td>90</td><td>159.42827385524444</td><td>169.26062988948826</td><td>308.7197583333333,60.15847222222222</td><td>1.8085369457898883</td><td>47.49431833907307</td><td>0.31348665652330965</td><td>1.064503483743168</td><td>2.0990227967681876</td><td>0.5902777356369979</td><td>0.38785082870163023</td><td>0.38785082870163023</td><td>308.7197583333333</td><td>60.15847222222222</td><td>1.8085369457898883</td><td>47.49431833907307</td><td>0.38785082870163023</td><td>0.38785082870163023</td><td>1.0</td><td>1.1679784641947089</td></tr>\n",
       "<tr><td>NGC7331</td><td>15</td><td>322.9862046293226</td><td>323.0077776864768</td><td>339.2670833333333,34.41555555555556</td><td>1.176615508934066</td><td>30.143937363013162</td><td>0.39750809082761407</td><td>0.4524579683253461</td><td>0.4627897204694257</td><td>0.3303328698152867</td><td>0.2895216748584062</td><td>0.2895216748584062</td><td>339.2670833333333</td><td>34.41555555555556</td><td>1.1697923062952849</td><td>29.969132431923235</td><td>0.2026406000368297</td><td>0.2026406000368297</td><td>1.0058328325481898</td><td>0.5672289357337811</td></tr>\n",
       "<tr><td>NGC7331</td><td>3</td><td>322.9862046293226</td><td>323.0077776864768</td><td>339.2670833333333,34.41555555555556</td><td>-0.0654851962330502</td><td>-1.6776777447392177</td><td>0.23456256894860417</td><td>0.16190511495143006</td><td>0.32455457380594593</td><td>0.26575555868309486</td><td>0.06399303674697876</td><td>0.06399303674697876</td><td>339.2670833333333</td><td>34.41555555555556</td><td>-0.06548303064616827</td><td>-1.6776222641554355</td><td>0.060851856687804684</td><td>0.060851856687804684</td><td>1.0000330709629741</td><td>-0.006977800993919765</td></tr>\n",
       "<tr><td>NGC7331</td><td>33</td><td>322.9862046293226</td><td>323.0077776864768</td><td>339.2670833333333,34.41555555555556</td><td>-0.3675704992845325</td><td>-9.416858797792129</td><td>0.09108733502216637</td><td>0.07836010872471395</td><td>0.08449507426385315</td><td>0.08224708090292308</td><td>0.13803817273583263</td><td>0.13803817273583263</td><td>339.2670833333333</td><td>34.41555555555556</td><td>-0.36178895473531775</td><td>-9.268740304172336</td><td>0.06106774526415393</td><td>0.06106774526415393</td><td>1.015980434099887</td><td>-0.08448557732612497</td></tr>\n",
       "<tr><td>NGC7331</td><td>90</td><td>322.9862046293226</td><td>323.0077776864768</td><td>339.2670833333333,34.41555555555556</td><td>0.5237253830818743</td><td>13.41742057891297</td><td>0.17287668742937967</td><td>0.1679867930776076</td><td>0.3565345167360158</td><td>0.32820675576740865</td><td>0.0</td><td>0.0</td><td>339.2670833333333</td><td>34.41555555555556</td><td>0.5237253830818743</td><td>13.41742057891297</td><td>0.0</td><td>0.0</td><td>1.0</td><td>0.0</td></tr>\n",
       "</table></div>"
      ],
      "text/plain": [
       "<QTable length=252>\n",
       "source ID freq     xcenter_1      ...  pbcorr/nonpbcorr          error        \n",
       "                      pix         ...                             mJy         \n",
       "  str14   str2      float64       ...      float64              float64       \n",
       "--------- ---- ------------------ ... ------------------ ---------------------\n",
       " NGC0337a   15 163.08660398624397 ... 1.0107440553150935   0.22290925440319578\n",
       " NGC0337a    3 163.08660398624397 ... 1.0004267642179736    0.1639266901700945\n",
       " NGC0337a   33 163.08660398624397 ... 1.0454095652899618   0.10261756064955602\n",
       " NGC0337a   90 163.08660398624397 ...                1.0                   0.0\n",
       " NGC0337b   15  158.1426866107587 ... 1.0177508028993427     0.450900229613326\n",
       " NGC0337b    3  158.1426866107587 ...  1.000734628851908    0.4443150102289699\n",
       " NGC0337b   33  158.1426866107587 ... 1.1013361089678582   0.25038005806819114\n",
       " NGC0337b   90  158.1426866107587 ...                1.0                   0.0\n",
       " NGC0337c   15  148.3887104819186 ... 1.0584177793216418    0.0922163600556303\n",
       "      ...  ...                ... ...                ...                   ...\n",
       " NGC6946b   33  161.2271393941289 ...  1.004422322427087     4.504711960586364\n",
       " NGC6946b   90  161.2271393941289 ...                1.0     7.943587166718916\n",
       " NGC6946c   15 159.42827385524444 ... 1.0157217001535122    0.5716866847873885\n",
       " NGC6946c    3 159.42827385524444 ... 1.0072060592383552    0.4534944204025574\n",
       " NGC6946c   33 159.42827385524444 ... 1.0651175578901788      0.45696596506747\n",
       " NGC6946c   90 159.42827385524444 ...                1.0    1.1679784641947089\n",
       "  NGC7331   15  322.9862046293226 ... 1.0058328325481898    0.5672289357337811\n",
       "  NGC7331    3  322.9862046293226 ... 1.0000330709629741 -0.006977800993919765\n",
       "  NGC7331   33  322.9862046293226 ...  1.015980434099887  -0.08448557732612497\n",
       "  NGC7331   90  322.9862046293226 ...                1.0                   0.0"
      ]
     },
     "execution_count": 2,
     "metadata": {},
     "output_type": "execute_result"
    }
   ],
   "source": [
    "# table_stacked.add_column(table_stacked_nonpbcorr['non pb corr scaled mad entire image'])\n",
    "# table_stacked.add_column(table_stacked_nonpbcorr[''])\n",
    "merged_table=join(table_stacked,table_stacked_nonpbcorr,keys=('source ID','freq'))\n",
    "merged_table.remove_columns(['xcenter_2','ycenter_2','sky_center_2'])\n",
    "merged_table\n",
    "\n",
    "rationew=np.divide(merged_table['pbcorr_flux_density'],merged_table['nonpbcorr_flux_density'])\n",
    "newratiocol=Column(data=rationew,name='pbcorr/nonpbcorr')\n",
    "errorcol=Column(data=merged_table['scaled mad entire image']*np.sqrt(n)*merged_table['pbcorr_flux_density'],name='error')\n",
    "merged_table.add_columns([newratiocol,errorcol])\n",
    "merged_table"
   ]
  },
  {
   "cell_type": "code",
   "execution_count": 5,
   "id": "2191c678",
   "metadata": {},
   "outputs": [
    {
     "name": "stdout",
     "output_type": "stream",
     "text": [
      "Working on NGC0337a\n",
      "INFO: Setting slices=[0, 0] [aplpy.core]\n"
     ]
    },
    {
     "name": "stderr",
     "output_type": "stream",
     "text": [
      "WARNING: FITSFixedWarning: 'datfix' made the change 'Set MJD-OBS to 56593.203906 from DATE-OBS'. [astropy.wcs.wcs]\n",
      "WARNING: FITSFixedWarning: 'obsfix' made the change 'Set OBSGEO-L to  -107.618000 from OBSGEO-[XYZ].\n",
      "Set OBSGEO-B to    34.078827 from OBSGEO-[XYZ].\n",
      "Set OBSGEO-H to     2115.607 from OBSGEO-[XYZ]'. [astropy.wcs.wcs]\n"
     ]
    },
    {
     "name": "stdout",
     "output_type": "stream",
     "text": [
      "/lustre/cv/students/adignan/data/NGC0337/ngc0337_3GHz_r0.5_smoothed_ms.pbcor.gbt_resmatched_regridded.fits\n",
      "INFO: Auto-setting vmin to -3.309e-01 [aplpy.core]\n",
      "INFO: Auto-setting vmax to  1.233e+00 [aplpy.core]\n"
     ]
    },
    {
     "ename": "KeyError",
     "evalue": "'RA'",
     "output_type": "error",
     "traceback": [
      "\u001b[0;31m---------------------------------------------------------------------------\u001b[0m",
      "\u001b[0;31mKeyError\u001b[0m                                  Traceback (most recent call last)",
      "Cell \u001b[0;32mIn[5], line 24\u001b[0m\n\u001b[1;32m     22\u001b[0m \u001b[38;5;66;03m#recenter based on pixel coordinates of aperture\u001b[39;00m\n\u001b[1;32m     23\u001b[0m f1\u001b[38;5;241m.\u001b[39mcolorbar\u001b[38;5;241m.\u001b[39mset_axis_label_text(\u001b[38;5;124m'\u001b[39m\u001b[38;5;124mmJy/beam\u001b[39m\u001b[38;5;124m'\u001b[39m)\n\u001b[0;32m---> 24\u001b[0m f1\u001b[38;5;241m.\u001b[39mrecenter(table_stacked[\u001b[38;5;124m'\u001b[39m\u001b[38;5;124mRA\u001b[39m\u001b[38;5;124m'\u001b[39m][i:i\u001b[38;5;241m+\u001b[39m\u001b[38;5;241m1\u001b[39m],table_stacked[\u001b[38;5;124m'\u001b[39m\u001b[38;5;124mDec\u001b[39m\u001b[38;5;124m'\u001b[39m][i:i\u001b[38;5;241m+\u001b[39m\u001b[38;5;241m1\u001b[39m],width\u001b[38;5;241m=\u001b[39mw, height\u001b[38;5;241m=\u001b[39mh)\n\u001b[1;32m     25\u001b[0m \u001b[38;5;66;03m#plot the aperture and annulus\u001b[39;00m\n\u001b[1;32m     26\u001b[0m f1\u001b[38;5;241m.\u001b[39mshow_regions(\u001b[38;5;124m'\u001b[39m\u001b[38;5;124m/users/adignan/regfiles/\u001b[39m\u001b[38;5;124m'\u001b[39m\u001b[38;5;241m+\u001b[39m\u001b[38;5;28mstr\u001b[39m(row[\u001b[38;5;124m'\u001b[39m\u001b[38;5;124mSource ID\u001b[39m\u001b[38;5;124m'\u001b[39m])\u001b[38;5;241m+\u001b[39m\u001b[38;5;124m'\u001b[39m\u001b[38;5;124m_3GHz.reg\u001b[39m\u001b[38;5;124m'\u001b[39m)\n",
      "File \u001b[0;32m~/anaconda3/lib/python3.11/site-packages/astropy/table/table.py:2055\u001b[0m, in \u001b[0;36mTable.__getitem__\u001b[0;34m(self, item)\u001b[0m\n\u001b[1;32m   2053\u001b[0m \u001b[38;5;28;01mdef\u001b[39;00m \u001b[38;5;21m__getitem__\u001b[39m(\u001b[38;5;28mself\u001b[39m, item):\n\u001b[1;32m   2054\u001b[0m     \u001b[38;5;28;01mif\u001b[39;00m \u001b[38;5;28misinstance\u001b[39m(item, \u001b[38;5;28mstr\u001b[39m):\n\u001b[0;32m-> 2055\u001b[0m         \u001b[38;5;28;01mreturn\u001b[39;00m \u001b[38;5;28mself\u001b[39m\u001b[38;5;241m.\u001b[39mcolumns[item]\n\u001b[1;32m   2056\u001b[0m     \u001b[38;5;28;01melif\u001b[39;00m \u001b[38;5;28misinstance\u001b[39m(item, (\u001b[38;5;28mint\u001b[39m, np\u001b[38;5;241m.\u001b[39minteger)):\n\u001b[1;32m   2057\u001b[0m         \u001b[38;5;28;01mreturn\u001b[39;00m \u001b[38;5;28mself\u001b[39m\u001b[38;5;241m.\u001b[39mRow(\u001b[38;5;28mself\u001b[39m, item)\n",
      "File \u001b[0;32m~/anaconda3/lib/python3.11/site-packages/astropy/table/table.py:264\u001b[0m, in \u001b[0;36mTableColumns.__getitem__\u001b[0;34m(self, item)\u001b[0m\n\u001b[1;32m    253\u001b[0m \u001b[38;5;250m\u001b[39m\u001b[38;5;124;03m\"\"\"Get items from a TableColumns object.\u001b[39;00m\n\u001b[1;32m    254\u001b[0m \n\u001b[1;32m    255\u001b[0m \u001b[38;5;124;03m::\u001b[39;00m\n\u001b[0;32m   (...)\u001b[0m\n\u001b[1;32m    261\u001b[0m \u001b[38;5;124;03m  tc[1:3] # <TableColumns names=('b', 'c')>\u001b[39;00m\n\u001b[1;32m    262\u001b[0m \u001b[38;5;124;03m\"\"\"\u001b[39;00m\n\u001b[1;32m    263\u001b[0m \u001b[38;5;28;01mif\u001b[39;00m \u001b[38;5;28misinstance\u001b[39m(item, \u001b[38;5;28mstr\u001b[39m):\n\u001b[0;32m--> 264\u001b[0m     \u001b[38;5;28;01mreturn\u001b[39;00m OrderedDict\u001b[38;5;241m.\u001b[39m\u001b[38;5;21m__getitem__\u001b[39m(\u001b[38;5;28mself\u001b[39m, item)\n\u001b[1;32m    265\u001b[0m \u001b[38;5;28;01melif\u001b[39;00m \u001b[38;5;28misinstance\u001b[39m(item, (\u001b[38;5;28mint\u001b[39m, np\u001b[38;5;241m.\u001b[39minteger)):\n\u001b[1;32m    266\u001b[0m     \u001b[38;5;28;01mreturn\u001b[39;00m \u001b[38;5;28mlist\u001b[39m(\u001b[38;5;28mself\u001b[39m\u001b[38;5;241m.\u001b[39mvalues())[item]\n",
      "\u001b[0;31mKeyError\u001b[0m: 'RA'"
     ]
    },
    {
     "data": {
      "image/png": "[encoded data removed]",
      "text/plain": [
       "<Figure size 1500x1500 with 2 Axes>"
      ]
     },
     "metadata": {},
     "output_type": "display_data"
    }
   ],
   "source": [
    "import matplotlib\n",
    "import matplotlib.pyplot as plt\n",
    "\n",
    "for i in range(1):\n",
    "    for row in tbl[:1]:\n",
    "        print('Working on ' + str(row['Source ID']))\n",
    "        #set up the subplots\n",
    "        fig = plt.figure(figsize=(15,15))\n",
    "        \n",
    "        #set width and height parameters for recentering\n",
    "        w=0.075\n",
    "        h=0.075\n",
    "        #3 GHz image\n",
    "        #plot the fits file\n",
    "        f1 = aplpy.FITSFigure(data=str(row['3 GHz file'])[:-5]+'_copy.fits', figure=fig, subplot=[0.1,0.5,0.35,0.35])\n",
    "        print(str(row['3 GHz file']))\n",
    "        fix_aplpy_fits(f1)\n",
    "        #pick out a colormap to use\n",
    "        f1.show_colorscale(cmap='cubehelix')\n",
    "        f1.add_colorbar()\n",
    "        f1.colorbar.set_pad(0.25)\n",
    "        #recenter based on pixel coordinates of aperture\n",
    "        f1.colorbar.set_axis_label_text('mJy/beam')\n",
    "        f1.recenter(table_stacked['RA'][i:i+1],table_stacked['Dec'][i:i+1],width=w, height=h)\n",
    "        #plot the aperture and annulus\n",
    "        f1.show_regions('/users/adignan/regfiles/'+str(row['Source ID'])+'_3GHz.reg')\n",
    "        f1.add_scalebar(10*u.arcsec,label=(\"%.2f\" % ((10*pclabel.value)/(1000)) + ' kpc'))\n",
    "        f1.scalebar.set(color='white',linewidth=3) \n",
    "        f1.scalebar.set_font(size='large', weight='heavy', stretch='normal', family='serif')\n",
    "        f1.axis_labels.hide()\n",
    "        f1.set_title('3 GHz',fontsize=15)\n",
    "\n",
    "        #15 GHz image\n",
    "        f2 = aplpy.FITSFigure(data=str(row['15 GHz file'])[:-5]+'_copy.fits', figure=fig, subplot=[0.55,0.5,0.35,0.35])\n",
    "        fix_aplpy_fits(f2)\n",
    "        f2.show_colorscale(cmap='cubehelix')\n",
    "        f2.add_colorbar()\n",
    "        f2.colorbar.set_pad(0.25)\n",
    "        f2.colorbar.set_axis_label_text('mJy/beam')\n",
    "        f2.recenter(table_stacked['RA'][i+1:i+2],table_stacked['Dec'][i+1:i+2],width=w, height=h)\n",
    "        f2.show_regions('/users/adignan/regfiles/'+str(row['Source ID'])+'_15GHz.reg')\n",
    "        f2.add_scalebar(10*u.arcsec,label=(\"%.2f\" % ((10*pclabel.value)/(1000)) + ' kpc'))\n",
    "        f2.scalebar.set(color='black',linewidth=3)\n",
    "        f2.scalebar.set_font(size='large', weight='heavy', stretch='normal', family='serif')\n",
    "        f2.axis_labels.hide()\n",
    "        f2.set_title('15 GHz',fontsize=15)\n",
    "\n",
    "        #33 GHz image\n",
    "        f3 = aplpy.FITSFigure(data=str(row['33 GHz file'])[:-5]+'_copy.fits', figure=fig, subplot=[0.1,0.1,0.35,0.35])\n",
    "        fix_aplpy_fits(f3)\n",
    "        f3.show_colorscale(cmap='cubehelix')\n",
    "        f3.add_colorbar()\n",
    "        f3.colorbar.set_pad(0.25)\n",
    "        f3.colorbar.set_axis_label_text('mJy/beam')\n",
    "        f3.recenter(table_stacked['RA'][i+2:i+3],table_stacked['Dec'][i+2:i+3],width=w, height=h)\n",
    "        f3.show_regions('/users/adignan/regfiles/'+str(row['Source ID'])+'_33GHz.reg')\n",
    "        f3.add_scalebar(10*u.arcsec,label=(\"%.2f\" % ((10*pclabel.value)/(1000)) + ' kpc'))\n",
    "        f3.scalebar.set(color='black',linewidth=3)\n",
    "        f3.scalebar.set_font(size='large', weight='heavy', stretch='normal', family='serif')\n",
    "        f3.axis_labels.hide()\n",
    "        f3.set_title('33 GHz',fontsize=15)\n",
    "\n",
    "        #90 GHz image\n",
    "        f4 = aplpy.FITSFigure(data=str(row['90 GHz file'])[:-5]+'_copy.fits', figure=fig, subplot=[0.55,0.1,0.35,0.35])\n",
    "        temp_wcs = f4._wcs.dropaxis(2)\n",
    "        f4._wcs = temp_wcs\n",
    "        f4.show_colorscale(cmap='cubehelix')\n",
    "        f4.add_colorbar()\n",
    "        f4.colorbar.set_pad(0.25)\n",
    "        f4.colorbar.set_axis_label_text('mJy/beam')\n",
    "        f4.recenter(table_stacked['RA'][i+3:i+4],table_stacked['Dec'][i+3:i+4],width=w, height=h)\n",
    "        f4.show_regions('/users/adignan/regfiles/'+str(row['Source ID'])+'_90GHz.reg')\n",
    "        f4.add_scalebar(10*u.arcsec,label=(\"%.2f\" % ((10*pclabel.value)/(1000)) + ' kpc'))\n",
    "        f4.scalebar.set(color='white',linewidth=3)\n",
    "        f4.scalebar.set_font(size='large', weight='heavy', stretch='normal', family='serif')\n",
    "        f4.axis_labels.hide()\n",
    "        f4.set_title('90 GHz',fontsize=15)\n",
    "\n",
    "        plt.suptitle(str(row['Source ID']),fontsize=25,x=0.475,y=0.9)\n",
    "        \n",
    "        fig.savefig('/users/adignan/figures/'+str(row['Source ID'])+'.png')\n",
    "\n",
    "        plt.close()\n",
    "        \n",
    "        i=i+4"
   ]
  },
  {
   "cell_type": "code",
   "execution_count": 16,
   "id": "0bcb7495",
   "metadata": {},
   "outputs": [],
   "source": [
    "for row in table_stacked[[]]:\n",
    "    \n",
    "    f=open('/users/adignan/regfiles/'+str(row['source ID']) + '_' + str(row['freq'])+'GHz.reg',\"w\")\n",
    "    f.write('global color=red dashlist=8 3 width=3 font=\"helvetica 10 normal roman\" select=1 highlite=1 dash=0 fixed=0 edit=1 move=1 delete=1 include=1 source=1 \\n')\n",
    "    f.write(\n",
    "        'circle'+' '+str(row['RA'].value) + ' ' + str(row['Dec'].value)+' '+str(row['radius'].value) +'\"' \n",
    "        + ' #color=white' + '\\n' \n",
    "        + 'circle'+' '+ str(row['RA'].value) + ' ' + str(row['Dec'].value) + ' ' + str(row['radius_in'].value) +'\"' \n",
    "        + '\\n' \n",
    "        + 'circle'+ ' ' + str(row['RA'].value) + ' ' + str(row['Dec'].value) + ' ' + str(row['radius_out'].value) +'\"') \n",
    "    f.close()"
   ]
  },
  {
   "cell_type": "code",
   "execution_count": 141,
   "id": "c4806536",
   "metadata": {},
   "outputs": [],
   "source": [
    "for row in tbl:\n",
    "    with fits.open(row['90 GHz file']) as f:\n",
    "        hdr = f[0].header \n",
    "        hdr['BSCALE']=1000.0\n",
    "        f.writeto(str(row['90 GHz file'])[:-5]+'_copy.fits',overwrite=True)"
   ]
  },
  {
   "cell_type": "markdown",
   "id": "88743cea",
   "metadata": {},
   "source": [
    "# Performing photometry (manual)"
   ]
  },
  {
   "cell_type": "code",
   "execution_count": null,
   "id": "ba570178",
   "metadata": {
    "scrolled": true
   },
   "outputs": [],
   "source": [
    "###PURPOSE: perform photometry for a given galaxy\n",
    "\n",
    "#import statements\n",
    "from astropy.io import fits\n",
    "from astropy import units as u\n",
    "from astropy.coordinates import SkyCoord\n",
    "from photutils.aperture import SkyCircularAperture, SkyCircularAnnulus\n",
    "from photutils.aperture import CircularAperture, CircularAnnulus\n",
    "import pandas as pd\n",
    "from astropy import wcs\n",
    "from photutils import aperture_photometry\n",
    "import numpy as np\n",
    "import matplotlib.pyplot as plt\n",
    "from astropy.visualization.wcsaxes import WCSAxes\n",
    "from astropy.table import Table\n",
    "from astropy.table import vstack\n",
    "from astropy.table import Column\n",
    "from photutils.aperture import ApertureStats\n",
    "\n",
    "#read in relevant data files\n",
    "jy_data = fits.open(path+'NGC2798/Jyperbeam_NGC2798_2asp_pca6_qm2_fitel_0f09-to-41f0Hz_qc_1p2rr_M_PdoCals_dt20_map_iter1.fits')[0]\n",
    "# jy_image=fits.getdata(path+'NGC0337/Jyperbeam_NGC0337_2asp_pca6_qm2_fitel_0f09-to-41f0Hz_qc_1p2rr_M_PdoCals_dt20_map_iter1.fits')[0]\n",
    "\n",
    "file3=fits.open(path+'NGC2798/ngc2798_3GHz_r0.5_smoothed_ms.fits')[0]\n",
    "file15=fits.open(path+'NGC2798/ngc2798_15GHz_r0.5_smoothed_ms.fits')[0]\n",
    "file33=fits.open(path+'NGC2798/ngc2798_33GHz_r0.5_smoothed_ms.fits')[0]\n",
    "\n",
    "#making a list of the files\n",
    "files=[file3,file15,file33,jy_data]\n",
    "\n",
    "#only read in relevant axes\n",
    "data3=file3.data[0,0,:,:]\n",
    "data15=file15.data[0,0,:,:]\n",
    "data33=file33.data[0,0,:,:]\n",
    "datajy=jy_data.data[0,:,:]\n",
    "\n",
    "#making a list of the data \n",
    "datas=[data3,data15,data33,datajy]\n",
    "\n",
    "#drop extra non-spatial axes\n",
    "wcs3=wcs.WCS(file3).dropaxis(3).dropaxis(2)\n",
    "wcs15=wcs.WCS(file15).dropaxis(3).dropaxis(2)\n",
    "wcs33=wcs.WCS(file33).dropaxis(3).dropaxis(2)\n",
    "wcsjy=wcs.WCS(jy_data).dropaxis(2)\n",
    "\n",
    "#making a list of the WCS info\n",
    "wcss=[wcs3,wcs15,wcs33,wcsjy]\n",
    "\n",
    "#read in Sean's catalog\n",
    "df=pd.read_csv('/lustre/cv/students/adignan/Linden2020_table5.csv')\n",
    "source=df[df['Source ID']==('NGC2798')]\n",
    "# source=df.iloc[[143]]\n",
    "\n",
    "#pull out positions from ra and dec columns\n",
    "ra=source['RA_J2000']\n",
    "dec=source['Decl_J2000']\n",
    "\n",
    "ras=[]\n",
    "decs=[]\n",
    "\n",
    "for r in ra:\n",
    "    r=(r[:2]+'h'+r[3:5]+'m'+r[6:]+'s')\n",
    "    ras.append(r)\n",
    "for d in dec:\n",
    "    d=(d[:3]+'d'+d[4:6]+'m'+d[7:]+'s')\n",
    "    decs.append(d)\n",
    "\n",
    "#creating positions for apertures based on Sean's catalog\n",
    "#defined using sky coordinates since that's what we have (ra and dec)\n",
    "positions=[]\n",
    "\n",
    "for r, d in zip(ras,decs):\n",
    "    position=SkyCoord(ra=r,dec=d)\n",
    "    positions.append(position)\n",
    "\n",
    "#need area of aperture, area of beam (arcsec squared)\n",
    "#divide them to get just beam\n",
    "#divide this number by photometry to get in units of beam\n",
    "\n",
    "#value of the major axis of the beam for the target\n",
    "bmaj=9.528282036*u.arcsec\n",
    "              \n",
    "#define aperture with radius == GBT beam (bmaj value)\n",
    "fwhm = bmaj\n",
    "rin = 1.5*fwhm \n",
    "rout = rin + fwhm\n",
    "\n",
    "#creating lists of the apertures and annuli (defined in sky coordinates)\n",
    "skyapertures=[]\n",
    "skyannuli=[]\n",
    "\n",
    "for p in positions:\n",
    "    x1, y1 = wcs3.world_to_pixel(p)\n",
    "    x2, y2= wcs15.world_to_pixel(p)\n",
    "    x3, y3 = wcs33.world_to_pixel(p)\n",
    "    x4, y4=wcsjy.world_to_pixel(p)\n",
    "    skyaperture = SkyCircularAperture(p, r=fwhm)\n",
    "    skyannulus = SkyCircularAnnulus(p, rin, rout)\n",
    "    skyapertures.append(skyaperture)\n",
    "    skyannuli.append(skyannulus)\n",
    "\n",
    "#creating list of the apertures defined in pixel coordinates \n",
    "#(converting from sky coordinates)\n",
    "pix_apertures=[]\n",
    "pix_annuli=[]\n",
    "\n",
    "for w in wcss:\n",
    "    for i,j in zip(skyapertures,skyannuli):\n",
    "        pix_aperture = i.to_pixel(w)\n",
    "        pix_annulus = j.to_pixel(w)\n",
    "        pix_apertures.append(pix_aperture)\n",
    "        pix_annuli.append(pix_annulus)\n",
    "    \n",
    "factor=(np.pi*((fwhm.value)**2))/(np.pi/4/np.log(2) * bmaj.value)\n",
    "\n",
    "# actually performing photometry\n",
    "# lists=Table(names='aperture_sum')\n",
    "#initialize empty photometry table   \n",
    "# for s in skyapertures:\n",
    "#     for d,w in zip(datas,wcss):\n",
    "#         row = aperture_photometry(data=d, apertures=s, wcs=w)\n",
    "#         row['aperture_sum']=row['aperture_sum']/factor \n",
    "#         print(row)\n",
    "\n",
    "results=[]\n",
    "medians=[]\n",
    "means=[]\n",
    "mads=[]\n",
    "rmss=[]\n",
    "\n",
    "for ap, ann in zip(skyapertures,skyannuli):\n",
    "    for d, w in zip((datas),wcss):\n",
    "        phot=aperture_photometry(data=d,apertures=ap,wcs=w)\n",
    "        aperstats = ApertureStats(data=d, aperture=ann, wcs=w)\n",
    "        phot['aperture_sum']=(phot['aperture_sum']/factor)*1000\n",
    "        results.append(phot)\n",
    "        medians.append(aperstats.median*1000)\n",
    "        means.append(aperstats.mean*1000)\n",
    "        mads.append(aperstats.mad_std*1000)\n",
    "        rmss.append(np.sqrt(aperstats.mean*1000))\n",
    "\n",
    "table_stacked = vstack(results)\n",
    "# table_stacked |= (d)\n",
    "medianscol=Column(medians,name='median',unit='mJy')\n",
    "meanscol=Column(means,name='mean',unit='mJy')\n",
    "madscol=Column(mads,name='mad',unit='mJy')\n",
    "rmscol=Column(rmss,name='rms',unit='mJy')\n",
    "\n",
    "table_stacked.add_columns([medianscol,meanscol,madscol,rmscol])\n",
    "\n",
    "table_stacked['aperture_sum']=Column(data=table_stacked['aperture_sum'],unit='mJy')\n",
    "\n",
    "# name = Column(, name='freq')\n",
    "# table_stacked.add_column(freq,index=0)\n",
    "\n",
    "#read in photometry sources Google Sheet\n",
    "data = ascii.read('/users/adignan/photometry_sources.csv', format='csv')\n",
    "\n",
    "#read in Sean's catalog\n",
    "df = ascii.read('/lustre/cv/students/adignan/Linden2020_table5.csv', format='csv')\n",
    "\n",
    "minitbl=df[['Source ID','RA_J2000','Decl_J2000']]\n",
    "tbl=join(data,minitbl,'Source ID')\n",
    "\n",
    "for row in tbl:\n",
    "    print(row['Source ID'])\n",
    "\n",
    "table_stacked\n",
    "  "
   ]
  },
  {
   "cell_type": "markdown",
   "id": "5cca30db",
   "metadata": {},
   "source": [
    "# Making photometry figures "
   ]
  },
  {
   "cell_type": "markdown",
   "id": "362a2b0a",
   "metadata": {},
   "source": [
    "# This code works; don't touch it!"
   ]
  },
  {
   "cell_type": "code",
   "execution_count": null,
   "id": "9221baab",
   "metadata": {},
   "outputs": [],
   "source": [
    "import aplpy\n",
    "import matplotlib.pyplot as mpl\n",
    "from astropy import wcs\n",
    "from astropy.io import fits\n",
    "\n",
    "#read in relevant data files\n",
    "jy_data = fits.open(path+'NGC0337/Jyperbeam_NGC0337_2asp_pca6_qm2_fitel_0f09-to-41f0Hz_qc_1p2rr_M_PdoCals_dt20_map_iter1.fits')[0]\n",
    "# jy_image=fits.getdata(path+'NGC0337/Jyperbeam_NGC0337_2asp_pca6_qm2_fitel_0f09-to-41f0Hz_qc_1p2rr_M_PdoCals_dt20_map_iter1.fits')[0]\n",
    "\n",
    "file3=fits.open(path+'NGC0337/ngc0337_3GHz_r0.5_smoothed_ms.pbcor.gbt_resmatched_regridded.fits')[0]\n",
    "file15=fits.open(path+'NGC0337/ngc0337_15GHz_r0.5_smoothed_ms.pbcor.gbt_resmatched_regridded.fits')[0]\n",
    "file33=fits.open(path+'NGC0337/ngc0337_33GHz_r0.5_smoothed_ms.pbcor.gbt_resmatched_regridded.fits')[0]\n",
    "\n",
    "#making a list of the files\n",
    "files=[file3,file15,file33,jy_data]\n",
    "\n",
    "#only read in relevant axes\n",
    "data3=file3.data[0,0,:,:]\n",
    "data15=file15.data[0,0,:,:]\n",
    "data33=file33.data[0,0,:,:]\n",
    "datajy=jy_data.data[0,:,:]\n",
    "\n",
    "fig = plt.figure(figsize=(15,15))\n",
    "\n",
    "f1 = aplpy.FITSFigure(data3, figure=fig, subplot=[0.1,0.5,0.35,0.35])\n",
    "f1.show_colorscale(cmap='cubehelix')\n",
    "f1.recenter(x1,y1,radius=50)\n",
    "# pix_apertures[0].plot(color='white',lw=2)\n",
    "# pix_annuli[0].plot(color='red', lw=2)\n",
    "\n",
    "f2 = aplpy.FITSFigure(data15, figure=fig, subplot=[0.5,0.5,0.35,0.35])\n",
    "f2.show_colorscale(cmap='cubehelix')\n",
    "f2.recenter(x2,y2,radius=50)\n",
    "# pix_apertures[1].plot(color='white',lw=2)\n",
    "# pix_annuli[1].plot(color='red', lw=2)\n",
    "# plt.text(file15.header['CRPIX1'],115,s='15 GHz',color='white',fontsize='xx-large',horizontalalignment='center',verticalalignment='baseline')\n",
    "\n",
    "f3 = aplpy.FITSFigure(data33, figure=fig, subplot=[0.1,0.1,0.35,0.35])\n",
    "f3.show_colorscale(cmap='cubehelix')\n",
    "f3.recenter(x3,y3,radius=50)\n",
    "# pix_apertures[2].plot(color='white',lw=2)\n",
    "# pix_annuli[2].plot(color='red', lw=2)\n",
    "# plt.text(file33.header['CRPIX1'],115,s='33 GHz',color='black',fontsize='xx-large',horizontalalignment='center',verticalalignment='baseline')\n",
    "\n",
    "f4 = aplpy.FITSFigure(datajy, figure=fig, subplot=[0.5,0.1,0.35,0.35])\n",
    "f4.show_colorscale(cmap='cubehelix')\n",
    "f4.recenter(x4,y4,radius=50)\n",
    "# pix_apertures[3].plot(color='white',lw=2)\n",
    "# pix_annuli[3].plot(color='red', lw=2)\n",
    "\n",
    "# plt.text(file3.header['CRPIX1'],115,s='90 GHz',color='white',fontsize='xx-large',horizontalalignment='center',verticalalignment='baseline')\n",
    "\n",
    "# plt.suptitle(str(row['Source ID']),fontsize=25,x=0.475,y=0.88)"
   ]
  },
  {
   "cell_type": "markdown",
   "id": "2a2f4039",
   "metadata": {},
   "source": [
    "# Test code to figure out scale bar"
   ]
  },
  {
   "cell_type": "code",
   "execution_count": null,
   "id": "d4495015",
   "metadata": {},
   "outputs": [],
   "source": [
    "import aplpy\n",
    "import matplotlib.pyplot as mpl\n",
    "from astropy import wcs\n",
    "from astropy.wcs.utils import proj_plane_pixel_scales\n",
    "from astropy import coordinates\n",
    "\n",
    "fig = plt.figure(figsize=(15,15))\n",
    "f1 = aplpy.FITSFigure(data3, figure=fig, subplot=[0.1,0.5,0.35,0.35])\n",
    "f1.show_colorscale(cmap='cubehelix')\n",
    "f1.recenter(x=x1,y=y1,radius=50)\n",
    "scalebar_right = coordinates.SkyCoord(x1,y1, frame='fk5')\n",
    "length = (0.5*u.pc / (5400*u.pc)).to(u.deg, u.dimensionless_angles())\n",
    "plt.plot([scalebar_right.ra.deg, (scalebar_right.ra-length).deg]*u.deg,\n",
    "        [(scalebar_right.dec).deg]*2*u.deg,\n",
    "        'k',\n",
    "        zorder=100, linewidth=2)\n",
    "plt.text((scalebar_right.ra-length/2).deg, (scalebar_right.dec+0.001*u.deg).deg,\n",
    "        \"0.5 pc\", color='k', ha='center')\n",
    "pix_apertures[0].plot(color='white',lw=2)\n",
    "# plt.text(file3.header['CRPIX1'],115,s='3 GHz',color='white',fontsize='xx-large',horizontalalignment='center',verticalalignment='baseline')\n",
    "# print(proj_plane_pixel_scales(wcs3))\n",
    "# f1.add_scalebar(1/60.)\n",
    "pix_scale = proj_plane_pixel_scales(wcs3)"
   ]
  },
  {
   "cell_type": "markdown",
   "id": "b6f954f3",
   "metadata": {},
   "source": [
    "## Performing photometry for NGC0337a\n",
    "\n",
    "## Just one source here, baby steps"
   ]
  },
  {
   "cell_type": "code",
   "execution_count": null,
   "id": "9d4dca7a",
   "metadata": {
    "scrolled": true
   },
   "outputs": [],
   "source": [
    "###PURPOSE: perform photometry on each of the sources in NGC0337\n",
    "\n",
    "#import statements\n",
    "from astropy.io import fits\n",
    "from astropy import units as u\n",
    "from astropy.coordinates import SkyCoord\n",
    "from photutils.aperture import SkyCircularAperture\n",
    "from photutils.aperture import CircularAnnulus, CircularAperture\n",
    "import pandas as pd\n",
    "from astropy import wcs\n",
    "from photutils import SkyCircularAnnulus\n",
    "from photutils import aperture_photometry\n",
    "import numpy as np\n",
    "import matplotlib.pyplot as plt\n",
    "import matplotlib.colors as colors\n",
    "\n",
    "#read in relevant data files\n",
    "jy_data = fits.open(path+'NGC0337/Jyperbeam_NGC0337_2asp_pca6_qm2_fitel_0f09-to-41f0Hz_qc_1p2rr_M_PdoCals_dt20_map_iter1.fits')\n",
    "\n",
    "file3=fits.open(path+'NGC0337/ngc0337_15GHz_r0.5_smoothed_ms.pbcor.gbt_resmatched_regridded.fits')[0]\n",
    "file15=fits.open(path+'NGC0337/ngc0337_3GHz_r0.5_smoothed_ms.pbcor.gbt_resmatched_regridded.fits')[0]\n",
    "file33=fits.open(path+'NGC0337/ngc0337_33GHz_r0.5_smoothed_ms.pbcor.gbt_resmatched_regridded.fits')[0]\n",
    "\n",
    "files=[file3,file15,file33]\n",
    "\n",
    "data3=file3.data[0,0,:,:]\n",
    "data15=file15.data[0,0,:,:]\n",
    "data33=file33.data[0,0,:,:]\n",
    "\n",
    "#removing nan values from data arrays for future use\n",
    "data3_masked=data3[~np.isnan(data3)]\n",
    "\n",
    "datas=[data3,data15,data33]\n",
    "\n",
    "#drop extra non-spatial axes\n",
    "wcs3=wcs.WCS(file3).dropaxis(3).dropaxis(2)\n",
    "wcs15=wcs.WCS(file15).dropaxis(3).dropaxis(2)\n",
    "wcs33=wcs.WCS(file33).dropaxis(3).dropaxis(2)\n",
    "\n",
    "wcss=[wcs3,wcs15,wcs33]\n",
    "\n",
    "#read in Sean's catalog\n",
    "df=pd.read_csv('/lustre/cv/students/adignan/Linden2020_table5.csv')\n",
    "#df[df['Source ID'].str.contains(\"0337\")]\n",
    "#pick one source to focus on for now\n",
    "source=df[df['Source ID'].str.contains('0337a')]\n",
    "\n",
    "#pull out position from ra and dec\n",
    "ra=source['RA_J2000'][0]\n",
    "dec=source['Decl_J2000'][0]\n",
    "for r in ra:\n",
    "    (ra[:1]+'h'+ra[3:4]+'m'+ra[6:]+'s')\n",
    "# 00 59 50.018\n",
    "#0h59m50.018s\n",
    "# -07 34 33.9\n",
    "#-7d34m33.9s\n",
    "\n",
    "#set center of aperture to position from Linden2020\n",
    "position=SkyCoord(ra='0h59m50.018s',dec='-7d34m33.9s')\n",
    "\n",
    "#define aperture with radius == GBT beam (bmaj value)\n",
    "fwhm = 9.528282036*u.arcsec\n",
    "rin = 1.5*fwhm \n",
    "rout = rin + fwhm\n",
    "skyaperture = SkyCircularAperture(position, r=fwhm)\n",
    "skyannulus = SkyCircularAnnulus(position, rin, rout)\n",
    "pix_aperture = [skyaperture.to_pixel(w) for w in wcss]\n",
    "# ap = CircularAperture(position, r=fwhm)\n",
    "# ann = CircularAnnulus(position, rin, rout)\n",
    "phot_table=[]\n",
    "# now, need to measure the aperture sums ect and then plot those! \n",
    "annuli = [skyannulus.to_pixel(wcs) for wcs in wcss]\n",
    "for d, w in zip(datas,wcss):\n",
    "    row = aperture_photometry(data=d, apertures=skyaperture, wcs=w)\n",
    "    phot_table.append(row['aperture_sum'])\n",
    "    \n",
    "# phot_table['aperture_sum'].info.format = '%.8g'  # for consistent table output\n",
    "print(phot_table)\n"
   ]
  },
  {
   "cell_type": "markdown",
   "id": "181db01f",
   "metadata": {},
   "source": [
    "# Miscellaneous cell to try to fix cut-off images using np.pad (didn't work)"
   ]
  },
  {
   "cell_type": "code",
   "execution_count": null,
   "id": "49efbb4b",
   "metadata": {},
   "outputs": [],
   "source": [
    "newarr=np.pad(array=datajy,pad_width=300,constant_values=0)\n",
    "hdu = fits.PrimaryHDU(newarr)\n",
    "hdul = fits.HDUList([hdu])\n",
    "fits.writeto(filename='newarr.fits',data=newarr,header=jy_data.header)"
   ]
  },
  {
   "cell_type": "code",
   "execution_count": null,
   "id": "e6fd2db8",
   "metadata": {},
   "outputs": [],
   "source": []
  }
 ],
 "metadata": {
  "kernelspec": {
   "display_name": "Python 3 (ipykernel)",
   "language": "python",
   "name": "python3"
  },
  "language_info": {
   "codemirror_mode": {
    "name": "ipython",
    "version": 3
   },
   "file_extension": ".py",
   "mimetype": "text/x-python",
   "name": "python",
   "nbconvert_exporter": "python",
   "pygments_lexer": "ipython3",
   "version": "3.11.5"
  }
 },
 "nbformat": 4,
 "nbformat_minor": 5
}
